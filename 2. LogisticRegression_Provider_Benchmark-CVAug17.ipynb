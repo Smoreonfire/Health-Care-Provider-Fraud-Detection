{
 "cells": [
  {
   "cell_type": "code",
   "execution_count": 1,
   "id": "d3f7abd5",
   "metadata": {},
   "outputs": [],
   "source": [
    "import pandas as pd \n",
    "import numpy as np\n",
    "import matplotlib.pyplot as plt\n",
    "%matplotlib inline"
   ]
  },
  {
   "cell_type": "markdown",
   "id": "9f377378",
   "metadata": {},
   "source": [
    "## 1. Import Data"
   ]
  },
  {
   "cell_type": "code",
   "execution_count": 2,
   "id": "e19252ac",
   "metadata": {},
   "outputs": [],
   "source": [
    "X_train = pd.read_csv('data_v1/train_all_feature.csv')"
   ]
  },
  {
   "cell_type": "code",
   "execution_count": 3,
   "id": "6df6ed4b",
   "metadata": {},
   "outputs": [],
   "source": [
    "X_test= pd.read_csv('data_v1/test_all_feature.csv')"
   ]
  },
  {
   "cell_type": "code",
   "execution_count": 4,
   "id": "c05df43c",
   "metadata": {},
   "outputs": [],
   "source": [
    "y_train = pd.read_csv('data_v1/y_train_new.csv')"
   ]
  },
  {
   "cell_type": "code",
   "execution_count": 5,
   "id": "e7af24dd",
   "metadata": {},
   "outputs": [],
   "source": [
    "y_test = pd.read_csv('data_v1/y_test_new.csv')"
   ]
  },
  {
   "cell_type": "code",
   "execution_count": 6,
   "id": "ab6b2951",
   "metadata": {},
   "outputs": [
    {
     "data": {
      "text/plain": [
       "(4328, 105)"
      ]
     },
     "metadata": {},
     "output_type": "display_data"
    },
    {
     "data": {
      "text/plain": [
       "(1082, 105)"
      ]
     },
     "metadata": {},
     "output_type": "display_data"
    },
    {
     "data": {
      "text/plain": [
       "(4328, 1)"
      ]
     },
     "metadata": {},
     "output_type": "display_data"
    },
    {
     "data": {
      "text/plain": [
       "(1082, 1)"
      ]
     },
     "metadata": {},
     "output_type": "display_data"
    }
   ],
   "source": [
    "display(X_train.shape,X_test.shape,y_train.shape,y_test.shape)"
   ]
  },
  {
   "cell_type": "code",
   "execution_count": 7,
   "id": "7b6d87c9",
   "metadata": {},
   "outputs": [
    {
     "data": {
      "text/html": [
       "<div>\n",
       "<style scoped>\n",
       "    .dataframe tbody tr th:only-of-type {\n",
       "        vertical-align: middle;\n",
       "    }\n",
       "\n",
       "    .dataframe tbody tr th {\n",
       "        vertical-align: top;\n",
       "    }\n",
       "\n",
       "    .dataframe thead th {\n",
       "        text-align: right;\n",
       "    }\n",
       "</style>\n",
       "<table border=\"1\" class=\"dataframe\">\n",
       "  <thead>\n",
       "    <tr style=\"text-align: right;\">\n",
       "      <th></th>\n",
       "      <th>Provider</th>\n",
       "      <th>DeductibleAmtPaid_mean</th>\n",
       "      <th>DeductibleAmtPaid_max</th>\n",
       "      <th>NoOfMonths_PartACov_mean</th>\n",
       "      <th>NoOfMonths_PartBCov_mean</th>\n",
       "      <th>OPAnnualReimbursementAmt_mean</th>\n",
       "      <th>OPAnnualReimbursementAmt_max</th>\n",
       "      <th>OPAnnualReimbursementAmt_sum</th>\n",
       "      <th>OPAnnualDeductibleAmt_mean</th>\n",
       "      <th>OPAnnualDeductibleAmt_max</th>\n",
       "      <th>...</th>\n",
       "      <th>totalProcCode_3722</th>\n",
       "      <th>totalProcCode_8151</th>\n",
       "      <th>totalProcCode_8872</th>\n",
       "      <th>totalProcCode_9671</th>\n",
       "      <th>totalProcCode_4513</th>\n",
       "      <th>totalProcCode_5849</th>\n",
       "      <th>totalProcCode_9390</th>\n",
       "      <th>totalProcCode_Other</th>\n",
       "      <th>TotalTeDiagCode</th>\n",
       "      <th>TotalTeProcCode</th>\n",
       "    </tr>\n",
       "  </thead>\n",
       "  <tbody>\n",
       "    <tr>\n",
       "      <th>0</th>\n",
       "      <td>PRV51001</td>\n",
       "      <td>213.600000</td>\n",
       "      <td>1068.0</td>\n",
       "      <td>12.000000</td>\n",
       "      <td>12.000000</td>\n",
       "      <td>2615.200000</td>\n",
       "      <td>13460</td>\n",
       "      <td>65380</td>\n",
       "      <td>463.920000</td>\n",
       "      <td>2700</td>\n",
       "      <td>...</td>\n",
       "      <td>0</td>\n",
       "      <td>0</td>\n",
       "      <td>0</td>\n",
       "      <td>0</td>\n",
       "      <td>0</td>\n",
       "      <td>0</td>\n",
       "      <td>0</td>\n",
       "      <td>125</td>\n",
       "      <td>1.166158</td>\n",
       "      <td>1.186518</td>\n",
       "    </tr>\n",
       "    <tr>\n",
       "      <th>1</th>\n",
       "      <td>PRV51004</td>\n",
       "      <td>2.080537</td>\n",
       "      <td>100.0</td>\n",
       "      <td>11.865772</td>\n",
       "      <td>11.959732</td>\n",
       "      <td>2194.899329</td>\n",
       "      <td>20900</td>\n",
       "      <td>327040</td>\n",
       "      <td>622.751678</td>\n",
       "      <td>7410</td>\n",
       "      <td>...</td>\n",
       "      <td>0</td>\n",
       "      <td>0</td>\n",
       "      <td>0</td>\n",
       "      <td>0</td>\n",
       "      <td>0</td>\n",
       "      <td>0</td>\n",
       "      <td>0</td>\n",
       "      <td>745</td>\n",
       "      <td>1.144495</td>\n",
       "      <td>1.161067</td>\n",
       "    </tr>\n",
       "    <tr>\n",
       "      <th>2</th>\n",
       "      <td>PRV51005</td>\n",
       "      <td>3.175966</td>\n",
       "      <td>200.0</td>\n",
       "      <td>11.907296</td>\n",
       "      <td>11.939914</td>\n",
       "      <td>2109.733906</td>\n",
       "      <td>97510</td>\n",
       "      <td>2457840</td>\n",
       "      <td>636.328755</td>\n",
       "      <td>6330</td>\n",
       "      <td>...</td>\n",
       "      <td>0</td>\n",
       "      <td>0</td>\n",
       "      <td>0</td>\n",
       "      <td>0</td>\n",
       "      <td>0</td>\n",
       "      <td>0</td>\n",
       "      <td>0</td>\n",
       "      <td>5825</td>\n",
       "      <td>1.174065</td>\n",
       "      <td>1.161067</td>\n",
       "    </tr>\n",
       "    <tr>\n",
       "      <th>3</th>\n",
       "      <td>PRV51008</td>\n",
       "      <td>53.860465</td>\n",
       "      <td>1068.0</td>\n",
       "      <td>12.000000</td>\n",
       "      <td>12.000000</td>\n",
       "      <td>2570.465116</td>\n",
       "      <td>20500</td>\n",
       "      <td>110530</td>\n",
       "      <td>616.046512</td>\n",
       "      <td>4140</td>\n",
       "      <td>...</td>\n",
       "      <td>0</td>\n",
       "      <td>0</td>\n",
       "      <td>0</td>\n",
       "      <td>0</td>\n",
       "      <td>0</td>\n",
       "      <td>0</td>\n",
       "      <td>0</td>\n",
       "      <td>215</td>\n",
       "      <td>1.144524</td>\n",
       "      <td>1.163394</td>\n",
       "    </tr>\n",
       "    <tr>\n",
       "      <th>4</th>\n",
       "      <td>PRV51011</td>\n",
       "      <td>23.586207</td>\n",
       "      <td>1068.0</td>\n",
       "      <td>12.000000</td>\n",
       "      <td>12.000000</td>\n",
       "      <td>1399.310345</td>\n",
       "      <td>6340</td>\n",
       "      <td>81160</td>\n",
       "      <td>366.724138</td>\n",
       "      <td>1070</td>\n",
       "      <td>...</td>\n",
       "      <td>0</td>\n",
       "      <td>0</td>\n",
       "      <td>0</td>\n",
       "      <td>0</td>\n",
       "      <td>0</td>\n",
       "      <td>0</td>\n",
       "      <td>0</td>\n",
       "      <td>290</td>\n",
       "      <td>1.141459</td>\n",
       "      <td>1.161067</td>\n",
       "    </tr>\n",
       "  </tbody>\n",
       "</table>\n",
       "<p>5 rows × 105 columns</p>\n",
       "</div>"
      ],
      "text/plain": [
       "   Provider  DeductibleAmtPaid_mean  DeductibleAmtPaid_max  \\\n",
       "0  PRV51001              213.600000                 1068.0   \n",
       "1  PRV51004                2.080537                  100.0   \n",
       "2  PRV51005                3.175966                  200.0   \n",
       "3  PRV51008               53.860465                 1068.0   \n",
       "4  PRV51011               23.586207                 1068.0   \n",
       "\n",
       "   NoOfMonths_PartACov_mean  NoOfMonths_PartBCov_mean  \\\n",
       "0                 12.000000                 12.000000   \n",
       "1                 11.865772                 11.959732   \n",
       "2                 11.907296                 11.939914   \n",
       "3                 12.000000                 12.000000   \n",
       "4                 12.000000                 12.000000   \n",
       "\n",
       "   OPAnnualReimbursementAmt_mean  OPAnnualReimbursementAmt_max  \\\n",
       "0                    2615.200000                         13460   \n",
       "1                    2194.899329                         20900   \n",
       "2                    2109.733906                         97510   \n",
       "3                    2570.465116                         20500   \n",
       "4                    1399.310345                          6340   \n",
       "\n",
       "   OPAnnualReimbursementAmt_sum  OPAnnualDeductibleAmt_mean  \\\n",
       "0                         65380                  463.920000   \n",
       "1                        327040                  622.751678   \n",
       "2                       2457840                  636.328755   \n",
       "3                        110530                  616.046512   \n",
       "4                         81160                  366.724138   \n",
       "\n",
       "   OPAnnualDeductibleAmt_max  ...  totalProcCode_3722  totalProcCode_8151  \\\n",
       "0                       2700  ...                   0                   0   \n",
       "1                       7410  ...                   0                   0   \n",
       "2                       6330  ...                   0                   0   \n",
       "3                       4140  ...                   0                   0   \n",
       "4                       1070  ...                   0                   0   \n",
       "\n",
       "   totalProcCode_8872  totalProcCode_9671  totalProcCode_4513  \\\n",
       "0                   0                   0                   0   \n",
       "1                   0                   0                   0   \n",
       "2                   0                   0                   0   \n",
       "3                   0                   0                   0   \n",
       "4                   0                   0                   0   \n",
       "\n",
       "   totalProcCode_5849  totalProcCode_9390  totalProcCode_Other  \\\n",
       "0                   0                   0                  125   \n",
       "1                   0                   0                  745   \n",
       "2                   0                   0                 5825   \n",
       "3                   0                   0                  215   \n",
       "4                   0                   0                  290   \n",
       "\n",
       "   TotalTeDiagCode  TotalTeProcCode  \n",
       "0         1.166158         1.186518  \n",
       "1         1.144495         1.161067  \n",
       "2         1.174065         1.161067  \n",
       "3         1.144524         1.163394  \n",
       "4         1.141459         1.161067  \n",
       "\n",
       "[5 rows x 105 columns]"
      ]
     },
     "execution_count": 7,
     "metadata": {},
     "output_type": "execute_result"
    }
   ],
   "source": [
    "X_train.head()"
   ]
  },
  {
   "cell_type": "code",
   "execution_count": 8,
   "id": "ce0d8358",
   "metadata": {
    "scrolled": true
   },
   "outputs": [
    {
     "data": {
      "text/plain": [
       "Provider                    0\n",
       "DeductibleAmtPaid_mean      1\n",
       "DeductibleAmtPaid_max       1\n",
       "NoOfMonths_PartACov_mean    0\n",
       "NoOfMonths_PartBCov_mean    0\n",
       "                           ..\n",
       "totalProcCode_5849          0\n",
       "totalProcCode_9390          0\n",
       "totalProcCode_Other         0\n",
       "TotalTeDiagCode             0\n",
       "TotalTeProcCode             0\n",
       "Length: 105, dtype: int64"
      ]
     },
     "execution_count": 8,
     "metadata": {},
     "output_type": "execute_result"
    }
   ],
   "source": [
    "X_test.isnull().sum()"
   ]
  },
  {
   "cell_type": "code",
   "execution_count": 9,
   "id": "cab1f536",
   "metadata": {},
   "outputs": [],
   "source": [
    "X_train.set_index('Provider',inplace = True)"
   ]
  },
  {
   "cell_type": "code",
   "execution_count": 10,
   "id": "479e32bd",
   "metadata": {
    "scrolled": true
   },
   "outputs": [
    {
     "data": {
      "text/html": [
       "<div>\n",
       "<style scoped>\n",
       "    .dataframe tbody tr th:only-of-type {\n",
       "        vertical-align: middle;\n",
       "    }\n",
       "\n",
       "    .dataframe tbody tr th {\n",
       "        vertical-align: top;\n",
       "    }\n",
       "\n",
       "    .dataframe thead th {\n",
       "        text-align: right;\n",
       "    }\n",
       "</style>\n",
       "<table border=\"1\" class=\"dataframe\">\n",
       "  <thead>\n",
       "    <tr style=\"text-align: right;\">\n",
       "      <th></th>\n",
       "      <th>DeductibleAmtPaid_mean</th>\n",
       "      <th>DeductibleAmtPaid_max</th>\n",
       "      <th>NoOfMonths_PartACov_mean</th>\n",
       "      <th>NoOfMonths_PartBCov_mean</th>\n",
       "      <th>OPAnnualReimbursementAmt_mean</th>\n",
       "      <th>OPAnnualReimbursementAmt_max</th>\n",
       "      <th>OPAnnualReimbursementAmt_sum</th>\n",
       "      <th>OPAnnualDeductibleAmt_mean</th>\n",
       "      <th>OPAnnualDeductibleAmt_max</th>\n",
       "      <th>OPAnnualDeductibleAmt_sum</th>\n",
       "      <th>...</th>\n",
       "      <th>totalProcCode_3722</th>\n",
       "      <th>totalProcCode_8151</th>\n",
       "      <th>totalProcCode_8872</th>\n",
       "      <th>totalProcCode_9671</th>\n",
       "      <th>totalProcCode_4513</th>\n",
       "      <th>totalProcCode_5849</th>\n",
       "      <th>totalProcCode_9390</th>\n",
       "      <th>totalProcCode_Other</th>\n",
       "      <th>TotalTeDiagCode</th>\n",
       "      <th>TotalTeProcCode</th>\n",
       "    </tr>\n",
       "    <tr>\n",
       "      <th>Provider</th>\n",
       "      <th></th>\n",
       "      <th></th>\n",
       "      <th></th>\n",
       "      <th></th>\n",
       "      <th></th>\n",
       "      <th></th>\n",
       "      <th></th>\n",
       "      <th></th>\n",
       "      <th></th>\n",
       "      <th></th>\n",
       "      <th></th>\n",
       "      <th></th>\n",
       "      <th></th>\n",
       "      <th></th>\n",
       "      <th></th>\n",
       "      <th></th>\n",
       "      <th></th>\n",
       "      <th></th>\n",
       "      <th></th>\n",
       "      <th></th>\n",
       "      <th></th>\n",
       "    </tr>\n",
       "  </thead>\n",
       "  <tbody>\n",
       "    <tr>\n",
       "      <th>PRV51001</th>\n",
       "      <td>213.600000</td>\n",
       "      <td>1068.0</td>\n",
       "      <td>12.000000</td>\n",
       "      <td>12.000000</td>\n",
       "      <td>2615.200000</td>\n",
       "      <td>13460</td>\n",
       "      <td>65380</td>\n",
       "      <td>463.920000</td>\n",
       "      <td>2700</td>\n",
       "      <td>11598</td>\n",
       "      <td>...</td>\n",
       "      <td>0</td>\n",
       "      <td>0</td>\n",
       "      <td>0</td>\n",
       "      <td>0</td>\n",
       "      <td>0</td>\n",
       "      <td>0</td>\n",
       "      <td>0</td>\n",
       "      <td>125</td>\n",
       "      <td>1.166158</td>\n",
       "      <td>1.186518</td>\n",
       "    </tr>\n",
       "    <tr>\n",
       "      <th>PRV51004</th>\n",
       "      <td>2.080537</td>\n",
       "      <td>100.0</td>\n",
       "      <td>11.865772</td>\n",
       "      <td>11.959732</td>\n",
       "      <td>2194.899329</td>\n",
       "      <td>20900</td>\n",
       "      <td>327040</td>\n",
       "      <td>622.751678</td>\n",
       "      <td>7410</td>\n",
       "      <td>92790</td>\n",
       "      <td>...</td>\n",
       "      <td>0</td>\n",
       "      <td>0</td>\n",
       "      <td>0</td>\n",
       "      <td>0</td>\n",
       "      <td>0</td>\n",
       "      <td>0</td>\n",
       "      <td>0</td>\n",
       "      <td>745</td>\n",
       "      <td>1.144495</td>\n",
       "      <td>1.161067</td>\n",
       "    </tr>\n",
       "    <tr>\n",
       "      <th>PRV51005</th>\n",
       "      <td>3.175966</td>\n",
       "      <td>200.0</td>\n",
       "      <td>11.907296</td>\n",
       "      <td>11.939914</td>\n",
       "      <td>2109.733906</td>\n",
       "      <td>97510</td>\n",
       "      <td>2457840</td>\n",
       "      <td>636.328755</td>\n",
       "      <td>6330</td>\n",
       "      <td>741323</td>\n",
       "      <td>...</td>\n",
       "      <td>0</td>\n",
       "      <td>0</td>\n",
       "      <td>0</td>\n",
       "      <td>0</td>\n",
       "      <td>0</td>\n",
       "      <td>0</td>\n",
       "      <td>0</td>\n",
       "      <td>5825</td>\n",
       "      <td>1.174065</td>\n",
       "      <td>1.161067</td>\n",
       "    </tr>\n",
       "    <tr>\n",
       "      <th>PRV51008</th>\n",
       "      <td>53.860465</td>\n",
       "      <td>1068.0</td>\n",
       "      <td>12.000000</td>\n",
       "      <td>12.000000</td>\n",
       "      <td>2570.465116</td>\n",
       "      <td>20500</td>\n",
       "      <td>110530</td>\n",
       "      <td>616.046512</td>\n",
       "      <td>4140</td>\n",
       "      <td>26490</td>\n",
       "      <td>...</td>\n",
       "      <td>0</td>\n",
       "      <td>0</td>\n",
       "      <td>0</td>\n",
       "      <td>0</td>\n",
       "      <td>0</td>\n",
       "      <td>0</td>\n",
       "      <td>0</td>\n",
       "      <td>215</td>\n",
       "      <td>1.144524</td>\n",
       "      <td>1.163394</td>\n",
       "    </tr>\n",
       "    <tr>\n",
       "      <th>PRV51011</th>\n",
       "      <td>23.586207</td>\n",
       "      <td>1068.0</td>\n",
       "      <td>12.000000</td>\n",
       "      <td>12.000000</td>\n",
       "      <td>1399.310345</td>\n",
       "      <td>6340</td>\n",
       "      <td>81160</td>\n",
       "      <td>366.724138</td>\n",
       "      <td>1070</td>\n",
       "      <td>21270</td>\n",
       "      <td>...</td>\n",
       "      <td>0</td>\n",
       "      <td>0</td>\n",
       "      <td>0</td>\n",
       "      <td>0</td>\n",
       "      <td>0</td>\n",
       "      <td>0</td>\n",
       "      <td>0</td>\n",
       "      <td>290</td>\n",
       "      <td>1.141459</td>\n",
       "      <td>1.161067</td>\n",
       "    </tr>\n",
       "  </tbody>\n",
       "</table>\n",
       "<p>5 rows × 104 columns</p>\n",
       "</div>"
      ],
      "text/plain": [
       "          DeductibleAmtPaid_mean  DeductibleAmtPaid_max  \\\n",
       "Provider                                                  \n",
       "PRV51001              213.600000                 1068.0   \n",
       "PRV51004                2.080537                  100.0   \n",
       "PRV51005                3.175966                  200.0   \n",
       "PRV51008               53.860465                 1068.0   \n",
       "PRV51011               23.586207                 1068.0   \n",
       "\n",
       "          NoOfMonths_PartACov_mean  NoOfMonths_PartBCov_mean  \\\n",
       "Provider                                                       \n",
       "PRV51001                 12.000000                 12.000000   \n",
       "PRV51004                 11.865772                 11.959732   \n",
       "PRV51005                 11.907296                 11.939914   \n",
       "PRV51008                 12.000000                 12.000000   \n",
       "PRV51011                 12.000000                 12.000000   \n",
       "\n",
       "          OPAnnualReimbursementAmt_mean  OPAnnualReimbursementAmt_max  \\\n",
       "Provider                                                                \n",
       "PRV51001                    2615.200000                         13460   \n",
       "PRV51004                    2194.899329                         20900   \n",
       "PRV51005                    2109.733906                         97510   \n",
       "PRV51008                    2570.465116                         20500   \n",
       "PRV51011                    1399.310345                          6340   \n",
       "\n",
       "          OPAnnualReimbursementAmt_sum  OPAnnualDeductibleAmt_mean  \\\n",
       "Provider                                                             \n",
       "PRV51001                         65380                  463.920000   \n",
       "PRV51004                        327040                  622.751678   \n",
       "PRV51005                       2457840                  636.328755   \n",
       "PRV51008                        110530                  616.046512   \n",
       "PRV51011                         81160                  366.724138   \n",
       "\n",
       "          OPAnnualDeductibleAmt_max  OPAnnualDeductibleAmt_sum  ...  \\\n",
       "Provider                                                        ...   \n",
       "PRV51001                       2700                      11598  ...   \n",
       "PRV51004                       7410                      92790  ...   \n",
       "PRV51005                       6330                     741323  ...   \n",
       "PRV51008                       4140                      26490  ...   \n",
       "PRV51011                       1070                      21270  ...   \n",
       "\n",
       "          totalProcCode_3722  totalProcCode_8151  totalProcCode_8872  \\\n",
       "Provider                                                               \n",
       "PRV51001                   0                   0                   0   \n",
       "PRV51004                   0                   0                   0   \n",
       "PRV51005                   0                   0                   0   \n",
       "PRV51008                   0                   0                   0   \n",
       "PRV51011                   0                   0                   0   \n",
       "\n",
       "          totalProcCode_9671  totalProcCode_4513  totalProcCode_5849  \\\n",
       "Provider                                                               \n",
       "PRV51001                   0                   0                   0   \n",
       "PRV51004                   0                   0                   0   \n",
       "PRV51005                   0                   0                   0   \n",
       "PRV51008                   0                   0                   0   \n",
       "PRV51011                   0                   0                   0   \n",
       "\n",
       "          totalProcCode_9390  totalProcCode_Other  TotalTeDiagCode  \\\n",
       "Provider                                                             \n",
       "PRV51001                   0                  125         1.166158   \n",
       "PRV51004                   0                  745         1.144495   \n",
       "PRV51005                   0                 5825         1.174065   \n",
       "PRV51008                   0                  215         1.144524   \n",
       "PRV51011                   0                  290         1.141459   \n",
       "\n",
       "          TotalTeProcCode  \n",
       "Provider                   \n",
       "PRV51001         1.186518  \n",
       "PRV51004         1.161067  \n",
       "PRV51005         1.161067  \n",
       "PRV51008         1.163394  \n",
       "PRV51011         1.161067  \n",
       "\n",
       "[5 rows x 104 columns]"
      ]
     },
     "execution_count": 10,
     "metadata": {},
     "output_type": "execute_result"
    }
   ],
   "source": [
    "X_train.head()"
   ]
  },
  {
   "cell_type": "code",
   "execution_count": 11,
   "id": "989dbf07",
   "metadata": {},
   "outputs": [],
   "source": [
    "X_test.set_index('Provider',inplace = True)"
   ]
  },
  {
   "cell_type": "code",
   "execution_count": 12,
   "id": "6153c18d",
   "metadata": {
    "scrolled": false
   },
   "outputs": [
    {
     "data": {
      "text/html": [
       "<div>\n",
       "<style scoped>\n",
       "    .dataframe tbody tr th:only-of-type {\n",
       "        vertical-align: middle;\n",
       "    }\n",
       "\n",
       "    .dataframe tbody tr th {\n",
       "        vertical-align: top;\n",
       "    }\n",
       "\n",
       "    .dataframe thead th {\n",
       "        text-align: right;\n",
       "    }\n",
       "</style>\n",
       "<table border=\"1\" class=\"dataframe\">\n",
       "  <thead>\n",
       "    <tr style=\"text-align: right;\">\n",
       "      <th></th>\n",
       "      <th>DeductibleAmtPaid_mean</th>\n",
       "      <th>DeductibleAmtPaid_max</th>\n",
       "      <th>NoOfMonths_PartACov_mean</th>\n",
       "      <th>NoOfMonths_PartBCov_mean</th>\n",
       "      <th>OPAnnualReimbursementAmt_mean</th>\n",
       "      <th>OPAnnualReimbursementAmt_max</th>\n",
       "      <th>OPAnnualReimbursementAmt_sum</th>\n",
       "      <th>OPAnnualDeductibleAmt_mean</th>\n",
       "      <th>OPAnnualDeductibleAmt_max</th>\n",
       "      <th>OPAnnualDeductibleAmt_sum</th>\n",
       "      <th>...</th>\n",
       "      <th>totalProcCode_3722</th>\n",
       "      <th>totalProcCode_8151</th>\n",
       "      <th>totalProcCode_8872</th>\n",
       "      <th>totalProcCode_9671</th>\n",
       "      <th>totalProcCode_4513</th>\n",
       "      <th>totalProcCode_5849</th>\n",
       "      <th>totalProcCode_9390</th>\n",
       "      <th>totalProcCode_Other</th>\n",
       "      <th>TotalTeDiagCode</th>\n",
       "      <th>TotalTeProcCode</th>\n",
       "    </tr>\n",
       "    <tr>\n",
       "      <th>Provider</th>\n",
       "      <th></th>\n",
       "      <th></th>\n",
       "      <th></th>\n",
       "      <th></th>\n",
       "      <th></th>\n",
       "      <th></th>\n",
       "      <th></th>\n",
       "      <th></th>\n",
       "      <th></th>\n",
       "      <th></th>\n",
       "      <th></th>\n",
       "      <th></th>\n",
       "      <th></th>\n",
       "      <th></th>\n",
       "      <th></th>\n",
       "      <th></th>\n",
       "      <th></th>\n",
       "      <th></th>\n",
       "      <th></th>\n",
       "      <th></th>\n",
       "      <th></th>\n",
       "    </tr>\n",
       "  </thead>\n",
       "  <tbody>\n",
       "    <tr>\n",
       "      <th>PRV51003</th>\n",
       "      <td>502.166667</td>\n",
       "      <td>1068.0</td>\n",
       "      <td>11.818182</td>\n",
       "      <td>11.871212</td>\n",
       "      <td>2678.181818</td>\n",
       "      <td>31880</td>\n",
       "      <td>353520</td>\n",
       "      <td>737.121212</td>\n",
       "      <td>9950</td>\n",
       "      <td>97300</td>\n",
       "      <td>...</td>\n",
       "      <td>0</td>\n",
       "      <td>0</td>\n",
       "      <td>0</td>\n",
       "      <td>0</td>\n",
       "      <td>0</td>\n",
       "      <td>0</td>\n",
       "      <td>0</td>\n",
       "      <td>660</td>\n",
       "      <td>1.180504</td>\n",
       "      <td>1.100834</td>\n",
       "    </tr>\n",
       "    <tr>\n",
       "      <th>PRV51007</th>\n",
       "      <td>45.333333</td>\n",
       "      <td>1068.0</td>\n",
       "      <td>11.833333</td>\n",
       "      <td>11.833333</td>\n",
       "      <td>1729.722222</td>\n",
       "      <td>6060</td>\n",
       "      <td>124540</td>\n",
       "      <td>469.722222</td>\n",
       "      <td>1970</td>\n",
       "      <td>33820</td>\n",
       "      <td>...</td>\n",
       "      <td>0</td>\n",
       "      <td>0</td>\n",
       "      <td>0</td>\n",
       "      <td>0</td>\n",
       "      <td>0</td>\n",
       "      <td>0</td>\n",
       "      <td>0</td>\n",
       "      <td>360</td>\n",
       "      <td>1.014301</td>\n",
       "      <td>1.022005</td>\n",
       "    </tr>\n",
       "    <tr>\n",
       "      <th>PRV51025</th>\n",
       "      <td>164.183908</td>\n",
       "      <td>1068.0</td>\n",
       "      <td>12.000000</td>\n",
       "      <td>12.000000</td>\n",
       "      <td>2288.965517</td>\n",
       "      <td>23330</td>\n",
       "      <td>199140</td>\n",
       "      <td>621.379310</td>\n",
       "      <td>8280</td>\n",
       "      <td>54060</td>\n",
       "      <td>...</td>\n",
       "      <td>0</td>\n",
       "      <td>0</td>\n",
       "      <td>0</td>\n",
       "      <td>0</td>\n",
       "      <td>0</td>\n",
       "      <td>0</td>\n",
       "      <td>0</td>\n",
       "      <td>435</td>\n",
       "      <td>1.035489</td>\n",
       "      <td>1.052657</td>\n",
       "    </tr>\n",
       "    <tr>\n",
       "      <th>PRV51026</th>\n",
       "      <td>4.473684</td>\n",
       "      <td>100.0</td>\n",
       "      <td>11.684211</td>\n",
       "      <td>12.000000</td>\n",
       "      <td>1811.578947</td>\n",
       "      <td>6700</td>\n",
       "      <td>137680</td>\n",
       "      <td>680.394737</td>\n",
       "      <td>2700</td>\n",
       "      <td>51710</td>\n",
       "      <td>...</td>\n",
       "      <td>0</td>\n",
       "      <td>0</td>\n",
       "      <td>0</td>\n",
       "      <td>0</td>\n",
       "      <td>0</td>\n",
       "      <td>0</td>\n",
       "      <td>0</td>\n",
       "      <td>380</td>\n",
       "      <td>0.999096</td>\n",
       "      <td>1.022881</td>\n",
       "    </tr>\n",
       "    <tr>\n",
       "      <th>PRV51041</th>\n",
       "      <td>7.941176</td>\n",
       "      <td>100.0</td>\n",
       "      <td>12.000000</td>\n",
       "      <td>12.000000</td>\n",
       "      <td>2287.647059</td>\n",
       "      <td>28900</td>\n",
       "      <td>77780</td>\n",
       "      <td>613.823529</td>\n",
       "      <td>7680</td>\n",
       "      <td>20870</td>\n",
       "      <td>...</td>\n",
       "      <td>0</td>\n",
       "      <td>0</td>\n",
       "      <td>0</td>\n",
       "      <td>0</td>\n",
       "      <td>0</td>\n",
       "      <td>0</td>\n",
       "      <td>0</td>\n",
       "      <td>170</td>\n",
       "      <td>0.990358</td>\n",
       "      <td>1.022881</td>\n",
       "    </tr>\n",
       "  </tbody>\n",
       "</table>\n",
       "<p>5 rows × 104 columns</p>\n",
       "</div>"
      ],
      "text/plain": [
       "          DeductibleAmtPaid_mean  DeductibleAmtPaid_max  \\\n",
       "Provider                                                  \n",
       "PRV51003              502.166667                 1068.0   \n",
       "PRV51007               45.333333                 1068.0   \n",
       "PRV51025              164.183908                 1068.0   \n",
       "PRV51026                4.473684                  100.0   \n",
       "PRV51041                7.941176                  100.0   \n",
       "\n",
       "          NoOfMonths_PartACov_mean  NoOfMonths_PartBCov_mean  \\\n",
       "Provider                                                       \n",
       "PRV51003                 11.818182                 11.871212   \n",
       "PRV51007                 11.833333                 11.833333   \n",
       "PRV51025                 12.000000                 12.000000   \n",
       "PRV51026                 11.684211                 12.000000   \n",
       "PRV51041                 12.000000                 12.000000   \n",
       "\n",
       "          OPAnnualReimbursementAmt_mean  OPAnnualReimbursementAmt_max  \\\n",
       "Provider                                                                \n",
       "PRV51003                    2678.181818                         31880   \n",
       "PRV51007                    1729.722222                          6060   \n",
       "PRV51025                    2288.965517                         23330   \n",
       "PRV51026                    1811.578947                          6700   \n",
       "PRV51041                    2287.647059                         28900   \n",
       "\n",
       "          OPAnnualReimbursementAmt_sum  OPAnnualDeductibleAmt_mean  \\\n",
       "Provider                                                             \n",
       "PRV51003                        353520                  737.121212   \n",
       "PRV51007                        124540                  469.722222   \n",
       "PRV51025                        199140                  621.379310   \n",
       "PRV51026                        137680                  680.394737   \n",
       "PRV51041                         77780                  613.823529   \n",
       "\n",
       "          OPAnnualDeductibleAmt_max  OPAnnualDeductibleAmt_sum  ...  \\\n",
       "Provider                                                        ...   \n",
       "PRV51003                       9950                      97300  ...   \n",
       "PRV51007                       1970                      33820  ...   \n",
       "PRV51025                       8280                      54060  ...   \n",
       "PRV51026                       2700                      51710  ...   \n",
       "PRV51041                       7680                      20870  ...   \n",
       "\n",
       "          totalProcCode_3722  totalProcCode_8151  totalProcCode_8872  \\\n",
       "Provider                                                               \n",
       "PRV51003                   0                   0                   0   \n",
       "PRV51007                   0                   0                   0   \n",
       "PRV51025                   0                   0                   0   \n",
       "PRV51026                   0                   0                   0   \n",
       "PRV51041                   0                   0                   0   \n",
       "\n",
       "          totalProcCode_9671  totalProcCode_4513  totalProcCode_5849  \\\n",
       "Provider                                                               \n",
       "PRV51003                   0                   0                   0   \n",
       "PRV51007                   0                   0                   0   \n",
       "PRV51025                   0                   0                   0   \n",
       "PRV51026                   0                   0                   0   \n",
       "PRV51041                   0                   0                   0   \n",
       "\n",
       "          totalProcCode_9390  totalProcCode_Other  TotalTeDiagCode  \\\n",
       "Provider                                                             \n",
       "PRV51003                   0                  660         1.180504   \n",
       "PRV51007                   0                  360         1.014301   \n",
       "PRV51025                   0                  435         1.035489   \n",
       "PRV51026                   0                  380         0.999096   \n",
       "PRV51041                   0                  170         0.990358   \n",
       "\n",
       "          TotalTeProcCode  \n",
       "Provider                   \n",
       "PRV51003         1.100834  \n",
       "PRV51007         1.022005  \n",
       "PRV51025         1.052657  \n",
       "PRV51026         1.022881  \n",
       "PRV51041         1.022881  \n",
       "\n",
       "[5 rows x 104 columns]"
      ]
     },
     "execution_count": 12,
     "metadata": {},
     "output_type": "execute_result"
    }
   ],
   "source": [
    "X_test.head()"
   ]
  },
  {
   "cell_type": "code",
   "execution_count": 13,
   "id": "d1276ab2",
   "metadata": {},
   "outputs": [],
   "source": [
    "y_train = y_train.iloc[:,0].ravel()   #original y_train is a dataframe. Needs to convert to 1d array for modeling"
   ]
  },
  {
   "cell_type": "code",
   "execution_count": 14,
   "id": "d8cc9479",
   "metadata": {
    "scrolled": true
   },
   "outputs": [
    {
     "data": {
      "text/plain": [
       "array([0, 0, 1, ..., 0, 0, 0])"
      ]
     },
     "execution_count": 14,
     "metadata": {},
     "output_type": "execute_result"
    }
   ],
   "source": [
    "y_train"
   ]
  },
  {
   "cell_type": "code",
   "execution_count": 15,
   "id": "d97c9f34",
   "metadata": {},
   "outputs": [
    {
     "data": {
      "text/plain": [
       "403"
      ]
     },
     "execution_count": 15,
     "metadata": {},
     "output_type": "execute_result"
    }
   ],
   "source": [
    "y_train.sum()"
   ]
  },
  {
   "cell_type": "code",
   "execution_count": 16,
   "id": "e023804a",
   "metadata": {},
   "outputs": [
    {
     "data": {
      "text/plain": [
       "PotentialFraud    103.0\n",
       "dtype: float64"
      ]
     },
     "execution_count": 16,
     "metadata": {},
     "output_type": "execute_result"
    }
   ],
   "source": [
    "y_test[y_test ==1].sum()"
   ]
  },
  {
   "cell_type": "code",
   "execution_count": 17,
   "id": "b5eab435",
   "metadata": {},
   "outputs": [],
   "source": [
    "y_test = y_test.iloc[:,0].ravel()"
   ]
  },
  {
   "cell_type": "code",
   "execution_count": 18,
   "id": "31fd2fa9",
   "metadata": {},
   "outputs": [
    {
     "data": {
      "text/plain": [
       "array([1, 0, 0, ..., 0, 0, 0])"
      ]
     },
     "execution_count": 18,
     "metadata": {},
     "output_type": "execute_result"
    }
   ],
   "source": [
    "y_test"
   ]
  },
  {
   "cell_type": "code",
   "execution_count": 19,
   "id": "f9df04d6",
   "metadata": {},
   "outputs": [
    {
     "data": {
      "text/plain": [
       "103"
      ]
     },
     "execution_count": 19,
     "metadata": {},
     "output_type": "execute_result"
    }
   ],
   "source": [
    "y_test.sum()"
   ]
  },
  {
   "cell_type": "code",
   "execution_count": 20,
   "id": "6c9062d0",
   "metadata": {},
   "outputs": [],
   "source": [
    "target = pd.read_csv('data_v1/Train-1542865627584.csv')"
   ]
  },
  {
   "cell_type": "code",
   "execution_count": 21,
   "id": "08024725",
   "metadata": {},
   "outputs": [],
   "source": [
    "tmp=X_test.merge(target,on = 'Provider', how = 'left')"
   ]
  },
  {
   "cell_type": "code",
   "execution_count": 22,
   "id": "1fc007ad",
   "metadata": {},
   "outputs": [],
   "source": [
    "tmp1 = tmp.PotentialFraud.map(lambda x: 1 if x == 'Yes' else 0)"
   ]
  },
  {
   "cell_type": "code",
   "execution_count": 24,
   "id": "33c6ade2",
   "metadata": {},
   "outputs": [],
   "source": [
    "tmp2 = tmp1-y_test  #y_test is correct"
   ]
  },
  {
   "cell_type": "code",
   "execution_count": 25,
   "id": "c4187aa5",
   "metadata": {},
   "outputs": [
    {
     "data": {
      "text/plain": [
       "0"
      ]
     },
     "execution_count": 25,
     "metadata": {},
     "output_type": "execute_result"
    }
   ],
   "source": [
    "tmp2.sum()"
   ]
  },
  {
   "cell_type": "markdown",
   "id": "93f05504",
   "metadata": {},
   "source": [
    "## 2. Model Building with Default Settings - Benchmark"
   ]
  },
  {
   "cell_type": "code",
   "execution_count": 26,
   "id": "e1eea1c5",
   "metadata": {},
   "outputs": [],
   "source": [
    "from sklearn.linear_model import LogisticRegression\n",
    "from sklearn.preprocessing import StandardScaler\n",
    "from sklearn.preprocessing import MinMaxScaler\n",
    "from sklearn.pipeline import Pipeline\n",
    "from sklearn.model_selection import cross_val_score\n",
    "\n",
    "steps = [\n",
    "        ('rescale', StandardScaler()), \n",
    "         #('rescale', MinMaxScaler()),\n",
    "         ('logreg', LogisticRegression(random_state=42,max_iter=100000))]\n",
    "model = Pipeline(steps)\n",
    "\n",
    "train_scores = cross_val_score(model, X_train, y_train, scoring= 'average_precision', cv=5)"
   ]
  },
  {
   "cell_type": "code",
   "execution_count": 27,
   "id": "0fb5a745",
   "metadata": {},
   "outputs": [
    {
     "data": {
      "text/plain": [
       "array([0.87099287, 0.89589282, 0.83034104, 0.74599211, 0.79776741])"
      ]
     },
     "execution_count": 27,
     "metadata": {},
     "output_type": "execute_result"
    }
   ],
   "source": [
    "train_scores"
   ]
  },
  {
   "cell_type": "code",
   "execution_count": 28,
   "id": "064c58a4",
   "metadata": {},
   "outputs": [
    {
     "name": "stdout",
     "output_type": "stream",
     "text": [
      "average precision of cross-validation:0.828\n"
     ]
    }
   ],
   "source": [
    "print(\"average precision of cross-validation:{:.3f}\".format(train_scores.mean()))"
   ]
  },
  {
   "cell_type": "markdown",
   "id": "45ace536",
   "metadata": {},
   "source": [
    "#### 2.1 Predicting"
   ]
  },
  {
   "cell_type": "code",
   "execution_count": 29,
   "id": "a35bdef3",
   "metadata": {
    "scrolled": true
   },
   "outputs": [
    {
     "data": {
      "text/plain": [
       "Pipeline(steps=[('rescale', StandardScaler()),\n",
       "                ('logreg',\n",
       "                 LogisticRegression(max_iter=100000, random_state=42))])"
      ]
     },
     "execution_count": 29,
     "metadata": {},
     "output_type": "execute_result"
    }
   ],
   "source": [
    "model.fit(X_train, y_train)"
   ]
  },
  {
   "cell_type": "code",
   "execution_count": 30,
   "id": "a082fb7a",
   "metadata": {
    "scrolled": true
   },
   "outputs": [
    {
     "data": {
      "text/plain": [
       "array([0, 0, 1, ..., 0, 0, 0])"
      ]
     },
     "execution_count": 30,
     "metadata": {},
     "output_type": "execute_result"
    }
   ],
   "source": [
    "y_train_pred = model.predict(X_train)\n",
    "y_train_pred"
   ]
  },
  {
   "cell_type": "code",
   "execution_count": 31,
   "id": "9cf659d2",
   "metadata": {},
   "outputs": [
    {
     "data": {
      "text/plain": [
       "342"
      ]
     },
     "execution_count": 31,
     "metadata": {},
     "output_type": "execute_result"
    }
   ],
   "source": [
    "y_train_pred[y_train_pred == 1].sum()"
   ]
  },
  {
   "cell_type": "code",
   "execution_count": 32,
   "id": "5428ab2e",
   "metadata": {
    "scrolled": false
   },
   "outputs": [
    {
     "data": {
      "text/plain": [
       "array([[9.82453282e-01, 1.75467175e-02],\n",
       "       [9.96024552e-01, 3.97544790e-03],\n",
       "       [3.07505379e-01, 6.92494621e-01],\n",
       "       ...,\n",
       "       [9.99763565e-01, 2.36434669e-04],\n",
       "       [9.98774157e-01, 1.22584305e-03],\n",
       "       [9.72856718e-01, 2.71432821e-02]])"
      ]
     },
     "execution_count": 32,
     "metadata": {},
     "output_type": "execute_result"
    }
   ],
   "source": [
    "y_train_proba = model.predict_proba(X_train)\n",
    "y_train_proba"
   ]
  },
  {
   "cell_type": "code",
   "execution_count": 33,
   "id": "162283aa",
   "metadata": {},
   "outputs": [],
   "source": [
    "# There are two null values under DeductibleAmtPaid_mean and DeductibleAmtPaid_max for PRV54673\n",
    "# Fillna with -99\n",
    "X_test.DeductibleAmtPaid_mean.fillna(0, inplace = True)\n",
    "X_test.DeductibleAmtPaid_max.fillna(0, inplace = True)"
   ]
  },
  {
   "cell_type": "code",
   "execution_count": 34,
   "id": "5f73f7df",
   "metadata": {},
   "outputs": [],
   "source": [
    "y_test_pred = model.predict(X_test)"
   ]
  },
  {
   "cell_type": "code",
   "execution_count": 35,
   "id": "e6ae944e",
   "metadata": {},
   "outputs": [
    {
     "data": {
      "text/plain": [
       "0"
      ]
     },
     "execution_count": 35,
     "metadata": {},
     "output_type": "execute_result"
    }
   ],
   "source": [
    "y_test_pred.sum()"
   ]
  },
  {
   "cell_type": "code",
   "execution_count": 36,
   "id": "912736f3",
   "metadata": {},
   "outputs": [],
   "source": [
    "y_test_proba = model.predict_proba(X_test)"
   ]
  },
  {
   "cell_type": "code",
   "execution_count": 37,
   "id": "629d8279",
   "metadata": {
    "scrolled": true
   },
   "outputs": [
    {
     "data": {
      "text/plain": [
       "array([[9.99467155e-01, 5.32844708e-04],\n",
       "       [9.99999991e-01, 9.04472098e-09],\n",
       "       [9.99999887e-01, 1.13315861e-07],\n",
       "       ...,\n",
       "       [1.00000000e+00, 2.39452407e-12],\n",
       "       [9.99999998e-01, 1.91631190e-09],\n",
       "       [1.00000000e+00, 3.11668217e-15]])"
      ]
     },
     "execution_count": 37,
     "metadata": {},
     "output_type": "execute_result"
    }
   ],
   "source": [
    "y_test_proba"
   ]
  },
  {
   "cell_type": "code",
   "execution_count": 38,
   "id": "0a0f30c4",
   "metadata": {},
   "outputs": [
    {
     "name": "stdout",
     "output_type": "stream",
     "text": [
      "------------------Train----------------\n",
      "              precision    recall  f1-score   support\n",
      "\n",
      "           0       0.97      0.99      0.98      3925\n",
      "           1       0.88      0.75      0.81       403\n",
      "\n",
      "    accuracy                           0.97      4328\n",
      "   macro avg       0.93      0.87      0.89      4328\n",
      "weighted avg       0.97      0.97      0.97      4328\n",
      "\n",
      "------------------Test----------------\n",
      "              precision    recall  f1-score   support\n",
      "\n",
      "           0       0.90      1.00      0.95       979\n",
      "           1       0.00      0.00      0.00       103\n",
      "\n",
      "    accuracy                           0.90      1082\n",
      "   macro avg       0.45      0.50      0.48      1082\n",
      "weighted avg       0.82      0.90      0.86      1082\n",
      "\n"
     ]
    },
    {
     "name": "stderr",
     "output_type": "stream",
     "text": [
      "/Users/redstockings/opt/anaconda3/lib/python3.9/site-packages/sklearn/metrics/_classification.py:1318: UndefinedMetricWarning: Precision and F-score are ill-defined and being set to 0.0 in labels with no predicted samples. Use `zero_division` parameter to control this behavior.\n",
      "  _warn_prf(average, modifier, msg_start, len(result))\n",
      "/Users/redstockings/opt/anaconda3/lib/python3.9/site-packages/sklearn/metrics/_classification.py:1318: UndefinedMetricWarning: Precision and F-score are ill-defined and being set to 0.0 in labels with no predicted samples. Use `zero_division` parameter to control this behavior.\n",
      "  _warn_prf(average, modifier, msg_start, len(result))\n",
      "/Users/redstockings/opt/anaconda3/lib/python3.9/site-packages/sklearn/metrics/_classification.py:1318: UndefinedMetricWarning: Precision and F-score are ill-defined and being set to 0.0 in labels with no predicted samples. Use `zero_division` parameter to control this behavior.\n",
      "  _warn_prf(average, modifier, msg_start, len(result))\n"
     ]
    }
   ],
   "source": [
    "from sklearn.metrics import classification_report\n",
    "print('------------------Train----------------')\n",
    "print(classification_report(y_train, y_train_pred))\n",
    "print('------------------Test----------------')\n",
    "print(classification_report(y_test, y_test_pred))"
   ]
  },
  {
   "cell_type": "markdown",
   "id": "a02f09ce",
   "metadata": {},
   "source": [
    "#### 2.2 Calculation metrics"
   ]
  },
  {
   "cell_type": "code",
   "execution_count": 39,
   "id": "48109c34",
   "metadata": {},
   "outputs": [
    {
     "name": "stdout",
     "output_type": "stream",
     "text": [
      "roc_auc_score for the train dataset: 0.98\n",
      "roc_auc_score for the test dataset: 0.98\n"
     ]
    }
   ],
   "source": [
    "from sklearn.metrics import roc_auc_score\n",
    "roc_auc_score_train = roc_auc_score(y_train, model.predict_proba(X_train)[:, 1])  \n",
    "roc_auc_score_test = roc_auc_score(y_test, model.predict_proba(X_test)[:, 1])\n",
    "print('roc_auc_score for the train dataset: {:.2f}'.format(roc_auc_score_train))\n",
    "print('roc_auc_score for the test dataset: {:.2f}'.format(roc_auc_score_test))"
   ]
  },
  {
   "cell_type": "code",
   "execution_count": 40,
   "id": "735ecd8e",
   "metadata": {},
   "outputs": [
    {
     "name": "stderr",
     "output_type": "stream",
     "text": [
      "/Users/redstockings/opt/anaconda3/lib/python3.9/site-packages/sklearn/utils/deprecation.py:87: FutureWarning: Function plot_roc_curve is deprecated; Function :func:`plot_roc_curve` is deprecated in 1.0 and will be removed in 1.2. Use one of the class methods: :meth:`sklearn.metric.RocCurveDisplay.from_predictions` or :meth:`sklearn.metric.RocCurveDisplay.from_estimator`.\n",
      "  warnings.warn(msg, category=FutureWarning)\n"
     ]
    },
    {
     "data": {
      "text/plain": [
       "Text(0.5, 1.0, 'ROC Curve')"
      ]
     },
     "execution_count": 40,
     "metadata": {},
     "output_type": "execute_result"
    },
    {
     "data": {
      "image/png": "[encoded data removed]",
      "text/plain": [
       "<Figure size 432x288 with 1 Axes>"
      ]
     },
     "metadata": {
      "needs_background": "light"
     },
     "output_type": "display_data"
    }
   ],
   "source": [
    "from sklearn.metrics import plot_roc_curve  \n",
    "\n",
    "plot_roc_curve(model, X_test, y_test)\n",
    "plt.title('ROC Curve')"
   ]
  },
  {
   "cell_type": "code",
   "execution_count": 41,
   "id": "21d31b35",
   "metadata": {},
   "outputs": [
    {
     "name": "stdout",
     "output_type": "stream",
     "text": [
      "Test PR-AUC is 0.91\n",
      "min threshold:0.00 max threshold:0.15\n"
     ]
    },
    {
     "data": {
      "image/png": "[encoded data removed]",
      "text/plain": [
       "<Figure size 432x288 with 1 Axes>"
      ]
     },
     "metadata": {
      "needs_background": "light"
     },
     "output_type": "display_data"
    }
   ],
   "source": [
    "from sklearn.metrics import precision_recall_curve\n",
    "# https://scikit-learn.org/stable/modules/generated/sklearn.metrics.precision_recall_curve.html\n",
    "\n",
    "from sklearn.metrics import auc,plot_precision_recall_curve\n",
    "# https://scikit-learn.org/stable/modules/generated/sklearn.metrics.auc.html\n",
    "\n",
    "y_score = y_test_proba[:, 1]\n",
    "# Data to plot precision - recall curve\n",
    "precision, recall, thresholds = precision_recall_curve(y_test, y_score)\n",
    "# Use AUC function to calculate the area under the curve of precision recall curve\n",
    "auc_precision_recall = auc(recall, precision)\n",
    "print('Test PR-AUC is {:.2f}'.format(auc_precision_recall))\n",
    "\n",
    "print('min threshold:{:.2f}'.format(min(thresholds)), 'max threshold:{:.2f}'.format(max(thresholds)))\n",
    "\n",
    "# plot PR curve\n",
    "plt.plot(recall, precision)\n",
    "plt.xlabel('Recall(Positive label:1)')\n",
    "plt.ylabel('Precision(Positive label:1)')\n",
    "plt.title('Precision-Recall Curve')\n",
    "plt.show()\n",
    "\n",
    "#disp = plot_precision_recall_curve(model, X_test, y_test)"
   ]
  },
  {
   "cell_type": "code",
   "execution_count": 42,
   "id": "47e5221a",
   "metadata": {},
   "outputs": [
    {
     "name": "stdout",
     "output_type": "stream",
     "text": [
      "min threshold:0.00 max threshold:1.00\n",
      "Train PR-AUC is 0.89\n"
     ]
    }
   ],
   "source": [
    "y_train_score = y_train_proba[:, 1]\n",
    "# Data to plot precision - recall curve\n",
    "precision, recall, thresholds = precision_recall_curve(y_train, y_train_score)\n",
    "# Use AUC function to calculate the area under the curve of precision recall curve\n",
    "auc_precision_recall = auc(recall, precision)\n",
    "\n",
    "print('min threshold:{:.2f}'.format(min(thresholds)), 'max threshold:{:.2f}'.format(max(thresholds)))\n",
    "print('Train PR-AUC is {:.2f}'.format(auc_precision_recall))"
   ]
  },
  {
   "cell_type": "markdown",
   "id": "a91a7b15",
   "metadata": {},
   "source": [
    "#### 2.3 Feature Importance"
   ]
  },
  {
   "cell_type": "code",
   "execution_count": 43,
   "id": "355f05ce",
   "metadata": {},
   "outputs": [
    {
     "data": {
      "text/plain": [
       "array(['DeductibleAmtPaid_mean', 'DeductibleAmtPaid_max',\n",
       "       'NoOfMonths_PartACov_mean', 'NoOfMonths_PartBCov_mean',\n",
       "       'OPAnnualReimbursementAmt_mean', 'OPAnnualReimbursementAmt_max',\n",
       "       'OPAnnualReimbursementAmt_sum', 'OPAnnualDeductibleAmt_mean',\n",
       "       'OPAnnualDeductibleAmt_max', 'OPAnnualDeductibleAmt_sum',\n",
       "       'ClaimCounts', 'Gender', 'ClaimPeriod', 'RaceOneFrac', 'MajorRace',\n",
       "       'RenalDiseaseIndicator', 'Age', 'uniqBeneCount', 'ClmsperBene',\n",
       "       'TotalInscClaimAmtReimbursed', 'MeanInscClaimAmtReimbursed',\n",
       "       'MaxInscClaimAmtReimbursed', 'uniqATPhysnCount', 'ClmsperATPhysn',\n",
       "       'uniqOPPhysnCount', 'ClmsperOPPhysn', 'uniqOTPhysnCount',\n",
       "       'ClmsperOTPhysn', 'InClmsPct', 'StateCount_Uniq', 'MajorState',\n",
       "       'CountyCount_Uniq', 'MajorCounty', 'TotalIPAnnualReimbursementAmt',\n",
       "       'MeanIPAnnualReimbursementAmt', 'MaxIPAnnualReimbursementAmt',\n",
       "       'TotalIPAnnualDeductibleAmtdf', 'MeanIPAnnualDeductibleAmt',\n",
       "       'MaxIPAnnualDeductibleAmt', 'MaxHospitalDays',\n",
       "       'MedianHospitalDays', 'MeanHospitalDays', 'Chronic_Alzheimer_Frac',\n",
       "       'Chronic_Heartfailure_Frac', 'Chronic_KidneyDisease_Frac',\n",
       "       'Chronic_Cancer_Frac', 'Chronic_ObstrPulmonary_Frac',\n",
       "       'Chronic_Depression_Frac', 'Chronic_Diabetes_Frac',\n",
       "       'Chronic_IschemicHeart_Frac', 'Chronic_Osteoporasis_Frac',\n",
       "       'Chronic_rheumatoidarthritis_Frac', 'Chronic_stroke_Frac',\n",
       "       'Deceased_Frac', 'MaxDiagCodeNumPerClaim',\n",
       "       'MeanDiagCodeNumPerClaim', 'MaxProcCodeNumPerClaim',\n",
       "       'MeanProcCodeNumPerClaim', 'TotalDiagCodeNum', 'TotalProcCodeNum',\n",
       "       'MeanHighFreqDiagCodeNumPerClaim',\n",
       "       'MeanMediumHighFreqDiagCodeNumPerClaim',\n",
       "       'MeanMediumFreqDiagCodeNumPerClaim',\n",
       "       'MeanLowFreqDiagCodeNumPerClaim',\n",
       "       'MeanRareFreqDiagCodeNumPerClaim',\n",
       "       'TotalHighFreqProcCodeNumPerClaim',\n",
       "       'TotalMediumHighFreqProcCodeNumPerClaim',\n",
       "       'TotalMediumFreqProcCodeNumPerClaim',\n",
       "       'TotalLowFreqProcCodeNumPerClaim',\n",
       "       'TotalRareFreqProcCodeNumPerClaim', 'totalDiagCode_4019',\n",
       "       'totalDiagCode_25000', 'totalDiagCode_2724', 'totalDiagCode_V5869',\n",
       "       'totalDiagCode_4011', 'totalDiagCode_42731', 'totalDiagCode_V5861',\n",
       "       'totalDiagCode_2720', 'totalDiagCode_2449', 'totalDiagCode_4280',\n",
       "       'totalDiagCode_53081', 'totalDiagCode_41401', 'totalDiagCode_496',\n",
       "       'totalDiagCode_2589', 'totalDiagCode_41400', 'totalDiagCode_Other',\n",
       "       'totalProcCode_4019', 'totalProcCode_9904', 'totalProcCode_2724',\n",
       "       'totalProcCode_8154', 'totalProcCode_66', 'totalProcCode_3893',\n",
       "       'totalProcCode_3995', 'totalProcCode_4516', 'totalProcCode_3722',\n",
       "       'totalProcCode_8151', 'totalProcCode_8872', 'totalProcCode_9671',\n",
       "       'totalProcCode_4513', 'totalProcCode_5849', 'totalProcCode_9390',\n",
       "       'totalProcCode_Other', 'TotalTeDiagCode', 'TotalTeProcCode'],\n",
       "      dtype=object)"
      ]
     },
     "execution_count": 43,
     "metadata": {},
     "output_type": "execute_result"
    }
   ],
   "source": [
    "# get importance\n",
    "importances = model.named_steps['logreg'].coef_[0]\n",
    "features = model.feature_names_in_\n",
    "features"
   ]
  },
  {
   "cell_type": "code",
   "execution_count": 44,
   "id": "e235a2c5",
   "metadata": {
    "scrolled": false
   },
   "outputs": [
    {
     "data": {
      "text/plain": [
       "TotalTeDiagCode                      3.265147\n",
       "MaxDiagCodeNumPerClaim               2.507657\n",
       "TotalTeProcCode                      2.055888\n",
       "MaxHospitalDays                      1.122853\n",
       "ClmsperBene                          0.531460\n",
       "                                       ...   \n",
       "MeanDiagCodeNumPerClaim             -0.608089\n",
       "MedianHospitalDays                  -0.928990\n",
       "MeanMediumFreqDiagCodeNumPerClaim   -0.939771\n",
       "MajorRace                           -1.221571\n",
       "MeanProcCodeNumPerClaim             -1.821892\n",
       "Length: 104, dtype: float64"
      ]
     },
     "execution_count": 44,
     "metadata": {},
     "output_type": "execute_result"
    }
   ],
   "source": [
    "logreg_importances = pd.Series(importances, index = features)\n",
    "logreg_importances.sort_values(ascending = False)"
   ]
  },
  {
   "cell_type": "code",
   "execution_count": 45,
   "id": "86a21195",
   "metadata": {},
   "outputs": [],
   "source": [
    "logreg_importances.to_csv('logreg_featureimportance_default.csv')"
   ]
  },
  {
   "cell_type": "code",
   "execution_count": 46,
   "id": "e1fd4ee6",
   "metadata": {},
   "outputs": [
    {
     "data": {
      "text/plain": [
       "<AxesSubplot:title={'center':'Feature Importance'}>"
      ]
     },
     "execution_count": 46,
     "metadata": {},
     "output_type": "execute_result"
    },
    {
     "data": {
      "image/png": "[encoded data removed]",
      "text/plain": [
       "<Figure size 1080x432 with 1 Axes>"
      ]
     },
     "metadata": {
      "needs_background": "light"
     },
     "output_type": "display_data"
    }
   ],
   "source": [
    "fig = plt.figure(figsize = (15,6))\n",
    "logreg_importances.plot.bar(title = 'Feature Importance')"
   ]
  },
  {
   "cell_type": "code",
   "execution_count": 47,
   "id": "f79ff4d8",
   "metadata": {},
   "outputs": [],
   "source": [
    "# summarize feature importance\n",
    "# for i,v in enumerate(importances):\n",
    "#     print('Feature: {:0d}, Score: {:.3f}'.format(i,v))\n",
    "# # plot feature importance\n",
    "# plt.figure(figsize=(15,4))\n",
    "# plt.bar([x for x in range(len(importances))], importances)\n",
    "# plt.title('Feature Importance')\n",
    "\n",
    "# plt.show()"
   ]
  },
  {
   "cell_type": "markdown",
   "id": "78ef7f1b",
   "metadata": {},
   "source": [
    "### 3. Modeling with balanced class weights and HyperParameter Tuning\n",
    "Set class_weight in Logistic Regression and retrain the model."
   ]
  },
  {
   "cell_type": "code",
   "execution_count": 48,
   "id": "738c531a",
   "metadata": {},
   "outputs": [],
   "source": [
    "# from sklearn.metrics import make_scorer\n",
    "\n",
    "# def pr_auc_score(y_true, y_score):\n",
    "#     \"\"\"\n",
    "#     Generates the Area Under the Curve for precision and recall.\n",
    "#     \"\"\"\n",
    "#     precision, recall, thresholds = \\\n",
    "#         precision_recall_curve(y_true, y_score[:, 1])\n",
    "    \n",
    "#     return auc(recall, precision, reorder=True)\n",
    "\n",
    "# pr_auc_scorer = make_scorer(pr_auc_score, greater_is_better=True,needs_proba=True)"
   ]
  },
  {
   "cell_type": "code",
   "execution_count": 49,
   "id": "d31ce36b",
   "metadata": {
    "scrolled": true
   },
   "outputs": [
    {
     "data": {
      "text/plain": [
       "GridSearchCV(cv=5,\n",
       "             estimator=Pipeline(steps=[('rescale', StandardScaler()),\n",
       "                                       ('logreg',\n",
       "                                        LogisticRegression(class_weight='balanced',\n",
       "                                                           max_iter=10000,\n",
       "                                                           random_state=42))]),\n",
       "             param_grid={'logreg__C': [10, 1.0, 0.1, 0.01, 0.005],\n",
       "                         'logreg__penalty': ['l2'],\n",
       "                         'logreg__solver': ['newton-cg', 'lbfgs', 'liblinear',\n",
       "                                            'sag', 'saga']},\n",
       "             scoring='average_precision')"
      ]
     },
     "execution_count": 49,
     "metadata": {},
     "output_type": "execute_result"
    }
   ],
   "source": [
    "from sklearn.model_selection import GridSearchCV\n",
    "param_grid = {'logreg__C':[10, 1.0, 0.1, 0.01,0.005],'logreg__penalty':['l2'], 'logreg__solver':['newton-cg','lbfgs','liblinear','sag','saga']}\n",
    "\n",
    "steps2 = [('rescale', StandardScaler()), \n",
    "          ('logreg', LogisticRegression(class_weight = 'balanced',random_state=42,max_iter=10000))]\n",
    "model2 = Pipeline(steps2)\n",
    "\n",
    "model2_gsv = GridSearchCV(model2,param_grid,cv = 5, scoring = 'average_precision')\n",
    "#average_precision_score is similar to the aucpr, but is actually a rectangular approximation, see https://datascience.stackexchange.com/questions/52130/about-sklearn-metrics-average-precision-score-documentation\n",
    "# model2_gsv = GridSearchCV(model2,param_grid,cv = 3, scoring = pr_auc_scorer)\n",
    "model2_gsv.fit(X_train, y_train)"
   ]
  },
  {
   "cell_type": "code",
   "execution_count": 50,
   "id": "e7dfdbcd",
   "metadata": {
    "scrolled": true
   },
   "outputs": [
    {
     "data": {
      "text/plain": [
       "{'logreg__C': 0.1, 'logreg__penalty': 'l2', 'logreg__solver': 'newton-cg'}"
      ]
     },
     "execution_count": 50,
     "metadata": {},
     "output_type": "execute_result"
    }
   ],
   "source": [
    "model2_gsv.best_params_"
   ]
  },
  {
   "cell_type": "code",
   "execution_count": 52,
   "id": "e732683d",
   "metadata": {},
   "outputs": [],
   "source": [
    "steps2 = [('rescale', StandardScaler()), \n",
    "          ('logreg', LogisticRegression(C = 0.1, penalty = 'l2', solver = 'newton-cg', class_weight = 'balanced',random_state=42,max_iter=10000))]\n",
    "model2 = Pipeline(steps2)"
   ]
  },
  {
   "cell_type": "code",
   "execution_count": 53,
   "id": "98ca8e23",
   "metadata": {},
   "outputs": [],
   "source": [
    "train_scores2 = cross_val_score(model2, X_train, y_train, scoring = 'average_precision', cv=5)"
   ]
  },
  {
   "cell_type": "code",
   "execution_count": 54,
   "id": "3bc1322a",
   "metadata": {},
   "outputs": [
    {
     "data": {
      "text/plain": [
       "array([0.88174766, 0.86323815, 0.80278395, 0.73953828, 0.75776653])"
      ]
     },
     "execution_count": 54,
     "metadata": {},
     "output_type": "execute_result"
    }
   ],
   "source": [
    "train_scores2"
   ]
  },
  {
   "cell_type": "code",
   "execution_count": 55,
   "id": "5801c014",
   "metadata": {},
   "outputs": [
    {
     "data": {
      "text/plain": [
       "0.8090149141291929"
      ]
     },
     "execution_count": 55,
     "metadata": {},
     "output_type": "execute_result"
    }
   ],
   "source": [
    "train_scores2.mean()"
   ]
  },
  {
   "cell_type": "code",
   "execution_count": 56,
   "id": "d095362f",
   "metadata": {},
   "outputs": [
    {
     "data": {
      "text/plain": [
       "Pipeline(steps=[('rescale', StandardScaler()),\n",
       "                ('logreg',\n",
       "                 LogisticRegression(C=0.1, class_weight='balanced',\n",
       "                                    max_iter=10000, random_state=42,\n",
       "                                    solver='newton-cg'))])"
      ]
     },
     "execution_count": 56,
     "metadata": {},
     "output_type": "execute_result"
    }
   ],
   "source": [
    "model2.fit(X_train, y_train)"
   ]
  },
  {
   "cell_type": "code",
   "execution_count": 57,
   "id": "f169ab3f",
   "metadata": {},
   "outputs": [],
   "source": [
    "y_train_pred2 = model2.predict(X_train)"
   ]
  },
  {
   "cell_type": "code",
   "execution_count": 58,
   "id": "997dffa1",
   "metadata": {},
   "outputs": [],
   "source": [
    "y_train_proba2 = model2.predict_proba(X_train)"
   ]
  },
  {
   "cell_type": "code",
   "execution_count": 59,
   "id": "3e3add4e",
   "metadata": {},
   "outputs": [],
   "source": [
    "y_test_pred2 = model2.predict(X_test)"
   ]
  },
  {
   "cell_type": "code",
   "execution_count": 60,
   "id": "23d84667",
   "metadata": {},
   "outputs": [
    {
     "data": {
      "text/plain": [
       "12"
      ]
     },
     "execution_count": 60,
     "metadata": {},
     "output_type": "execute_result"
    }
   ],
   "source": [
    "y_test_pred2.sum()"
   ]
  },
  {
   "cell_type": "code",
   "execution_count": 61,
   "id": "b6fb615f",
   "metadata": {},
   "outputs": [],
   "source": [
    "y_test_proba2 = model2.predict_proba(X_test)"
   ]
  },
  {
   "cell_type": "code",
   "execution_count": 62,
   "id": "d170f842",
   "metadata": {},
   "outputs": [
    {
     "name": "stdout",
     "output_type": "stream",
     "text": [
      "------------------Train----------------\n",
      "              precision    recall  f1-score   support\n",
      "\n",
      "           0       0.99      0.92      0.96      3925\n",
      "           1       0.56      0.94      0.70       403\n",
      "\n",
      "    accuracy                           0.92      4328\n",
      "   macro avg       0.77      0.93      0.83      4328\n",
      "weighted avg       0.95      0.92      0.93      4328\n",
      "\n",
      "------------------Test----------------\n",
      "              precision    recall  f1-score   support\n",
      "\n",
      "           0       0.91      1.00      0.95       979\n",
      "           1       0.92      0.11      0.19       103\n",
      "\n",
      "    accuracy                           0.91      1082\n",
      "   macro avg       0.92      0.55      0.57      1082\n",
      "weighted avg       0.91      0.91      0.88      1082\n",
      "\n"
     ]
    }
   ],
   "source": [
    "print('------------------Train----------------')\n",
    "print(classification_report(y_train, y_train_pred2))\n",
    "print('------------------Test----------------')\n",
    "print(classification_report(y_test, y_test_pred2))"
   ]
  },
  {
   "cell_type": "code",
   "execution_count": 63,
   "id": "5e693c86",
   "metadata": {},
   "outputs": [
    {
     "name": "stdout",
     "output_type": "stream",
     "text": [
      "roc_auc_score for the train dataset: 0.98\n",
      "roc_auc_score for the test dataset: 0.99\n"
     ]
    }
   ],
   "source": [
    "roc_auc_score_train2 = roc_auc_score(y_train, model2.predict_proba(X_train)[:, 1])  \n",
    "roc_auc_score_test2 = roc_auc_score(y_test, model2.predict_proba(X_test)[:, 1])\n",
    "print('roc_auc_score for the train dataset: {:.2f}'.format(roc_auc_score_train2))\n",
    "print('roc_auc_score for the test dataset: {:.2f}'.format(roc_auc_score_test2))"
   ]
  },
  {
   "cell_type": "code",
   "execution_count": 64,
   "id": "b2a89371",
   "metadata": {},
   "outputs": [
    {
     "name": "stdout",
     "output_type": "stream",
     "text": [
      "min threshold:0.00 max threshold:1.00\n",
      "Train PR-AUC is 0.85\n"
     ]
    }
   ],
   "source": [
    "y_train_score2 = y_train_proba2[:, 1]\n",
    "precision2, recall2, thresholds2 = precision_recall_curve(y_train, y_train_score2)\n",
    "auc_precision_recall2 = auc(recall2, precision2)\n",
    "print('min threshold:{:.2f}'.format(min(thresholds2)), 'max threshold:{:.2f}'.format(max(thresholds2)))\n",
    "print('Train PR-AUC is {:.2f}'.format(auc_precision_recall2))"
   ]
  },
  {
   "cell_type": "code",
   "execution_count": 65,
   "id": "72b005e8",
   "metadata": {},
   "outputs": [
    {
     "name": "stdout",
     "output_type": "stream",
     "text": [
      "Test PR-AUC is 0.92\n",
      "min threshold:0.00 max threshold:0.98\n"
     ]
    },
    {
     "data": {
      "image/png": "[encoded data removed]",
      "text/plain": [
       "<Figure size 432x288 with 1 Axes>"
      ]
     },
     "metadata": {
      "needs_background": "light"
     },
     "output_type": "display_data"
    }
   ],
   "source": [
    "y_score2 = y_test_proba2[:, 1]\n",
    "precision2, recall2, thresholds2 = precision_recall_curve(y_test, y_score2)\n",
    "auc_precision_recall2 = auc(recall2, precision2)\n",
    "print('Test PR-AUC is {:.2f}'.format(auc_precision_recall2))\n",
    "\n",
    "print('min threshold:{:.2f}'.format(min(thresholds2)), 'max threshold:{:.2f}'.format(max(thresholds2)))\n",
    "\n",
    "plt.plot(recall2, precision2)\n",
    "plt.xlabel('Recall(Positive label:1)')\n",
    "plt.ylabel('Precision(Positive label:1)')\n",
    "plt.title('Precision-Recall Curve')\n",
    "plt.show()"
   ]
  },
  {
   "cell_type": "code",
   "execution_count": 66,
   "id": "b24545cf",
   "metadata": {
    "scrolled": true
   },
   "outputs": [
    {
     "data": {
      "text/plain": [
       "TotalTeDiagCode                   2.286210\n",
       "TotalTeProcCode                   1.217291\n",
       "MaxHospitalDays                   1.194729\n",
       "MaxDiagCodeNumPerClaim            0.985291\n",
       "ClmsperBene                       0.535640\n",
       "                                    ...   \n",
       "MeanLowFreqDiagCodeNumPerClaim   -0.375553\n",
       "MajorRace                        -0.405068\n",
       "uniqBeneCount                    -0.451041\n",
       "MedianHospitalDays               -0.743125\n",
       "MeanProcCodeNumPerClaim          -0.889669\n",
       "Length: 104, dtype: float64"
      ]
     },
     "execution_count": 66,
     "metadata": {},
     "output_type": "execute_result"
    }
   ],
   "source": [
    "importances2 = model2.named_steps['logreg'].coef_[0]\n",
    "features = model2.feature_names_in_\n",
    "logreg_importances2 = pd.Series(importances2, index = features)\n",
    "logreg_importances2.sort_values(ascending = False)"
   ]
  },
  {
   "cell_type": "code",
   "execution_count": 67,
   "id": "dbb3e3e0",
   "metadata": {},
   "outputs": [],
   "source": [
    "logreg_importances2.to_csv('logreg_featureimportance_balanced.csv')"
   ]
  },
  {
   "cell_type": "code",
   "execution_count": 68,
   "id": "da869cef",
   "metadata": {},
   "outputs": [
    {
     "data": {
      "text/plain": [
       "<AxesSubplot:title={'center':'Feature Importance with balanced class weight'}>"
      ]
     },
     "execution_count": 68,
     "metadata": {},
     "output_type": "execute_result"
    },
    {
     "data": {
      "image/png": "[encoded data removed]",
      "text/plain": [
       "<Figure size 1080x432 with 1 Axes>"
      ]
     },
     "metadata": {
      "needs_background": "light"
     },
     "output_type": "display_data"
    }
   ],
   "source": [
    "fig = plt.figure(figsize = (15,6))\n",
    "logreg_importances2.plot.bar(title = 'Feature Importance with balanced class weight')"
   ]
  },
  {
   "cell_type": "code",
   "execution_count": 69,
   "id": "42dfb160",
   "metadata": {
    "scrolled": true
   },
   "outputs": [],
   "source": [
    "# # get importance\n",
    "# importances2 = model2.named_steps['logreg'].coef_[0]\n",
    "# # summarize feature importance\n",
    "# for i,v in enumerate(importances2):\n",
    "#     print('Feature: {:0d}, Score: {:.3f}'.format(i,v))\n",
    "# # plot feature importance\n",
    "# plt.figure(figsize=(15,4))\n",
    "# plt.bar([x for x in range(len(importances2))], importances2)\n",
    "# plt.title('Feature Importance')"
   ]
  },
  {
   "cell_type": "markdown",
   "id": "1690949b",
   "metadata": {},
   "source": [
    "### 4. Downsampling to 70:30"
   ]
  },
  {
   "cell_type": "code",
   "execution_count": 70,
   "id": "614b2509",
   "metadata": {},
   "outputs": [],
   "source": [
    "from sklearn.utils import resample #Resample arrays or sparse matrices in a consistent way"
   ]
  },
  {
   "cell_type": "code",
   "execution_count": 71,
   "id": "3bb8e658",
   "metadata": {},
   "outputs": [
    {
     "data": {
      "text/plain": [
       "numpy.ndarray"
      ]
     },
     "execution_count": 71,
     "metadata": {},
     "output_type": "execute_result"
    }
   ],
   "source": [
    "type(y_train)"
   ]
  },
  {
   "cell_type": "code",
   "execution_count": 72,
   "id": "5ea6d277",
   "metadata": {
    "scrolled": true
   },
   "outputs": [
    {
     "data": {
      "text/plain": [
       "Provider\n",
       "PRV51001    0\n",
       "PRV51004    0\n",
       "PRV51005    1\n",
       "PRV51008    0\n",
       "PRV51011    0\n",
       "           ..\n",
       "PRV57758    0\n",
       "PRV57759    0\n",
       "PRV57760    0\n",
       "PRV57761    0\n",
       "PRV57763    0\n",
       "Name: PotentialFraud, Length: 4328, dtype: int64"
      ]
     },
     "execution_count": 72,
     "metadata": {},
     "output_type": "execute_result"
    }
   ],
   "source": [
    "# Concat X_train with y_train on axis = 1 first\n",
    "# only Series and DataFrame objs are valid. So need to convert y_train to Series. \n",
    "target_train = pd.Series(y_train)\n",
    "target_train.name = \"PotentialFraud\"\n",
    "target_train.index = X_train.index\n",
    "target_train"
   ]
  },
  {
   "cell_type": "code",
   "execution_count": 73,
   "id": "61a686a3",
   "metadata": {},
   "outputs": [],
   "source": [
    "df_train = pd.concat([X_train,target_train],axis = 1)"
   ]
  },
  {
   "cell_type": "code",
   "execution_count": 74,
   "id": "8f1941d0",
   "metadata": {
    "scrolled": true
   },
   "outputs": [],
   "source": [
    "df_train_nonfraud = df_train[df_train.PotentialFraud == 0]\n",
    "df_train_fraud = df_train[df_train.PotentialFraud == 1]"
   ]
  },
  {
   "cell_type": "code",
   "execution_count": 75,
   "id": "917fa7ef",
   "metadata": {},
   "outputs": [],
   "source": [
    "df_train_nf_downsampled = resample(df_train_nonfraud, \n",
    "                                  replace=False,    # sample without replacement\n",
    "                                  n_samples=940,     # to match the ratio of 70/30\n",
    "                                  random_state=42)"
   ]
  },
  {
   "cell_type": "code",
   "execution_count": 76,
   "id": "5ec0e8f8",
   "metadata": {},
   "outputs": [],
   "source": [
    "# Combine minority class with downsampled majority class\n",
    "df_train_downsampled = pd.concat([df_train_nf_downsampled, df_train_fraud])"
   ]
  },
  {
   "cell_type": "code",
   "execution_count": 77,
   "id": "ae9eb911",
   "metadata": {
    "scrolled": false
   },
   "outputs": [
    {
     "data": {
      "text/plain": [
       "0    940\n",
       "1    403\n",
       "Name: PotentialFraud, dtype: int64"
      ]
     },
     "execution_count": 77,
     "metadata": {},
     "output_type": "execute_result"
    }
   ],
   "source": [
    "# Display new class counts\n",
    "df_train_downsampled.PotentialFraud.value_counts()"
   ]
  },
  {
   "cell_type": "code",
   "execution_count": 78,
   "id": "f3f03078",
   "metadata": {},
   "outputs": [],
   "source": [
    "#df_train_downsampled.to_csv('data/df_train_downsampled7030.csv')"
   ]
  },
  {
   "cell_type": "code",
   "execution_count": 79,
   "id": "3e691d74",
   "metadata": {},
   "outputs": [
    {
     "data": {
      "text/html": [
       "<div>\n",
       "<style scoped>\n",
       "    .dataframe tbody tr th:only-of-type {\n",
       "        vertical-align: middle;\n",
       "    }\n",
       "\n",
       "    .dataframe tbody tr th {\n",
       "        vertical-align: top;\n",
       "    }\n",
       "\n",
       "    .dataframe thead th {\n",
       "        text-align: right;\n",
       "    }\n",
       "</style>\n",
       "<table border=\"1\" class=\"dataframe\">\n",
       "  <thead>\n",
       "    <tr style=\"text-align: right;\">\n",
       "      <th></th>\n",
       "      <th>DeductibleAmtPaid_mean</th>\n",
       "      <th>DeductibleAmtPaid_max</th>\n",
       "      <th>NoOfMonths_PartACov_mean</th>\n",
       "      <th>NoOfMonths_PartBCov_mean</th>\n",
       "      <th>OPAnnualReimbursementAmt_mean</th>\n",
       "      <th>OPAnnualReimbursementAmt_max</th>\n",
       "      <th>OPAnnualReimbursementAmt_sum</th>\n",
       "      <th>OPAnnualDeductibleAmt_mean</th>\n",
       "      <th>OPAnnualDeductibleAmt_max</th>\n",
       "      <th>OPAnnualDeductibleAmt_sum</th>\n",
       "      <th>...</th>\n",
       "      <th>totalProcCode_3722</th>\n",
       "      <th>totalProcCode_8151</th>\n",
       "      <th>totalProcCode_8872</th>\n",
       "      <th>totalProcCode_9671</th>\n",
       "      <th>totalProcCode_4513</th>\n",
       "      <th>totalProcCode_5849</th>\n",
       "      <th>totalProcCode_9390</th>\n",
       "      <th>totalProcCode_Other</th>\n",
       "      <th>TotalTeDiagCode</th>\n",
       "      <th>TotalTeProcCode</th>\n",
       "    </tr>\n",
       "    <tr>\n",
       "      <th>Provider</th>\n",
       "      <th></th>\n",
       "      <th></th>\n",
       "      <th></th>\n",
       "      <th></th>\n",
       "      <th></th>\n",
       "      <th></th>\n",
       "      <th></th>\n",
       "      <th></th>\n",
       "      <th></th>\n",
       "      <th></th>\n",
       "      <th></th>\n",
       "      <th></th>\n",
       "      <th></th>\n",
       "      <th></th>\n",
       "      <th></th>\n",
       "      <th></th>\n",
       "      <th></th>\n",
       "      <th></th>\n",
       "      <th></th>\n",
       "      <th></th>\n",
       "      <th></th>\n",
       "    </tr>\n",
       "  </thead>\n",
       "  <tbody>\n",
       "    <tr>\n",
       "      <th>PRV57014</th>\n",
       "      <td>4.605263</td>\n",
       "      <td>100.0</td>\n",
       "      <td>12.0</td>\n",
       "      <td>12.0</td>\n",
       "      <td>2027.368421</td>\n",
       "      <td>9990</td>\n",
       "      <td>154080</td>\n",
       "      <td>585.394737</td>\n",
       "      <td>3670</td>\n",
       "      <td>44490</td>\n",
       "      <td>...</td>\n",
       "      <td>0</td>\n",
       "      <td>0</td>\n",
       "      <td>0</td>\n",
       "      <td>0</td>\n",
       "      <td>0</td>\n",
       "      <td>0</td>\n",
       "      <td>0</td>\n",
       "      <td>380</td>\n",
       "      <td>1.134432</td>\n",
       "      <td>1.161067</td>\n",
       "    </tr>\n",
       "    <tr>\n",
       "      <th>PRV51796</th>\n",
       "      <td>0.000000</td>\n",
       "      <td>0.0</td>\n",
       "      <td>12.0</td>\n",
       "      <td>12.0</td>\n",
       "      <td>537.500000</td>\n",
       "      <td>1420</td>\n",
       "      <td>2150</td>\n",
       "      <td>287.500000</td>\n",
       "      <td>730</td>\n",
       "      <td>1150</td>\n",
       "      <td>...</td>\n",
       "      <td>0</td>\n",
       "      <td>0</td>\n",
       "      <td>0</td>\n",
       "      <td>0</td>\n",
       "      <td>0</td>\n",
       "      <td>0</td>\n",
       "      <td>0</td>\n",
       "      <td>20</td>\n",
       "      <td>1.142180</td>\n",
       "      <td>1.161067</td>\n",
       "    </tr>\n",
       "    <tr>\n",
       "      <th>PRV57659</th>\n",
       "      <td>0.000000</td>\n",
       "      <td>0.0</td>\n",
       "      <td>12.0</td>\n",
       "      <td>12.0</td>\n",
       "      <td>2730.000000</td>\n",
       "      <td>2730</td>\n",
       "      <td>2730</td>\n",
       "      <td>290.000000</td>\n",
       "      <td>290</td>\n",
       "      <td>290</td>\n",
       "      <td>...</td>\n",
       "      <td>0</td>\n",
       "      <td>0</td>\n",
       "      <td>0</td>\n",
       "      <td>0</td>\n",
       "      <td>0</td>\n",
       "      <td>0</td>\n",
       "      <td>0</td>\n",
       "      <td>5</td>\n",
       "      <td>1.086076</td>\n",
       "      <td>1.161067</td>\n",
       "    </tr>\n",
       "    <tr>\n",
       "      <th>PRV57234</th>\n",
       "      <td>404.250000</td>\n",
       "      <td>1068.0</td>\n",
       "      <td>12.0</td>\n",
       "      <td>12.0</td>\n",
       "      <td>1955.833333</td>\n",
       "      <td>6920</td>\n",
       "      <td>46940</td>\n",
       "      <td>535.833333</td>\n",
       "      <td>1530</td>\n",
       "      <td>12860</td>\n",
       "      <td>...</td>\n",
       "      <td>0</td>\n",
       "      <td>0</td>\n",
       "      <td>0</td>\n",
       "      <td>0</td>\n",
       "      <td>0</td>\n",
       "      <td>0</td>\n",
       "      <td>0</td>\n",
       "      <td>120</td>\n",
       "      <td>1.273112</td>\n",
       "      <td>1.203269</td>\n",
       "    </tr>\n",
       "    <tr>\n",
       "      <th>PRV54597</th>\n",
       "      <td>0.666667</td>\n",
       "      <td>10.0</td>\n",
       "      <td>12.0</td>\n",
       "      <td>12.0</td>\n",
       "      <td>1986.000000</td>\n",
       "      <td>5470</td>\n",
       "      <td>29790</td>\n",
       "      <td>490.666667</td>\n",
       "      <td>1610</td>\n",
       "      <td>7360</td>\n",
       "      <td>...</td>\n",
       "      <td>0</td>\n",
       "      <td>0</td>\n",
       "      <td>0</td>\n",
       "      <td>0</td>\n",
       "      <td>0</td>\n",
       "      <td>0</td>\n",
       "      <td>0</td>\n",
       "      <td>75</td>\n",
       "      <td>1.175212</td>\n",
       "      <td>1.161067</td>\n",
       "    </tr>\n",
       "  </tbody>\n",
       "</table>\n",
       "<p>5 rows × 104 columns</p>\n",
       "</div>"
      ],
      "text/plain": [
       "          DeductibleAmtPaid_mean  DeductibleAmtPaid_max  \\\n",
       "Provider                                                  \n",
       "PRV57014                4.605263                  100.0   \n",
       "PRV51796                0.000000                    0.0   \n",
       "PRV57659                0.000000                    0.0   \n",
       "PRV57234              404.250000                 1068.0   \n",
       "PRV54597                0.666667                   10.0   \n",
       "\n",
       "          NoOfMonths_PartACov_mean  NoOfMonths_PartBCov_mean  \\\n",
       "Provider                                                       \n",
       "PRV57014                      12.0                      12.0   \n",
       "PRV51796                      12.0                      12.0   \n",
       "PRV57659                      12.0                      12.0   \n",
       "PRV57234                      12.0                      12.0   \n",
       "PRV54597                      12.0                      12.0   \n",
       "\n",
       "          OPAnnualReimbursementAmt_mean  OPAnnualReimbursementAmt_max  \\\n",
       "Provider                                                                \n",
       "PRV57014                    2027.368421                          9990   \n",
       "PRV51796                     537.500000                          1420   \n",
       "PRV57659                    2730.000000                          2730   \n",
       "PRV57234                    1955.833333                          6920   \n",
       "PRV54597                    1986.000000                          5470   \n",
       "\n",
       "          OPAnnualReimbursementAmt_sum  OPAnnualDeductibleAmt_mean  \\\n",
       "Provider                                                             \n",
       "PRV57014                        154080                  585.394737   \n",
       "PRV51796                          2150                  287.500000   \n",
       "PRV57659                          2730                  290.000000   \n",
       "PRV57234                         46940                  535.833333   \n",
       "PRV54597                         29790                  490.666667   \n",
       "\n",
       "          OPAnnualDeductibleAmt_max  OPAnnualDeductibleAmt_sum  ...  \\\n",
       "Provider                                                        ...   \n",
       "PRV57014                       3670                      44490  ...   \n",
       "PRV51796                        730                       1150  ...   \n",
       "PRV57659                        290                        290  ...   \n",
       "PRV57234                       1530                      12860  ...   \n",
       "PRV54597                       1610                       7360  ...   \n",
       "\n",
       "          totalProcCode_3722  totalProcCode_8151  totalProcCode_8872  \\\n",
       "Provider                                                               \n",
       "PRV57014                   0                   0                   0   \n",
       "PRV51796                   0                   0                   0   \n",
       "PRV57659                   0                   0                   0   \n",
       "PRV57234                   0                   0                   0   \n",
       "PRV54597                   0                   0                   0   \n",
       "\n",
       "          totalProcCode_9671  totalProcCode_4513  totalProcCode_5849  \\\n",
       "Provider                                                               \n",
       "PRV57014                   0                   0                   0   \n",
       "PRV51796                   0                   0                   0   \n",
       "PRV57659                   0                   0                   0   \n",
       "PRV57234                   0                   0                   0   \n",
       "PRV54597                   0                   0                   0   \n",
       "\n",
       "          totalProcCode_9390  totalProcCode_Other  TotalTeDiagCode  \\\n",
       "Provider                                                             \n",
       "PRV57014                   0                  380         1.134432   \n",
       "PRV51796                   0                   20         1.142180   \n",
       "PRV57659                   0                    5         1.086076   \n",
       "PRV57234                   0                  120         1.273112   \n",
       "PRV54597                   0                   75         1.175212   \n",
       "\n",
       "          TotalTeProcCode  \n",
       "Provider                   \n",
       "PRV57014         1.161067  \n",
       "PRV51796         1.161067  \n",
       "PRV57659         1.161067  \n",
       "PRV57234         1.203269  \n",
       "PRV54597         1.161067  \n",
       "\n",
       "[5 rows x 104 columns]"
      ]
     },
     "execution_count": 79,
     "metadata": {},
     "output_type": "execute_result"
    }
   ],
   "source": [
    "#Split X_train and y_train\n",
    "X_train_downsampled = df_train_downsampled.iloc[:,:-1]\n",
    "X_train_downsampled.head()"
   ]
  },
  {
   "cell_type": "code",
   "execution_count": 80,
   "id": "608a6380",
   "metadata": {},
   "outputs": [],
   "source": [
    "y_train_downsampled = df_train_downsampled.iloc[:,-1]"
   ]
  },
  {
   "cell_type": "markdown",
   "id": "db953ec5",
   "metadata": {},
   "source": [
    "### Re-run logistic regression model"
   ]
  },
  {
   "cell_type": "code",
   "execution_count": 81,
   "id": "bb5a650a",
   "metadata": {},
   "outputs": [
    {
     "data": {
      "text/plain": [
       "array([0.55133758, 5.36972705])"
      ]
     },
     "execution_count": 81,
     "metadata": {},
     "output_type": "execute_result"
    }
   ],
   "source": [
    "from sklearn.utils.class_weight import compute_class_weight\n",
    "compute_class_weight(class_weight = 'balanced', classes = np.unique(df_train.PotentialFraud),y = df_train.PotentialFraud)"
   ]
  },
  {
   "cell_type": "code",
   "execution_count": 82,
   "id": "1f701483",
   "metadata": {},
   "outputs": [
    {
     "data": {
      "text/plain": [
       "array([0, 1])"
      ]
     },
     "execution_count": 82,
     "metadata": {},
     "output_type": "execute_result"
    }
   ],
   "source": [
    "classes = np.unique(df_train.PotentialFraud)\n",
    "classes"
   ]
  },
  {
   "cell_type": "code",
   "execution_count": 83,
   "id": "3f8f9281",
   "metadata": {},
   "outputs": [
    {
     "data": {
      "text/plain": [
       "2.302127694574468"
      ]
     },
     "execution_count": 83,
     "metadata": {},
     "output_type": "execute_result"
    }
   ],
   "source": [
    "# to upweight the downsampled class \n",
    "# example weight = original weight * downsampling factor \n",
    "# class 1 (minority) no change \n",
    "# class 0 (majority)\n",
    "0.551337588*(3925/940)"
   ]
  },
  {
   "cell_type": "code",
   "execution_count": 84,
   "id": "9e3cbd34",
   "metadata": {
    "scrolled": true
   },
   "outputs": [
    {
     "data": {
      "text/plain": [
       "{'logreg__C': [10, 1.0, 0.1, 0.01, 0.005],\n",
       " 'logreg__penalty': ['l2'],\n",
       " 'logreg__solver': ['newton-cg', 'lbfgs', 'liblinear', 'sag', 'saga']}"
      ]
     },
     "execution_count": 84,
     "metadata": {},
     "output_type": "execute_result"
    }
   ],
   "source": [
    "param_grid"
   ]
  },
  {
   "cell_type": "code",
   "execution_count": 85,
   "id": "dab4bcb5",
   "metadata": {},
   "outputs": [],
   "source": [
    "steps = [('rescale', StandardScaler()), \n",
    "         ('logreg', LogisticRegression(class_weight ={0:2.302127694574468,1:5.36972705},random_state=42,max_iter=10000))]\n",
    "model3 = Pipeline(steps)"
   ]
  },
  {
   "cell_type": "code",
   "execution_count": 86,
   "id": "7963f129",
   "metadata": {
    "scrolled": true
   },
   "outputs": [
    {
     "data": {
      "text/plain": [
       "GridSearchCV(cv=5,\n",
       "             estimator=Pipeline(steps=[('rescale', StandardScaler()),\n",
       "                                       ('logreg',\n",
       "                                        LogisticRegression(class_weight={0: 2.302127694574468,\n",
       "                                                                         1: 5.36972705},\n",
       "                                                           max_iter=10000,\n",
       "                                                           random_state=42))]),\n",
       "             param_grid={'logreg__C': [5, 1.0, 0.1], 'logreg__penalty': ['l2'],\n",
       "                         'logreg__solver': ['newton-cg', 'lbfgs', 'liblinear',\n",
       "                                            'sag', 'saga']},\n",
       "             scoring='average_precision')"
      ]
     },
     "execution_count": 86,
     "metadata": {},
     "output_type": "execute_result"
    }
   ],
   "source": [
    "param_grid3 = {'logreg__C': [5,1.0,0.1],\n",
    "                 'logreg__penalty': ['l2'],\n",
    "                 'logreg__solver': ['newton-cg', 'lbfgs', 'liblinear', 'sag', 'saga']}\n",
    "model3_gsv = GridSearchCV(model3,param_grid3,cv = 5, scoring = 'average_precision')\n",
    "model3_gsv.fit(X_train_downsampled, y_train_downsampled)"
   ]
  },
  {
   "cell_type": "code",
   "execution_count": 87,
   "id": "1d4af2f8",
   "metadata": {},
   "outputs": [
    {
     "data": {
      "text/plain": [
       "{'logreg__C': 1.0, 'logreg__penalty': 'l2', 'logreg__solver': 'sag'}"
      ]
     },
     "execution_count": 87,
     "metadata": {},
     "output_type": "execute_result"
    }
   ],
   "source": [
    "model3_gsv.best_params_\n",
    "# if we use cv=3, {'logreg__C': 0.01, 'logreg__penalty': 'l2', 'logreg__solver': 'liblinear'}"
   ]
  },
  {
   "cell_type": "code",
   "execution_count": 88,
   "id": "90b01d23",
   "metadata": {},
   "outputs": [],
   "source": [
    "steps = [('rescale', StandardScaler()), \n",
    "         ('logreg', LogisticRegression(C = 1.0, penalty = 'l2', solver = 'sag',class_weight ={0:2.302127694574468,1:5.36972705},random_state=42,max_iter=10000))]\n",
    "model3 = Pipeline(steps)\n",
    "train_scores3 = cross_val_score(model3, X_train_downsampled, y_train_downsampled, scoring = 'average_precision', cv=5)"
   ]
  },
  {
   "cell_type": "code",
   "execution_count": 89,
   "id": "00e26489",
   "metadata": {},
   "outputs": [
    {
     "data": {
      "text/plain": [
       "array([0.91095865, 0.93516949, 0.90974198, 0.95714936, 0.93615189])"
      ]
     },
     "execution_count": 89,
     "metadata": {},
     "output_type": "execute_result"
    }
   ],
   "source": [
    "train_scores3"
   ]
  },
  {
   "cell_type": "code",
   "execution_count": 90,
   "id": "9d09076a",
   "metadata": {},
   "outputs": [
    {
     "data": {
      "text/plain": [
       "0.9298342758597193"
      ]
     },
     "execution_count": 90,
     "metadata": {},
     "output_type": "execute_result"
    }
   ],
   "source": [
    "train_scores3.mean()"
   ]
  },
  {
   "cell_type": "code",
   "execution_count": 91,
   "id": "5e10b5e9",
   "metadata": {},
   "outputs": [
    {
     "data": {
      "text/plain": [
       "Pipeline(steps=[('rescale', StandardScaler()),\n",
       "                ('logreg',\n",
       "                 LogisticRegression(class_weight={0: 2.302127694574468,\n",
       "                                                  1: 5.36972705},\n",
       "                                    max_iter=10000, random_state=42,\n",
       "                                    solver='sag'))])"
      ]
     },
     "execution_count": 91,
     "metadata": {},
     "output_type": "execute_result"
    }
   ],
   "source": [
    "model3.fit(X_train_downsampled, y_train_downsampled)"
   ]
  },
  {
   "cell_type": "code",
   "execution_count": 92,
   "id": "248b85e3",
   "metadata": {},
   "outputs": [],
   "source": [
    "y_test_pred = model3.predict(X_test)"
   ]
  },
  {
   "cell_type": "code",
   "execution_count": 93,
   "id": "e7b30c03",
   "metadata": {},
   "outputs": [],
   "source": [
    "y_test_proba = model3.predict_proba(X_test)"
   ]
  },
  {
   "cell_type": "code",
   "execution_count": 94,
   "id": "d9cebfee",
   "metadata": {},
   "outputs": [],
   "source": [
    "y_train_downsampled_pred = model3.predict(X_train_downsampled)\n",
    "y_train_downsampled_proba = model3.predict_proba(X_train_downsampled)"
   ]
  },
  {
   "cell_type": "code",
   "execution_count": 95,
   "id": "cdc54c1c",
   "metadata": {},
   "outputs": [
    {
     "name": "stdout",
     "output_type": "stream",
     "text": [
      "------------------Train----------------\n",
      "              precision    recall  f1-score   support\n",
      "\n",
      "           0       0.98      0.94      0.96       940\n",
      "           1       0.87      0.96      0.91       403\n",
      "\n",
      "    accuracy                           0.94      1343\n",
      "   macro avg       0.93      0.95      0.94      1343\n",
      "weighted avg       0.95      0.94      0.95      1343\n",
      "\n",
      "------------------Test----------------\n",
      "              precision    recall  f1-score   support\n",
      "\n",
      "           0       0.91      1.00      0.95       979\n",
      "           1       1.00      0.01      0.02       103\n",
      "\n",
      "    accuracy                           0.91      1082\n",
      "   macro avg       0.95      0.50      0.48      1082\n",
      "weighted avg       0.91      0.91      0.86      1082\n",
      "\n"
     ]
    }
   ],
   "source": [
    "print('------------------Train----------------')\n",
    "print(classification_report(y_train_downsampled, y_train_downsampled_pred ))\n",
    "print('------------------Test----------------')\n",
    "print(classification_report(y_test, y_test_pred))"
   ]
  },
  {
   "cell_type": "code",
   "execution_count": 96,
   "id": "4f40bcc4",
   "metadata": {},
   "outputs": [
    {
     "name": "stdout",
     "output_type": "stream",
     "text": [
      "roc_auc_score for the train dataset: 0.98\n",
      "roc_auc_score for the test dataset: 0.98\n"
     ]
    }
   ],
   "source": [
    "roc_auc_score_train = roc_auc_score(y_train_downsampled, model.predict_proba(X_train_downsampled)[:, 1])  \n",
    "roc_auc_score_test = roc_auc_score(y_test, model.predict_proba(X_test)[:, 1])\n",
    "print('roc_auc_score for the train dataset: {:.2f}'.format(roc_auc_score_train))\n",
    "print('roc_auc_score for the test dataset: {:.2f}'.format(roc_auc_score_test))"
   ]
  },
  {
   "cell_type": "code",
   "execution_count": 97,
   "id": "b1d6e16d",
   "metadata": {},
   "outputs": [
    {
     "name": "stdout",
     "output_type": "stream",
     "text": [
      "Downsampled Train PR-AUC is 0.98\n"
     ]
    }
   ],
   "source": [
    "y_train_downsampled_score = y_train_downsampled_proba[:, 1]\n",
    "precision, recall, thresholds = precision_recall_curve(y_train_downsampled, y_train_downsampled_score)\n",
    "auc_precision_recall = auc(recall, precision)\n",
    "print('Downsampled Train PR-AUC is {:.2f}'.format(auc_precision_recall))"
   ]
  },
  {
   "cell_type": "code",
   "execution_count": 98,
   "id": "1ac63151",
   "metadata": {},
   "outputs": [
    {
     "name": "stdout",
     "output_type": "stream",
     "text": [
      "Test PR-AUC is 0.89\n"
     ]
    }
   ],
   "source": [
    "y_score = y_test_proba[:, 1]\n",
    "precision, recall, thresholds = precision_recall_curve(y_test, y_score)\n",
    "auc_precision_recall = auc(recall, precision)\n",
    "print('Test PR-AUC is {:.2f}'.format(auc_precision_recall))"
   ]
  },
  {
   "cell_type": "code",
   "execution_count": 99,
   "id": "03b00516",
   "metadata": {
    "scrolled": true
   },
   "outputs": [
    {
     "data": {
      "text/plain": [
       "TotalTeDiagCode            4.606109\n",
       "TotalTeProcCode            4.044605\n",
       "MaxHospitalDays            1.868663\n",
       "MaxDiagCodeNumPerClaim     1.343495\n",
       "totalDiagCode_2589         1.151035\n",
       "                             ...   \n",
       "totalDiagCode_53081       -1.127511\n",
       "MedianHospitalDays        -1.171164\n",
       "uniqBeneCount             -1.469536\n",
       "MajorRace                 -2.971503\n",
       "MeanProcCodeNumPerClaim   -3.387465\n",
       "Length: 104, dtype: float64"
      ]
     },
     "execution_count": 99,
     "metadata": {},
     "output_type": "execute_result"
    }
   ],
   "source": [
    "importances3 = model3.named_steps['logreg'].coef_[0]\n",
    "features = model3.feature_names_in_\n",
    "logreg_importances3 = pd.Series(importances3, index = features)\n",
    "logreg_importances3.sort_values(ascending = False)"
   ]
  },
  {
   "cell_type": "code",
   "execution_count": 100,
   "id": "182f03bf",
   "metadata": {},
   "outputs": [],
   "source": [
    "logreg_importances3.to_csv('logreg_featureimportance_7030_l2.csv')"
   ]
  },
  {
   "cell_type": "code",
   "execution_count": 101,
   "id": "4574b527",
   "metadata": {
    "scrolled": true
   },
   "outputs": [
    {
     "data": {
      "text/plain": [
       "<AxesSubplot:title={'center':'Feature Importance with Downsampling 70/30'}>"
      ]
     },
     "execution_count": 101,
     "metadata": {},
     "output_type": "execute_result"
    },
    {
     "data": {
      "image/png": "[encoded data removed]",
      "text/plain": [
       "<Figure size 1080x432 with 1 Axes>"
      ]
     },
     "metadata": {
      "needs_background": "light"
     },
     "output_type": "display_data"
    }
   ],
   "source": [
    "fig = plt.figure(figsize = (15,6))\n",
    "logreg_importances3.plot.bar(title = 'Feature Importance with Downsampling 70/30')"
   ]
  },
  {
   "cell_type": "markdown",
   "id": "d2ae608e",
   "metadata": {},
   "source": [
    "### 5. Downsampling to 50:50"
   ]
  },
  {
   "cell_type": "code",
   "execution_count": 102,
   "id": "96c5ea94",
   "metadata": {},
   "outputs": [],
   "source": [
    "# The number of nonfraud samples needed if to downsample majority class to 50/50\n",
    "df_train_nf_downsampled2 = resample(df_train_nonfraud, \n",
    "                                  replace=False,    # sample without replacement\n",
    "                                  n_samples=403,     # to match the ratio of 50/50\n",
    "                                  random_state=42)"
   ]
  },
  {
   "cell_type": "code",
   "execution_count": 103,
   "id": "33de0bf1",
   "metadata": {},
   "outputs": [],
   "source": [
    "df_train_downsampled5050 = pd.concat([df_train_nf_downsampled2, df_train_fraud])"
   ]
  },
  {
   "cell_type": "code",
   "execution_count": 104,
   "id": "05afa028",
   "metadata": {},
   "outputs": [
    {
     "data": {
      "text/plain": [
       "0    403\n",
       "1    403\n",
       "Name: PotentialFraud, dtype: int64"
      ]
     },
     "execution_count": 104,
     "metadata": {},
     "output_type": "execute_result"
    }
   ],
   "source": [
    "df_train_downsampled5050.PotentialFraud.value_counts()"
   ]
  },
  {
   "cell_type": "code",
   "execution_count": 105,
   "id": "6e643f9c",
   "metadata": {},
   "outputs": [],
   "source": [
    "#df_train_downsampled5050.to_csv('data/df_train_downsampled5050.csv')"
   ]
  },
  {
   "cell_type": "code",
   "execution_count": 106,
   "id": "8ed198eb",
   "metadata": {},
   "outputs": [
    {
     "data": {
      "text/html": [
       "<div>\n",
       "<style scoped>\n",
       "    .dataframe tbody tr th:only-of-type {\n",
       "        vertical-align: middle;\n",
       "    }\n",
       "\n",
       "    .dataframe tbody tr th {\n",
       "        vertical-align: top;\n",
       "    }\n",
       "\n",
       "    .dataframe thead th {\n",
       "        text-align: right;\n",
       "    }\n",
       "</style>\n",
       "<table border=\"1\" class=\"dataframe\">\n",
       "  <thead>\n",
       "    <tr style=\"text-align: right;\">\n",
       "      <th></th>\n",
       "      <th>DeductibleAmtPaid_mean</th>\n",
       "      <th>DeductibleAmtPaid_max</th>\n",
       "      <th>NoOfMonths_PartACov_mean</th>\n",
       "      <th>NoOfMonths_PartBCov_mean</th>\n",
       "      <th>OPAnnualReimbursementAmt_mean</th>\n",
       "      <th>OPAnnualReimbursementAmt_max</th>\n",
       "      <th>OPAnnualReimbursementAmt_sum</th>\n",
       "      <th>OPAnnualDeductibleAmt_mean</th>\n",
       "      <th>OPAnnualDeductibleAmt_max</th>\n",
       "      <th>OPAnnualDeductibleAmt_sum</th>\n",
       "      <th>...</th>\n",
       "      <th>totalProcCode_3722</th>\n",
       "      <th>totalProcCode_8151</th>\n",
       "      <th>totalProcCode_8872</th>\n",
       "      <th>totalProcCode_9671</th>\n",
       "      <th>totalProcCode_4513</th>\n",
       "      <th>totalProcCode_5849</th>\n",
       "      <th>totalProcCode_9390</th>\n",
       "      <th>totalProcCode_Other</th>\n",
       "      <th>TotalTeDiagCode</th>\n",
       "      <th>TotalTeProcCode</th>\n",
       "    </tr>\n",
       "    <tr>\n",
       "      <th>Provider</th>\n",
       "      <th></th>\n",
       "      <th></th>\n",
       "      <th></th>\n",
       "      <th></th>\n",
       "      <th></th>\n",
       "      <th></th>\n",
       "      <th></th>\n",
       "      <th></th>\n",
       "      <th></th>\n",
       "      <th></th>\n",
       "      <th></th>\n",
       "      <th></th>\n",
       "      <th></th>\n",
       "      <th></th>\n",
       "      <th></th>\n",
       "      <th></th>\n",
       "      <th></th>\n",
       "      <th></th>\n",
       "      <th></th>\n",
       "      <th></th>\n",
       "      <th></th>\n",
       "    </tr>\n",
       "  </thead>\n",
       "  <tbody>\n",
       "    <tr>\n",
       "      <th>PRV57014</th>\n",
       "      <td>4.605263</td>\n",
       "      <td>100.0</td>\n",
       "      <td>12.0</td>\n",
       "      <td>12.0</td>\n",
       "      <td>2027.368421</td>\n",
       "      <td>9990</td>\n",
       "      <td>154080</td>\n",
       "      <td>585.394737</td>\n",
       "      <td>3670</td>\n",
       "      <td>44490</td>\n",
       "      <td>...</td>\n",
       "      <td>0</td>\n",
       "      <td>0</td>\n",
       "      <td>0</td>\n",
       "      <td>0</td>\n",
       "      <td>0</td>\n",
       "      <td>0</td>\n",
       "      <td>0</td>\n",
       "      <td>380</td>\n",
       "      <td>1.134432</td>\n",
       "      <td>1.161067</td>\n",
       "    </tr>\n",
       "    <tr>\n",
       "      <th>PRV51796</th>\n",
       "      <td>0.000000</td>\n",
       "      <td>0.0</td>\n",
       "      <td>12.0</td>\n",
       "      <td>12.0</td>\n",
       "      <td>537.500000</td>\n",
       "      <td>1420</td>\n",
       "      <td>2150</td>\n",
       "      <td>287.500000</td>\n",
       "      <td>730</td>\n",
       "      <td>1150</td>\n",
       "      <td>...</td>\n",
       "      <td>0</td>\n",
       "      <td>0</td>\n",
       "      <td>0</td>\n",
       "      <td>0</td>\n",
       "      <td>0</td>\n",
       "      <td>0</td>\n",
       "      <td>0</td>\n",
       "      <td>20</td>\n",
       "      <td>1.142180</td>\n",
       "      <td>1.161067</td>\n",
       "    </tr>\n",
       "    <tr>\n",
       "      <th>PRV57659</th>\n",
       "      <td>0.000000</td>\n",
       "      <td>0.0</td>\n",
       "      <td>12.0</td>\n",
       "      <td>12.0</td>\n",
       "      <td>2730.000000</td>\n",
       "      <td>2730</td>\n",
       "      <td>2730</td>\n",
       "      <td>290.000000</td>\n",
       "      <td>290</td>\n",
       "      <td>290</td>\n",
       "      <td>...</td>\n",
       "      <td>0</td>\n",
       "      <td>0</td>\n",
       "      <td>0</td>\n",
       "      <td>0</td>\n",
       "      <td>0</td>\n",
       "      <td>0</td>\n",
       "      <td>0</td>\n",
       "      <td>5</td>\n",
       "      <td>1.086076</td>\n",
       "      <td>1.161067</td>\n",
       "    </tr>\n",
       "    <tr>\n",
       "      <th>PRV57234</th>\n",
       "      <td>404.250000</td>\n",
       "      <td>1068.0</td>\n",
       "      <td>12.0</td>\n",
       "      <td>12.0</td>\n",
       "      <td>1955.833333</td>\n",
       "      <td>6920</td>\n",
       "      <td>46940</td>\n",
       "      <td>535.833333</td>\n",
       "      <td>1530</td>\n",
       "      <td>12860</td>\n",
       "      <td>...</td>\n",
       "      <td>0</td>\n",
       "      <td>0</td>\n",
       "      <td>0</td>\n",
       "      <td>0</td>\n",
       "      <td>0</td>\n",
       "      <td>0</td>\n",
       "      <td>0</td>\n",
       "      <td>120</td>\n",
       "      <td>1.273112</td>\n",
       "      <td>1.203269</td>\n",
       "    </tr>\n",
       "    <tr>\n",
       "      <th>PRV54597</th>\n",
       "      <td>0.666667</td>\n",
       "      <td>10.0</td>\n",
       "      <td>12.0</td>\n",
       "      <td>12.0</td>\n",
       "      <td>1986.000000</td>\n",
       "      <td>5470</td>\n",
       "      <td>29790</td>\n",
       "      <td>490.666667</td>\n",
       "      <td>1610</td>\n",
       "      <td>7360</td>\n",
       "      <td>...</td>\n",
       "      <td>0</td>\n",
       "      <td>0</td>\n",
       "      <td>0</td>\n",
       "      <td>0</td>\n",
       "      <td>0</td>\n",
       "      <td>0</td>\n",
       "      <td>0</td>\n",
       "      <td>75</td>\n",
       "      <td>1.175212</td>\n",
       "      <td>1.161067</td>\n",
       "    </tr>\n",
       "  </tbody>\n",
       "</table>\n",
       "<p>5 rows × 104 columns</p>\n",
       "</div>"
      ],
      "text/plain": [
       "          DeductibleAmtPaid_mean  DeductibleAmtPaid_max  \\\n",
       "Provider                                                  \n",
       "PRV57014                4.605263                  100.0   \n",
       "PRV51796                0.000000                    0.0   \n",
       "PRV57659                0.000000                    0.0   \n",
       "PRV57234              404.250000                 1068.0   \n",
       "PRV54597                0.666667                   10.0   \n",
       "\n",
       "          NoOfMonths_PartACov_mean  NoOfMonths_PartBCov_mean  \\\n",
       "Provider                                                       \n",
       "PRV57014                      12.0                      12.0   \n",
       "PRV51796                      12.0                      12.0   \n",
       "PRV57659                      12.0                      12.0   \n",
       "PRV57234                      12.0                      12.0   \n",
       "PRV54597                      12.0                      12.0   \n",
       "\n",
       "          OPAnnualReimbursementAmt_mean  OPAnnualReimbursementAmt_max  \\\n",
       "Provider                                                                \n",
       "PRV57014                    2027.368421                          9990   \n",
       "PRV51796                     537.500000                          1420   \n",
       "PRV57659                    2730.000000                          2730   \n",
       "PRV57234                    1955.833333                          6920   \n",
       "PRV54597                    1986.000000                          5470   \n",
       "\n",
       "          OPAnnualReimbursementAmt_sum  OPAnnualDeductibleAmt_mean  \\\n",
       "Provider                                                             \n",
       "PRV57014                        154080                  585.394737   \n",
       "PRV51796                          2150                  287.500000   \n",
       "PRV57659                          2730                  290.000000   \n",
       "PRV57234                         46940                  535.833333   \n",
       "PRV54597                         29790                  490.666667   \n",
       "\n",
       "          OPAnnualDeductibleAmt_max  OPAnnualDeductibleAmt_sum  ...  \\\n",
       "Provider                                                        ...   \n",
       "PRV57014                       3670                      44490  ...   \n",
       "PRV51796                        730                       1150  ...   \n",
       "PRV57659                        290                        290  ...   \n",
       "PRV57234                       1530                      12860  ...   \n",
       "PRV54597                       1610                       7360  ...   \n",
       "\n",
       "          totalProcCode_3722  totalProcCode_8151  totalProcCode_8872  \\\n",
       "Provider                                                               \n",
       "PRV57014                   0                   0                   0   \n",
       "PRV51796                   0                   0                   0   \n",
       "PRV57659                   0                   0                   0   \n",
       "PRV57234                   0                   0                   0   \n",
       "PRV54597                   0                   0                   0   \n",
       "\n",
       "          totalProcCode_9671  totalProcCode_4513  totalProcCode_5849  \\\n",
       "Provider                                                               \n",
       "PRV57014                   0                   0                   0   \n",
       "PRV51796                   0                   0                   0   \n",
       "PRV57659                   0                   0                   0   \n",
       "PRV57234                   0                   0                   0   \n",
       "PRV54597                   0                   0                   0   \n",
       "\n",
       "          totalProcCode_9390  totalProcCode_Other  TotalTeDiagCode  \\\n",
       "Provider                                                             \n",
       "PRV57014                   0                  380         1.134432   \n",
       "PRV51796                   0                   20         1.142180   \n",
       "PRV57659                   0                    5         1.086076   \n",
       "PRV57234                   0                  120         1.273112   \n",
       "PRV54597                   0                   75         1.175212   \n",
       "\n",
       "          TotalTeProcCode  \n",
       "Provider                   \n",
       "PRV57014         1.161067  \n",
       "PRV51796         1.161067  \n",
       "PRV57659         1.161067  \n",
       "PRV57234         1.203269  \n",
       "PRV54597         1.161067  \n",
       "\n",
       "[5 rows x 104 columns]"
      ]
     },
     "execution_count": 106,
     "metadata": {},
     "output_type": "execute_result"
    }
   ],
   "source": [
    "X_train_downsampled2 = df_train_downsampled5050.iloc[:,:-1]\n",
    "X_train_downsampled2.head()"
   ]
  },
  {
   "cell_type": "code",
   "execution_count": 107,
   "id": "569acd5c",
   "metadata": {},
   "outputs": [],
   "source": [
    "y_train_downsampled2 = df_train_downsampled5050.iloc[:,-1]"
   ]
  },
  {
   "cell_type": "code",
   "execution_count": 108,
   "id": "36a420ba",
   "metadata": {},
   "outputs": [
    {
     "data": {
      "text/plain": [
       "(806, 104)"
      ]
     },
     "metadata": {},
     "output_type": "display_data"
    },
    {
     "data": {
      "text/plain": [
       "(806,)"
      ]
     },
     "metadata": {},
     "output_type": "display_data"
    }
   ],
   "source": [
    "display(X_train_downsampled2.shape, y_train_downsampled2.shape)"
   ]
  },
  {
   "cell_type": "markdown",
   "id": "30f7e6b0",
   "metadata": {},
   "source": [
    "### Re-run logistic regression model"
   ]
  },
  {
   "cell_type": "code",
   "execution_count": 109,
   "id": "cbac51b1",
   "metadata": {},
   "outputs": [
    {
     "data": {
      "text/plain": [
       "5.369727050868486"
      ]
     },
     "execution_count": 109,
     "metadata": {},
     "output_type": "execute_result"
    }
   ],
   "source": [
    "# the class weight for class 0 after downsampling \n",
    "0.55133758*(3925/403)"
   ]
  },
  {
   "cell_type": "code",
   "execution_count": 110,
   "id": "585a3c15",
   "metadata": {},
   "outputs": [],
   "source": [
    "steps = [('rescale', StandardScaler()), \n",
    "         ('logreg', LogisticRegression(class_weight ={0:5.369727050868486,1:5.36972705},random_state=42,max_iter=1000000))]\n",
    "model4 = Pipeline(steps)"
   ]
  },
  {
   "cell_type": "code",
   "execution_count": 111,
   "id": "e4c24aed",
   "metadata": {},
   "outputs": [
    {
     "data": {
      "text/plain": [
       "GridSearchCV(cv=5,\n",
       "             estimator=Pipeline(steps=[('rescale', StandardScaler()),\n",
       "                                       ('logreg',\n",
       "                                        LogisticRegression(class_weight={0: 5.369727050868486,\n",
       "                                                                         1: 5.36972705},\n",
       "                                                           max_iter=1000000,\n",
       "                                                           random_state=42))]),\n",
       "             param_grid={'logreg__C': [1.0, 0.1, 0.01, 0.005, 0.001],\n",
       "                         'logreg__penalty': ['l2'],\n",
       "                         'logreg__solver': ['newton-cg', 'lbfgs', 'liblinear',\n",
       "                                            'sag', 'saga']},\n",
       "             scoring='average_precision')"
      ]
     },
     "execution_count": 111,
     "metadata": {},
     "output_type": "execute_result"
    }
   ],
   "source": [
    "param_grid4 = {'logreg__C': [1.0, 0.1, 0.01, 0.005,0.001],\n",
    "                 'logreg__penalty': ['l2'],\n",
    "                 'logreg__solver': ['newton-cg', 'lbfgs', 'liblinear', 'sag', 'saga']}\n",
    "model4_gsv = GridSearchCV(model4,param_grid4,cv = 5, scoring = 'average_precision')\n",
    "model4_gsv.fit(X_train_downsampled2, y_train_downsampled2)"
   ]
  },
  {
   "cell_type": "code",
   "execution_count": 112,
   "id": "91e60fe0",
   "metadata": {},
   "outputs": [
    {
     "data": {
      "text/plain": [
       "{'logreg__C': 0.1, 'logreg__penalty': 'l2', 'logreg__solver': 'saga'}"
      ]
     },
     "execution_count": 112,
     "metadata": {},
     "output_type": "execute_result"
    }
   ],
   "source": [
    "model4_gsv.best_params_\n",
    "# cv= 3 {'logreg__C': 0.01, 'logreg__penalty': 'l2', 'logreg__solver': 'newton-cg'}"
   ]
  },
  {
   "cell_type": "code",
   "execution_count": 113,
   "id": "be298794",
   "metadata": {},
   "outputs": [],
   "source": [
    "steps4 = [('rescale', StandardScaler()), \n",
    "         ('logreg', LogisticRegression(C=0.1, penalty = 'l2', solver = 'saga',class_weight ={0:5.369727050868486,1:5.36972705},random_state=42,max_iter=1000000))]\n",
    "model4 = Pipeline(steps4)"
   ]
  },
  {
   "cell_type": "code",
   "execution_count": 114,
   "id": "6424016f",
   "metadata": {},
   "outputs": [],
   "source": [
    "train_scores4 = cross_val_score(model4, X_train_downsampled2, y_train_downsampled2, scoring = 'average_precision', cv=5)"
   ]
  },
  {
   "cell_type": "code",
   "execution_count": 115,
   "id": "eb3a6a9f",
   "metadata": {},
   "outputs": [
    {
     "data": {
      "text/plain": [
       "array([0.98109492, 0.91417677, 0.97061229, 0.95148895, 0.97035573])"
      ]
     },
     "execution_count": 115,
     "metadata": {},
     "output_type": "execute_result"
    }
   ],
   "source": [
    "train_scores4"
   ]
  },
  {
   "cell_type": "code",
   "execution_count": 116,
   "id": "4423f82b",
   "metadata": {},
   "outputs": [
    {
     "data": {
      "text/plain": [
       "0.9575457316950369"
      ]
     },
     "execution_count": 116,
     "metadata": {},
     "output_type": "execute_result"
    }
   ],
   "source": [
    "train_scores4.mean()"
   ]
  },
  {
   "cell_type": "code",
   "execution_count": 117,
   "id": "ecd6fbd8",
   "metadata": {},
   "outputs": [
    {
     "data": {
      "text/plain": [
       "Pipeline(steps=[('rescale', StandardScaler()),\n",
       "                ('logreg',\n",
       "                 LogisticRegression(C=0.1,\n",
       "                                    class_weight={0: 5.369727050868486,\n",
       "                                                  1: 5.36972705},\n",
       "                                    max_iter=1000000, random_state=42,\n",
       "                                    solver='saga'))])"
      ]
     },
     "execution_count": 117,
     "metadata": {},
     "output_type": "execute_result"
    }
   ],
   "source": [
    "model4.fit(X_train_downsampled2, y_train_downsampled2)"
   ]
  },
  {
   "cell_type": "code",
   "execution_count": 118,
   "id": "a811a7c3",
   "metadata": {},
   "outputs": [],
   "source": [
    "y_test_pred = model4.predict(X_test)"
   ]
  },
  {
   "cell_type": "code",
   "execution_count": 119,
   "id": "bdc1782c",
   "metadata": {},
   "outputs": [],
   "source": [
    "y_test_proba = model4.predict_proba(X_test)"
   ]
  },
  {
   "cell_type": "code",
   "execution_count": 120,
   "id": "63f5d7e4",
   "metadata": {},
   "outputs": [],
   "source": [
    "y_train_downsampled_pred2 = model4.predict(X_train_downsampled2)\n",
    "y_train_downsampled_proba2 = model4.predict_proba(X_train_downsampled2)"
   ]
  },
  {
   "cell_type": "code",
   "execution_count": 121,
   "id": "a5ec3b7b",
   "metadata": {},
   "outputs": [
    {
     "name": "stdout",
     "output_type": "stream",
     "text": [
      "------------------Train----------------\n",
      "              precision    recall  f1-score   support\n",
      "\n",
      "           0       0.95      0.95      0.95       403\n",
      "           1       0.95      0.95      0.95       403\n",
      "\n",
      "    accuracy                           0.95       806\n",
      "   macro avg       0.95      0.95      0.95       806\n",
      "weighted avg       0.95      0.95      0.95       806\n",
      "\n",
      "------------------Test----------------\n",
      "              precision    recall  f1-score   support\n",
      "\n",
      "           0       0.91      1.00      0.95       979\n",
      "           1       1.00      0.04      0.07       103\n",
      "\n",
      "    accuracy                           0.91      1082\n",
      "   macro avg       0.95      0.52      0.51      1082\n",
      "weighted avg       0.92      0.91      0.87      1082\n",
      "\n"
     ]
    }
   ],
   "source": [
    "print('------------------Train----------------')\n",
    "print(classification_report(y_train_downsampled2, y_train_downsampled_pred2))\n",
    "print('------------------Test----------------')\n",
    "print(classification_report(y_test, y_test_pred))"
   ]
  },
  {
   "cell_type": "code",
   "execution_count": 122,
   "id": "416d7487",
   "metadata": {},
   "outputs": [
    {
     "name": "stdout",
     "output_type": "stream",
     "text": [
      "roc_auc_score for the train dataset: 0.98\n",
      "roc_auc_score for the test dataset: 0.98\n"
     ]
    }
   ],
   "source": [
    "roc_auc_score_train = roc_auc_score(y_train_downsampled2, model4.predict_proba(X_train_downsampled2)[:, 1])  \n",
    "roc_auc_score_test = roc_auc_score(y_test, model4.predict_proba(X_test)[:, 1])\n",
    "print('roc_auc_score for the train dataset: {:.2f}'.format(roc_auc_score_train))\n",
    "print('roc_auc_score for the test dataset: {:.2f}'.format(roc_auc_score_test))"
   ]
  },
  {
   "cell_type": "code",
   "execution_count": 123,
   "id": "8ad486fb",
   "metadata": {},
   "outputs": [
    {
     "name": "stdout",
     "output_type": "stream",
     "text": [
      "Train PR-AUC is 0.99\n"
     ]
    }
   ],
   "source": [
    "y_train_downsampled_score2 = y_train_downsampled_proba2[:, 1]\n",
    "precision, recall, thresholds = precision_recall_curve(y_train_downsampled2, y_train_downsampled_score2)\n",
    "auc_precision_recall = auc(recall, precision)\n",
    "print('Train PR-AUC is {:.2f}'.format(auc_precision_recall))"
   ]
  },
  {
   "cell_type": "code",
   "execution_count": 124,
   "id": "f3c42e6e",
   "metadata": {},
   "outputs": [
    {
     "name": "stdout",
     "output_type": "stream",
     "text": [
      "Test PR-AUC is 0.90\n"
     ]
    }
   ],
   "source": [
    "y_score = y_test_proba[:, 1]\n",
    "precision, recall, thresholds = precision_recall_curve(y_test, y_score)\n",
    "auc_precision_recall = auc(recall, precision)\n",
    "print('Test PR-AUC is {:.2f}'.format(auc_precision_recall))"
   ]
  },
  {
   "cell_type": "code",
   "execution_count": 125,
   "id": "0ce77b36",
   "metadata": {
    "scrolled": false
   },
   "outputs": [
    {
     "data": {
      "text/plain": [
       "TotalTeDiagCode                      3.203838\n",
       "MaxHospitalDays                      1.512142\n",
       "TotalTeProcCode                      1.287459\n",
       "ClmsperBene                          0.844447\n",
       "MaxDiagCodeNumPerClaim               0.644709\n",
       "                                       ...   \n",
       "MeanLowFreqDiagCodeNumPerClaim      -0.506861\n",
       "uniqBeneCount                       -0.532788\n",
       "MeanMediumFreqDiagCodeNumPerClaim   -0.590614\n",
       "MeanProcCodeNumPerClaim             -0.935908\n",
       "MedianHospitalDays                  -1.017729\n",
       "Length: 104, dtype: float64"
      ]
     },
     "execution_count": 125,
     "metadata": {},
     "output_type": "execute_result"
    }
   ],
   "source": [
    "importances4 = model4.named_steps['logreg'].coef_[0]\n",
    "features = model4.feature_names_in_\n",
    "logreg_importances4 = pd.Series(importances4, index = features)\n",
    "logreg_importances4.sort_values(ascending = False)"
   ]
  },
  {
   "cell_type": "code",
   "execution_count": 126,
   "id": "be579646",
   "metadata": {},
   "outputs": [],
   "source": [
    "logreg_importances4.to_csv('logreg_featureimportance_5050_l2.csv')"
   ]
  },
  {
   "cell_type": "code",
   "execution_count": 127,
   "id": "86f4fbcc",
   "metadata": {},
   "outputs": [
    {
     "data": {
      "text/plain": [
       "<AxesSubplot:title={'center':'Feature Importance with Downsampling 50/50'}>"
      ]
     },
     "execution_count": 127,
     "metadata": {},
     "output_type": "execute_result"
    },
    {
     "data": {
      "image/png": "[encoded data removed]",
      "text/plain": [
       "<Figure size 1080x432 with 1 Axes>"
      ]
     },
     "metadata": {
      "needs_background": "light"
     },
     "output_type": "display_data"
    }
   ],
   "source": [
    "fig = plt.figure(figsize = (15,6))\n",
    "logreg_importances4.plot.bar(title = 'Feature Importance with Downsampling 50/50')"
   ]
  },
  {
   "cell_type": "markdown",
   "id": "377b3886",
   "metadata": {},
   "source": [
    "### 5. Downsampling to 70 to 30 with L1 Penalty"
   ]
  },
  {
   "cell_type": "code",
   "execution_count": 128,
   "id": "7f01c5bb",
   "metadata": {},
   "outputs": [
    {
     "data": {
      "text/plain": [
       "0    940\n",
       "1    403\n",
       "Name: PotentialFraud, dtype: int64"
      ]
     },
     "execution_count": 128,
     "metadata": {},
     "output_type": "execute_result"
    }
   ],
   "source": [
    "df_train_downsampled.PotentialFraud.value_counts()"
   ]
  },
  {
   "cell_type": "code",
   "execution_count": 129,
   "id": "b30266ce",
   "metadata": {},
   "outputs": [],
   "source": [
    "#Split X_train and y_train\n",
    "X_train_downsampled = df_train_downsampled.iloc[:,:-1]"
   ]
  },
  {
   "cell_type": "code",
   "execution_count": 130,
   "id": "8a0403fb",
   "metadata": {},
   "outputs": [],
   "source": [
    "y_train_downsampled = df_train_downsampled.iloc[:,-1]"
   ]
  },
  {
   "cell_type": "code",
   "execution_count": 131,
   "id": "0fde1e72",
   "metadata": {},
   "outputs": [
    {
     "data": {
      "text/plain": [
       "(1343, 104)"
      ]
     },
     "metadata": {},
     "output_type": "display_data"
    },
    {
     "data": {
      "text/plain": [
       "(1343,)"
      ]
     },
     "metadata": {},
     "output_type": "display_data"
    }
   ],
   "source": [
    "display(X_train_downsampled.shape, y_train_downsampled.shape)"
   ]
  },
  {
   "cell_type": "code",
   "execution_count": 132,
   "id": "af96e551",
   "metadata": {},
   "outputs": [],
   "source": [
    "steps5 = [('rescale', StandardScaler()), \n",
    "         ('logreg', LogisticRegression(class_weight = {0:2.302127694574468,1:5.36972705},random_state=42,max_iter=10000))]\n",
    "model5 = Pipeline(steps5)"
   ]
  },
  {
   "cell_type": "code",
   "execution_count": 135,
   "id": "50215d70",
   "metadata": {},
   "outputs": [
    {
     "data": {
      "text/plain": [
       "GridSearchCV(cv=5,\n",
       "             estimator=Pipeline(steps=[('rescale', StandardScaler()),\n",
       "                                       ('logreg',\n",
       "                                        LogisticRegression(class_weight={0: 2.302127694574468,\n",
       "                                                                         1: 5.36972705},\n",
       "                                                           max_iter=10000,\n",
       "                                                           random_state=42))]),\n",
       "             param_grid={'logreg__C': [10, 5, 1.0, 0.1],\n",
       "                         'logreg__penalty': ['l1'],\n",
       "                         'logreg__solver': ['liblinear', 'saga']},\n",
       "             scoring='average_precision')"
      ]
     },
     "execution_count": 135,
     "metadata": {},
     "output_type": "execute_result"
    }
   ],
   "source": [
    "param_grid5 = {'logreg__C': [10, 5, 1.0, 0.1],\n",
    "                 'logreg__penalty': ['l1'],\n",
    "                 'logreg__solver': ['liblinear','saga']}\n",
    "model5_gsv = GridSearchCV(model5,param_grid5,cv = 5, scoring = 'average_precision')\n",
    "model5_gsv.fit(X_train_downsampled, y_train_downsampled)"
   ]
  },
  {
   "cell_type": "code",
   "execution_count": 136,
   "id": "52e7edba",
   "metadata": {},
   "outputs": [
    {
     "data": {
      "text/plain": [
       "{'logreg__C': 1.0, 'logreg__penalty': 'l1', 'logreg__solver': 'saga'}"
      ]
     },
     "execution_count": 136,
     "metadata": {},
     "output_type": "execute_result"
    }
   ],
   "source": [
    "model5_gsv.best_params_\n",
    "# cv = 3 {'logreg__C': 0.1, 'logreg__penalty': 'l1', 'logreg__solver': 'liblinear'}"
   ]
  },
  {
   "cell_type": "code",
   "execution_count": 137,
   "id": "a5b0d511",
   "metadata": {},
   "outputs": [],
   "source": [
    "steps5 = [('rescale', StandardScaler()), \n",
    "         ('logreg', LogisticRegression(C=1.0, penalty = 'l1', solver = 'saga',class_weight = {0:2.302127694574468,1:5.36972705},random_state=42,max_iter=10000))]\n",
    "model5 = Pipeline(steps5)"
   ]
  },
  {
   "cell_type": "code",
   "execution_count": 138,
   "id": "3e0d4bd0",
   "metadata": {},
   "outputs": [],
   "source": [
    "train_scores5 = cross_val_score(model5, X_train_downsampled, y_train_downsampled, scoring = 'average_precision', cv=5)"
   ]
  },
  {
   "cell_type": "code",
   "execution_count": 139,
   "id": "59820491",
   "metadata": {},
   "outputs": [
    {
     "data": {
      "text/plain": [
       "array([0.90926221, 0.9300786 , 0.91170085, 0.94971449, 0.9407194 ])"
      ]
     },
     "execution_count": 139,
     "metadata": {},
     "output_type": "execute_result"
    }
   ],
   "source": [
    "train_scores5"
   ]
  },
  {
   "cell_type": "code",
   "execution_count": 140,
   "id": "ad75926f",
   "metadata": {},
   "outputs": [
    {
     "data": {
      "text/plain": [
       "0.9282951096620445"
      ]
     },
     "execution_count": 140,
     "metadata": {},
     "output_type": "execute_result"
    }
   ],
   "source": [
    "train_scores5.mean()"
   ]
  },
  {
   "cell_type": "code",
   "execution_count": 141,
   "id": "903ab50d",
   "metadata": {},
   "outputs": [
    {
     "data": {
      "text/plain": [
       "Pipeline(steps=[('rescale', StandardScaler()),\n",
       "                ('logreg',\n",
       "                 LogisticRegression(class_weight={0: 2.302127694574468,\n",
       "                                                  1: 5.36972705},\n",
       "                                    max_iter=10000, penalty='l1',\n",
       "                                    random_state=42, solver='saga'))])"
      ]
     },
     "execution_count": 141,
     "metadata": {},
     "output_type": "execute_result"
    }
   ],
   "source": [
    "model5.fit(X_train_downsampled,y_train_downsampled)"
   ]
  },
  {
   "cell_type": "code",
   "execution_count": 142,
   "id": "e5f81e17",
   "metadata": {},
   "outputs": [],
   "source": [
    "y_train_downsampled_pred3 = model5.predict(X_train_downsampled)\n",
    "y_train_downsampled_proba3 = model5.predict_proba(X_train_downsampled)"
   ]
  },
  {
   "cell_type": "code",
   "execution_count": 143,
   "id": "f81b3737",
   "metadata": {},
   "outputs": [],
   "source": [
    "y_test_pred = model5.predict(X_test)\n",
    "y_test_proba = model5.predict_proba(X_test)"
   ]
  },
  {
   "cell_type": "code",
   "execution_count": 144,
   "id": "0278414c",
   "metadata": {},
   "outputs": [
    {
     "name": "stdout",
     "output_type": "stream",
     "text": [
      "------------------Train----------------\n",
      "              precision    recall  f1-score   support\n",
      "\n",
      "           0       0.98      0.94      0.96       940\n",
      "           1       0.87      0.96      0.91       403\n",
      "\n",
      "    accuracy                           0.95      1343\n",
      "   macro avg       0.93      0.95      0.94      1343\n",
      "weighted avg       0.95      0.95      0.95      1343\n",
      "\n",
      "------------------Test----------------\n",
      "              precision    recall  f1-score   support\n",
      "\n",
      "           0       0.91      1.00      0.95       979\n",
      "           1       1.00      0.01      0.02       103\n",
      "\n",
      "    accuracy                           0.91      1082\n",
      "   macro avg       0.95      0.50      0.48      1082\n",
      "weighted avg       0.91      0.91      0.86      1082\n",
      "\n"
     ]
    }
   ],
   "source": [
    "print('------------------Train----------------')\n",
    "print(classification_report(y_train_downsampled, y_train_downsampled_pred3))\n",
    "print('------------------Test----------------')\n",
    "print(classification_report(y_test, y_test_pred))"
   ]
  },
  {
   "cell_type": "code",
   "execution_count": 145,
   "id": "25d9d387",
   "metadata": {},
   "outputs": [
    {
     "name": "stdout",
     "output_type": "stream",
     "text": [
      "roc_auc_score for the downsampled train dataset: 0.99\n",
      "roc_auc_score for the test dataset: 0.98\n"
     ]
    }
   ],
   "source": [
    "roc_auc_score_train = roc_auc_score(y_train_downsampled, model5.predict_proba(X_train_downsampled)[:, 1])  \n",
    "roc_auc_score_test = roc_auc_score(y_test, model5.predict_proba(X_test)[:, 1])\n",
    "print('roc_auc_score for the downsampled train dataset: {:.2f}'.format(roc_auc_score_train))\n",
    "print('roc_auc_score for the test dataset: {:.2f}'.format(roc_auc_score_test))"
   ]
  },
  {
   "cell_type": "code",
   "execution_count": 146,
   "id": "3f786836",
   "metadata": {},
   "outputs": [
    {
     "name": "stdout",
     "output_type": "stream",
     "text": [
      "Train PR-AUC is 0.98\n"
     ]
    }
   ],
   "source": [
    "y_train_downsampled_score3 = y_train_downsampled_proba3[:, 1]\n",
    "precision, recall, thresholds = precision_recall_curve(y_train_downsampled, y_train_downsampled_score3)\n",
    "auc_precision_recall = auc(recall, precision)\n",
    "print('Train PR-AUC is {:.2f}'.format(auc_precision_recall))"
   ]
  },
  {
   "cell_type": "code",
   "execution_count": 147,
   "id": "80f4fafd",
   "metadata": {},
   "outputs": [
    {
     "name": "stdout",
     "output_type": "stream",
     "text": [
      "Test PR-AUC is 0.89\n"
     ]
    }
   ],
   "source": [
    "y_score = y_test_proba[:, 1]\n",
    "precision, recall, thresholds = precision_recall_curve(y_test, y_score)\n",
    "auc_precision_recall = auc(recall, precision)\n",
    "print('Test PR-AUC is {:.2f}'.format(auc_precision_recall))"
   ]
  },
  {
   "cell_type": "code",
   "execution_count": 148,
   "id": "99b2e35c",
   "metadata": {},
   "outputs": [
    {
     "data": {
      "text/plain": [
       "TotalTeDiagCode            4.923991\n",
       "TotalTeProcCode            4.712861\n",
       "MaxHospitalDays            1.932257\n",
       "MaxDiagCodeNumPerClaim     1.414033\n",
       "totalDiagCode_2589         1.229677\n",
       "                             ...   \n",
       "totalDiagCode_53081       -1.155973\n",
       "MedianHospitalDays        -1.194879\n",
       "uniqBeneCount             -1.396932\n",
       "MajorRace                 -3.398937\n",
       "MeanProcCodeNumPerClaim   -4.089077\n",
       "Length: 104, dtype: float64"
      ]
     },
     "execution_count": 148,
     "metadata": {},
     "output_type": "execute_result"
    }
   ],
   "source": [
    "importances5 = model5.named_steps['logreg'].coef_[0]\n",
    "features = model5.feature_names_in_\n",
    "logreg_importances5 = pd.Series(importances5, index = features)\n",
    "logreg_importances5.sort_values(ascending = False)"
   ]
  },
  {
   "cell_type": "code",
   "execution_count": 149,
   "id": "e6cc334c",
   "metadata": {},
   "outputs": [
    {
     "data": {
      "text/plain": [
       "<AxesSubplot:title={'center':'Feature Importance with Downsampling 70/30 - L1 penalty'}>"
      ]
     },
     "execution_count": 149,
     "metadata": {},
     "output_type": "execute_result"
    },
    {
     "data": {
      "image/png": "[encoded data removed]",
      "text/plain": [
       "<Figure size 1080x432 with 1 Axes>"
      ]
     },
     "metadata": {
      "needs_background": "light"
     },
     "output_type": "display_data"
    }
   ],
   "source": [
    "fig = plt.figure(figsize = (15,6))\n",
    "logreg_importances5.plot.bar(title = 'Feature Importance with Downsampling 70/30 - L1 penalty')"
   ]
  },
  {
   "cell_type": "code",
   "execution_count": 172,
   "id": "9730aa5d",
   "metadata": {},
   "outputs": [],
   "source": [
    "#logreg_importances5.to_csv('logreg_featureimportance_7030_l1.csv')"
   ]
  },
  {
   "cell_type": "code",
   "execution_count": null,
   "id": "042e50a4",
   "metadata": {},
   "outputs": [],
   "source": []
  }
 ],
 "metadata": {
  "kernelspec": {
   "display_name": "Python 3 (ipykernel)",
   "language": "python",
   "name": "python3"
  },
  "language_info": {
   "codemirror_mode": {
    "name": "ipython",
    "version": 3
   },
   "file_extension": ".py",
   "mimetype": "text/x-python",
   "name": "python",
   "nbconvert_exporter": "python",
   "pygments_lexer": "ipython3",
   "version": "3.9.12"
  }
 },
 "nbformat": 4,
 "nbformat_minor": 5
}
