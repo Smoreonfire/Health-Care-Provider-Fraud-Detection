{
 "cells": [
  {
   "cell_type": "code",
   "execution_count": 1,
   "id": "33884f41",
   "metadata": {},
   "outputs": [],
   "source": [
    "import pandas as pd\n",
    "import numpy as np\n",
    "import matplotlib.pyplot as plt\n",
    "%matplotlib inline"
   ]
  },
  {
   "cell_type": "markdown",
   "id": "10e3c11c",
   "metadata": {},
   "source": [
    "### 1. Import Data"
   ]
  },
  {
   "cell_type": "code",
   "execution_count": 2,
   "id": "cbda8103",
   "metadata": {},
   "outputs": [
    {
     "name": "stderr",
     "output_type": "stream",
     "text": [
      "/Users/redstockings/opt/anaconda3/lib/python3.9/site-packages/IPython/core/interactiveshell.py:3444: DtypeWarning: Columns (10,13,14,33) have mixed types.Specify dtype option on import or set low_memory=False.\n",
      "  exec(code_obj, self.user_global_ns, self.user_ns)\n"
     ]
    }
   ],
   "source": [
    "df_raw = pd.read_csv('data/Sample_Data.csv')"
   ]
  },
  {
   "cell_type": "code",
   "execution_count": 3,
   "id": "21b597fa",
   "metadata": {},
   "outputs": [
    {
     "data": {
      "text/html": [
       "<div>\n",
       "<style scoped>\n",
       "    .dataframe tbody tr th:only-of-type {\n",
       "        vertical-align: middle;\n",
       "    }\n",
       "\n",
       "    .dataframe tbody tr th {\n",
       "        vertical-align: top;\n",
       "    }\n",
       "\n",
       "    .dataframe thead th {\n",
       "        text-align: right;\n",
       "    }\n",
       "</style>\n",
       "<table border=\"1\" class=\"dataframe\">\n",
       "  <thead>\n",
       "    <tr style=\"text-align: right;\">\n",
       "      <th></th>\n",
       "      <th>Unnamed: 0</th>\n",
       "      <th>BeneID</th>\n",
       "      <th>ClaimID</th>\n",
       "      <th>ClaimStartDt</th>\n",
       "      <th>ClaimEndDt</th>\n",
       "      <th>Provider</th>\n",
       "      <th>InscClaimAmtReimbursed</th>\n",
       "      <th>AttendingPhysician</th>\n",
       "      <th>OperatingPhysician</th>\n",
       "      <th>OtherPhysician</th>\n",
       "      <th>...</th>\n",
       "      <th>ChronicCond_Diabetes</th>\n",
       "      <th>ChronicCond_IschemicHeart</th>\n",
       "      <th>ChronicCond_Osteoporasis</th>\n",
       "      <th>ChronicCond_rheumatoidarthritis</th>\n",
       "      <th>ChronicCond_stroke</th>\n",
       "      <th>IPAnnualReimbursementAmt</th>\n",
       "      <th>IPAnnualDeductibleAmt</th>\n",
       "      <th>OPAnnualReimbursementAmt</th>\n",
       "      <th>OPAnnualDeductibleAmt</th>\n",
       "      <th>PotentialFraud</th>\n",
       "    </tr>\n",
       "  </thead>\n",
       "  <tbody>\n",
       "    <tr>\n",
       "      <th>0</th>\n",
       "      <td>0</td>\n",
       "      <td>BENE11001</td>\n",
       "      <td>CLM46614</td>\n",
       "      <td>2009-04-12</td>\n",
       "      <td>2009-04-18</td>\n",
       "      <td>PRV55912</td>\n",
       "      <td>26000</td>\n",
       "      <td>PHY390922</td>\n",
       "      <td>NaN</td>\n",
       "      <td>NaN</td>\n",
       "      <td>...</td>\n",
       "      <td>1</td>\n",
       "      <td>1</td>\n",
       "      <td>2</td>\n",
       "      <td>1</td>\n",
       "      <td>1</td>\n",
       "      <td>36000</td>\n",
       "      <td>3204</td>\n",
       "      <td>60</td>\n",
       "      <td>70</td>\n",
       "      <td>Yes</td>\n",
       "    </tr>\n",
       "    <tr>\n",
       "      <th>1</th>\n",
       "      <td>1</td>\n",
       "      <td>BENE11001</td>\n",
       "      <td>CLM66048</td>\n",
       "      <td>2009-08-31</td>\n",
       "      <td>2009-09-02</td>\n",
       "      <td>PRV55907</td>\n",
       "      <td>5000</td>\n",
       "      <td>PHY318495</td>\n",
       "      <td>PHY318495</td>\n",
       "      <td>NaN</td>\n",
       "      <td>...</td>\n",
       "      <td>1</td>\n",
       "      <td>1</td>\n",
       "      <td>2</td>\n",
       "      <td>1</td>\n",
       "      <td>1</td>\n",
       "      <td>36000</td>\n",
       "      <td>3204</td>\n",
       "      <td>60</td>\n",
       "      <td>70</td>\n",
       "      <td>No</td>\n",
       "    </tr>\n",
       "    <tr>\n",
       "      <th>2</th>\n",
       "      <td>2</td>\n",
       "      <td>BENE11001</td>\n",
       "      <td>CLM68358</td>\n",
       "      <td>2009-09-17</td>\n",
       "      <td>2009-09-20</td>\n",
       "      <td>PRV56046</td>\n",
       "      <td>5000</td>\n",
       "      <td>PHY372395</td>\n",
       "      <td>NaN</td>\n",
       "      <td>PHY324689</td>\n",
       "      <td>...</td>\n",
       "      <td>1</td>\n",
       "      <td>1</td>\n",
       "      <td>2</td>\n",
       "      <td>1</td>\n",
       "      <td>1</td>\n",
       "      <td>36000</td>\n",
       "      <td>3204</td>\n",
       "      <td>60</td>\n",
       "      <td>70</td>\n",
       "      <td>No</td>\n",
       "    </tr>\n",
       "    <tr>\n",
       "      <th>3</th>\n",
       "      <td>3</td>\n",
       "      <td>BENE11011</td>\n",
       "      <td>CLM38412</td>\n",
       "      <td>2009-02-14</td>\n",
       "      <td>2009-02-22</td>\n",
       "      <td>PRV52405</td>\n",
       "      <td>5000</td>\n",
       "      <td>PHY369659</td>\n",
       "      <td>PHY392961</td>\n",
       "      <td>PHY349768</td>\n",
       "      <td>...</td>\n",
       "      <td>1</td>\n",
       "      <td>2</td>\n",
       "      <td>2</td>\n",
       "      <td>1</td>\n",
       "      <td>1</td>\n",
       "      <td>5000</td>\n",
       "      <td>1068</td>\n",
       "      <td>250</td>\n",
       "      <td>320</td>\n",
       "      <td>No</td>\n",
       "    </tr>\n",
       "    <tr>\n",
       "      <th>4</th>\n",
       "      <td>4</td>\n",
       "      <td>BENE11014</td>\n",
       "      <td>CLM63689</td>\n",
       "      <td>2009-08-13</td>\n",
       "      <td>2009-08-30</td>\n",
       "      <td>PRV56614</td>\n",
       "      <td>10000</td>\n",
       "      <td>PHY379376</td>\n",
       "      <td>PHY398258</td>\n",
       "      <td>NaN</td>\n",
       "      <td>...</td>\n",
       "      <td>2</td>\n",
       "      <td>1</td>\n",
       "      <td>2</td>\n",
       "      <td>2</td>\n",
       "      <td>2</td>\n",
       "      <td>21260</td>\n",
       "      <td>2136</td>\n",
       "      <td>120</td>\n",
       "      <td>100</td>\n",
       "      <td>No</td>\n",
       "    </tr>\n",
       "  </tbody>\n",
       "</table>\n",
       "<p>5 rows × 57 columns</p>\n",
       "</div>"
      ],
      "text/plain": [
       "   Unnamed: 0     BeneID   ClaimID ClaimStartDt  ClaimEndDt  Provider  \\\n",
       "0           0  BENE11001  CLM46614   2009-04-12  2009-04-18  PRV55912   \n",
       "1           1  BENE11001  CLM66048   2009-08-31  2009-09-02  PRV55907   \n",
       "2           2  BENE11001  CLM68358   2009-09-17  2009-09-20  PRV56046   \n",
       "3           3  BENE11011  CLM38412   2009-02-14  2009-02-22  PRV52405   \n",
       "4           4  BENE11014  CLM63689   2009-08-13  2009-08-30  PRV56614   \n",
       "\n",
       "   InscClaimAmtReimbursed AttendingPhysician OperatingPhysician  \\\n",
       "0                   26000          PHY390922                NaN   \n",
       "1                    5000          PHY318495          PHY318495   \n",
       "2                    5000          PHY372395                NaN   \n",
       "3                    5000          PHY369659          PHY392961   \n",
       "4                   10000          PHY379376          PHY398258   \n",
       "\n",
       "  OtherPhysician  ... ChronicCond_Diabetes ChronicCond_IschemicHeart  \\\n",
       "0            NaN  ...                    1                         1   \n",
       "1            NaN  ...                    1                         1   \n",
       "2      PHY324689  ...                    1                         1   \n",
       "3      PHY349768  ...                    1                         2   \n",
       "4            NaN  ...                    2                         1   \n",
       "\n",
       "   ChronicCond_Osteoporasis ChronicCond_rheumatoidarthritis  \\\n",
       "0                         2                               1   \n",
       "1                         2                               1   \n",
       "2                         2                               1   \n",
       "3                         2                               1   \n",
       "4                         2                               2   \n",
       "\n",
       "  ChronicCond_stroke IPAnnualReimbursementAmt IPAnnualDeductibleAmt  \\\n",
       "0                  1                    36000                  3204   \n",
       "1                  1                    36000                  3204   \n",
       "2                  1                    36000                  3204   \n",
       "3                  1                     5000                  1068   \n",
       "4                  2                    21260                  2136   \n",
       "\n",
       "  OPAnnualReimbursementAmt OPAnnualDeductibleAmt PotentialFraud  \n",
       "0                       60                    70            Yes  \n",
       "1                       60                    70             No  \n",
       "2                       60                    70             No  \n",
       "3                      250                   320             No  \n",
       "4                      120                   100             No  \n",
       "\n",
       "[5 rows x 57 columns]"
      ]
     },
     "execution_count": 3,
     "metadata": {},
     "output_type": "execute_result"
    }
   ],
   "source": [
    "df_raw.head()"
   ]
  },
  {
   "cell_type": "code",
   "execution_count": 4,
   "id": "21892f55",
   "metadata": {},
   "outputs": [],
   "source": [
    "# remove \"unnamed\" column\n",
    "df_raw = df_raw.iloc[:,1:]"
   ]
  },
  {
   "cell_type": "code",
   "execution_count": 5,
   "id": "923aa78f",
   "metadata": {
    "scrolled": true
   },
   "outputs": [
    {
     "name": "stdout",
     "output_type": "stream",
     "text": [
      "<class 'pandas.core.frame.DataFrame'>\n",
      "RangeIndex: 558211 entries, 0 to 558210\n",
      "Data columns (total 56 columns):\n",
      " #   Column                           Non-Null Count   Dtype  \n",
      "---  ------                           --------------   -----  \n",
      " 0   BeneID                           558211 non-null  object \n",
      " 1   ClaimID                          558211 non-null  object \n",
      " 2   ClaimStartDt                     558211 non-null  object \n",
      " 3   ClaimEndDt                       558211 non-null  object \n",
      " 4   Provider                         558211 non-null  object \n",
      " 5   InscClaimAmtReimbursed           558211 non-null  int64  \n",
      " 6   AttendingPhysician               556703 non-null  object \n",
      " 7   OperatingPhysician               114447 non-null  object \n",
      " 8   OtherPhysician                   199736 non-null  object \n",
      " 9   AdmissionDt                      40474 non-null   object \n",
      " 10  ClmAdmitDiagnosisCode            145899 non-null  object \n",
      " 11  DeductibleAmtPaid                557312 non-null  float64\n",
      " 12  DischargeDt                      40474 non-null   object \n",
      " 13  DiagnosisGroupCode               40474 non-null   object \n",
      " 14  ClmDiagnosisCode_1               547758 non-null  object \n",
      " 15  ClmDiagnosisCode_2               362605 non-null  object \n",
      " 16  ClmDiagnosisCode_3               243055 non-null  object \n",
      " 17  ClmDiagnosisCode_4               164536 non-null  object \n",
      " 18  ClmDiagnosisCode_5               111924 non-null  object \n",
      " 19  ClmDiagnosisCode_6               84392 non-null   object \n",
      " 20  ClmDiagnosisCode_7               66177 non-null   object \n",
      " 21  ClmDiagnosisCode_8               53444 non-null   object \n",
      " 22  ClmDiagnosisCode_9               41815 non-null   object \n",
      " 23  ClmDiagnosisCode_10              5010 non-null    object \n",
      " 24  ClmProcedureCode_1               23310 non-null   float64\n",
      " 25  ClmProcedureCode_2               5490 non-null    float64\n",
      " 26  ClmProcedureCode_3               969 non-null     float64\n",
      " 27  ClmProcedureCode_4               118 non-null     float64\n",
      " 28  ClmProcedureCode_5               9 non-null       float64\n",
      " 29  ClmProcedureCode_6               0 non-null       float64\n",
      " 30  In_Out                           558211 non-null  int64  \n",
      " 31  DOB                              558211 non-null  object \n",
      " 32  DOD                              4131 non-null    object \n",
      " 33  Gender                           558211 non-null  int64  \n",
      " 34  Race                             558211 non-null  int64  \n",
      " 35  RenalDiseaseIndicator            558211 non-null  object \n",
      " 36  State                            558211 non-null  int64  \n",
      " 37  County                           558211 non-null  int64  \n",
      " 38  NoOfMonths_PartACov              558211 non-null  int64  \n",
      " 39  NoOfMonths_PartBCov              558211 non-null  int64  \n",
      " 40  ChronicCond_Alzheimer            558211 non-null  int64  \n",
      " 41  ChronicCond_Heartfailure         558211 non-null  int64  \n",
      " 42  ChronicCond_KidneyDisease        558211 non-null  int64  \n",
      " 43  ChronicCond_Cancer               558211 non-null  int64  \n",
      " 44  ChronicCond_ObstrPulmonary       558211 non-null  int64  \n",
      " 45  ChronicCond_Depression           558211 non-null  int64  \n",
      " 46  ChronicCond_Diabetes             558211 non-null  int64  \n",
      " 47  ChronicCond_IschemicHeart        558211 non-null  int64  \n",
      " 48  ChronicCond_Osteoporasis         558211 non-null  int64  \n",
      " 49  ChronicCond_rheumatoidarthritis  558211 non-null  int64  \n",
      " 50  ChronicCond_stroke               558211 non-null  int64  \n",
      " 51  IPAnnualReimbursementAmt         558211 non-null  int64  \n",
      " 52  IPAnnualDeductibleAmt            558211 non-null  int64  \n",
      " 53  OPAnnualReimbursementAmt         558211 non-null  int64  \n",
      " 54  OPAnnualDeductibleAmt            558211 non-null  int64  \n",
      " 55  PotentialFraud                   558211 non-null  object \n",
      "dtypes: float64(7), int64(23), object(26)\n",
      "memory usage: 238.5+ MB\n"
     ]
    }
   ],
   "source": [
    "df_raw.info()"
   ]
  },
  {
   "cell_type": "code",
   "execution_count": 6,
   "id": "a8a2bb9f",
   "metadata": {},
   "outputs": [],
   "source": [
    "Target_provider = pd.read_csv('data/Train-1542865627584.csv')"
   ]
  },
  {
   "cell_type": "markdown",
   "id": "4e253b8f",
   "metadata": {},
   "source": [
    "### 2. Aggregate features grouped by Providers"
   ]
  },
  {
   "cell_type": "markdown",
   "id": "7fc93668",
   "metadata": {},
   "source": [
    "#### 2.1 BeneID"
   ]
  },
  {
   "cell_type": "code",
   "execution_count": 7,
   "id": "91ddade8",
   "metadata": {},
   "outputs": [],
   "source": [
    "ClaimCount = df_raw.groupby(['Provider']).ClaimID.count()"
   ]
  },
  {
   "cell_type": "code",
   "execution_count": 8,
   "id": "9113539a",
   "metadata": {},
   "outputs": [],
   "source": [
    "uniqBeneCount = df_raw.groupby(['Provider']).BeneID.nunique()\n",
    "uniqBeneCount.name = 'uniqBeneCount'"
   ]
  },
  {
   "cell_type": "code",
   "execution_count": 9,
   "id": "d271cfe0",
   "metadata": {},
   "outputs": [
    {
     "data": {
      "text/plain": [
       "Provider\n",
       "PRV51001      1\n",
       "PRV51003     15\n",
       "PRV51004     11\n",
       "PRV51005    670\n",
       "PRV51007     14\n",
       "           ... \n",
       "PRV57759      4\n",
       "PRV57760     13\n",
       "PRV57761     15\n",
       "PRV57762      0\n",
       "PRV57763     48\n",
       "Length: 5410, dtype: int64"
      ]
     },
     "execution_count": 9,
     "metadata": {},
     "output_type": "execute_result"
    }
   ],
   "source": [
    "ClaimCount - uniqBeneCount  # There are some duplicated beneficiaries"
   ]
  },
  {
   "cell_type": "code",
   "execution_count": 10,
   "id": "5ce594ea",
   "metadata": {
    "scrolled": true
   },
   "outputs": [],
   "source": [
    "Target_uniqueBeneCount = Target_provider.merge(uniqBeneCount,on = 'Provider')"
   ]
  },
  {
   "cell_type": "code",
   "execution_count": 52,
   "id": "ed4a90d3",
   "metadata": {},
   "outputs": [
    {
     "data": {
      "text/plain": [
       "(0.0, 1000.0)"
      ]
     },
     "execution_count": 52,
     "metadata": {},
     "output_type": "execute_result"
    },
    {
     "data": {
      "image/png": "[encoded data removed]",
      "text/plain": [
       "<Figure size 432x288 with 1 Axes>"
      ]
     },
     "metadata": {
      "needs_background": "light"
     },
     "output_type": "display_data"
    }
   ],
   "source": [
    "Target_uniqueBeneCount[Target_uniqueBeneCount.PotentialFraud == 'Yes'].uniqBeneCount.plot(kind = 'hist')\n",
    "plt.xlabel('uniqueBeneCount')\n",
    "plt.title('Histogram of unique BeneID Counts for Potential Fraud Providers')\n",
    "plt.xlim((0,2500))\n",
    "plt.ylim((0,1000))"
   ]
  },
  {
   "cell_type": "code",
   "execution_count": 12,
   "id": "914a22ed",
   "metadata": {
    "scrolled": true
   },
   "outputs": [
    {
     "data": {
      "text/plain": [
       "(0.0, 5000.0)"
      ]
     },
     "execution_count": 12,
     "metadata": {},
     "output_type": "execute_result"
    },
    {
     "data": {
      "image/png": "[encoded data removed]",
      "text/plain": [
       "<Figure size 432x288 with 1 Axes>"
      ]
     },
     "metadata": {
      "needs_background": "light"
     },
     "output_type": "display_data"
    }
   ],
   "source": [
    "Target_uniqueBeneCount[Target_uniqueBeneCount.PotentialFraud == 'No'].uniqBeneCount.plot(kind = 'hist')\n",
    "plt.xlabel('uniqueBeneCount')\n",
    "plt.title('Histogram of unique BeneID Counts for non-Fraud Providers')\n",
    "plt.xlim((0,2500))\n",
    "plt.ylim((0,5000))"
   ]
  },
  {
   "cell_type": "code",
   "execution_count": 13,
   "id": "3fef11e2",
   "metadata": {},
   "outputs": [],
   "source": [
    "ClmsperBene = ClaimCount/uniqBeneCount\n",
    "ClmsperBene.name = 'ClmsperBene'"
   ]
  },
  {
   "cell_type": "code",
   "execution_count": 14,
   "id": "81c082fb",
   "metadata": {},
   "outputs": [],
   "source": [
    "Target_ClmsperBene = Target_provider.merge(ClmsperBene,on = 'Provider')"
   ]
  },
  {
   "cell_type": "code",
   "execution_count": 53,
   "id": "345dd533",
   "metadata": {},
   "outputs": [
    {
     "data": {
      "text/plain": [
       "(0.0, 1000.0)"
      ]
     },
     "execution_count": 53,
     "metadata": {},
     "output_type": "execute_result"
    },
    {
     "data": {
      "image/png": "[encoded data removed]",
      "text/plain": [
       "<Figure size 432x288 with 1 Axes>"
      ]
     },
     "metadata": {
      "needs_background": "light"
     },
     "output_type": "display_data"
    }
   ],
   "source": [
    "Target_ClmsperBene[Target_ClmsperBene.PotentialFraud == 'Yes'].ClmsperBene.plot(kind = 'hist')\n",
    "plt.xlabel('Claims per BeneID')\n",
    "plt.title('Histogram of Number of Claims per BeneID for Potential Fraud Providers')\n",
    "plt.xlim((0,5))\n",
    "plt.ylim((0,1000))"
   ]
  },
  {
   "cell_type": "code",
   "execution_count": 16,
   "id": "9f796447",
   "metadata": {},
   "outputs": [
    {
     "data": {
      "text/plain": [
       "(0.0, 5000.0)"
      ]
     },
     "execution_count": 16,
     "metadata": {},
     "output_type": "execute_result"
    },
    {
     "data": {
      "image/png": "[encoded data removed]",
      "text/plain": [
       "<Figure size 432x288 with 1 Axes>"
      ]
     },
     "metadata": {
      "needs_background": "light"
     },
     "output_type": "display_data"
    }
   ],
   "source": [
    "Target_ClmsperBene[Target_ClmsperBene.PotentialFraud == 'No'].ClmsperBene.plot(kind = 'hist')\n",
    "plt.xlabel('Claims per BeneID')\n",
    "plt.title('Histogram of Number of Claims per BeneID for non-Fraud Providers')\n",
    "plt.xlim((0,5))\n",
    "plt.ylim((0,5000))"
   ]
  },
  {
   "cell_type": "markdown",
   "id": "b5c8386e",
   "metadata": {},
   "source": [
    "#### 2.2 InscClaimAmtReimbursed"
   ]
  },
  {
   "cell_type": "code",
   "execution_count": 17,
   "id": "74b6774a",
   "metadata": {},
   "outputs": [],
   "source": [
    "TotalClmAmtReim = df_raw.groupby(['Provider']).InscClaimAmtReimbursed.sum()\n",
    "TotalClmAmtReim.name = \"TotalClmAmtReim\""
   ]
  },
  {
   "cell_type": "code",
   "execution_count": 18,
   "id": "25736bc9",
   "metadata": {},
   "outputs": [],
   "source": [
    "MeanClmAmtReim = df_raw.groupby(['Provider']).InscClaimAmtReimbursed.mean()\n",
    "MeanClmAmtReim.name = 'MeanClmAmtReim'"
   ]
  },
  {
   "cell_type": "code",
   "execution_count": 19,
   "id": "5345b236",
   "metadata": {
    "scrolled": true
   },
   "outputs": [],
   "source": [
    "MaxClmAmtReim = df_raw.groupby(['Provider']).InscClaimAmtReimbursed.max()\n",
    "MaxClmAmtReim.name = 'MaxClmAmtReim'"
   ]
  },
  {
   "cell_type": "code",
   "execution_count": 51,
   "id": "770b4b1e",
   "metadata": {
    "scrolled": true
   },
   "outputs": [
    {
     "data": {
      "text/plain": [
       "PotentialFraud\n",
       "No     AxesSubplot(0.125,0.125;0.775x0.755)\n",
       "Yes    AxesSubplot(0.125,0.125;0.775x0.755)\n",
       "Name: TotalClmAmtReim, dtype: object"
      ]
     },
     "execution_count": 51,
     "metadata": {},
     "output_type": "execute_result"
    },
    {
     "data": {
      "image/png": "[encoded data removed]",
      "text/plain": [
       "<Figure size 432x288 with 1 Axes>"
      ]
     },
     "metadata": {
      "needs_background": "light"
     },
     "output_type": "display_data"
    }
   ],
   "source": [
    "Target_TotalClmAmtReim = Target_provider.merge(TotalClmAmtReim,on = 'Provider')\n",
    "Target_TotalClmAmtReim.groupby(['PotentialFraud']).TotalClmAmtReim.plot(kind = 'hist', alpha = 0.5, title = 'TotalClmAmtReim', legend = True, logy = True)"
   ]
  },
  {
   "cell_type": "code",
   "execution_count": 50,
   "id": "158b9a93",
   "metadata": {
    "scrolled": true
   },
   "outputs": [
    {
     "data": {
      "text/plain": [
       "PotentialFraud\n",
       "No     AxesSubplot(0.125,0.125;0.775x0.755)\n",
       "Yes    AxesSubplot(0.125,0.125;0.775x0.755)\n",
       "Name: MeanClmAmtReim, dtype: object"
      ]
     },
     "execution_count": 50,
     "metadata": {},
     "output_type": "execute_result"
    },
    {
     "data": {
      "image/png": "[encoded data removed]",
      "text/plain": [
       "<Figure size 432x288 with 1 Axes>"
      ]
     },
     "metadata": {
      "needs_background": "light"
     },
     "output_type": "display_data"
    }
   ],
   "source": [
    "Target_provider.merge(MeanClmAmtReim,on = 'Provider').groupby(['PotentialFraud']).MeanClmAmtReim.plot(kind = 'hist', alpha = 0.5, title = 'MeanClmAmtReim', legend = True, logy = True)"
   ]
  },
  {
   "cell_type": "code",
   "execution_count": 49,
   "id": "1f4aef93",
   "metadata": {},
   "outputs": [
    {
     "data": {
      "text/plain": [
       "PotentialFraud\n",
       "No     AxesSubplot(0.125,0.125;0.775x0.755)\n",
       "Yes    AxesSubplot(0.125,0.125;0.775x0.755)\n",
       "Name: MaxClmAmtReim, dtype: object"
      ]
     },
     "execution_count": 49,
     "metadata": {},
     "output_type": "execute_result"
    },
    {
     "data": {
      "image/png": "[encoded data removed]",
      "text/plain": [
       "<Figure size 432x288 with 1 Axes>"
      ]
     },
     "metadata": {
      "needs_background": "light"
     },
     "output_type": "display_data"
    }
   ],
   "source": [
    "Target_provider.merge(MaxClmAmtReim,on = 'Provider').groupby(['PotentialFraud']).MaxClmAmtReim.plot(kind = 'hist', alpha = 0.5, title = 'MaxClmAmtReim', legend = True, logy = True)"
   ]
  },
  {
   "cell_type": "markdown",
   "id": "869447e1",
   "metadata": {},
   "source": [
    "#### 2.3 AttendingPhysician"
   ]
  },
  {
   "cell_type": "code",
   "execution_count": 23,
   "id": "69e688ec",
   "metadata": {},
   "outputs": [],
   "source": [
    "uniqATPhysnCount= df_raw.groupby(['Provider']).AttendingPhysician.nunique()"
   ]
  },
  {
   "cell_type": "code",
   "execution_count": 24,
   "id": "2d897299",
   "metadata": {},
   "outputs": [],
   "source": [
    "ClmsperATPhysn = ClaimCount/uniqATPhysnCount\n",
    "ClmsperATPhysn.name = 'ClmsperATPhysn'"
   ]
  },
  {
   "cell_type": "code",
   "execution_count": 48,
   "id": "6abe5271",
   "metadata": {
    "scrolled": true
   },
   "outputs": [
    {
     "data": {
      "text/plain": [
       "PotentialFraud\n",
       "No     AxesSubplot(0.125,0.125;0.775x0.755)\n",
       "Yes    AxesSubplot(0.125,0.125;0.775x0.755)\n",
       "Name: ClmsperATPhysn, dtype: object"
      ]
     },
     "execution_count": 48,
     "metadata": {},
     "output_type": "execute_result"
    },
    {
     "data": {
      "image/png": "[encoded data removed]",
      "text/plain": [
       "<Figure size 432x288 with 1 Axes>"
      ]
     },
     "metadata": {
      "needs_background": "light"
     },
     "output_type": "display_data"
    }
   ],
   "source": [
    "Target_provider.merge(ClmsperATPhysn,on = 'Provider').groupby(['PotentialFraud']).ClmsperATPhysn.plot(kind = 'hist', alpha = 0.5, title = 'ClmsperATPhysn', legend = True, logy = True)"
   ]
  },
  {
   "cell_type": "markdown",
   "id": "89b1fbad",
   "metadata": {},
   "source": [
    "#### 2.4 OperatingPhysician"
   ]
  },
  {
   "cell_type": "code",
   "execution_count": 26,
   "id": "35778464",
   "metadata": {},
   "outputs": [],
   "source": [
    "uniqOPPhysnCount = df_raw.groupby(['Provider']).OperatingPhysician.nunique()"
   ]
  },
  {
   "cell_type": "code",
   "execution_count": 27,
   "id": "1959488a",
   "metadata": {},
   "outputs": [],
   "source": [
    "ClmsperOPPhysn = ClaimCount/uniqOPPhysnCount\n",
    "ClmsperOPPhysn.name = 'ClmsperOPPhysn'"
   ]
  },
  {
   "cell_type": "code",
   "execution_count": 28,
   "id": "f07cafaa",
   "metadata": {},
   "outputs": [],
   "source": [
    "# There are inf values in ClmsperOPPhysn because in some claims OPPhysn is 0. Replace inf by -99.\n",
    "ClmsperOPPhysn.replace(np.inf,-99,inplace = True)"
   ]
  },
  {
   "cell_type": "code",
   "execution_count": 47,
   "id": "1aea6b39",
   "metadata": {},
   "outputs": [
    {
     "data": {
      "text/plain": [
       "PotentialFraud\n",
       "No     AxesSubplot(0.125,0.125;0.775x0.755)\n",
       "Yes    AxesSubplot(0.125,0.125;0.775x0.755)\n",
       "Name: ClmsperOPPhysn, dtype: object"
      ]
     },
     "execution_count": 47,
     "metadata": {},
     "output_type": "execute_result"
    },
    {
     "data": {
      "image/png": "[encoded data removed]",
      "text/plain": [
       "<Figure size 432x288 with 1 Axes>"
      ]
     },
     "metadata": {
      "needs_background": "light"
     },
     "output_type": "display_data"
    }
   ],
   "source": [
    "Target_provider.merge(ClmsperOPPhysn,on = 'Provider').groupby(['PotentialFraud']).ClmsperOPPhysn.plot(kind = 'hist', alpha = 0.5, title = 'ClmsperOPPhysn', legend = True, logy = True)"
   ]
  },
  {
   "cell_type": "markdown",
   "id": "42ffd037",
   "metadata": {},
   "source": [
    "#### 2.5 OtherPhysician"
   ]
  },
  {
   "cell_type": "code",
   "execution_count": 30,
   "id": "8fe9a7c1",
   "metadata": {},
   "outputs": [],
   "source": [
    "uniqOTPhysnCount = df_raw.groupby(['Provider']).OtherPhysician.nunique()"
   ]
  },
  {
   "cell_type": "code",
   "execution_count": 31,
   "id": "1a57d855",
   "metadata": {
    "scrolled": false
   },
   "outputs": [],
   "source": [
    "ClmsperOTPhysn = ClaimCount/uniqOTPhysnCount\n",
    "ClmsperOTPhysn.name = 'ClmsperOTPhysn'"
   ]
  },
  {
   "cell_type": "code",
   "execution_count": 32,
   "id": "e7a231bc",
   "metadata": {},
   "outputs": [],
   "source": [
    "# There are inf values in ClmsperOTPhysn because in some claims OPPhysn is 0. Replace inf by -99.\n",
    "ClmsperOTPhysn.replace(np.inf,-99,inplace = True)"
   ]
  },
  {
   "cell_type": "code",
   "execution_count": 46,
   "id": "275fb228",
   "metadata": {},
   "outputs": [
    {
     "data": {
      "text/plain": [
       "PotentialFraud\n",
       "No     AxesSubplot(0.125,0.125;0.775x0.755)\n",
       "Yes    AxesSubplot(0.125,0.125;0.775x0.755)\n",
       "Name: ClmsperOTPhysn, dtype: object"
      ]
     },
     "execution_count": 46,
     "metadata": {},
     "output_type": "execute_result"
    },
    {
     "data": {
      "image/png": "[encoded data removed]",
      "text/plain": [
       "<Figure size 432x288 with 1 Axes>"
      ]
     },
     "metadata": {
      "needs_background": "light"
     },
     "output_type": "display_data"
    }
   ],
   "source": [
    "Target_provider.merge(ClmsperOTPhysn,on = 'Provider').groupby(['PotentialFraud']).ClmsperOTPhysn.plot(kind = 'hist', alpha = 0.5, title = 'ClmsperOTPhysn', legend = True, logy= True)"
   ]
  },
  {
   "cell_type": "markdown",
   "id": "af2dc028",
   "metadata": {},
   "source": [
    "#### 2.6 In_Out"
   ]
  },
  {
   "cell_type": "code",
   "execution_count": 41,
   "id": "caa48b24",
   "metadata": {},
   "outputs": [],
   "source": [
    "InClmsPct = df_raw.groupby(['Provider']).In_Out.sum()/ClaimCount  # 1 means in patient clms"
   ]
  },
  {
   "cell_type": "code",
   "execution_count": 43,
   "id": "479a1bae",
   "metadata": {
    "scrolled": false
   },
   "outputs": [],
   "source": [
    "InClmsPct.name = 'InClmsPct'  # Number of inpatient claims"
   ]
  },
  {
   "cell_type": "code",
   "execution_count": 45,
   "id": "1fcf162c",
   "metadata": {},
   "outputs": [
    {
     "data": {
      "text/plain": [
       "PotentialFraud\n",
       "No     AxesSubplot(0.125,0.125;0.775x0.755)\n",
       "Yes    AxesSubplot(0.125,0.125;0.775x0.755)\n",
       "Name: InClmsPct, dtype: object"
      ]
     },
     "execution_count": 45,
     "metadata": {},
     "output_type": "execute_result"
    },
    {
     "data": {
      "image/png": "[encoded data removed]",
      "text/plain": [
       "<Figure size 432x288 with 1 Axes>"
      ]
     },
     "metadata": {
      "needs_background": "light"
     },
     "output_type": "display_data"
    }
   ],
   "source": [
    "Target_provider.merge(InClmsPct,on = 'Provider').groupby(['PotentialFraud']).InClmsPct.plot(kind = 'hist', alpha = 0.5, title = 'InClmsPct', legend = True, logy = True)"
   ]
  },
  {
   "cell_type": "code",
   "execution_count": null,
   "id": "05c3a2cd",
   "metadata": {},
   "outputs": [],
   "source": []
  },
  {
   "cell_type": "markdown",
   "id": "4e619549",
   "metadata": {},
   "source": [
    "### Export Data Table for Team"
   ]
  },
  {
   "cell_type": "code",
   "execution_count": 305,
   "id": "d58940e7",
   "metadata": {},
   "outputs": [],
   "source": [
    "data = {'uniqBeneCount':uniqBeneCount,\n",
    "        'ClmsperBene':ClmsperBene, \n",
    "        'TotalInscClaimAmtReimbursed':TotalClmAmtReim,\n",
    "        'MeanInscClaimAmtReimbursed':MeanClmAmtReim,\n",
    "        'MaxInscClaimAmtReimbursed':MaxClmAmtReim,\n",
    "        'uniqATPhysnCount':uniqATPhysnCount,\n",
    "        'ClmsperATPhysn':ClmsperATPhysn,\n",
    "        'uniqOPPhysnCount':uniqOPPhysnCount,\n",
    "        'ClmsperOPPhysn':ClmsperOPPhysn,\n",
    "        'uniqOTPhysnCount':uniqOTPhysnCount,\n",
    "        'ClmsperOTPhysn':ClmsperOTPhysn,\n",
    "        'InClmsPct':InClmsPct}\n",
    "df_provider_mz = pd.DataFrame(data = data)"
   ]
  },
  {
   "cell_type": "code",
   "execution_count": 308,
   "id": "846367c7",
   "metadata": {
    "scrolled": true
   },
   "outputs": [
    {
     "data": {
      "text/html": [
       "<div>\n",
       "<style scoped>\n",
       "    .dataframe tbody tr th:only-of-type {\n",
       "        vertical-align: middle;\n",
       "    }\n",
       "\n",
       "    .dataframe tbody tr th {\n",
       "        vertical-align: top;\n",
       "    }\n",
       "\n",
       "    .dataframe thead th {\n",
       "        text-align: right;\n",
       "    }\n",
       "</style>\n",
       "<table border=\"1\" class=\"dataframe\">\n",
       "  <thead>\n",
       "    <tr style=\"text-align: right;\">\n",
       "      <th></th>\n",
       "      <th>uniqBeneCount</th>\n",
       "      <th>ClmsperBene</th>\n",
       "      <th>TotalInscClaimAmtReimbursed</th>\n",
       "      <th>MeanInscClaimAmtReimbursed</th>\n",
       "      <th>MaxInscClaimAmtReimbursed</th>\n",
       "      <th>uniqATPhysnCount</th>\n",
       "      <th>ClmsperATPhysn</th>\n",
       "      <th>uniqOPPhysnCount</th>\n",
       "      <th>ClmsperOPPhysn</th>\n",
       "      <th>uniqOTPhysnCount</th>\n",
       "      <th>ClmsperOTPhysn</th>\n",
       "      <th>InClmsPct</th>\n",
       "    </tr>\n",
       "    <tr>\n",
       "      <th>Provider</th>\n",
       "      <th></th>\n",
       "      <th></th>\n",
       "      <th></th>\n",
       "      <th></th>\n",
       "      <th></th>\n",
       "      <th></th>\n",
       "      <th></th>\n",
       "      <th></th>\n",
       "      <th></th>\n",
       "      <th></th>\n",
       "      <th></th>\n",
       "      <th></th>\n",
       "    </tr>\n",
       "  </thead>\n",
       "  <tbody>\n",
       "    <tr>\n",
       "      <th>PRV57754</th>\n",
       "      <td>6</td>\n",
       "      <td>1.000000</td>\n",
       "      <td>2070</td>\n",
       "      <td>345.000000</td>\n",
       "      <td>1100</td>\n",
       "      <td>1</td>\n",
       "      <td>6.000000</td>\n",
       "      <td>1</td>\n",
       "      <td>6.000000</td>\n",
       "      <td>1</td>\n",
       "      <td>6.0</td>\n",
       "      <td>0.0</td>\n",
       "    </tr>\n",
       "    <tr>\n",
       "      <th>PRV57755</th>\n",
       "      <td>1</td>\n",
       "      <td>1.000000</td>\n",
       "      <td>300</td>\n",
       "      <td>300.000000</td>\n",
       "      <td>300</td>\n",
       "      <td>1</td>\n",
       "      <td>1.000000</td>\n",
       "      <td>1</td>\n",
       "      <td>1.000000</td>\n",
       "      <td>1</td>\n",
       "      <td>1.0</td>\n",
       "      <td>0.0</td>\n",
       "    </tr>\n",
       "    <tr>\n",
       "      <th>PRV57756</th>\n",
       "      <td>27</td>\n",
       "      <td>1.000000</td>\n",
       "      <td>3790</td>\n",
       "      <td>140.370370</td>\n",
       "      <td>800</td>\n",
       "      <td>3</td>\n",
       "      <td>9.000000</td>\n",
       "      <td>2</td>\n",
       "      <td>13.500000</td>\n",
       "      <td>2</td>\n",
       "      <td>13.5</td>\n",
       "      <td>0.0</td>\n",
       "    </tr>\n",
       "    <tr>\n",
       "      <th>PRV57757</th>\n",
       "      <td>11</td>\n",
       "      <td>1.000000</td>\n",
       "      <td>109000</td>\n",
       "      <td>9909.090909</td>\n",
       "      <td>38000</td>\n",
       "      <td>1</td>\n",
       "      <td>11.000000</td>\n",
       "      <td>3</td>\n",
       "      <td>3.666667</td>\n",
       "      <td>1</td>\n",
       "      <td>11.0</td>\n",
       "      <td>1.0</td>\n",
       "    </tr>\n",
       "    <tr>\n",
       "      <th>PRV57758</th>\n",
       "      <td>2</td>\n",
       "      <td>1.000000</td>\n",
       "      <td>110</td>\n",
       "      <td>55.000000</td>\n",
       "      <td>100</td>\n",
       "      <td>1</td>\n",
       "      <td>2.000000</td>\n",
       "      <td>0</td>\n",
       "      <td>-99.000000</td>\n",
       "      <td>0</td>\n",
       "      <td>-99.0</td>\n",
       "      <td>0.0</td>\n",
       "    </tr>\n",
       "    <tr>\n",
       "      <th>PRV57759</th>\n",
       "      <td>24</td>\n",
       "      <td>1.166667</td>\n",
       "      <td>10640</td>\n",
       "      <td>380.000000</td>\n",
       "      <td>3300</td>\n",
       "      <td>1</td>\n",
       "      <td>28.000000</td>\n",
       "      <td>1</td>\n",
       "      <td>28.000000</td>\n",
       "      <td>1</td>\n",
       "      <td>28.0</td>\n",
       "      <td>0.0</td>\n",
       "    </tr>\n",
       "    <tr>\n",
       "      <th>PRV57760</th>\n",
       "      <td>9</td>\n",
       "      <td>2.444444</td>\n",
       "      <td>4770</td>\n",
       "      <td>216.818182</td>\n",
       "      <td>1100</td>\n",
       "      <td>3</td>\n",
       "      <td>7.333333</td>\n",
       "      <td>2</td>\n",
       "      <td>11.000000</td>\n",
       "      <td>2</td>\n",
       "      <td>11.0</td>\n",
       "      <td>0.0</td>\n",
       "    </tr>\n",
       "    <tr>\n",
       "      <th>PRV57761</th>\n",
       "      <td>67</td>\n",
       "      <td>1.223881</td>\n",
       "      <td>18470</td>\n",
       "      <td>225.243902</td>\n",
       "      <td>2200</td>\n",
       "      <td>2</td>\n",
       "      <td>41.000000</td>\n",
       "      <td>5</td>\n",
       "      <td>16.400000</td>\n",
       "      <td>2</td>\n",
       "      <td>41.0</td>\n",
       "      <td>0.0</td>\n",
       "    </tr>\n",
       "    <tr>\n",
       "      <th>PRV57762</th>\n",
       "      <td>1</td>\n",
       "      <td>1.000000</td>\n",
       "      <td>1900</td>\n",
       "      <td>1900.000000</td>\n",
       "      <td>1900</td>\n",
       "      <td>1</td>\n",
       "      <td>1.000000</td>\n",
       "      <td>0</td>\n",
       "      <td>-99.000000</td>\n",
       "      <td>0</td>\n",
       "      <td>-99.0</td>\n",
       "      <td>0.0</td>\n",
       "    </tr>\n",
       "    <tr>\n",
       "      <th>PRV57763</th>\n",
       "      <td>70</td>\n",
       "      <td>1.685714</td>\n",
       "      <td>43610</td>\n",
       "      <td>369.576271</td>\n",
       "      <td>3300</td>\n",
       "      <td>1</td>\n",
       "      <td>118.000000</td>\n",
       "      <td>1</td>\n",
       "      <td>118.000000</td>\n",
       "      <td>1</td>\n",
       "      <td>118.0</td>\n",
       "      <td>0.0</td>\n",
       "    </tr>\n",
       "  </tbody>\n",
       "</table>\n",
       "</div>"
      ],
      "text/plain": [
       "          uniqBeneCount  ClmsperBene  TotalInscClaimAmtReimbursed  \\\n",
       "Provider                                                            \n",
       "PRV57754              6     1.000000                         2070   \n",
       "PRV57755              1     1.000000                          300   \n",
       "PRV57756             27     1.000000                         3790   \n",
       "PRV57757             11     1.000000                       109000   \n",
       "PRV57758              2     1.000000                          110   \n",
       "PRV57759             24     1.166667                        10640   \n",
       "PRV57760              9     2.444444                         4770   \n",
       "PRV57761             67     1.223881                        18470   \n",
       "PRV57762              1     1.000000                         1900   \n",
       "PRV57763             70     1.685714                        43610   \n",
       "\n",
       "          MeanInscClaimAmtReimbursed  MaxInscClaimAmtReimbursed  \\\n",
       "Provider                                                          \n",
       "PRV57754                  345.000000                       1100   \n",
       "PRV57755                  300.000000                        300   \n",
       "PRV57756                  140.370370                        800   \n",
       "PRV57757                 9909.090909                      38000   \n",
       "PRV57758                   55.000000                        100   \n",
       "PRV57759                  380.000000                       3300   \n",
       "PRV57760                  216.818182                       1100   \n",
       "PRV57761                  225.243902                       2200   \n",
       "PRV57762                 1900.000000                       1900   \n",
       "PRV57763                  369.576271                       3300   \n",
       "\n",
       "          uniqATPhysnCount  ClmsperATPhysn  uniqOPPhysnCount  ClmsperOPPhysn  \\\n",
       "Provider                                                                       \n",
       "PRV57754                 1        6.000000                 1        6.000000   \n",
       "PRV57755                 1        1.000000                 1        1.000000   \n",
       "PRV57756                 3        9.000000                 2       13.500000   \n",
       "PRV57757                 1       11.000000                 3        3.666667   \n",
       "PRV57758                 1        2.000000                 0      -99.000000   \n",
       "PRV57759                 1       28.000000                 1       28.000000   \n",
       "PRV57760                 3        7.333333                 2       11.000000   \n",
       "PRV57761                 2       41.000000                 5       16.400000   \n",
       "PRV57762                 1        1.000000                 0      -99.000000   \n",
       "PRV57763                 1      118.000000                 1      118.000000   \n",
       "\n",
       "          uniqOTPhysnCount  ClmsperOTPhysn  InClmsPct  \n",
       "Provider                                               \n",
       "PRV57754                 1             6.0        0.0  \n",
       "PRV57755                 1             1.0        0.0  \n",
       "PRV57756                 2            13.5        0.0  \n",
       "PRV57757                 1            11.0        1.0  \n",
       "PRV57758                 0           -99.0        0.0  \n",
       "PRV57759                 1            28.0        0.0  \n",
       "PRV57760                 2            11.0        0.0  \n",
       "PRV57761                 2            41.0        0.0  \n",
       "PRV57762                 0           -99.0        0.0  \n",
       "PRV57763                 1           118.0        0.0  "
      ]
     },
     "execution_count": 308,
     "metadata": {},
     "output_type": "execute_result"
    }
   ],
   "source": [
    "df_provider_mz.tail(10)"
   ]
  },
  {
   "cell_type": "code",
   "execution_count": 309,
   "id": "db4b06a0",
   "metadata": {},
   "outputs": [],
   "source": [
    "df_provider_mz.to_csv(\"df_provider_mz.csv\")"
   ]
  }
 ],
 "metadata": {
  "kernelspec": {
   "display_name": "Python 3 (ipykernel)",
   "language": "python",
   "name": "python3"
  },
  "language_info": {
   "codemirror_mode": {
    "name": "ipython",
    "version": 3
   },
   "file_extension": ".py",
   "mimetype": "text/x-python",
   "name": "python",
   "nbconvert_exporter": "python",
   "pygments_lexer": "ipython3",
   "version": "3.9.7"
  }
 },
 "nbformat": 4,
 "nbformat_minor": 5
}
