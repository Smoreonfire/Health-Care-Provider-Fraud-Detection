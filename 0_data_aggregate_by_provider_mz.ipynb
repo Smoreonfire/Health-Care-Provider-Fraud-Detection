{
 "cells": [
  {
   "cell_type": "code",
   "execution_count": 2,
   "id": "33884f41",
   "metadata": {},
   "outputs": [],
   "source": [
    "import pandas as pd\n",
    "import numpy as np\n",
    "import matplotlib.pyplot as plt\n",
    "%matplotlib inline"
   ]
  },
  {
   "cell_type": "markdown",
   "id": "10e3c11c",
   "metadata": {},
   "source": [
    "### 1. Import Data"
   ]
  },
  {
   "cell_type": "code",
   "execution_count": 3,
   "id": "cbda8103",
   "metadata": {},
   "outputs": [
    {
     "name": "stderr",
     "output_type": "stream",
     "text": [
      "/Users/redstockings/opt/anaconda3/lib/python3.9/site-packages/IPython/core/interactiveshell.py:3444: DtypeWarning: Columns (10,13,14,33) have mixed types.Specify dtype option on import or set low_memory=False.\n",
      "  exec(code_obj, self.user_global_ns, self.user_ns)\n"
     ]
    }
   ],
   "source": [
    "df_raw = pd.read_csv('data/Sample_Data.csv')"
   ]
  },
  {
   "cell_type": "code",
   "execution_count": 4,
   "id": "21b597fa",
   "metadata": {},
   "outputs": [
    {
     "data": {
      "text/html": [
       "<div>\n",
       "<style scoped>\n",
       "    .dataframe tbody tr th:only-of-type {\n",
       "        vertical-align: middle;\n",
       "    }\n",
       "\n",
       "    .dataframe tbody tr th {\n",
       "        vertical-align: top;\n",
       "    }\n",
       "\n",
       "    .dataframe thead th {\n",
       "        text-align: right;\n",
       "    }\n",
       "</style>\n",
       "<table border=\"1\" class=\"dataframe\">\n",
       "  <thead>\n",
       "    <tr style=\"text-align: right;\">\n",
       "      <th></th>\n",
       "      <th>Unnamed: 0</th>\n",
       "      <th>BeneID</th>\n",
       "      <th>ClaimID</th>\n",
       "      <th>ClaimStartDt</th>\n",
       "      <th>ClaimEndDt</th>\n",
       "      <th>Provider</th>\n",
       "      <th>InscClaimAmtReimbursed</th>\n",
       "      <th>AttendingPhysician</th>\n",
       "      <th>OperatingPhysician</th>\n",
       "      <th>OtherPhysician</th>\n",
       "      <th>...</th>\n",
       "      <th>ChronicCond_Diabetes</th>\n",
       "      <th>ChronicCond_IschemicHeart</th>\n",
       "      <th>ChronicCond_Osteoporasis</th>\n",
       "      <th>ChronicCond_rheumatoidarthritis</th>\n",
       "      <th>ChronicCond_stroke</th>\n",
       "      <th>IPAnnualReimbursementAmt</th>\n",
       "      <th>IPAnnualDeductibleAmt</th>\n",
       "      <th>OPAnnualReimbursementAmt</th>\n",
       "      <th>OPAnnualDeductibleAmt</th>\n",
       "      <th>PotentialFraud</th>\n",
       "    </tr>\n",
       "  </thead>\n",
       "  <tbody>\n",
       "    <tr>\n",
       "      <th>0</th>\n",
       "      <td>0</td>\n",
       "      <td>BENE11001</td>\n",
       "      <td>CLM46614</td>\n",
       "      <td>2009-04-12</td>\n",
       "      <td>2009-04-18</td>\n",
       "      <td>PRV55912</td>\n",
       "      <td>26000</td>\n",
       "      <td>PHY390922</td>\n",
       "      <td>NaN</td>\n",
       "      <td>NaN</td>\n",
       "      <td>...</td>\n",
       "      <td>1</td>\n",
       "      <td>1</td>\n",
       "      <td>2</td>\n",
       "      <td>1</td>\n",
       "      <td>1</td>\n",
       "      <td>36000</td>\n",
       "      <td>3204</td>\n",
       "      <td>60</td>\n",
       "      <td>70</td>\n",
       "      <td>Yes</td>\n",
       "    </tr>\n",
       "    <tr>\n",
       "      <th>1</th>\n",
       "      <td>1</td>\n",
       "      <td>BENE11001</td>\n",
       "      <td>CLM66048</td>\n",
       "      <td>2009-08-31</td>\n",
       "      <td>2009-09-02</td>\n",
       "      <td>PRV55907</td>\n",
       "      <td>5000</td>\n",
       "      <td>PHY318495</td>\n",
       "      <td>PHY318495</td>\n",
       "      <td>NaN</td>\n",
       "      <td>...</td>\n",
       "      <td>1</td>\n",
       "      <td>1</td>\n",
       "      <td>2</td>\n",
       "      <td>1</td>\n",
       "      <td>1</td>\n",
       "      <td>36000</td>\n",
       "      <td>3204</td>\n",
       "      <td>60</td>\n",
       "      <td>70</td>\n",
       "      <td>No</td>\n",
       "    </tr>\n",
       "    <tr>\n",
       "      <th>2</th>\n",
       "      <td>2</td>\n",
       "      <td>BENE11001</td>\n",
       "      <td>CLM68358</td>\n",
       "      <td>2009-09-17</td>\n",
       "      <td>2009-09-20</td>\n",
       "      <td>PRV56046</td>\n",
       "      <td>5000</td>\n",
       "      <td>PHY372395</td>\n",
       "      <td>NaN</td>\n",
       "      <td>PHY324689</td>\n",
       "      <td>...</td>\n",
       "      <td>1</td>\n",
       "      <td>1</td>\n",
       "      <td>2</td>\n",
       "      <td>1</td>\n",
       "      <td>1</td>\n",
       "      <td>36000</td>\n",
       "      <td>3204</td>\n",
       "      <td>60</td>\n",
       "      <td>70</td>\n",
       "      <td>No</td>\n",
       "    </tr>\n",
       "    <tr>\n",
       "      <th>3</th>\n",
       "      <td>3</td>\n",
       "      <td>BENE11011</td>\n",
       "      <td>CLM38412</td>\n",
       "      <td>2009-02-14</td>\n",
       "      <td>2009-02-22</td>\n",
       "      <td>PRV52405</td>\n",
       "      <td>5000</td>\n",
       "      <td>PHY369659</td>\n",
       "      <td>PHY392961</td>\n",
       "      <td>PHY349768</td>\n",
       "      <td>...</td>\n",
       "      <td>1</td>\n",
       "      <td>2</td>\n",
       "      <td>2</td>\n",
       "      <td>1</td>\n",
       "      <td>1</td>\n",
       "      <td>5000</td>\n",
       "      <td>1068</td>\n",
       "      <td>250</td>\n",
       "      <td>320</td>\n",
       "      <td>No</td>\n",
       "    </tr>\n",
       "    <tr>\n",
       "      <th>4</th>\n",
       "      <td>4</td>\n",
       "      <td>BENE11014</td>\n",
       "      <td>CLM63689</td>\n",
       "      <td>2009-08-13</td>\n",
       "      <td>2009-08-30</td>\n",
       "      <td>PRV56614</td>\n",
       "      <td>10000</td>\n",
       "      <td>PHY379376</td>\n",
       "      <td>PHY398258</td>\n",
       "      <td>NaN</td>\n",
       "      <td>...</td>\n",
       "      <td>2</td>\n",
       "      <td>1</td>\n",
       "      <td>2</td>\n",
       "      <td>2</td>\n",
       "      <td>2</td>\n",
       "      <td>21260</td>\n",
       "      <td>2136</td>\n",
       "      <td>120</td>\n",
       "      <td>100</td>\n",
       "      <td>No</td>\n",
       "    </tr>\n",
       "  </tbody>\n",
       "</table>\n",
       "<p>5 rows × 57 columns</p>\n",
       "</div>"
      ],
      "text/plain": [
       "   Unnamed: 0     BeneID   ClaimID ClaimStartDt  ClaimEndDt  Provider  \\\n",
       "0           0  BENE11001  CLM46614   2009-04-12  2009-04-18  PRV55912   \n",
       "1           1  BENE11001  CLM66048   2009-08-31  2009-09-02  PRV55907   \n",
       "2           2  BENE11001  CLM68358   2009-09-17  2009-09-20  PRV56046   \n",
       "3           3  BENE11011  CLM38412   2009-02-14  2009-02-22  PRV52405   \n",
       "4           4  BENE11014  CLM63689   2009-08-13  2009-08-30  PRV56614   \n",
       "\n",
       "   InscClaimAmtReimbursed AttendingPhysician OperatingPhysician  \\\n",
       "0                   26000          PHY390922                NaN   \n",
       "1                    5000          PHY318495          PHY318495   \n",
       "2                    5000          PHY372395                NaN   \n",
       "3                    5000          PHY369659          PHY392961   \n",
       "4                   10000          PHY379376          PHY398258   \n",
       "\n",
       "  OtherPhysician  ... ChronicCond_Diabetes ChronicCond_IschemicHeart  \\\n",
       "0            NaN  ...                    1                         1   \n",
       "1            NaN  ...                    1                         1   \n",
       "2      PHY324689  ...                    1                         1   \n",
       "3      PHY349768  ...                    1                         2   \n",
       "4            NaN  ...                    2                         1   \n",
       "\n",
       "   ChronicCond_Osteoporasis ChronicCond_rheumatoidarthritis  \\\n",
       "0                         2                               1   \n",
       "1                         2                               1   \n",
       "2                         2                               1   \n",
       "3                         2                               1   \n",
       "4                         2                               2   \n",
       "\n",
       "  ChronicCond_stroke IPAnnualReimbursementAmt IPAnnualDeductibleAmt  \\\n",
       "0                  1                    36000                  3204   \n",
       "1                  1                    36000                  3204   \n",
       "2                  1                    36000                  3204   \n",
       "3                  1                     5000                  1068   \n",
       "4                  2                    21260                  2136   \n",
       "\n",
       "  OPAnnualReimbursementAmt OPAnnualDeductibleAmt PotentialFraud  \n",
       "0                       60                    70            Yes  \n",
       "1                       60                    70             No  \n",
       "2                       60                    70             No  \n",
       "3                      250                   320             No  \n",
       "4                      120                   100             No  \n",
       "\n",
       "[5 rows x 57 columns]"
      ]
     },
     "execution_count": 4,
     "metadata": {},
     "output_type": "execute_result"
    }
   ],
   "source": [
    "df_raw.head()"
   ]
  },
  {
   "cell_type": "code",
   "execution_count": 5,
   "id": "21892f55",
   "metadata": {},
   "outputs": [],
   "source": [
    "# remove \"unnamed\" column\n",
    "df_raw = df_raw.iloc[:,1:]"
   ]
  },
  {
   "cell_type": "code",
   "execution_count": 6,
   "id": "923aa78f",
   "metadata": {},
   "outputs": [
    {
     "name": "stdout",
     "output_type": "stream",
     "text": [
      "<class 'pandas.core.frame.DataFrame'>\n",
      "RangeIndex: 558211 entries, 0 to 558210\n",
      "Data columns (total 56 columns):\n",
      " #   Column                           Non-Null Count   Dtype  \n",
      "---  ------                           --------------   -----  \n",
      " 0   BeneID                           558211 non-null  object \n",
      " 1   ClaimID                          558211 non-null  object \n",
      " 2   ClaimStartDt                     558211 non-null  object \n",
      " 3   ClaimEndDt                       558211 non-null  object \n",
      " 4   Provider                         558211 non-null  object \n",
      " 5   InscClaimAmtReimbursed           558211 non-null  int64  \n",
      " 6   AttendingPhysician               556703 non-null  object \n",
      " 7   OperatingPhysician               114447 non-null  object \n",
      " 8   OtherPhysician                   199736 non-null  object \n",
      " 9   AdmissionDt                      40474 non-null   object \n",
      " 10  ClmAdmitDiagnosisCode            145899 non-null  object \n",
      " 11  DeductibleAmtPaid                557312 non-null  float64\n",
      " 12  DischargeDt                      40474 non-null   object \n",
      " 13  DiagnosisGroupCode               40474 non-null   object \n",
      " 14  ClmDiagnosisCode_1               547758 non-null  object \n",
      " 15  ClmDiagnosisCode_2               362605 non-null  object \n",
      " 16  ClmDiagnosisCode_3               243055 non-null  object \n",
      " 17  ClmDiagnosisCode_4               164536 non-null  object \n",
      " 18  ClmDiagnosisCode_5               111924 non-null  object \n",
      " 19  ClmDiagnosisCode_6               84392 non-null   object \n",
      " 20  ClmDiagnosisCode_7               66177 non-null   object \n",
      " 21  ClmDiagnosisCode_8               53444 non-null   object \n",
      " 22  ClmDiagnosisCode_9               41815 non-null   object \n",
      " 23  ClmDiagnosisCode_10              5010 non-null    object \n",
      " 24  ClmProcedureCode_1               23310 non-null   float64\n",
      " 25  ClmProcedureCode_2               5490 non-null    float64\n",
      " 26  ClmProcedureCode_3               969 non-null     float64\n",
      " 27  ClmProcedureCode_4               118 non-null     float64\n",
      " 28  ClmProcedureCode_5               9 non-null       float64\n",
      " 29  ClmProcedureCode_6               0 non-null       float64\n",
      " 30  In_Out                           558211 non-null  int64  \n",
      " 31  DOB                              558211 non-null  object \n",
      " 32  DOD                              4131 non-null    object \n",
      " 33  Gender                           558211 non-null  int64  \n",
      " 34  Race                             558211 non-null  int64  \n",
      " 35  RenalDiseaseIndicator            558211 non-null  object \n",
      " 36  State                            558211 non-null  int64  \n",
      " 37  County                           558211 non-null  int64  \n",
      " 38  NoOfMonths_PartACov              558211 non-null  int64  \n",
      " 39  NoOfMonths_PartBCov              558211 non-null  int64  \n",
      " 40  ChronicCond_Alzheimer            558211 non-null  int64  \n",
      " 41  ChronicCond_Heartfailure         558211 non-null  int64  \n",
      " 42  ChronicCond_KidneyDisease        558211 non-null  int64  \n",
      " 43  ChronicCond_Cancer               558211 non-null  int64  \n",
      " 44  ChronicCond_ObstrPulmonary       558211 non-null  int64  \n",
      " 45  ChronicCond_Depression           558211 non-null  int64  \n",
      " 46  ChronicCond_Diabetes             558211 non-null  int64  \n",
      " 47  ChronicCond_IschemicHeart        558211 non-null  int64  \n",
      " 48  ChronicCond_Osteoporasis         558211 non-null  int64  \n",
      " 49  ChronicCond_rheumatoidarthritis  558211 non-null  int64  \n",
      " 50  ChronicCond_stroke               558211 non-null  int64  \n",
      " 51  IPAnnualReimbursementAmt         558211 non-null  int64  \n",
      " 52  IPAnnualDeductibleAmt            558211 non-null  int64  \n",
      " 53  OPAnnualReimbursementAmt         558211 non-null  int64  \n",
      " 54  OPAnnualDeductibleAmt            558211 non-null  int64  \n",
      " 55  PotentialFraud                   558211 non-null  object \n",
      "dtypes: float64(7), int64(23), object(26)\n",
      "memory usage: 238.5+ MB\n"
     ]
    }
   ],
   "source": [
    "df_raw.info()"
   ]
  },
  {
   "cell_type": "markdown",
   "id": "4e253b8f",
   "metadata": {},
   "source": [
    "### 2. Aggregate features grouped by Providers"
   ]
  },
  {
   "cell_type": "markdown",
   "id": "7fc93668",
   "metadata": {},
   "source": [
    "#### 2.1 BeneID"
   ]
  },
  {
   "cell_type": "code",
   "execution_count": 9,
   "id": "91ddade8",
   "metadata": {},
   "outputs": [],
   "source": [
    "ClaimCount = df_raw.groupby(['Provider']).ClaimID.count()"
   ]
  },
  {
   "cell_type": "code",
   "execution_count": 10,
   "id": "9113539a",
   "metadata": {},
   "outputs": [],
   "source": [
    "uniqBeneCount = df_raw.groupby(['Provider']).BeneID.nunique()"
   ]
  },
  {
   "cell_type": "code",
   "execution_count": 11,
   "id": "d271cfe0",
   "metadata": {},
   "outputs": [
    {
     "data": {
      "text/plain": [
       "Provider\n",
       "PRV51001      1\n",
       "PRV51003     15\n",
       "PRV51004     11\n",
       "PRV51005    670\n",
       "PRV51007     14\n",
       "           ... \n",
       "PRV57759      4\n",
       "PRV57760     13\n",
       "PRV57761     15\n",
       "PRV57762      0\n",
       "PRV57763     48\n",
       "Length: 5410, dtype: int64"
      ]
     },
     "execution_count": 11,
     "metadata": {},
     "output_type": "execute_result"
    }
   ],
   "source": [
    "ClaimCount - uniqBeneCount  # There are some duplicated beneficiaries"
   ]
  },
  {
   "cell_type": "code",
   "execution_count": 12,
   "id": "f9fc9c42",
   "metadata": {},
   "outputs": [
    {
     "data": {
      "text/plain": [
       "Provider\n",
       "PRV51001    1.041667\n",
       "PRV51003    1.128205\n",
       "PRV51004    1.079710\n",
       "PRV51005    2.353535\n",
       "PRV51007    1.241379\n",
       "              ...   \n",
       "PRV57759    1.166667\n",
       "PRV57760    2.444444\n",
       "PRV57761    1.223881\n",
       "PRV57762    1.000000\n",
       "PRV57763    1.685714\n",
       "Length: 5410, dtype: float64"
      ]
     },
     "execution_count": 12,
     "metadata": {},
     "output_type": "execute_result"
    }
   ],
   "source": [
    "ClmperBene = ClaimCount/uniqBeneCount\n",
    "ClmperBene"
   ]
  },
  {
   "cell_type": "markdown",
   "id": "b5c8386e",
   "metadata": {},
   "source": [
    "#### 2.2 InscClaimAmtReimbursed"
   ]
  },
  {
   "cell_type": "code",
   "execution_count": 13,
   "id": "74b6774a",
   "metadata": {},
   "outputs": [],
   "source": [
    "TotalClmAmtReim = df_raw.groupby(['Provider']).InscClaimAmtReimbursed.sum()"
   ]
  },
  {
   "cell_type": "code",
   "execution_count": 14,
   "id": "25736bc9",
   "metadata": {},
   "outputs": [],
   "source": [
    "MeanClmAmtReim = df_raw.groupby(['Provider']).InscClaimAmtReimbursed.mean()"
   ]
  },
  {
   "cell_type": "code",
   "execution_count": 15,
   "id": "5345b236",
   "metadata": {},
   "outputs": [
    {
     "data": {
      "text/plain": [
       "Provider\n",
       "PRV51001    42000\n",
       "PRV51003    57000\n",
       "PRV51004     3300\n",
       "PRV51005     4080\n",
       "PRV51007    10000\n",
       "            ...  \n",
       "PRV57759     3300\n",
       "PRV57760     1100\n",
       "PRV57761     2200\n",
       "PRV57762     1900\n",
       "PRV57763     3300\n",
       "Name: InscClaimAmtReimbursed, Length: 5410, dtype: int64"
      ]
     },
     "execution_count": 15,
     "metadata": {},
     "output_type": "execute_result"
    }
   ],
   "source": [
    "MaxClmAmtReim = df_raw.groupby(['Provider']).InscClaimAmtReimbursed.max()\n",
    "MaxClmAmtReim"
   ]
  },
  {
   "cell_type": "markdown",
   "id": "869447e1",
   "metadata": {},
   "source": [
    "#### 2.3 AttendingPhysician"
   ]
  },
  {
   "cell_type": "code",
   "execution_count": 16,
   "id": "69e688ec",
   "metadata": {},
   "outputs": [],
   "source": [
    "uniqAtPhysnCount= df_raw.groupby(['Provider']).AttendingPhysician.nunique()"
   ]
  },
  {
   "cell_type": "code",
   "execution_count": 17,
   "id": "2d897299",
   "metadata": {},
   "outputs": [
    {
     "data": {
      "text/plain": [
       "Provider\n",
       "PRV51001      1.785714\n",
       "PRV51003      3.000000\n",
       "PRV51004      3.921053\n",
       "PRV51005    194.166667\n",
       "PRV51007      7.200000\n",
       "               ...    \n",
       "PRV57759     28.000000\n",
       "PRV57760      7.333333\n",
       "PRV57761     41.000000\n",
       "PRV57762      1.000000\n",
       "PRV57763    118.000000\n",
       "Length: 5410, dtype: float64"
      ]
     },
     "execution_count": 17,
     "metadata": {},
     "output_type": "execute_result"
    }
   ],
   "source": [
    "ClmperAtPhysn = ClaimCount/uniqAtPhysnCount\n",
    "ClmperAtPhysn"
   ]
  },
  {
   "cell_type": "markdown",
   "id": "89b1fbad",
   "metadata": {},
   "source": [
    "#### 2.4 OperatingPhysician"
   ]
  },
  {
   "cell_type": "code",
   "execution_count": 18,
   "id": "35778464",
   "metadata": {},
   "outputs": [],
   "source": [
    "uniqOPPhysnCount = df_raw.groupby(['Provider']).OperatingPhysician.nunique()"
   ]
  },
  {
   "cell_type": "code",
   "execution_count": 19,
   "id": "1959488a",
   "metadata": {},
   "outputs": [
    {
     "data": {
      "text/plain": [
       "Provider\n",
       "PRV51001      5.000000\n",
       "PRV51003     18.857143\n",
       "PRV51004      7.842105\n",
       "PRV51005    194.166667\n",
       "PRV51007     14.400000\n",
       "               ...    \n",
       "PRV57759     28.000000\n",
       "PRV57760     11.000000\n",
       "PRV57761     16.400000\n",
       "PRV57762           inf\n",
       "PRV57763    118.000000\n",
       "Length: 5410, dtype: float64"
      ]
     },
     "execution_count": 19,
     "metadata": {},
     "output_type": "execute_result"
    }
   ],
   "source": [
    "ClmperOPPhysn = ClaimCount/uniqOPPhysnCount\n",
    "ClmperOPPhysn"
   ]
  },
  {
   "cell_type": "markdown",
   "id": "42ffd037",
   "metadata": {},
   "source": [
    "#### 2.5 OtherPhysician"
   ]
  },
  {
   "cell_type": "code",
   "execution_count": 20,
   "id": "8fe9a7c1",
   "metadata": {},
   "outputs": [],
   "source": [
    "uniqOTPhysnCount = df_raw.groupby(['Provider']).OtherPhysician.nunique()"
   ]
  },
  {
   "cell_type": "code",
   "execution_count": 21,
   "id": "1a57d855",
   "metadata": {
    "scrolled": false
   },
   "outputs": [
    {
     "data": {
      "text/plain": [
       "Provider\n",
       "PRV51001      3.125000\n",
       "PRV51003      6.000000\n",
       "PRV51004      5.730769\n",
       "PRV51005    291.250000\n",
       "PRV51007     10.285714\n",
       "               ...    \n",
       "PRV57759     28.000000\n",
       "PRV57760     11.000000\n",
       "PRV57761     41.000000\n",
       "PRV57762           inf\n",
       "PRV57763    118.000000\n",
       "Length: 5410, dtype: float64"
      ]
     },
     "execution_count": 21,
     "metadata": {},
     "output_type": "execute_result"
    }
   ],
   "source": [
    "ClmperOTPhysn = ClaimCount/uniqOTPhysnCount\n",
    "ClmperOTPhysn"
   ]
  },
  {
   "cell_type": "markdown",
   "id": "8ca3003e",
   "metadata": {},
   "source": [
    "#### 2.6 AdmissinoDt and DischargeDt"
   ]
  },
  {
   "cell_type": "code",
   "execution_count": 22,
   "id": "680de864",
   "metadata": {},
   "outputs": [],
   "source": [
    "HospitalStay = pd.to_datetime(df_raw.DischargeDt) - pd.to_datetime(df_raw.AdmissionDt)"
   ]
  },
  {
   "cell_type": "code",
   "execution_count": 23,
   "id": "edf49136",
   "metadata": {},
   "outputs": [
    {
     "data": {
      "text/plain": [
       "str"
      ]
     },
     "execution_count": 23,
     "metadata": {},
     "output_type": "execute_result"
    }
   ],
   "source": [
    "type(df_raw.DischargeDt.iloc[0])"
   ]
  },
  {
   "cell_type": "code",
   "execution_count": 24,
   "id": "5685a812",
   "metadata": {
    "scrolled": false
   },
   "outputs": [
    {
     "data": {
      "text/plain": [
       "0         6 days\n",
       "1         2 days\n",
       "2         3 days\n",
       "3         8 days\n",
       "4        17 days\n",
       "           ...  \n",
       "558206       NaT\n",
       "558207       NaT\n",
       "558208       NaT\n",
       "558209       NaT\n",
       "558210       NaT\n",
       "Length: 558211, dtype: timedelta64[ns]"
      ]
     },
     "execution_count": 24,
     "metadata": {},
     "output_type": "execute_result"
    }
   ],
   "source": [
    "HospitalStay  # Timedelta; Only inpatient claims have HospitalStay"
   ]
  },
  {
   "cell_type": "code",
   "execution_count": 25,
   "id": "1d99fad9",
   "metadata": {},
   "outputs": [],
   "source": [
    "# convert timedelta to float number (dt.days) and NaT to 0\n",
    "HospitalStay = HospitalStay.dt.days.apply(lambda x: 0 if np.isnan(x) else x)  "
   ]
  },
  {
   "cell_type": "code",
   "execution_count": 26,
   "id": "d2246988",
   "metadata": {},
   "outputs": [],
   "source": [
    "HospitalStay.index = df_raw.Provider"
   ]
  },
  {
   "cell_type": "code",
   "execution_count": 27,
   "id": "fedd8623",
   "metadata": {},
   "outputs": [
    {
     "data": {
      "text/plain": [
       "Provider\n",
       "PRV55912     6.0\n",
       "PRV55907     2.0\n",
       "PRV56046     3.0\n",
       "PRV52405     8.0\n",
       "PRV56614    17.0\n",
       "            ... \n",
       "PRV53699     0.0\n",
       "PRV53702     0.0\n",
       "PRV53676     0.0\n",
       "PRV53689     0.0\n",
       "PRV53689     0.0\n",
       "Length: 558211, dtype: float64"
      ]
     },
     "execution_count": 27,
     "metadata": {},
     "output_type": "execute_result"
    }
   ],
   "source": [
    "HospitalStay"
   ]
  },
  {
   "cell_type": "code",
   "execution_count": 28,
   "id": "00b853d4",
   "metadata": {},
   "outputs": [],
   "source": [
    "HospitalStay_mean = HospitalStay.groupby(['Provider']).mean()\n",
    "HospitalStay_max = HospitalStay.groupby(['Provider']).max()"
   ]
  },
  {
   "cell_type": "markdown",
   "id": "af2dc028",
   "metadata": {},
   "source": [
    "#### 2.7 In_Out"
   ]
  },
  {
   "cell_type": "code",
   "execution_count": 29,
   "id": "caa48b24",
   "metadata": {},
   "outputs": [],
   "source": [
    "InClmsPct = df_raw.groupby(['Provider']).In_Out.sum()/ClaimCount  # 1 means in patient clms"
   ]
  },
  {
   "cell_type": "code",
   "execution_count": 30,
   "id": "479a1bae",
   "metadata": {
    "scrolled": true
   },
   "outputs": [
    {
     "data": {
      "text/plain": [
       "Provider\n",
       "PRV51001    0.200000\n",
       "PRV51003    0.469697\n",
       "PRV51004    0.000000\n",
       "PRV51005    0.000000\n",
       "PRV51007    0.041667\n",
       "              ...   \n",
       "PRV57759    0.000000\n",
       "PRV57760    0.000000\n",
       "PRV57761    0.000000\n",
       "PRV57762    0.000000\n",
       "PRV57763    0.000000\n",
       "Length: 5410, dtype: float64"
      ]
     },
     "execution_count": 30,
     "metadata": {},
     "output_type": "execute_result"
    }
   ],
   "source": [
    "InClmsPct  # Number of inpatient claims"
   ]
  },
  {
   "cell_type": "markdown",
   "id": "4e619549",
   "metadata": {},
   "source": [
    "### Export Data Table for Team"
   ]
  },
  {
   "cell_type": "code",
   "execution_count": 31,
   "id": "d58940e7",
   "metadata": {},
   "outputs": [],
   "source": [
    "data = {'uniqBeneCount':uniqBeneCount,\n",
    "        'ClmperBene':ClmperBene, \n",
    "        'MeanInscClaimAmtReimbursed':MeanClmAmtReim,\n",
    "        'MaxInscClaimAmtReimbursed':MaxClmAmtReim,\n",
    "        'uniqAtPhysnCount':uniqAtPhysnCount,\n",
    "        'ClmperAtPhysn':ClmperAtPhysn,\n",
    "        'uniqOPPhysnCount':uniqOPPhysnCount,\n",
    "        'ClmperOPPhysn':ClmperOPPhysn,\n",
    "        'uniqOTPhysnCount':uniqOTPhysnCount,\n",
    "        'ClmperOTPhysn':ClmperOTPhysn,\n",
    "        'InClmsPct':InClmsPct}\n",
    "df_provider_mz = pd.DataFrame(data = data)"
   ]
  },
  {
   "cell_type": "code",
   "execution_count": 32,
   "id": "846367c7",
   "metadata": {},
   "outputs": [
    {
     "data": {
      "text/html": [
       "<div>\n",
       "<style scoped>\n",
       "    .dataframe tbody tr th:only-of-type {\n",
       "        vertical-align: middle;\n",
       "    }\n",
       "\n",
       "    .dataframe tbody tr th {\n",
       "        vertical-align: top;\n",
       "    }\n",
       "\n",
       "    .dataframe thead th {\n",
       "        text-align: right;\n",
       "    }\n",
       "</style>\n",
       "<table border=\"1\" class=\"dataframe\">\n",
       "  <thead>\n",
       "    <tr style=\"text-align: right;\">\n",
       "      <th></th>\n",
       "      <th>uniqBeneCount</th>\n",
       "      <th>ClmperBene</th>\n",
       "      <th>MeanInscClaimAmtReimbursed</th>\n",
       "      <th>MaxInscClaimAmtReimbursed</th>\n",
       "      <th>uniqAtPhysnCount</th>\n",
       "      <th>ClmperAtPhysn</th>\n",
       "      <th>uniqOPPhysnCount</th>\n",
       "      <th>ClmperOPPhysn</th>\n",
       "      <th>uniqOTPhysnCount</th>\n",
       "      <th>ClmperOTPhysn</th>\n",
       "      <th>InClmsPct</th>\n",
       "    </tr>\n",
       "    <tr>\n",
       "      <th>Provider</th>\n",
       "      <th></th>\n",
       "      <th></th>\n",
       "      <th></th>\n",
       "      <th></th>\n",
       "      <th></th>\n",
       "      <th></th>\n",
       "      <th></th>\n",
       "      <th></th>\n",
       "      <th></th>\n",
       "      <th></th>\n",
       "      <th></th>\n",
       "    </tr>\n",
       "  </thead>\n",
       "  <tbody>\n",
       "    <tr>\n",
       "      <th>PRV51001</th>\n",
       "      <td>24</td>\n",
       "      <td>1.041667</td>\n",
       "      <td>4185.600000</td>\n",
       "      <td>42000</td>\n",
       "      <td>14</td>\n",
       "      <td>1.785714</td>\n",
       "      <td>5</td>\n",
       "      <td>5.000000</td>\n",
       "      <td>8</td>\n",
       "      <td>3.125000</td>\n",
       "      <td>0.200000</td>\n",
       "    </tr>\n",
       "    <tr>\n",
       "      <th>PRV51003</th>\n",
       "      <td>117</td>\n",
       "      <td>1.128205</td>\n",
       "      <td>4588.409091</td>\n",
       "      <td>57000</td>\n",
       "      <td>44</td>\n",
       "      <td>3.000000</td>\n",
       "      <td>7</td>\n",
       "      <td>18.857143</td>\n",
       "      <td>22</td>\n",
       "      <td>6.000000</td>\n",
       "      <td>0.469697</td>\n",
       "    </tr>\n",
       "    <tr>\n",
       "      <th>PRV51004</th>\n",
       "      <td>138</td>\n",
       "      <td>1.079710</td>\n",
       "      <td>350.134228</td>\n",
       "      <td>3300</td>\n",
       "      <td>38</td>\n",
       "      <td>3.921053</td>\n",
       "      <td>19</td>\n",
       "      <td>7.842105</td>\n",
       "      <td>26</td>\n",
       "      <td>5.730769</td>\n",
       "      <td>0.000000</td>\n",
       "    </tr>\n",
       "    <tr>\n",
       "      <th>PRV51005</th>\n",
       "      <td>495</td>\n",
       "      <td>2.353535</td>\n",
       "      <td>241.124464</td>\n",
       "      <td>4080</td>\n",
       "      <td>6</td>\n",
       "      <td>194.166667</td>\n",
       "      <td>6</td>\n",
       "      <td>194.166667</td>\n",
       "      <td>4</td>\n",
       "      <td>291.250000</td>\n",
       "      <td>0.000000</td>\n",
       "    </tr>\n",
       "    <tr>\n",
       "      <th>PRV51007</th>\n",
       "      <td>58</td>\n",
       "      <td>1.241379</td>\n",
       "      <td>468.194444</td>\n",
       "      <td>10000</td>\n",
       "      <td>10</td>\n",
       "      <td>7.200000</td>\n",
       "      <td>5</td>\n",
       "      <td>14.400000</td>\n",
       "      <td>7</td>\n",
       "      <td>10.285714</td>\n",
       "      <td>0.041667</td>\n",
       "    </tr>\n",
       "  </tbody>\n",
       "</table>\n",
       "</div>"
      ],
      "text/plain": [
       "          uniqBeneCount  ClmperBene  MeanInscClaimAmtReimbursed  \\\n",
       "Provider                                                          \n",
       "PRV51001             24    1.041667                 4185.600000   \n",
       "PRV51003            117    1.128205                 4588.409091   \n",
       "PRV51004            138    1.079710                  350.134228   \n",
       "PRV51005            495    2.353535                  241.124464   \n",
       "PRV51007             58    1.241379                  468.194444   \n",
       "\n",
       "          MaxInscClaimAmtReimbursed  uniqAtPhysnCount  ClmperAtPhysn  \\\n",
       "Provider                                                               \n",
       "PRV51001                      42000                14       1.785714   \n",
       "PRV51003                      57000                44       3.000000   \n",
       "PRV51004                       3300                38       3.921053   \n",
       "PRV51005                       4080                 6     194.166667   \n",
       "PRV51007                      10000                10       7.200000   \n",
       "\n",
       "          uniqOPPhysnCount  ClmperOPPhysn  uniqOTPhysnCount  ClmperOTPhysn  \\\n",
       "Provider                                                                     \n",
       "PRV51001                 5       5.000000                 8       3.125000   \n",
       "PRV51003                 7      18.857143                22       6.000000   \n",
       "PRV51004                19       7.842105                26       5.730769   \n",
       "PRV51005                 6     194.166667                 4     291.250000   \n",
       "PRV51007                 5      14.400000                 7      10.285714   \n",
       "\n",
       "          InClmsPct  \n",
       "Provider             \n",
       "PRV51001   0.200000  \n",
       "PRV51003   0.469697  \n",
       "PRV51004   0.000000  \n",
       "PRV51005   0.000000  \n",
       "PRV51007   0.041667  "
      ]
     },
     "execution_count": 32,
     "metadata": {},
     "output_type": "execute_result"
    }
   ],
   "source": [
    "df_provider_mz.head()"
   ]
  },
  {
   "cell_type": "code",
   "execution_count": 33,
   "id": "6a8de27a",
   "metadata": {},
   "outputs": [],
   "source": [
    "df_provider_mz.to_csv(\"df_provider_mz.csv\")"
   ]
  },
  {
   "cell_type": "code",
   "execution_count": null,
   "id": "fa2cd846",
   "metadata": {},
   "outputs": [],
   "source": []
  }
 ],
 "metadata": {
  "kernelspec": {
   "display_name": "Python 3 (ipykernel)",
   "language": "python",
   "name": "python3"
  },
  "language_info": {
   "codemirror_mode": {
    "name": "ipython",
    "version": 3
   },
   "file_extension": ".py",
   "mimetype": "text/x-python",
   "name": "python",
   "nbconvert_exporter": "python",
   "pygments_lexer": "ipython3",
   "version": "3.9.7"
  }
 },
 "nbformat": 4,
 "nbformat_minor": 5
}
