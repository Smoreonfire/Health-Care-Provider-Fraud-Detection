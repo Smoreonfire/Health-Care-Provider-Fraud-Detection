{
 "cells": [
  {
   "cell_type": "code",
   "execution_count": 1,
   "id": "c9ebc161",
   "metadata": {},
   "outputs": [],
   "source": [
    "import pandas as pd\n",
    "import numpy as np\n",
    "import matplotlib.pyplot as plt\n",
    "%matplotlib inline"
   ]
  },
  {
   "cell_type": "code",
   "execution_count": 2,
   "id": "62683560",
   "metadata": {},
   "outputs": [
    {
     "data": {
      "text/plain": [
       "'/Users/redstockings/Desktop/Techlent/HealthCare Provider Fraud'"
      ]
     },
     "execution_count": 2,
     "metadata": {},
     "output_type": "execute_result"
    }
   ],
   "source": [
    "%pwd"
   ]
  },
  {
   "cell_type": "markdown",
   "id": "de146e63",
   "metadata": {},
   "source": [
    "### 1. Import data"
   ]
  },
  {
   "cell_type": "code",
   "execution_count": 3,
   "id": "3039918f",
   "metadata": {},
   "outputs": [],
   "source": [
    "df_train_inpatient = pd.read_csv(\"/Users/redstockings/Desktop/Techlent/HealthCare Provider Fraud/data/Train_Inpatientdata-1542865627584.csv\")"
   ]
  },
  {
   "cell_type": "code",
   "execution_count": 4,
   "id": "2d5357d7",
   "metadata": {
    "scrolled": true
   },
   "outputs": [
    {
     "data": {
      "text/html": [
       "<div>\n",
       "<style scoped>\n",
       "    .dataframe tbody tr th:only-of-type {\n",
       "        vertical-align: middle;\n",
       "    }\n",
       "\n",
       "    .dataframe tbody tr th {\n",
       "        vertical-align: top;\n",
       "    }\n",
       "\n",
       "    .dataframe thead th {\n",
       "        text-align: right;\n",
       "    }\n",
       "</style>\n",
       "<table border=\"1\" class=\"dataframe\">\n",
       "  <thead>\n",
       "    <tr style=\"text-align: right;\">\n",
       "      <th></th>\n",
       "      <th>BeneID</th>\n",
       "      <th>ClaimID</th>\n",
       "      <th>ClaimStartDt</th>\n",
       "      <th>ClaimEndDt</th>\n",
       "      <th>Provider</th>\n",
       "      <th>InscClaimAmtReimbursed</th>\n",
       "      <th>AttendingPhysician</th>\n",
       "      <th>OperatingPhysician</th>\n",
       "      <th>OtherPhysician</th>\n",
       "      <th>AdmissionDt</th>\n",
       "      <th>...</th>\n",
       "      <th>ClmDiagnosisCode_7</th>\n",
       "      <th>ClmDiagnosisCode_8</th>\n",
       "      <th>ClmDiagnosisCode_9</th>\n",
       "      <th>ClmDiagnosisCode_10</th>\n",
       "      <th>ClmProcedureCode_1</th>\n",
       "      <th>ClmProcedureCode_2</th>\n",
       "      <th>ClmProcedureCode_3</th>\n",
       "      <th>ClmProcedureCode_4</th>\n",
       "      <th>ClmProcedureCode_5</th>\n",
       "      <th>ClmProcedureCode_6</th>\n",
       "    </tr>\n",
       "  </thead>\n",
       "  <tbody>\n",
       "    <tr>\n",
       "      <th>0</th>\n",
       "      <td>BENE11001</td>\n",
       "      <td>CLM46614</td>\n",
       "      <td>2009-04-12</td>\n",
       "      <td>2009-04-18</td>\n",
       "      <td>PRV55912</td>\n",
       "      <td>26000</td>\n",
       "      <td>PHY390922</td>\n",
       "      <td>NaN</td>\n",
       "      <td>NaN</td>\n",
       "      <td>2009-04-12</td>\n",
       "      <td>...</td>\n",
       "      <td>2724</td>\n",
       "      <td>19889</td>\n",
       "      <td>5849</td>\n",
       "      <td>NaN</td>\n",
       "      <td>NaN</td>\n",
       "      <td>NaN</td>\n",
       "      <td>NaN</td>\n",
       "      <td>NaN</td>\n",
       "      <td>NaN</td>\n",
       "      <td>NaN</td>\n",
       "    </tr>\n",
       "    <tr>\n",
       "      <th>1</th>\n",
       "      <td>BENE11001</td>\n",
       "      <td>CLM66048</td>\n",
       "      <td>2009-08-31</td>\n",
       "      <td>2009-09-02</td>\n",
       "      <td>PRV55907</td>\n",
       "      <td>5000</td>\n",
       "      <td>PHY318495</td>\n",
       "      <td>PHY318495</td>\n",
       "      <td>NaN</td>\n",
       "      <td>2009-08-31</td>\n",
       "      <td>...</td>\n",
       "      <td>NaN</td>\n",
       "      <td>NaN</td>\n",
       "      <td>NaN</td>\n",
       "      <td>NaN</td>\n",
       "      <td>7092.0</td>\n",
       "      <td>NaN</td>\n",
       "      <td>NaN</td>\n",
       "      <td>NaN</td>\n",
       "      <td>NaN</td>\n",
       "      <td>NaN</td>\n",
       "    </tr>\n",
       "    <tr>\n",
       "      <th>2</th>\n",
       "      <td>BENE11001</td>\n",
       "      <td>CLM68358</td>\n",
       "      <td>2009-09-17</td>\n",
       "      <td>2009-09-20</td>\n",
       "      <td>PRV56046</td>\n",
       "      <td>5000</td>\n",
       "      <td>PHY372395</td>\n",
       "      <td>NaN</td>\n",
       "      <td>PHY324689</td>\n",
       "      <td>2009-09-17</td>\n",
       "      <td>...</td>\n",
       "      <td>NaN</td>\n",
       "      <td>NaN</td>\n",
       "      <td>NaN</td>\n",
       "      <td>NaN</td>\n",
       "      <td>NaN</td>\n",
       "      <td>NaN</td>\n",
       "      <td>NaN</td>\n",
       "      <td>NaN</td>\n",
       "      <td>NaN</td>\n",
       "      <td>NaN</td>\n",
       "    </tr>\n",
       "    <tr>\n",
       "      <th>3</th>\n",
       "      <td>BENE11011</td>\n",
       "      <td>CLM38412</td>\n",
       "      <td>2009-02-14</td>\n",
       "      <td>2009-02-22</td>\n",
       "      <td>PRV52405</td>\n",
       "      <td>5000</td>\n",
       "      <td>PHY369659</td>\n",
       "      <td>PHY392961</td>\n",
       "      <td>PHY349768</td>\n",
       "      <td>2009-02-14</td>\n",
       "      <td>...</td>\n",
       "      <td>25062</td>\n",
       "      <td>40390</td>\n",
       "      <td>4019</td>\n",
       "      <td>NaN</td>\n",
       "      <td>331.0</td>\n",
       "      <td>NaN</td>\n",
       "      <td>NaN</td>\n",
       "      <td>NaN</td>\n",
       "      <td>NaN</td>\n",
       "      <td>NaN</td>\n",
       "    </tr>\n",
       "    <tr>\n",
       "      <th>4</th>\n",
       "      <td>BENE11014</td>\n",
       "      <td>CLM63689</td>\n",
       "      <td>2009-08-13</td>\n",
       "      <td>2009-08-30</td>\n",
       "      <td>PRV56614</td>\n",
       "      <td>10000</td>\n",
       "      <td>PHY379376</td>\n",
       "      <td>PHY398258</td>\n",
       "      <td>NaN</td>\n",
       "      <td>2009-08-13</td>\n",
       "      <td>...</td>\n",
       "      <td>5119</td>\n",
       "      <td>29620</td>\n",
       "      <td>20300</td>\n",
       "      <td>NaN</td>\n",
       "      <td>3893.0</td>\n",
       "      <td>NaN</td>\n",
       "      <td>NaN</td>\n",
       "      <td>NaN</td>\n",
       "      <td>NaN</td>\n",
       "      <td>NaN</td>\n",
       "    </tr>\n",
       "  </tbody>\n",
       "</table>\n",
       "<p>5 rows × 30 columns</p>\n",
       "</div>"
      ],
      "text/plain": [
       "      BeneID   ClaimID ClaimStartDt  ClaimEndDt  Provider  \\\n",
       "0  BENE11001  CLM46614   2009-04-12  2009-04-18  PRV55912   \n",
       "1  BENE11001  CLM66048   2009-08-31  2009-09-02  PRV55907   \n",
       "2  BENE11001  CLM68358   2009-09-17  2009-09-20  PRV56046   \n",
       "3  BENE11011  CLM38412   2009-02-14  2009-02-22  PRV52405   \n",
       "4  BENE11014  CLM63689   2009-08-13  2009-08-30  PRV56614   \n",
       "\n",
       "   InscClaimAmtReimbursed AttendingPhysician OperatingPhysician  \\\n",
       "0                   26000          PHY390922                NaN   \n",
       "1                    5000          PHY318495          PHY318495   \n",
       "2                    5000          PHY372395                NaN   \n",
       "3                    5000          PHY369659          PHY392961   \n",
       "4                   10000          PHY379376          PHY398258   \n",
       "\n",
       "  OtherPhysician AdmissionDt  ... ClmDiagnosisCode_7  ClmDiagnosisCode_8  \\\n",
       "0            NaN  2009-04-12  ...               2724               19889   \n",
       "1            NaN  2009-08-31  ...                NaN                 NaN   \n",
       "2      PHY324689  2009-09-17  ...                NaN                 NaN   \n",
       "3      PHY349768  2009-02-14  ...              25062               40390   \n",
       "4            NaN  2009-08-13  ...               5119               29620   \n",
       "\n",
       "  ClmDiagnosisCode_9 ClmDiagnosisCode_10 ClmProcedureCode_1  \\\n",
       "0               5849                 NaN                NaN   \n",
       "1                NaN                 NaN             7092.0   \n",
       "2                NaN                 NaN                NaN   \n",
       "3               4019                 NaN              331.0   \n",
       "4              20300                 NaN             3893.0   \n",
       "\n",
       "  ClmProcedureCode_2 ClmProcedureCode_3 ClmProcedureCode_4 ClmProcedureCode_5  \\\n",
       "0                NaN                NaN                NaN                NaN   \n",
       "1                NaN                NaN                NaN                NaN   \n",
       "2                NaN                NaN                NaN                NaN   \n",
       "3                NaN                NaN                NaN                NaN   \n",
       "4                NaN                NaN                NaN                NaN   \n",
       "\n",
       "  ClmProcedureCode_6  \n",
       "0                NaN  \n",
       "1                NaN  \n",
       "2                NaN  \n",
       "3                NaN  \n",
       "4                NaN  \n",
       "\n",
       "[5 rows x 30 columns]"
      ]
     },
     "execution_count": 4,
     "metadata": {},
     "output_type": "execute_result"
    }
   ],
   "source": [
    "df_train_inpatient.head()"
   ]
  },
  {
   "cell_type": "code",
   "execution_count": 5,
   "id": "c7e72ca7",
   "metadata": {
    "scrolled": true
   },
   "outputs": [
    {
     "name": "stdout",
     "output_type": "stream",
     "text": [
      "<class 'pandas.core.frame.DataFrame'>\n",
      "RangeIndex: 40474 entries, 0 to 40473\n",
      "Data columns (total 30 columns):\n",
      " #   Column                  Non-Null Count  Dtype  \n",
      "---  ------                  --------------  -----  \n",
      " 0   BeneID                  40474 non-null  object \n",
      " 1   ClaimID                 40474 non-null  object \n",
      " 2   ClaimStartDt            40474 non-null  object \n",
      " 3   ClaimEndDt              40474 non-null  object \n",
      " 4   Provider                40474 non-null  object \n",
      " 5   InscClaimAmtReimbursed  40474 non-null  int64  \n",
      " 6   AttendingPhysician      40362 non-null  object \n",
      " 7   OperatingPhysician      23830 non-null  object \n",
      " 8   OtherPhysician          4690 non-null   object \n",
      " 9   AdmissionDt             40474 non-null  object \n",
      " 10  ClmAdmitDiagnosisCode   40474 non-null  object \n",
      " 11  DeductibleAmtPaid       39575 non-null  float64\n",
      " 12  DischargeDt             40474 non-null  object \n",
      " 13  DiagnosisGroupCode      40474 non-null  object \n",
      " 14  ClmDiagnosisCode_1      40474 non-null  object \n",
      " 15  ClmDiagnosisCode_2      40248 non-null  object \n",
      " 16  ClmDiagnosisCode_3      39798 non-null  object \n",
      " 17  ClmDiagnosisCode_4      38940 non-null  object \n",
      " 18  ClmDiagnosisCode_5      37580 non-null  object \n",
      " 19  ClmDiagnosisCode_6      35636 non-null  object \n",
      " 20  ClmDiagnosisCode_7      33216 non-null  object \n",
      " 21  ClmDiagnosisCode_8      30532 non-null  object \n",
      " 22  ClmDiagnosisCode_9      26977 non-null  object \n",
      " 23  ClmDiagnosisCode_10     3927 non-null   object \n",
      " 24  ClmProcedureCode_1      23148 non-null  float64\n",
      " 25  ClmProcedureCode_2      5454 non-null   float64\n",
      " 26  ClmProcedureCode_3      965 non-null    float64\n",
      " 27  ClmProcedureCode_4      116 non-null    float64\n",
      " 28  ClmProcedureCode_5      9 non-null      float64\n",
      " 29  ClmProcedureCode_6      0 non-null      float64\n",
      "dtypes: float64(7), int64(1), object(22)\n",
      "memory usage: 9.3+ MB\n"
     ]
    }
   ],
   "source": [
    "df_train_inpatient.info()"
   ]
  },
  {
   "cell_type": "code",
   "execution_count": 6,
   "id": "88785dae",
   "metadata": {},
   "outputs": [
    {
     "data": {
      "text/html": [
       "<div>\n",
       "<style scoped>\n",
       "    .dataframe tbody tr th:only-of-type {\n",
       "        vertical-align: middle;\n",
       "    }\n",
       "\n",
       "    .dataframe tbody tr th {\n",
       "        vertical-align: top;\n",
       "    }\n",
       "\n",
       "    .dataframe thead th {\n",
       "        text-align: right;\n",
       "    }\n",
       "</style>\n",
       "<table border=\"1\" class=\"dataframe\">\n",
       "  <thead>\n",
       "    <tr style=\"text-align: right;\">\n",
       "      <th></th>\n",
       "      <th>InscClaimAmtReimbursed</th>\n",
       "      <th>DeductibleAmtPaid</th>\n",
       "      <th>ClmProcedureCode_1</th>\n",
       "      <th>ClmProcedureCode_2</th>\n",
       "      <th>ClmProcedureCode_3</th>\n",
       "      <th>ClmProcedureCode_4</th>\n",
       "      <th>ClmProcedureCode_5</th>\n",
       "      <th>ClmProcedureCode_6</th>\n",
       "    </tr>\n",
       "  </thead>\n",
       "  <tbody>\n",
       "    <tr>\n",
       "      <th>count</th>\n",
       "      <td>40474.000000</td>\n",
       "      <td>39575.0</td>\n",
       "      <td>23148.000000</td>\n",
       "      <td>5454.000000</td>\n",
       "      <td>965.000000</td>\n",
       "      <td>116.000000</td>\n",
       "      <td>9.000000</td>\n",
       "      <td>0.0</td>\n",
       "    </tr>\n",
       "    <tr>\n",
       "      <th>mean</th>\n",
       "      <td>10087.884074</td>\n",
       "      <td>1068.0</td>\n",
       "      <td>5894.611759</td>\n",
       "      <td>4103.738174</td>\n",
       "      <td>4226.355440</td>\n",
       "      <td>4070.172414</td>\n",
       "      <td>5269.444444</td>\n",
       "      <td>NaN</td>\n",
       "    </tr>\n",
       "    <tr>\n",
       "      <th>std</th>\n",
       "      <td>10303.099402</td>\n",
       "      <td>0.0</td>\n",
       "      <td>3049.304400</td>\n",
       "      <td>2028.182156</td>\n",
       "      <td>2282.761581</td>\n",
       "      <td>1994.409802</td>\n",
       "      <td>2780.071632</td>\n",
       "      <td>NaN</td>\n",
       "    </tr>\n",
       "    <tr>\n",
       "      <th>min</th>\n",
       "      <td>0.000000</td>\n",
       "      <td>1068.0</td>\n",
       "      <td>11.000000</td>\n",
       "      <td>42.000000</td>\n",
       "      <td>42.000000</td>\n",
       "      <td>42.000000</td>\n",
       "      <td>2724.000000</td>\n",
       "      <td>NaN</td>\n",
       "    </tr>\n",
       "    <tr>\n",
       "      <th>25%</th>\n",
       "      <td>4000.000000</td>\n",
       "      <td>1068.0</td>\n",
       "      <td>3848.000000</td>\n",
       "      <td>2724.000000</td>\n",
       "      <td>2724.000000</td>\n",
       "      <td>2758.750000</td>\n",
       "      <td>4139.000000</td>\n",
       "      <td>NaN</td>\n",
       "    </tr>\n",
       "    <tr>\n",
       "      <th>50%</th>\n",
       "      <td>7000.000000</td>\n",
       "      <td>1068.0</td>\n",
       "      <td>5369.000000</td>\n",
       "      <td>4019.000000</td>\n",
       "      <td>4019.000000</td>\n",
       "      <td>4019.000000</td>\n",
       "      <td>4139.000000</td>\n",
       "      <td>NaN</td>\n",
       "    </tr>\n",
       "    <tr>\n",
       "      <th>75%</th>\n",
       "      <td>12000.000000</td>\n",
       "      <td>1068.0</td>\n",
       "      <td>8666.250000</td>\n",
       "      <td>4439.000000</td>\n",
       "      <td>5185.000000</td>\n",
       "      <td>4439.000000</td>\n",
       "      <td>5185.000000</td>\n",
       "      <td>NaN</td>\n",
       "    </tr>\n",
       "    <tr>\n",
       "      <th>max</th>\n",
       "      <td>125000.000000</td>\n",
       "      <td>1068.0</td>\n",
       "      <td>9999.000000</td>\n",
       "      <td>9999.000000</td>\n",
       "      <td>9999.000000</td>\n",
       "      <td>9986.000000</td>\n",
       "      <td>9982.000000</td>\n",
       "      <td>NaN</td>\n",
       "    </tr>\n",
       "  </tbody>\n",
       "</table>\n",
       "</div>"
      ],
      "text/plain": [
       "       InscClaimAmtReimbursed  DeductibleAmtPaid  ClmProcedureCode_1  \\\n",
       "count            40474.000000            39575.0        23148.000000   \n",
       "mean             10087.884074             1068.0         5894.611759   \n",
       "std              10303.099402                0.0         3049.304400   \n",
       "min                  0.000000             1068.0           11.000000   \n",
       "25%               4000.000000             1068.0         3848.000000   \n",
       "50%               7000.000000             1068.0         5369.000000   \n",
       "75%              12000.000000             1068.0         8666.250000   \n",
       "max             125000.000000             1068.0         9999.000000   \n",
       "\n",
       "       ClmProcedureCode_2  ClmProcedureCode_3  ClmProcedureCode_4  \\\n",
       "count         5454.000000          965.000000          116.000000   \n",
       "mean          4103.738174         4226.355440         4070.172414   \n",
       "std           2028.182156         2282.761581         1994.409802   \n",
       "min             42.000000           42.000000           42.000000   \n",
       "25%           2724.000000         2724.000000         2758.750000   \n",
       "50%           4019.000000         4019.000000         4019.000000   \n",
       "75%           4439.000000         5185.000000         4439.000000   \n",
       "max           9999.000000         9999.000000         9986.000000   \n",
       "\n",
       "       ClmProcedureCode_5  ClmProcedureCode_6  \n",
       "count            9.000000                 0.0  \n",
       "mean          5269.444444                 NaN  \n",
       "std           2780.071632                 NaN  \n",
       "min           2724.000000                 NaN  \n",
       "25%           4139.000000                 NaN  \n",
       "50%           4139.000000                 NaN  \n",
       "75%           5185.000000                 NaN  \n",
       "max           9982.000000                 NaN  "
      ]
     },
     "execution_count": 6,
     "metadata": {},
     "output_type": "execute_result"
    }
   ],
   "source": [
    "df_train_inpatient.describe() \n",
    "#the describe() info for claim procedure codes and diagnosis procedure codes doesn't make sense since they are not numerical values. "
   ]
  },
  {
   "cell_type": "code",
   "execution_count": 7,
   "id": "1b095250",
   "metadata": {},
   "outputs": [],
   "source": [
    "df_train_outpatient = pd.read_csv(\"/Users/redstockings/Desktop/Techlent/HealthCare Provider Fraud/data/Train_Outpatientdata-1542865627584.csv\")"
   ]
  },
  {
   "cell_type": "code",
   "execution_count": 8,
   "id": "27db2ab3",
   "metadata": {},
   "outputs": [
    {
     "name": "stdout",
     "output_type": "stream",
     "text": [
      "<class 'pandas.core.frame.DataFrame'>\n",
      "RangeIndex: 517737 entries, 0 to 517736\n",
      "Data columns (total 27 columns):\n",
      " #   Column                  Non-Null Count   Dtype  \n",
      "---  ------                  --------------   -----  \n",
      " 0   BeneID                  517737 non-null  object \n",
      " 1   ClaimID                 517737 non-null  object \n",
      " 2   ClaimStartDt            517737 non-null  object \n",
      " 3   ClaimEndDt              517737 non-null  object \n",
      " 4   Provider                517737 non-null  object \n",
      " 5   InscClaimAmtReimbursed  517737 non-null  int64  \n",
      " 6   AttendingPhysician      516341 non-null  object \n",
      " 7   OperatingPhysician      90617 non-null   object \n",
      " 8   OtherPhysician          195046 non-null  object \n",
      " 9   ClmDiagnosisCode_1      507284 non-null  object \n",
      " 10  ClmDiagnosisCode_2      322357 non-null  object \n",
      " 11  ClmDiagnosisCode_3      203257 non-null  object \n",
      " 12  ClmDiagnosisCode_4      125596 non-null  object \n",
      " 13  ClmDiagnosisCode_5      74344 non-null   object \n",
      " 14  ClmDiagnosisCode_6      48756 non-null   object \n",
      " 15  ClmDiagnosisCode_7      32961 non-null   object \n",
      " 16  ClmDiagnosisCode_8      22912 non-null   object \n",
      " 17  ClmDiagnosisCode_9      14838 non-null   object \n",
      " 18  ClmDiagnosisCode_10     1083 non-null    object \n",
      " 19  ClmProcedureCode_1      162 non-null     float64\n",
      " 20  ClmProcedureCode_2      36 non-null      float64\n",
      " 21  ClmProcedureCode_3      4 non-null       float64\n",
      " 22  ClmProcedureCode_4      2 non-null       float64\n",
      " 23  ClmProcedureCode_5      0 non-null       float64\n",
      " 24  ClmProcedureCode_6      0 non-null       float64\n",
      " 25  DeductibleAmtPaid       517737 non-null  int64  \n",
      " 26  ClmAdmitDiagnosisCode   105425 non-null  object \n",
      "dtypes: float64(6), int64(2), object(19)\n",
      "memory usage: 106.7+ MB\n"
     ]
    }
   ],
   "source": [
    "df_train_outpatient.info()"
   ]
  },
  {
   "cell_type": "code",
   "execution_count": 9,
   "id": "422f9740",
   "metadata": {},
   "outputs": [
    {
     "data": {
      "text/html": [
       "<div>\n",
       "<style scoped>\n",
       "    .dataframe tbody tr th:only-of-type {\n",
       "        vertical-align: middle;\n",
       "    }\n",
       "\n",
       "    .dataframe tbody tr th {\n",
       "        vertical-align: top;\n",
       "    }\n",
       "\n",
       "    .dataframe thead th {\n",
       "        text-align: right;\n",
       "    }\n",
       "</style>\n",
       "<table border=\"1\" class=\"dataframe\">\n",
       "  <thead>\n",
       "    <tr style=\"text-align: right;\">\n",
       "      <th></th>\n",
       "      <th>InscClaimAmtReimbursed</th>\n",
       "      <th>ClmProcedureCode_1</th>\n",
       "      <th>ClmProcedureCode_2</th>\n",
       "      <th>ClmProcedureCode_3</th>\n",
       "      <th>ClmProcedureCode_4</th>\n",
       "      <th>ClmProcedureCode_5</th>\n",
       "      <th>ClmProcedureCode_6</th>\n",
       "      <th>DeductibleAmtPaid</th>\n",
       "    </tr>\n",
       "  </thead>\n",
       "  <tbody>\n",
       "    <tr>\n",
       "      <th>count</th>\n",
       "      <td>517737.000000</td>\n",
       "      <td>162.000000</td>\n",
       "      <td>36.000000</td>\n",
       "      <td>4.000000</td>\n",
       "      <td>2.000000</td>\n",
       "      <td>0.0</td>\n",
       "      <td>0.0</td>\n",
       "      <td>517737.000000</td>\n",
       "    </tr>\n",
       "    <tr>\n",
       "      <th>mean</th>\n",
       "      <td>286.334799</td>\n",
       "      <td>6116.611111</td>\n",
       "      <td>4503.277778</td>\n",
       "      <td>2959.000000</td>\n",
       "      <td>4075.500000</td>\n",
       "      <td>NaN</td>\n",
       "      <td>NaN</td>\n",
       "      <td>2.779233</td>\n",
       "    </tr>\n",
       "    <tr>\n",
       "      <th>std</th>\n",
       "      <td>694.034343</td>\n",
       "      <td>3217.719258</td>\n",
       "      <td>2504.015000</td>\n",
       "      <td>1863.455393</td>\n",
       "      <td>5323.806956</td>\n",
       "      <td>NaN</td>\n",
       "      <td>NaN</td>\n",
       "      <td>15.785839</td>\n",
       "    </tr>\n",
       "    <tr>\n",
       "      <th>min</th>\n",
       "      <td>0.000000</td>\n",
       "      <td>51.000000</td>\n",
       "      <td>412.000000</td>\n",
       "      <td>412.000000</td>\n",
       "      <td>311.000000</td>\n",
       "      <td>NaN</td>\n",
       "      <td>NaN</td>\n",
       "      <td>0.000000</td>\n",
       "    </tr>\n",
       "    <tr>\n",
       "      <th>25%</th>\n",
       "      <td>40.000000</td>\n",
       "      <td>3893.000000</td>\n",
       "      <td>2724.000000</td>\n",
       "      <td>2146.000000</td>\n",
       "      <td>2193.250000</td>\n",
       "      <td>NaN</td>\n",
       "      <td>NaN</td>\n",
       "      <td>0.000000</td>\n",
       "    </tr>\n",
       "    <tr>\n",
       "      <th>50%</th>\n",
       "      <td>80.000000</td>\n",
       "      <td>5244.500000</td>\n",
       "      <td>4019.000000</td>\n",
       "      <td>3511.500000</td>\n",
       "      <td>4075.500000</td>\n",
       "      <td>NaN</td>\n",
       "      <td>NaN</td>\n",
       "      <td>0.000000</td>\n",
       "    </tr>\n",
       "    <tr>\n",
       "      <th>75%</th>\n",
       "      <td>200.000000</td>\n",
       "      <td>9421.500000</td>\n",
       "      <td>5849.000000</td>\n",
       "      <td>4324.500000</td>\n",
       "      <td>5957.750000</td>\n",
       "      <td>NaN</td>\n",
       "      <td>NaN</td>\n",
       "      <td>0.000000</td>\n",
       "    </tr>\n",
       "    <tr>\n",
       "      <th>max</th>\n",
       "      <td>102500.000000</td>\n",
       "      <td>9999.000000</td>\n",
       "      <td>9982.000000</td>\n",
       "      <td>4401.000000</td>\n",
       "      <td>7840.000000</td>\n",
       "      <td>NaN</td>\n",
       "      <td>NaN</td>\n",
       "      <td>897.000000</td>\n",
       "    </tr>\n",
       "  </tbody>\n",
       "</table>\n",
       "</div>"
      ],
      "text/plain": [
       "       InscClaimAmtReimbursed  ClmProcedureCode_1  ClmProcedureCode_2  \\\n",
       "count           517737.000000          162.000000           36.000000   \n",
       "mean               286.334799         6116.611111         4503.277778   \n",
       "std                694.034343         3217.719258         2504.015000   \n",
       "min                  0.000000           51.000000          412.000000   \n",
       "25%                 40.000000         3893.000000         2724.000000   \n",
       "50%                 80.000000         5244.500000         4019.000000   \n",
       "75%                200.000000         9421.500000         5849.000000   \n",
       "max             102500.000000         9999.000000         9982.000000   \n",
       "\n",
       "       ClmProcedureCode_3  ClmProcedureCode_4  ClmProcedureCode_5  \\\n",
       "count            4.000000            2.000000                 0.0   \n",
       "mean          2959.000000         4075.500000                 NaN   \n",
       "std           1863.455393         5323.806956                 NaN   \n",
       "min            412.000000          311.000000                 NaN   \n",
       "25%           2146.000000         2193.250000                 NaN   \n",
       "50%           3511.500000         4075.500000                 NaN   \n",
       "75%           4324.500000         5957.750000                 NaN   \n",
       "max           4401.000000         7840.000000                 NaN   \n",
       "\n",
       "       ClmProcedureCode_6  DeductibleAmtPaid  \n",
       "count                 0.0      517737.000000  \n",
       "mean                  NaN           2.779233  \n",
       "std                   NaN          15.785839  \n",
       "min                   NaN           0.000000  \n",
       "25%                   NaN           0.000000  \n",
       "50%                   NaN           0.000000  \n",
       "75%                   NaN           0.000000  \n",
       "max                   NaN         897.000000  "
      ]
     },
     "execution_count": 9,
     "metadata": {},
     "output_type": "execute_result"
    }
   ],
   "source": [
    "df_train_outpatient.describe()\n",
    "#the describe() info for claim procedure codes and diagnosis procedure codes doesn't make sense since they are not numerical values. "
   ]
  },
  {
   "cell_type": "code",
   "execution_count": 10,
   "id": "2f39d900",
   "metadata": {},
   "outputs": [],
   "source": [
    "df_train_beneficiary = pd.read_csv(\"/Users/redstockings/Desktop/Techlent/HealthCare Provider Fraud/data/Train_Beneficiarydata-1542865627584.csv\")"
   ]
  },
  {
   "cell_type": "code",
   "execution_count": 11,
   "id": "67c7b8d7",
   "metadata": {
    "scrolled": false
   },
   "outputs": [
    {
     "name": "stdout",
     "output_type": "stream",
     "text": [
      "<class 'pandas.core.frame.DataFrame'>\n",
      "RangeIndex: 138556 entries, 0 to 138555\n",
      "Data columns (total 25 columns):\n",
      " #   Column                           Non-Null Count   Dtype \n",
      "---  ------                           --------------   ----- \n",
      " 0   BeneID                           138556 non-null  object\n",
      " 1   DOB                              138556 non-null  object\n",
      " 2   DOD                              1421 non-null    object\n",
      " 3   Gender                           138556 non-null  int64 \n",
      " 4   Race                             138556 non-null  int64 \n",
      " 5   RenalDiseaseIndicator            138556 non-null  object\n",
      " 6   State                            138556 non-null  int64 \n",
      " 7   County                           138556 non-null  int64 \n",
      " 8   NoOfMonths_PartACov              138556 non-null  int64 \n",
      " 9   NoOfMonths_PartBCov              138556 non-null  int64 \n",
      " 10  ChronicCond_Alzheimer            138556 non-null  int64 \n",
      " 11  ChronicCond_Heartfailure         138556 non-null  int64 \n",
      " 12  ChronicCond_KidneyDisease        138556 non-null  int64 \n",
      " 13  ChronicCond_Cancer               138556 non-null  int64 \n",
      " 14  ChronicCond_ObstrPulmonary       138556 non-null  int64 \n",
      " 15  ChronicCond_Depression           138556 non-null  int64 \n",
      " 16  ChronicCond_Diabetes             138556 non-null  int64 \n",
      " 17  ChronicCond_IschemicHeart        138556 non-null  int64 \n",
      " 18  ChronicCond_Osteoporasis         138556 non-null  int64 \n",
      " 19  ChronicCond_rheumatoidarthritis  138556 non-null  int64 \n",
      " 20  ChronicCond_stroke               138556 non-null  int64 \n",
      " 21  IPAnnualReimbursementAmt         138556 non-null  int64 \n",
      " 22  IPAnnualDeductibleAmt            138556 non-null  int64 \n",
      " 23  OPAnnualReimbursementAmt         138556 non-null  int64 \n",
      " 24  OPAnnualDeductibleAmt            138556 non-null  int64 \n",
      "dtypes: int64(21), object(4)\n",
      "memory usage: 26.4+ MB\n"
     ]
    }
   ],
   "source": [
    "df_train_beneficiary.info()"
   ]
  },
  {
   "cell_type": "code",
   "execution_count": 12,
   "id": "9eab3507",
   "metadata": {},
   "outputs": [
    {
     "data": {
      "text/html": [
       "<div>\n",
       "<style scoped>\n",
       "    .dataframe tbody tr th:only-of-type {\n",
       "        vertical-align: middle;\n",
       "    }\n",
       "\n",
       "    .dataframe tbody tr th {\n",
       "        vertical-align: top;\n",
       "    }\n",
       "\n",
       "    .dataframe thead th {\n",
       "        text-align: right;\n",
       "    }\n",
       "</style>\n",
       "<table border=\"1\" class=\"dataframe\">\n",
       "  <thead>\n",
       "    <tr style=\"text-align: right;\">\n",
       "      <th></th>\n",
       "      <th>Gender</th>\n",
       "      <th>Race</th>\n",
       "      <th>State</th>\n",
       "      <th>County</th>\n",
       "      <th>NoOfMonths_PartACov</th>\n",
       "      <th>NoOfMonths_PartBCov</th>\n",
       "      <th>ChronicCond_Alzheimer</th>\n",
       "      <th>ChronicCond_Heartfailure</th>\n",
       "      <th>ChronicCond_KidneyDisease</th>\n",
       "      <th>ChronicCond_Cancer</th>\n",
       "      <th>...</th>\n",
       "      <th>ChronicCond_Depression</th>\n",
       "      <th>ChronicCond_Diabetes</th>\n",
       "      <th>ChronicCond_IschemicHeart</th>\n",
       "      <th>ChronicCond_Osteoporasis</th>\n",
       "      <th>ChronicCond_rheumatoidarthritis</th>\n",
       "      <th>ChronicCond_stroke</th>\n",
       "      <th>IPAnnualReimbursementAmt</th>\n",
       "      <th>IPAnnualDeductibleAmt</th>\n",
       "      <th>OPAnnualReimbursementAmt</th>\n",
       "      <th>OPAnnualDeductibleAmt</th>\n",
       "    </tr>\n",
       "  </thead>\n",
       "  <tbody>\n",
       "    <tr>\n",
       "      <th>count</th>\n",
       "      <td>138556.000000</td>\n",
       "      <td>138556.000000</td>\n",
       "      <td>138556.000000</td>\n",
       "      <td>138556.000000</td>\n",
       "      <td>138556.000000</td>\n",
       "      <td>138556.000000</td>\n",
       "      <td>138556.000000</td>\n",
       "      <td>138556.000000</td>\n",
       "      <td>138556.000000</td>\n",
       "      <td>138556.000000</td>\n",
       "      <td>...</td>\n",
       "      <td>138556.000000</td>\n",
       "      <td>138556.000000</td>\n",
       "      <td>138556.000000</td>\n",
       "      <td>138556.000000</td>\n",
       "      <td>138556.000000</td>\n",
       "      <td>138556.000000</td>\n",
       "      <td>138556.000000</td>\n",
       "      <td>138556.000000</td>\n",
       "      <td>138556.000000</td>\n",
       "      <td>138556.000000</td>\n",
       "    </tr>\n",
       "    <tr>\n",
       "      <th>mean</th>\n",
       "      <td>1.570932</td>\n",
       "      <td>1.254511</td>\n",
       "      <td>25.666734</td>\n",
       "      <td>374.424745</td>\n",
       "      <td>11.907727</td>\n",
       "      <td>11.910145</td>\n",
       "      <td>1.667817</td>\n",
       "      <td>1.506322</td>\n",
       "      <td>1.687643</td>\n",
       "      <td>1.880041</td>\n",
       "      <td>...</td>\n",
       "      <td>1.644476</td>\n",
       "      <td>1.398142</td>\n",
       "      <td>1.324143</td>\n",
       "      <td>1.725317</td>\n",
       "      <td>1.743180</td>\n",
       "      <td>1.920942</td>\n",
       "      <td>3660.346502</td>\n",
       "      <td>399.847296</td>\n",
       "      <td>1298.219348</td>\n",
       "      <td>377.718258</td>\n",
       "    </tr>\n",
       "    <tr>\n",
       "      <th>std</th>\n",
       "      <td>0.494945</td>\n",
       "      <td>0.717007</td>\n",
       "      <td>15.223443</td>\n",
       "      <td>266.277581</td>\n",
       "      <td>1.032332</td>\n",
       "      <td>0.936893</td>\n",
       "      <td>0.470998</td>\n",
       "      <td>0.499962</td>\n",
       "      <td>0.463456</td>\n",
       "      <td>0.324914</td>\n",
       "      <td>...</td>\n",
       "      <td>0.478674</td>\n",
       "      <td>0.489517</td>\n",
       "      <td>0.468056</td>\n",
       "      <td>0.446356</td>\n",
       "      <td>0.436881</td>\n",
       "      <td>0.269831</td>\n",
       "      <td>9568.621827</td>\n",
       "      <td>956.175202</td>\n",
       "      <td>2493.901134</td>\n",
       "      <td>645.530187</td>\n",
       "    </tr>\n",
       "    <tr>\n",
       "      <th>min</th>\n",
       "      <td>1.000000</td>\n",
       "      <td>1.000000</td>\n",
       "      <td>1.000000</td>\n",
       "      <td>0.000000</td>\n",
       "      <td>0.000000</td>\n",
       "      <td>0.000000</td>\n",
       "      <td>1.000000</td>\n",
       "      <td>1.000000</td>\n",
       "      <td>1.000000</td>\n",
       "      <td>1.000000</td>\n",
       "      <td>...</td>\n",
       "      <td>1.000000</td>\n",
       "      <td>1.000000</td>\n",
       "      <td>1.000000</td>\n",
       "      <td>1.000000</td>\n",
       "      <td>1.000000</td>\n",
       "      <td>1.000000</td>\n",
       "      <td>-8000.000000</td>\n",
       "      <td>0.000000</td>\n",
       "      <td>-70.000000</td>\n",
       "      <td>0.000000</td>\n",
       "    </tr>\n",
       "    <tr>\n",
       "      <th>25%</th>\n",
       "      <td>1.000000</td>\n",
       "      <td>1.000000</td>\n",
       "      <td>11.000000</td>\n",
       "      <td>141.000000</td>\n",
       "      <td>12.000000</td>\n",
       "      <td>12.000000</td>\n",
       "      <td>1.000000</td>\n",
       "      <td>1.000000</td>\n",
       "      <td>1.000000</td>\n",
       "      <td>2.000000</td>\n",
       "      <td>...</td>\n",
       "      <td>1.000000</td>\n",
       "      <td>1.000000</td>\n",
       "      <td>1.000000</td>\n",
       "      <td>1.000000</td>\n",
       "      <td>1.000000</td>\n",
       "      <td>2.000000</td>\n",
       "      <td>0.000000</td>\n",
       "      <td>0.000000</td>\n",
       "      <td>170.000000</td>\n",
       "      <td>40.000000</td>\n",
       "    </tr>\n",
       "    <tr>\n",
       "      <th>50%</th>\n",
       "      <td>2.000000</td>\n",
       "      <td>1.000000</td>\n",
       "      <td>25.000000</td>\n",
       "      <td>340.000000</td>\n",
       "      <td>12.000000</td>\n",
       "      <td>12.000000</td>\n",
       "      <td>2.000000</td>\n",
       "      <td>2.000000</td>\n",
       "      <td>2.000000</td>\n",
       "      <td>2.000000</td>\n",
       "      <td>...</td>\n",
       "      <td>2.000000</td>\n",
       "      <td>1.000000</td>\n",
       "      <td>1.000000</td>\n",
       "      <td>2.000000</td>\n",
       "      <td>2.000000</td>\n",
       "      <td>2.000000</td>\n",
       "      <td>0.000000</td>\n",
       "      <td>0.000000</td>\n",
       "      <td>570.000000</td>\n",
       "      <td>170.000000</td>\n",
       "    </tr>\n",
       "    <tr>\n",
       "      <th>75%</th>\n",
       "      <td>2.000000</td>\n",
       "      <td>1.000000</td>\n",
       "      <td>39.000000</td>\n",
       "      <td>570.000000</td>\n",
       "      <td>12.000000</td>\n",
       "      <td>12.000000</td>\n",
       "      <td>2.000000</td>\n",
       "      <td>2.000000</td>\n",
       "      <td>2.000000</td>\n",
       "      <td>2.000000</td>\n",
       "      <td>...</td>\n",
       "      <td>2.000000</td>\n",
       "      <td>2.000000</td>\n",
       "      <td>2.000000</td>\n",
       "      <td>2.000000</td>\n",
       "      <td>2.000000</td>\n",
       "      <td>2.000000</td>\n",
       "      <td>2280.000000</td>\n",
       "      <td>1068.000000</td>\n",
       "      <td>1500.000000</td>\n",
       "      <td>460.000000</td>\n",
       "    </tr>\n",
       "    <tr>\n",
       "      <th>max</th>\n",
       "      <td>2.000000</td>\n",
       "      <td>5.000000</td>\n",
       "      <td>54.000000</td>\n",
       "      <td>999.000000</td>\n",
       "      <td>12.000000</td>\n",
       "      <td>12.000000</td>\n",
       "      <td>2.000000</td>\n",
       "      <td>2.000000</td>\n",
       "      <td>2.000000</td>\n",
       "      <td>2.000000</td>\n",
       "      <td>...</td>\n",
       "      <td>2.000000</td>\n",
       "      <td>2.000000</td>\n",
       "      <td>2.000000</td>\n",
       "      <td>2.000000</td>\n",
       "      <td>2.000000</td>\n",
       "      <td>2.000000</td>\n",
       "      <td>161470.000000</td>\n",
       "      <td>38272.000000</td>\n",
       "      <td>102960.000000</td>\n",
       "      <td>13840.000000</td>\n",
       "    </tr>\n",
       "  </tbody>\n",
       "</table>\n",
       "<p>8 rows × 21 columns</p>\n",
       "</div>"
      ],
      "text/plain": [
       "              Gender           Race          State         County  \\\n",
       "count  138556.000000  138556.000000  138556.000000  138556.000000   \n",
       "mean        1.570932       1.254511      25.666734     374.424745   \n",
       "std         0.494945       0.717007      15.223443     266.277581   \n",
       "min         1.000000       1.000000       1.000000       0.000000   \n",
       "25%         1.000000       1.000000      11.000000     141.000000   \n",
       "50%         2.000000       1.000000      25.000000     340.000000   \n",
       "75%         2.000000       1.000000      39.000000     570.000000   \n",
       "max         2.000000       5.000000      54.000000     999.000000   \n",
       "\n",
       "       NoOfMonths_PartACov  NoOfMonths_PartBCov  ChronicCond_Alzheimer  \\\n",
       "count        138556.000000        138556.000000          138556.000000   \n",
       "mean             11.907727            11.910145               1.667817   \n",
       "std               1.032332             0.936893               0.470998   \n",
       "min               0.000000             0.000000               1.000000   \n",
       "25%              12.000000            12.000000               1.000000   \n",
       "50%              12.000000            12.000000               2.000000   \n",
       "75%              12.000000            12.000000               2.000000   \n",
       "max              12.000000            12.000000               2.000000   \n",
       "\n",
       "       ChronicCond_Heartfailure  ChronicCond_KidneyDisease  \\\n",
       "count             138556.000000              138556.000000   \n",
       "mean                   1.506322                   1.687643   \n",
       "std                    0.499962                   0.463456   \n",
       "min                    1.000000                   1.000000   \n",
       "25%                    1.000000                   1.000000   \n",
       "50%                    2.000000                   2.000000   \n",
       "75%                    2.000000                   2.000000   \n",
       "max                    2.000000                   2.000000   \n",
       "\n",
       "       ChronicCond_Cancer  ...  ChronicCond_Depression  ChronicCond_Diabetes  \\\n",
       "count       138556.000000  ...           138556.000000         138556.000000   \n",
       "mean             1.880041  ...                1.644476              1.398142   \n",
       "std              0.324914  ...                0.478674              0.489517   \n",
       "min              1.000000  ...                1.000000              1.000000   \n",
       "25%              2.000000  ...                1.000000              1.000000   \n",
       "50%              2.000000  ...                2.000000              1.000000   \n",
       "75%              2.000000  ...                2.000000              2.000000   \n",
       "max              2.000000  ...                2.000000              2.000000   \n",
       "\n",
       "       ChronicCond_IschemicHeart  ChronicCond_Osteoporasis  \\\n",
       "count              138556.000000             138556.000000   \n",
       "mean                    1.324143                  1.725317   \n",
       "std                     0.468056                  0.446356   \n",
       "min                     1.000000                  1.000000   \n",
       "25%                     1.000000                  1.000000   \n",
       "50%                     1.000000                  2.000000   \n",
       "75%                     2.000000                  2.000000   \n",
       "max                     2.000000                  2.000000   \n",
       "\n",
       "       ChronicCond_rheumatoidarthritis  ChronicCond_stroke  \\\n",
       "count                    138556.000000       138556.000000   \n",
       "mean                          1.743180            1.920942   \n",
       "std                           0.436881            0.269831   \n",
       "min                           1.000000            1.000000   \n",
       "25%                           1.000000            2.000000   \n",
       "50%                           2.000000            2.000000   \n",
       "75%                           2.000000            2.000000   \n",
       "max                           2.000000            2.000000   \n",
       "\n",
       "       IPAnnualReimbursementAmt  IPAnnualDeductibleAmt  \\\n",
       "count             138556.000000          138556.000000   \n",
       "mean                3660.346502             399.847296   \n",
       "std                 9568.621827             956.175202   \n",
       "min                -8000.000000               0.000000   \n",
       "25%                    0.000000               0.000000   \n",
       "50%                    0.000000               0.000000   \n",
       "75%                 2280.000000            1068.000000   \n",
       "max               161470.000000           38272.000000   \n",
       "\n",
       "       OPAnnualReimbursementAmt  OPAnnualDeductibleAmt  \n",
       "count             138556.000000          138556.000000  \n",
       "mean                1298.219348             377.718258  \n",
       "std                 2493.901134             645.530187  \n",
       "min                  -70.000000               0.000000  \n",
       "25%                  170.000000              40.000000  \n",
       "50%                  570.000000             170.000000  \n",
       "75%                 1500.000000             460.000000  \n",
       "max               102960.000000           13840.000000  \n",
       "\n",
       "[8 rows x 21 columns]"
      ]
     },
     "execution_count": 12,
     "metadata": {},
     "output_type": "execute_result"
    }
   ],
   "source": [
    "df_train_beneficiary.describe()  #why there are means for race and state??"
   ]
  },
  {
   "cell_type": "code",
   "execution_count": 13,
   "id": "9facff43",
   "metadata": {},
   "outputs": [],
   "source": [
    "df_train_target = pd.read_csv('/Users/redstockings/Desktop/Techlent/HealthCare Provider Fraud/data/Train-1542865627584.csv')"
   ]
  },
  {
   "cell_type": "code",
   "execution_count": 14,
   "id": "e34f4886",
   "metadata": {
    "scrolled": false
   },
   "outputs": [
    {
     "name": "stdout",
     "output_type": "stream",
     "text": [
      "<class 'pandas.core.frame.DataFrame'>\n",
      "RangeIndex: 5410 entries, 0 to 5409\n",
      "Data columns (total 2 columns):\n",
      " #   Column          Non-Null Count  Dtype \n",
      "---  ------          --------------  ----- \n",
      " 0   Provider        5410 non-null   object\n",
      " 1   PotentialFraud  5410 non-null   object\n",
      "dtypes: object(2)\n",
      "memory usage: 84.7+ KB\n"
     ]
    }
   ],
   "source": [
    "df_train_target.info()"
   ]
  },
  {
   "cell_type": "code",
   "execution_count": 15,
   "id": "36145d47",
   "metadata": {
    "scrolled": true
   },
   "outputs": [
    {
     "data": {
      "text/html": [
       "<div>\n",
       "<style scoped>\n",
       "    .dataframe tbody tr th:only-of-type {\n",
       "        vertical-align: middle;\n",
       "    }\n",
       "\n",
       "    .dataframe tbody tr th {\n",
       "        vertical-align: top;\n",
       "    }\n",
       "\n",
       "    .dataframe thead th {\n",
       "        text-align: right;\n",
       "    }\n",
       "</style>\n",
       "<table border=\"1\" class=\"dataframe\">\n",
       "  <thead>\n",
       "    <tr style=\"text-align: right;\">\n",
       "      <th></th>\n",
       "      <th>Provider</th>\n",
       "      <th>PotentialFraud</th>\n",
       "    </tr>\n",
       "  </thead>\n",
       "  <tbody>\n",
       "    <tr>\n",
       "      <th>count</th>\n",
       "      <td>5410</td>\n",
       "      <td>5410</td>\n",
       "    </tr>\n",
       "    <tr>\n",
       "      <th>unique</th>\n",
       "      <td>5410</td>\n",
       "      <td>2</td>\n",
       "    </tr>\n",
       "    <tr>\n",
       "      <th>top</th>\n",
       "      <td>PRV51001</td>\n",
       "      <td>No</td>\n",
       "    </tr>\n",
       "    <tr>\n",
       "      <th>freq</th>\n",
       "      <td>1</td>\n",
       "      <td>4904</td>\n",
       "    </tr>\n",
       "  </tbody>\n",
       "</table>\n",
       "</div>"
      ],
      "text/plain": [
       "        Provider PotentialFraud\n",
       "count       5410           5410\n",
       "unique      5410              2\n",
       "top     PRV51001             No\n",
       "freq           1           4904"
      ]
     },
     "execution_count": 15,
     "metadata": {},
     "output_type": "execute_result"
    }
   ],
   "source": [
    "df_train_target.describe()"
   ]
  },
  {
   "cell_type": "code",
   "execution_count": 16,
   "id": "9da5b203",
   "metadata": {},
   "outputs": [
    {
     "data": {
      "text/plain": [
       "'0.094'"
      ]
     },
     "execution_count": 16,
     "metadata": {},
     "output_type": "execute_result"
    }
   ],
   "source": [
    "#ratio of non-fraudulent providers vs fraudulent providers:\n",
    "\"{:.3f}\".format(df_train_target[df_train_target.PotentialFraud == \"Yes\"].PotentialFraud.count()/len(df_train_target))"
   ]
  },
  {
   "cell_type": "markdown",
   "id": "927069c8",
   "metadata": {},
   "source": [
    "### 2. Missing data in inpatient data"
   ]
  },
  {
   "cell_type": "code",
   "execution_count": 17,
   "id": "7c6b22c2",
   "metadata": {},
   "outputs": [
    {
     "data": {
      "text/plain": [
       "BeneID                        0\n",
       "ClaimID                       0\n",
       "ClaimStartDt                  0\n",
       "ClaimEndDt                    0\n",
       "Provider                      0\n",
       "InscClaimAmtReimbursed        0\n",
       "AttendingPhysician          112\n",
       "OperatingPhysician        16644\n",
       "OtherPhysician            35784\n",
       "AdmissionDt                   0\n",
       "ClmAdmitDiagnosisCode         0\n",
       "DeductibleAmtPaid           899\n",
       "DischargeDt                   0\n",
       "DiagnosisGroupCode            0\n",
       "ClmDiagnosisCode_1            0\n",
       "ClmDiagnosisCode_2          226\n",
       "ClmDiagnosisCode_3          676\n",
       "ClmDiagnosisCode_4         1534\n",
       "ClmDiagnosisCode_5         2894\n",
       "ClmDiagnosisCode_6         4838\n",
       "ClmDiagnosisCode_7         7258\n",
       "ClmDiagnosisCode_8         9942\n",
       "ClmDiagnosisCode_9        13497\n",
       "ClmDiagnosisCode_10       36547\n",
       "ClmProcedureCode_1        17326\n",
       "ClmProcedureCode_2        35020\n",
       "ClmProcedureCode_3        39509\n",
       "ClmProcedureCode_4        40358\n",
       "ClmProcedureCode_5        40465\n",
       "ClmProcedureCode_6        40474\n",
       "dtype: int64"
      ]
     },
     "execution_count": 17,
     "metadata": {},
     "output_type": "execute_result"
    }
   ],
   "source": [
    "df_train_inpatient.isnull().sum()"
   ]
  },
  {
   "cell_type": "code",
   "execution_count": 18,
   "id": "089aa277",
   "metadata": {},
   "outputs": [
    {
     "data": {
      "text/plain": [
       "BeneID                    0.000000\n",
       "ClaimID                   0.000000\n",
       "ClaimStartDt              0.000000\n",
       "ClaimEndDt                0.000000\n",
       "Provider                  0.000000\n",
       "InscClaimAmtReimbursed    0.000000\n",
       "AttendingPhysician        0.002767\n",
       "OperatingPhysician        0.411227\n",
       "OtherPhysician            0.884123\n",
       "AdmissionDt               0.000000\n",
       "ClmAdmitDiagnosisCode     0.000000\n",
       "DeductibleAmtPaid         0.022212\n",
       "DischargeDt               0.000000\n",
       "DiagnosisGroupCode        0.000000\n",
       "ClmDiagnosisCode_1        0.000000\n",
       "ClmDiagnosisCode_2        0.005584\n",
       "ClmDiagnosisCode_3        0.016702\n",
       "ClmDiagnosisCode_4        0.037901\n",
       "ClmDiagnosisCode_5        0.071503\n",
       "ClmDiagnosisCode_6        0.119534\n",
       "ClmDiagnosisCode_7        0.179325\n",
       "ClmDiagnosisCode_8        0.245639\n",
       "ClmDiagnosisCode_9        0.333473\n",
       "ClmDiagnosisCode_10       0.902975\n",
       "ClmProcedureCode_1        0.428077\n",
       "ClmProcedureCode_2        0.865247\n",
       "ClmProcedureCode_3        0.976158\n",
       "ClmProcedureCode_4        0.997134\n",
       "ClmProcedureCode_5        0.999778\n",
       "ClmProcedureCode_6        1.000000\n",
       "dtype: float64"
      ]
     },
     "execution_count": 18,
     "metadata": {},
     "output_type": "execute_result"
    }
   ],
   "source": [
    "df_train_inpatient.isnull().sum()/len(df_train_inpatient)"
   ]
  },
  {
   "cell_type": "code",
   "execution_count": 19,
   "id": "b49392b9",
   "metadata": {},
   "outputs": [
    {
     "data": {
      "text/plain": [
       "<AxesSubplot:>"
      ]
     },
     "execution_count": 19,
     "metadata": {},
     "output_type": "execute_result"
    },
    {
     "data": {
      "image/png": "[encoded data removed]",
      "text/plain": [
       "<Figure size 1800x720 with 3 Axes>"
      ]
     },
     "metadata": {
      "needs_background": "light"
     },
     "output_type": "display_data"
    }
   ],
   "source": [
    "import missingno as msno\n",
    "msno.bar(df_train_inpatient)\n",
    "#The height of the bar indicates how complete that column is, i.e, how many non-null values are present"
   ]
  },
  {
   "cell_type": "code",
   "execution_count": 20,
   "id": "7327a70e",
   "metadata": {},
   "outputs": [
    {
     "data": {
      "text/plain": [
       "<AxesSubplot:>"
      ]
     },
     "execution_count": 20,
     "metadata": {},
     "output_type": "execute_result"
    },
    {
     "data": {
      "image/png": "[encoded data removed]",
      "text/plain": [
       "<Figure size 1800x720 with 2 Axes>"
      ]
     },
     "metadata": {
      "needs_background": "light"
     },
     "output_type": "display_data"
    }
   ],
   "source": [
    "msno.matrix(df_train_inpatient)"
   ]
  },
  {
   "cell_type": "code",
   "execution_count": 21,
   "id": "ac1c4e7a",
   "metadata": {},
   "outputs": [
    {
     "data": {
      "text/plain": [
       "<AxesSubplot:>"
      ]
     },
     "execution_count": 21,
     "metadata": {},
     "output_type": "execute_result"
    },
    {
     "data": {
      "image/png": "[encoded data removed]",
      "text/plain": [
       "<Figure size 1440x864 with 2 Axes>"
      ]
     },
     "metadata": {
      "needs_background": "light"
     },
     "output_type": "display_data"
    }
   ],
   "source": [
    "msno.heatmap(df_train_inpatient)\n",
    "#used to identify if there is a relationship in the presence of null values between each of the columns.\n",
    "#There are a number of values that show as <-1. This indicates that the correlation is very close to being 100% negative."
   ]
  },
  {
   "cell_type": "markdown",
   "id": "0084ca53",
   "metadata": {},
   "source": [
    "* #### Quick Summary"
   ]
  },
  {
   "cell_type": "markdown",
   "id": "8b2d0f3f",
   "metadata": {},
   "source": [
    "1. Missing data are present in the columns of AttendingPhysician, OperatingPhysician,OtherPhysician, DeductibleAmtPaid, ClmDiagnosisCodes and ClmProcedureCodes.\n",
    "2. Only 0.3% of missing data in AttendingPhysician, in comparison with 41% in OperatingPhysician and 88% in OtherPhysician. \n",
    "3. Approximatley 2% of missing data in DeductibleAmtPaid. \n",
    "4. There is NO missing data in ClmDiagnosisCode_1, while there are approximately 0.6%, 1.7%, 3.8%, 7.1%, 12%, 18%, 24%, 33%, and 90% in ClmDiagnosisCode_2, 3, 4, 5, 6, 7, 8, 9 and 10, perspectively. <ins>It likely makes sense because not all case will need 10 claim diagnosis codes.</ins> \n",
    "5. There are higher percentages of missing data in procedure codes. There are approxiately 43%, 87%, 98%, 99.7%, 99.98% and 100% of missing data in ClmProcedureCodes. <ins>Does all inpatient service have procedures to be done?</ins> "
   ]
  },
  {
   "cell_type": "markdown",
   "id": "42083551",
   "metadata": {},
   "source": [
    "### Further looking into the missing procedure codes - check the percentage of fraudulent providers with missing procedure codes vs. percentage of fraudulent providers withouth missing procedure codes."
   ]
  },
  {
   "cell_type": "code",
   "execution_count": 22,
   "id": "9107a70e",
   "metadata": {},
   "outputs": [],
   "source": [
    "df_train_inpatient['NumClmProcedureCodes'] = df_train_inpatient[['ClmProcedureCode_1','ClmProcedureCode_2','ClmProcedureCode_3','ClmProcedureCode_4','ClmProcedureCode_5']].notnull().sum(axis = 1)"
   ]
  },
  {
   "cell_type": "code",
   "execution_count": 24,
   "id": "afa69a0f",
   "metadata": {},
   "outputs": [],
   "source": [
    "df_train_inpatient['MissingClmProcedureCodes'] = ~df_train_inpatient['NumClmProcedureCodes'].astype(bool)"
   ]
  },
  {
   "cell_type": "markdown",
   "id": "cfafb6a6",
   "metadata": {},
   "source": [
    "### Merge the fraudulent providers info into the inpatient data"
   ]
  },
  {
   "cell_type": "code",
   "execution_count": 32,
   "id": "f49df472",
   "metadata": {},
   "outputs": [],
   "source": [
    "df1_inp = pd.merge(df_train_inpatient,df_train_target, on = \"Provider\")"
   ]
  },
  {
   "cell_type": "code",
   "execution_count": 33,
   "id": "e9e681fd",
   "metadata": {},
   "outputs": [
    {
     "data": {
      "text/html": [
       "<div>\n",
       "<style scoped>\n",
       "    .dataframe tbody tr th:only-of-type {\n",
       "        vertical-align: middle;\n",
       "    }\n",
       "\n",
       "    .dataframe tbody tr th {\n",
       "        vertical-align: top;\n",
       "    }\n",
       "\n",
       "    .dataframe thead th {\n",
       "        text-align: right;\n",
       "    }\n",
       "</style>\n",
       "<table border=\"1\" class=\"dataframe\">\n",
       "  <thead>\n",
       "    <tr style=\"text-align: right;\">\n",
       "      <th></th>\n",
       "      <th>BeneID</th>\n",
       "      <th>ClaimID</th>\n",
       "      <th>ClaimStartDt</th>\n",
       "      <th>ClaimEndDt</th>\n",
       "      <th>Provider</th>\n",
       "      <th>InscClaimAmtReimbursed</th>\n",
       "      <th>AttendingPhysician</th>\n",
       "      <th>OperatingPhysician</th>\n",
       "      <th>OtherPhysician</th>\n",
       "      <th>AdmissionDt</th>\n",
       "      <th>...</th>\n",
       "      <th>ClmDiagnosisCode_10</th>\n",
       "      <th>ClmProcedureCode_1</th>\n",
       "      <th>ClmProcedureCode_2</th>\n",
       "      <th>ClmProcedureCode_3</th>\n",
       "      <th>ClmProcedureCode_4</th>\n",
       "      <th>ClmProcedureCode_5</th>\n",
       "      <th>ClmProcedureCode_6</th>\n",
       "      <th>NumClmProcedureCodes</th>\n",
       "      <th>MissingClmProcedureCodes</th>\n",
       "      <th>PotentialFraud</th>\n",
       "    </tr>\n",
       "  </thead>\n",
       "  <tbody>\n",
       "    <tr>\n",
       "      <th>0</th>\n",
       "      <td>BENE11001</td>\n",
       "      <td>CLM46614</td>\n",
       "      <td>2009-04-12</td>\n",
       "      <td>2009-04-18</td>\n",
       "      <td>PRV55912</td>\n",
       "      <td>26000</td>\n",
       "      <td>PHY390922</td>\n",
       "      <td>NaN</td>\n",
       "      <td>NaN</td>\n",
       "      <td>2009-04-12</td>\n",
       "      <td>...</td>\n",
       "      <td>NaN</td>\n",
       "      <td>NaN</td>\n",
       "      <td>NaN</td>\n",
       "      <td>NaN</td>\n",
       "      <td>NaN</td>\n",
       "      <td>NaN</td>\n",
       "      <td>NaN</td>\n",
       "      <td>0</td>\n",
       "      <td>True</td>\n",
       "      <td>Yes</td>\n",
       "    </tr>\n",
       "    <tr>\n",
       "      <th>1</th>\n",
       "      <td>BENE17521</td>\n",
       "      <td>CLM34721</td>\n",
       "      <td>2009-01-20</td>\n",
       "      <td>2009-02-01</td>\n",
       "      <td>PRV55912</td>\n",
       "      <td>19000</td>\n",
       "      <td>PHY349293</td>\n",
       "      <td>PHY370861</td>\n",
       "      <td>PHY363291</td>\n",
       "      <td>2009-01-20</td>\n",
       "      <td>...</td>\n",
       "      <td>NaN</td>\n",
       "      <td>7769.0</td>\n",
       "      <td>5849.0</td>\n",
       "      <td>NaN</td>\n",
       "      <td>NaN</td>\n",
       "      <td>NaN</td>\n",
       "      <td>NaN</td>\n",
       "      <td>2</td>\n",
       "      <td>False</td>\n",
       "      <td>Yes</td>\n",
       "    </tr>\n",
       "    <tr>\n",
       "      <th>2</th>\n",
       "      <td>BENE21718</td>\n",
       "      <td>CLM72336</td>\n",
       "      <td>2009-10-17</td>\n",
       "      <td>2009-11-04</td>\n",
       "      <td>PRV55912</td>\n",
       "      <td>17000</td>\n",
       "      <td>PHY334706</td>\n",
       "      <td>PHY334706</td>\n",
       "      <td>NaN</td>\n",
       "      <td>2009-10-17</td>\n",
       "      <td>...</td>\n",
       "      <td>NaN</td>\n",
       "      <td>9338.0</td>\n",
       "      <td>NaN</td>\n",
       "      <td>NaN</td>\n",
       "      <td>NaN</td>\n",
       "      <td>NaN</td>\n",
       "      <td>NaN</td>\n",
       "      <td>1</td>\n",
       "      <td>False</td>\n",
       "      <td>Yes</td>\n",
       "    </tr>\n",
       "    <tr>\n",
       "      <th>3</th>\n",
       "      <td>BENE22934</td>\n",
       "      <td>CLM73394</td>\n",
       "      <td>2009-10-25</td>\n",
       "      <td>2009-10-29</td>\n",
       "      <td>PRV55912</td>\n",
       "      <td>13000</td>\n",
       "      <td>PHY390614</td>\n",
       "      <td>PHY323689</td>\n",
       "      <td>PHY363291</td>\n",
       "      <td>2009-10-25</td>\n",
       "      <td>...</td>\n",
       "      <td>NaN</td>\n",
       "      <td>8154.0</td>\n",
       "      <td>NaN</td>\n",
       "      <td>NaN</td>\n",
       "      <td>NaN</td>\n",
       "      <td>NaN</td>\n",
       "      <td>NaN</td>\n",
       "      <td>1</td>\n",
       "      <td>False</td>\n",
       "      <td>Yes</td>\n",
       "    </tr>\n",
       "    <tr>\n",
       "      <th>4</th>\n",
       "      <td>BENE24402</td>\n",
       "      <td>CLM32911</td>\n",
       "      <td>2009-01-08</td>\n",
       "      <td>2009-01-12</td>\n",
       "      <td>PRV55912</td>\n",
       "      <td>3000</td>\n",
       "      <td>PHY380413</td>\n",
       "      <td>PHY432598</td>\n",
       "      <td>NaN</td>\n",
       "      <td>2009-01-08</td>\n",
       "      <td>...</td>\n",
       "      <td>NaN</td>\n",
       "      <td>8543.0</td>\n",
       "      <td>NaN</td>\n",
       "      <td>NaN</td>\n",
       "      <td>NaN</td>\n",
       "      <td>NaN</td>\n",
       "      <td>NaN</td>\n",
       "      <td>1</td>\n",
       "      <td>False</td>\n",
       "      <td>Yes</td>\n",
       "    </tr>\n",
       "  </tbody>\n",
       "</table>\n",
       "<p>5 rows × 33 columns</p>\n",
       "</div>"
      ],
      "text/plain": [
       "      BeneID   ClaimID ClaimStartDt  ClaimEndDt  Provider  \\\n",
       "0  BENE11001  CLM46614   2009-04-12  2009-04-18  PRV55912   \n",
       "1  BENE17521  CLM34721   2009-01-20  2009-02-01  PRV55912   \n",
       "2  BENE21718  CLM72336   2009-10-17  2009-11-04  PRV55912   \n",
       "3  BENE22934  CLM73394   2009-10-25  2009-10-29  PRV55912   \n",
       "4  BENE24402  CLM32911   2009-01-08  2009-01-12  PRV55912   \n",
       "\n",
       "   InscClaimAmtReimbursed AttendingPhysician OperatingPhysician  \\\n",
       "0                   26000          PHY390922                NaN   \n",
       "1                   19000          PHY349293          PHY370861   \n",
       "2                   17000          PHY334706          PHY334706   \n",
       "3                   13000          PHY390614          PHY323689   \n",
       "4                    3000          PHY380413          PHY432598   \n",
       "\n",
       "  OtherPhysician AdmissionDt  ... ClmDiagnosisCode_10  ClmProcedureCode_1  \\\n",
       "0            NaN  2009-04-12  ...                 NaN                 NaN   \n",
       "1      PHY363291  2009-01-20  ...                 NaN              7769.0   \n",
       "2            NaN  2009-10-17  ...                 NaN              9338.0   \n",
       "3      PHY363291  2009-10-25  ...                 NaN              8154.0   \n",
       "4            NaN  2009-01-08  ...                 NaN              8543.0   \n",
       "\n",
       "  ClmProcedureCode_2 ClmProcedureCode_3 ClmProcedureCode_4 ClmProcedureCode_5  \\\n",
       "0                NaN                NaN                NaN                NaN   \n",
       "1             5849.0                NaN                NaN                NaN   \n",
       "2                NaN                NaN                NaN                NaN   \n",
       "3                NaN                NaN                NaN                NaN   \n",
       "4                NaN                NaN                NaN                NaN   \n",
       "\n",
       "  ClmProcedureCode_6 NumClmProcedureCodes MissingClmProcedureCodes  \\\n",
       "0                NaN                    0                     True   \n",
       "1                NaN                    2                    False   \n",
       "2                NaN                    1                    False   \n",
       "3                NaN                    1                    False   \n",
       "4                NaN                    1                    False   \n",
       "\n",
       "  PotentialFraud  \n",
       "0            Yes  \n",
       "1            Yes  \n",
       "2            Yes  \n",
       "3            Yes  \n",
       "4            Yes  \n",
       "\n",
       "[5 rows x 33 columns]"
      ]
     },
     "execution_count": 33,
     "metadata": {},
     "output_type": "execute_result"
    }
   ],
   "source": [
    "df1_inp.head()"
   ]
  },
  {
   "cell_type": "code",
   "execution_count": 34,
   "id": "86e8fe04",
   "metadata": {},
   "outputs": [
    {
     "data": {
      "text/plain": [
       "<AxesSubplot:title={'center':'Number of Claims w/o ClmProcedureCodes'}, xlabel='PotentialFraud'>"
      ]
     },
     "execution_count": 34,
     "metadata": {},
     "output_type": "execute_result"
    },
    {
     "data": {
      "image/png": "[encoded data removed]",
      "text/plain": [
       "<Figure size 432x288 with 1 Axes>"
      ]
     },
     "metadata": {
      "needs_background": "light"
     },
     "output_type": "display_data"
    }
   ],
   "source": [
    "#Number of claims with missing ClmProcedureCodes submitted by Non-Frauduluent and Fraudulent Providers \n",
    "df1_inp.groupby(['PotentialFraud']).MissingClmProcedureCodes.sum().plot(kind = 'bar', title ='Number of Claims w/o ClmProcedureCodes')"
   ]
  },
  {
   "cell_type": "code",
   "execution_count": 35,
   "id": "2fdf54df",
   "metadata": {
    "scrolled": true
   },
   "outputs": [],
   "source": [
    "#Percentage of claims with missing ClmProcedureCodes submitted by Non-Frauduluent and Fraudulent Providers \n",
    "PercentageofClaim = df1_inp.groupby(['PotentialFraud']).MissingClmProcedureCodes.sum().divide(df1_inp.groupby(['PotentialFraud']).ClaimID.count())"
   ]
  },
  {
   "cell_type": "code",
   "execution_count": 36,
   "id": "ebe4214e",
   "metadata": {
    "scrolled": true
   },
   "outputs": [
    {
     "data": {
      "text/plain": [
       "PotentialFraud\n",
       "No     17072\n",
       "Yes    23402\n",
       "Name: ClaimID, dtype: int64"
      ]
     },
     "execution_count": 36,
     "metadata": {},
     "output_type": "execute_result"
    }
   ],
   "source": [
    "df1_inp.groupby(['PotentialFraud']).ClaimID.count()"
   ]
  },
  {
   "cell_type": "code",
   "execution_count": 37,
   "id": "a5164799",
   "metadata": {},
   "outputs": [
    {
     "data": {
      "text/plain": [
       "<AxesSubplot:title={'center':'Percentage of Claims w/o ClmProcedureCodes'}, xlabel='PotentialFraud'>"
      ]
     },
     "execution_count": 37,
     "metadata": {},
     "output_type": "execute_result"
    },
    {
     "data": {
      "image/png": "[encoded data removed]",
      "text/plain": [
       "<Figure size 432x288 with 1 Axes>"
      ]
     },
     "metadata": {
      "needs_background": "light"
     },
     "output_type": "display_data"
    }
   ],
   "source": [
    "PercentageofClaim.plot(kind = 'bar', title = \"Percentage of Claims w/o ClmProcedureCodes\",ylim = (0,1))"
   ]
  },
  {
   "cell_type": "markdown",
   "id": "e95cb2b0",
   "metadata": {},
   "source": [
    "* Quick Summary - There is no apparent difference in the missingClmProcedureCodes between fraudulent and non-fraudulent provides"
   ]
  },
  {
   "cell_type": "markdown",
   "id": "482a204c",
   "metadata": {},
   "source": [
    "### 3. Missing data in Outpatient data"
   ]
  },
  {
   "cell_type": "code",
   "execution_count": 38,
   "id": "ac7e8fc8",
   "metadata": {},
   "outputs": [
    {
     "data": {
      "text/plain": [
       "BeneID                         0\n",
       "ClaimID                        0\n",
       "ClaimStartDt                   0\n",
       "ClaimEndDt                     0\n",
       "Provider                       0\n",
       "InscClaimAmtReimbursed         0\n",
       "AttendingPhysician          1396\n",
       "OperatingPhysician        427120\n",
       "OtherPhysician            322691\n",
       "ClmDiagnosisCode_1         10453\n",
       "ClmDiagnosisCode_2        195380\n",
       "ClmDiagnosisCode_3        314480\n",
       "ClmDiagnosisCode_4        392141\n",
       "ClmDiagnosisCode_5        443393\n",
       "ClmDiagnosisCode_6        468981\n",
       "ClmDiagnosisCode_7        484776\n",
       "ClmDiagnosisCode_8        494825\n",
       "ClmDiagnosisCode_9        502899\n",
       "ClmDiagnosisCode_10       516654\n",
       "ClmProcedureCode_1        517575\n",
       "ClmProcedureCode_2        517701\n",
       "ClmProcedureCode_3        517733\n",
       "ClmProcedureCode_4        517735\n",
       "ClmProcedureCode_5        517737\n",
       "ClmProcedureCode_6        517737\n",
       "DeductibleAmtPaid              0\n",
       "ClmAdmitDiagnosisCode     412312\n",
       "dtype: int64"
      ]
     },
     "execution_count": 38,
     "metadata": {},
     "output_type": "execute_result"
    }
   ],
   "source": [
    "df_train_outpatient.isnull().sum()"
   ]
  },
  {
   "cell_type": "code",
   "execution_count": 39,
   "id": "cc57762f",
   "metadata": {},
   "outputs": [
    {
     "data": {
      "text/plain": [
       "BeneID                    0.000000\n",
       "ClaimID                   0.000000\n",
       "ClaimStartDt              0.000000\n",
       "ClaimEndDt                0.000000\n",
       "Provider                  0.000000\n",
       "InscClaimAmtReimbursed    0.000000\n",
       "AttendingPhysician        0.002696\n",
       "OperatingPhysician        0.824975\n",
       "OtherPhysician            0.623272\n",
       "ClmDiagnosisCode_1        0.020190\n",
       "ClmDiagnosisCode_2        0.377373\n",
       "ClmDiagnosisCode_3        0.607413\n",
       "ClmDiagnosisCode_4        0.757414\n",
       "ClmDiagnosisCode_5        0.856406\n",
       "ClmDiagnosisCode_6        0.905829\n",
       "ClmDiagnosisCode_7        0.936336\n",
       "ClmDiagnosisCode_8        0.955746\n",
       "ClmDiagnosisCode_9        0.971341\n",
       "ClmDiagnosisCode_10       0.997908\n",
       "ClmProcedureCode_1        0.999687\n",
       "ClmProcedureCode_2        0.999930\n",
       "ClmProcedureCode_3        0.999992\n",
       "ClmProcedureCode_4        0.999996\n",
       "ClmProcedureCode_5        1.000000\n",
       "ClmProcedureCode_6        1.000000\n",
       "DeductibleAmtPaid         0.000000\n",
       "ClmAdmitDiagnosisCode     0.796373\n",
       "dtype: float64"
      ]
     },
     "execution_count": 39,
     "metadata": {},
     "output_type": "execute_result"
    }
   ],
   "source": [
    "df_train_outpatient.isnull().sum()/len(df_train_outpatient)"
   ]
  },
  {
   "cell_type": "code",
   "execution_count": 40,
   "id": "8d1cdb7c",
   "metadata": {},
   "outputs": [
    {
     "data": {
      "text/plain": [
       "<AxesSubplot:>"
      ]
     },
     "execution_count": 40,
     "metadata": {},
     "output_type": "execute_result"
    },
    {
     "data": {
      "image/png": "[encoded data removed]",
      "text/plain": [
       "<Figure size 1800x720 with 3 Axes>"
      ]
     },
     "metadata": {
      "needs_background": "light"
     },
     "output_type": "display_data"
    }
   ],
   "source": [
    "msno.bar(df_train_outpatient)"
   ]
  },
  {
   "cell_type": "code",
   "execution_count": 41,
   "id": "56ec923d",
   "metadata": {},
   "outputs": [
    {
     "data": {
      "text/plain": [
       "<AxesSubplot:>"
      ]
     },
     "execution_count": 41,
     "metadata": {},
     "output_type": "execute_result"
    },
    {
     "data": {
      "image/png": "[encoded data removed]",
      "text/plain": [
       "<Figure size 1800x720 with 2 Axes>"
      ]
     },
     "metadata": {
      "needs_background": "light"
     },
     "output_type": "display_data"
    }
   ],
   "source": [
    "msno.matrix(df_train_outpatient)"
   ]
  },
  {
   "cell_type": "code",
   "execution_count": 42,
   "id": "362cb9fe",
   "metadata": {},
   "outputs": [
    {
     "data": {
      "text/plain": [
       "<AxesSubplot:>"
      ]
     },
     "execution_count": 42,
     "metadata": {},
     "output_type": "execute_result"
    },
    {
     "data": {
      "image/png": "[encoded data removed]",
      "text/plain": [
       "<Figure size 1440x864 with 2 Axes>"
      ]
     },
     "metadata": {
      "needs_background": "light"
     },
     "output_type": "display_data"
    }
   ],
   "source": [
    "msno.heatmap(df_train_outpatient)"
   ]
  },
  {
   "cell_type": "markdown",
   "id": "21410afc",
   "metadata": {},
   "source": [
    "* #### Quick Summary"
   ]
  },
  {
   "cell_type": "markdown",
   "id": "87d58752",
   "metadata": {},
   "source": [
    "* Similar to inpatient data, missing data are present in the columns of AttendingPhysician, OperatingPhysician,OtherPhysician, ClmDiagnosisCodes, ClmProcedureCodes and ClmAdmitDiagnosisCode.\n",
    "* Only 0.3% of missing data in AttendingPhysician, in comparison with 82% in OperatingPhysician and 62% in OtherPhysician. \n",
    "* There are approximately 2%, 38%, 61%, 76%, 85%, 91%, 94%, 96%, 97%, and 99.79% in ClmDiagnosisCode_1, 2, 3, 4, 5, 6, 7, 8, 9 and 10, perspectively. The ratio of missing data is <ins>much higher</ins> compared to that in the outpatient data. <ins>The increasing fraction of missing data along with the ClmDiagnosisCodes appears to make sense because not all case will need 10 claim diagnosis codes.</ins> \n",
    "* There are very higher percentages of missing data in procedure codes. There are approxiately 99.97%, 99.99%, 99.999%, 99.9996%, 100% and 100% of missing data in ClmProcedureCodes. <ins> This likely makes sense since most of the procedures are conducted as part of outpatient services.</ins> \n",
    "* Approximately 79.6% of data is missing for ClmAdmitDiagnosisCode."
   ]
  },
  {
   "cell_type": "markdown",
   "id": "a2869c0d",
   "metadata": {},
   "source": [
    "### Further looking into the percentage of claims provided by non-frauduent and frauduent providers with missing data in each category.\n",
    "* AttendingPhysician\n",
    "* OperatingPhysician\n",
    "* OtherPhysician\n",
    "* ClmDiagnosisCodes\n",
    "* ClmProcedureCodes\n",
    "* ClmAdmitDiagnosisCode."
   ]
  },
  {
   "cell_type": "markdown",
   "id": "c5b2354a",
   "metadata": {},
   "source": [
    "### Merge the fraudulent providers info into the inpatient data"
   ]
  },
  {
   "cell_type": "code",
   "execution_count": 43,
   "id": "7e6ef128",
   "metadata": {},
   "outputs": [
    {
     "data": {
      "text/html": [
       "<div>\n",
       "<style scoped>\n",
       "    .dataframe tbody tr th:only-of-type {\n",
       "        vertical-align: middle;\n",
       "    }\n",
       "\n",
       "    .dataframe tbody tr th {\n",
       "        vertical-align: top;\n",
       "    }\n",
       "\n",
       "    .dataframe thead th {\n",
       "        text-align: right;\n",
       "    }\n",
       "</style>\n",
       "<table border=\"1\" class=\"dataframe\">\n",
       "  <thead>\n",
       "    <tr style=\"text-align: right;\">\n",
       "      <th></th>\n",
       "      <th>BeneID</th>\n",
       "      <th>ClaimID</th>\n",
       "      <th>ClaimStartDt</th>\n",
       "      <th>ClaimEndDt</th>\n",
       "      <th>Provider</th>\n",
       "      <th>InscClaimAmtReimbursed</th>\n",
       "      <th>AttendingPhysician</th>\n",
       "      <th>OperatingPhysician</th>\n",
       "      <th>OtherPhysician</th>\n",
       "      <th>ClmDiagnosisCode_1</th>\n",
       "      <th>...</th>\n",
       "      <th>ClmDiagnosisCode_10</th>\n",
       "      <th>ClmProcedureCode_1</th>\n",
       "      <th>ClmProcedureCode_2</th>\n",
       "      <th>ClmProcedureCode_3</th>\n",
       "      <th>ClmProcedureCode_4</th>\n",
       "      <th>ClmProcedureCode_5</th>\n",
       "      <th>ClmProcedureCode_6</th>\n",
       "      <th>DeductibleAmtPaid</th>\n",
       "      <th>ClmAdmitDiagnosisCode</th>\n",
       "      <th>PotentialFraud</th>\n",
       "    </tr>\n",
       "  </thead>\n",
       "  <tbody>\n",
       "    <tr>\n",
       "      <th>0</th>\n",
       "      <td>BENE11002</td>\n",
       "      <td>CLM624349</td>\n",
       "      <td>2009-10-11</td>\n",
       "      <td>2009-10-11</td>\n",
       "      <td>PRV56011</td>\n",
       "      <td>30</td>\n",
       "      <td>PHY326117</td>\n",
       "      <td>NaN</td>\n",
       "      <td>NaN</td>\n",
       "      <td>78943</td>\n",
       "      <td>...</td>\n",
       "      <td>NaN</td>\n",
       "      <td>NaN</td>\n",
       "      <td>NaN</td>\n",
       "      <td>NaN</td>\n",
       "      <td>NaN</td>\n",
       "      <td>NaN</td>\n",
       "      <td>NaN</td>\n",
       "      <td>0</td>\n",
       "      <td>56409</td>\n",
       "      <td>Yes</td>\n",
       "    </tr>\n",
       "    <tr>\n",
       "      <th>1</th>\n",
       "      <td>BENE11004</td>\n",
       "      <td>CLM121801</td>\n",
       "      <td>2009-01-06</td>\n",
       "      <td>2009-01-06</td>\n",
       "      <td>PRV56011</td>\n",
       "      <td>40</td>\n",
       "      <td>PHY334319</td>\n",
       "      <td>NaN</td>\n",
       "      <td>NaN</td>\n",
       "      <td>71988</td>\n",
       "      <td>...</td>\n",
       "      <td>NaN</td>\n",
       "      <td>NaN</td>\n",
       "      <td>NaN</td>\n",
       "      <td>NaN</td>\n",
       "      <td>NaN</td>\n",
       "      <td>NaN</td>\n",
       "      <td>NaN</td>\n",
       "      <td>0</td>\n",
       "      <td>NaN</td>\n",
       "      <td>Yes</td>\n",
       "    </tr>\n",
       "    <tr>\n",
       "      <th>2</th>\n",
       "      <td>BENE11004</td>\n",
       "      <td>CLM150998</td>\n",
       "      <td>2009-01-22</td>\n",
       "      <td>2009-01-22</td>\n",
       "      <td>PRV56011</td>\n",
       "      <td>200</td>\n",
       "      <td>PHY403831</td>\n",
       "      <td>NaN</td>\n",
       "      <td>NaN</td>\n",
       "      <td>82382</td>\n",
       "      <td>...</td>\n",
       "      <td>NaN</td>\n",
       "      <td>NaN</td>\n",
       "      <td>NaN</td>\n",
       "      <td>NaN</td>\n",
       "      <td>NaN</td>\n",
       "      <td>NaN</td>\n",
       "      <td>NaN</td>\n",
       "      <td>0</td>\n",
       "      <td>71947</td>\n",
       "      <td>Yes</td>\n",
       "    </tr>\n",
       "    <tr>\n",
       "      <th>3</th>\n",
       "      <td>BENE11004</td>\n",
       "      <td>CLM173224</td>\n",
       "      <td>2009-02-03</td>\n",
       "      <td>2009-02-03</td>\n",
       "      <td>PRV56011</td>\n",
       "      <td>20</td>\n",
       "      <td>PHY339887</td>\n",
       "      <td>NaN</td>\n",
       "      <td>NaN</td>\n",
       "      <td>20381</td>\n",
       "      <td>...</td>\n",
       "      <td>NaN</td>\n",
       "      <td>NaN</td>\n",
       "      <td>NaN</td>\n",
       "      <td>NaN</td>\n",
       "      <td>NaN</td>\n",
       "      <td>NaN</td>\n",
       "      <td>NaN</td>\n",
       "      <td>0</td>\n",
       "      <td>NaN</td>\n",
       "      <td>Yes</td>\n",
       "    </tr>\n",
       "    <tr>\n",
       "      <th>4</th>\n",
       "      <td>BENE11004</td>\n",
       "      <td>CLM224741</td>\n",
       "      <td>2009-03-03</td>\n",
       "      <td>2009-03-03</td>\n",
       "      <td>PRV56011</td>\n",
       "      <td>40</td>\n",
       "      <td>PHY345721</td>\n",
       "      <td>NaN</td>\n",
       "      <td>NaN</td>\n",
       "      <td>V6546</td>\n",
       "      <td>...</td>\n",
       "      <td>NaN</td>\n",
       "      <td>NaN</td>\n",
       "      <td>NaN</td>\n",
       "      <td>NaN</td>\n",
       "      <td>NaN</td>\n",
       "      <td>NaN</td>\n",
       "      <td>NaN</td>\n",
       "      <td>0</td>\n",
       "      <td>NaN</td>\n",
       "      <td>Yes</td>\n",
       "    </tr>\n",
       "  </tbody>\n",
       "</table>\n",
       "<p>5 rows × 28 columns</p>\n",
       "</div>"
      ],
      "text/plain": [
       "      BeneID    ClaimID ClaimStartDt  ClaimEndDt  Provider  \\\n",
       "0  BENE11002  CLM624349   2009-10-11  2009-10-11  PRV56011   \n",
       "1  BENE11004  CLM121801   2009-01-06  2009-01-06  PRV56011   \n",
       "2  BENE11004  CLM150998   2009-01-22  2009-01-22  PRV56011   \n",
       "3  BENE11004  CLM173224   2009-02-03  2009-02-03  PRV56011   \n",
       "4  BENE11004  CLM224741   2009-03-03  2009-03-03  PRV56011   \n",
       "\n",
       "   InscClaimAmtReimbursed AttendingPhysician OperatingPhysician  \\\n",
       "0                      30          PHY326117                NaN   \n",
       "1                      40          PHY334319                NaN   \n",
       "2                     200          PHY403831                NaN   \n",
       "3                      20          PHY339887                NaN   \n",
       "4                      40          PHY345721                NaN   \n",
       "\n",
       "  OtherPhysician ClmDiagnosisCode_1  ... ClmDiagnosisCode_10  \\\n",
       "0            NaN              78943  ...                 NaN   \n",
       "1            NaN              71988  ...                 NaN   \n",
       "2            NaN              82382  ...                 NaN   \n",
       "3            NaN              20381  ...                 NaN   \n",
       "4            NaN              V6546  ...                 NaN   \n",
       "\n",
       "  ClmProcedureCode_1 ClmProcedureCode_2 ClmProcedureCode_3 ClmProcedureCode_4  \\\n",
       "0                NaN                NaN                NaN                NaN   \n",
       "1                NaN                NaN                NaN                NaN   \n",
       "2                NaN                NaN                NaN                NaN   \n",
       "3                NaN                NaN                NaN                NaN   \n",
       "4                NaN                NaN                NaN                NaN   \n",
       "\n",
       "  ClmProcedureCode_5 ClmProcedureCode_6 DeductibleAmtPaid  \\\n",
       "0                NaN                NaN                 0   \n",
       "1                NaN                NaN                 0   \n",
       "2                NaN                NaN                 0   \n",
       "3                NaN                NaN                 0   \n",
       "4                NaN                NaN                 0   \n",
       "\n",
       "  ClmAdmitDiagnosisCode  PotentialFraud  \n",
       "0                 56409             Yes  \n",
       "1                   NaN             Yes  \n",
       "2                 71947             Yes  \n",
       "3                   NaN             Yes  \n",
       "4                   NaN             Yes  \n",
       "\n",
       "[5 rows x 28 columns]"
      ]
     },
     "execution_count": 43,
     "metadata": {},
     "output_type": "execute_result"
    }
   ],
   "source": [
    "df1_outp = pd.merge(df_train_outpatient,df_train_target, on = \"Provider\")\n",
    "df1_outp.head()"
   ]
  },
  {
   "cell_type": "markdown",
   "id": "d8b315a0",
   "metadata": {},
   "source": [
    "#### 3.A AttendingPhysician"
   ]
  },
  {
   "cell_type": "code",
   "execution_count": 44,
   "id": "3580ebdb",
   "metadata": {},
   "outputs": [
    {
     "data": {
      "text/html": [
       "<div>\n",
       "<style scoped>\n",
       "    .dataframe tbody tr th:only-of-type {\n",
       "        vertical-align: middle;\n",
       "    }\n",
       "\n",
       "    .dataframe tbody tr th {\n",
       "        vertical-align: top;\n",
       "    }\n",
       "\n",
       "    .dataframe thead th {\n",
       "        text-align: right;\n",
       "    }\n",
       "</style>\n",
       "<table border=\"1\" class=\"dataframe\">\n",
       "  <thead>\n",
       "    <tr style=\"text-align: right;\">\n",
       "      <th></th>\n",
       "      <th>BeneID</th>\n",
       "      <th>ClaimID</th>\n",
       "      <th>ClaimStartDt</th>\n",
       "      <th>ClaimEndDt</th>\n",
       "      <th>Provider</th>\n",
       "      <th>InscClaimAmtReimbursed</th>\n",
       "      <th>AttendingPhysician</th>\n",
       "      <th>OperatingPhysician</th>\n",
       "      <th>OtherPhysician</th>\n",
       "      <th>ClmDiagnosisCode_1</th>\n",
       "      <th>...</th>\n",
       "      <th>ClmDiagnosisCode_9</th>\n",
       "      <th>ClmDiagnosisCode_10</th>\n",
       "      <th>ClmProcedureCode_1</th>\n",
       "      <th>ClmProcedureCode_2</th>\n",
       "      <th>ClmProcedureCode_3</th>\n",
       "      <th>ClmProcedureCode_4</th>\n",
       "      <th>ClmProcedureCode_5</th>\n",
       "      <th>ClmProcedureCode_6</th>\n",
       "      <th>DeductibleAmtPaid</th>\n",
       "      <th>ClmAdmitDiagnosisCode</th>\n",
       "    </tr>\n",
       "    <tr>\n",
       "      <th>PotentialFraud</th>\n",
       "      <th></th>\n",
       "      <th></th>\n",
       "      <th></th>\n",
       "      <th></th>\n",
       "      <th></th>\n",
       "      <th></th>\n",
       "      <th></th>\n",
       "      <th></th>\n",
       "      <th></th>\n",
       "      <th></th>\n",
       "      <th></th>\n",
       "      <th></th>\n",
       "      <th></th>\n",
       "      <th></th>\n",
       "      <th></th>\n",
       "      <th></th>\n",
       "      <th></th>\n",
       "      <th></th>\n",
       "      <th></th>\n",
       "      <th></th>\n",
       "      <th></th>\n",
       "    </tr>\n",
       "  </thead>\n",
       "  <tbody>\n",
       "    <tr>\n",
       "      <th>No</th>\n",
       "      <td>328343</td>\n",
       "      <td>328343</td>\n",
       "      <td>328343</td>\n",
       "      <td>328343</td>\n",
       "      <td>328343</td>\n",
       "      <td>328343</td>\n",
       "      <td>327454</td>\n",
       "      <td>57491</td>\n",
       "      <td>122674</td>\n",
       "      <td>321725</td>\n",
       "      <td>...</td>\n",
       "      <td>9387</td>\n",
       "      <td>659</td>\n",
       "      <td>93</td>\n",
       "      <td>19</td>\n",
       "      <td>1</td>\n",
       "      <td>1</td>\n",
       "      <td>0</td>\n",
       "      <td>0</td>\n",
       "      <td>328343</td>\n",
       "      <td>66778</td>\n",
       "    </tr>\n",
       "    <tr>\n",
       "      <th>Yes</th>\n",
       "      <td>189394</td>\n",
       "      <td>189394</td>\n",
       "      <td>189394</td>\n",
       "      <td>189394</td>\n",
       "      <td>189394</td>\n",
       "      <td>189394</td>\n",
       "      <td>188887</td>\n",
       "      <td>33126</td>\n",
       "      <td>72372</td>\n",
       "      <td>185559</td>\n",
       "      <td>...</td>\n",
       "      <td>5451</td>\n",
       "      <td>424</td>\n",
       "      <td>69</td>\n",
       "      <td>17</td>\n",
       "      <td>3</td>\n",
       "      <td>1</td>\n",
       "      <td>0</td>\n",
       "      <td>0</td>\n",
       "      <td>189394</td>\n",
       "      <td>38647</td>\n",
       "    </tr>\n",
       "  </tbody>\n",
       "</table>\n",
       "<p>2 rows × 27 columns</p>\n",
       "</div>"
      ],
      "text/plain": [
       "                BeneID  ClaimID  ClaimStartDt  ClaimEndDt  Provider  \\\n",
       "PotentialFraud                                                        \n",
       "No              328343   328343        328343      328343    328343   \n",
       "Yes             189394   189394        189394      189394    189394   \n",
       "\n",
       "                InscClaimAmtReimbursed  AttendingPhysician  \\\n",
       "PotentialFraud                                               \n",
       "No                              328343              327454   \n",
       "Yes                             189394              188887   \n",
       "\n",
       "                OperatingPhysician  OtherPhysician  ClmDiagnosisCode_1  ...  \\\n",
       "PotentialFraud                                                          ...   \n",
       "No                           57491          122674              321725  ...   \n",
       "Yes                          33126           72372              185559  ...   \n",
       "\n",
       "                ClmDiagnosisCode_9  ClmDiagnosisCode_10  ClmProcedureCode_1  \\\n",
       "PotentialFraud                                                                \n",
       "No                            9387                  659                  93   \n",
       "Yes                           5451                  424                  69   \n",
       "\n",
       "                ClmProcedureCode_2  ClmProcedureCode_3  ClmProcedureCode_4  \\\n",
       "PotentialFraud                                                               \n",
       "No                              19                   1                   1   \n",
       "Yes                             17                   3                   1   \n",
       "\n",
       "                ClmProcedureCode_5  ClmProcedureCode_6  DeductibleAmtPaid  \\\n",
       "PotentialFraud                                                              \n",
       "No                               0                   0             328343   \n",
       "Yes                              0                   0             189394   \n",
       "\n",
       "                ClmAdmitDiagnosisCode  \n",
       "PotentialFraud                         \n",
       "No                              66778  \n",
       "Yes                             38647  \n",
       "\n",
       "[2 rows x 27 columns]"
      ]
     },
     "execution_count": 44,
     "metadata": {},
     "output_type": "execute_result"
    }
   ],
   "source": [
    "df1_outp.groupby(['PotentialFraud']).count()"
   ]
  },
  {
   "cell_type": "code",
   "execution_count": 45,
   "id": "2e667c39",
   "metadata": {},
   "outputs": [],
   "source": [
    "#Percentage of claims filed by non-fraudent and frauduent providers without attending physician info\n",
    "PercentClaims= 1 - df1_outp.groupby(['PotentialFraud']).AttendingPhysician.count().divide(df1_outp.groupby(['PotentialFraud']).ClaimID.count())"
   ]
  },
  {
   "cell_type": "code",
   "execution_count": 47,
   "id": "8027c413",
   "metadata": {},
   "outputs": [
    {
     "data": {
      "text/plain": [
       "<AxesSubplot:title={'center':'Percentage of Claims w/o AttendingPhysician'}, xlabel='PotentialFraud'>"
      ]
     },
     "execution_count": 47,
     "metadata": {},
     "output_type": "execute_result"
    },
    {
     "data": {
      "image/png": "[encoded data removed]",
      "text/plain": [
       "<Figure size 432x288 with 1 Axes>"
      ]
     },
     "metadata": {
      "needs_background": "light"
     },
     "output_type": "display_data"
    }
   ],
   "source": [
    "PercentClaims.plot(kind= 'bar', title = 'Percentage of Claims w/o AttendingPhysician', ylim = (0,0.2))"
   ]
  },
  {
   "cell_type": "markdown",
   "id": "434f2a3e",
   "metadata": {},
   "source": [
    "#### 3.B OperatingPhysician"
   ]
  },
  {
   "cell_type": "code",
   "execution_count": 48,
   "id": "ad638ab7",
   "metadata": {},
   "outputs": [],
   "source": [
    "#Percentage of claims filed by non-fraudent and frauduent providers without operating physician info\n",
    "PercentClaims= 1 - df1_outp.groupby(['PotentialFraud']).OperatingPhysician.count().divide(df1_outp.groupby(['PotentialFraud']).ClaimID.count())"
   ]
  },
  {
   "cell_type": "code",
   "execution_count": 49,
   "id": "b044a698",
   "metadata": {},
   "outputs": [
    {
     "data": {
      "text/plain": [
       "<AxesSubplot:title={'center':'Percentage of Claims w/o AttendingPhysician'}, xlabel='PotentialFraud'>"
      ]
     },
     "execution_count": 49,
     "metadata": {},
     "output_type": "execute_result"
    },
    {
     "data": {
      "image/png": "[encoded data removed]",
      "text/plain": [
       "<Figure size 432x288 with 1 Axes>"
      ]
     },
     "metadata": {
      "needs_background": "light"
     },
     "output_type": "display_data"
    }
   ],
   "source": [
    "PercentClaims.plot(kind= 'bar', title = 'Percentage of Claims w/o AttendingPhysician', ylim = (0,1))"
   ]
  },
  {
   "cell_type": "markdown",
   "id": "2442c063",
   "metadata": {},
   "source": [
    "#### 3.C OtherPhysician"
   ]
  },
  {
   "cell_type": "code",
   "execution_count": 50,
   "id": "fa256080",
   "metadata": {},
   "outputs": [],
   "source": [
    "#Percentage of claims filed by non-fraudent and frauduent providers without operating physician info\n",
    "PercentClaims= 1 - df1_outp.groupby(['PotentialFraud']).OtherPhysician.count().divide(df1_outp.groupby(['PotentialFraud']).ClaimID.count())"
   ]
  },
  {
   "cell_type": "code",
   "execution_count": 51,
   "id": "34991b61",
   "metadata": {},
   "outputs": [
    {
     "data": {
      "text/plain": [
       "<AxesSubplot:title={'center':'Percentage of Claims w/o AttendingPhysician'}, xlabel='PotentialFraud'>"
      ]
     },
     "execution_count": 51,
     "metadata": {},
     "output_type": "execute_result"
    },
    {
     "data": {
      "image/png": "[encoded data removed]",
      "text/plain": [
       "<Figure size 432x288 with 1 Axes>"
      ]
     },
     "metadata": {
      "needs_background": "light"
     },
     "output_type": "display_data"
    }
   ],
   "source": [
    "PercentClaims.plot(kind= 'bar', title = 'Percentage of Claims w/o AttendingPhysician', ylim = (0,1))"
   ]
  },
  {
   "cell_type": "markdown",
   "id": "010008be",
   "metadata": {},
   "source": [
    "#### 3.D ClmDiagnosisCodes"
   ]
  },
  {
   "cell_type": "code",
   "execution_count": 52,
   "id": "3b41efb3",
   "metadata": {},
   "outputs": [],
   "source": [
    "df1_outp['NumClmDiagnosisCodes'] = df1_outp[['ClmDiagnosisCode_1','ClmDiagnosisCode_2','ClmDiagnosisCode_3','ClmDiagnosisCode_4','ClmDiagnosisCode_5','ClmDiagnosisCode_6','ClmDiagnosisCode_7','ClmDiagnosisCode_8','ClmDiagnosisCode_9','ClmDiagnosisCode_10']].notnull().sum(axis = 1)"
   ]
  },
  {
   "cell_type": "code",
   "execution_count": 53,
   "id": "4a66e31d",
   "metadata": {},
   "outputs": [],
   "source": [
    "df1_outp['MissingClmDiagnosisCodes'] = ~df1_outp['NumClmDiagnosisCodes'].astype(bool)"
   ]
  },
  {
   "cell_type": "code",
   "execution_count": 54,
   "id": "334e2fc9",
   "metadata": {},
   "outputs": [
    {
     "data": {
      "text/html": [
       "<div>\n",
       "<style scoped>\n",
       "    .dataframe tbody tr th:only-of-type {\n",
       "        vertical-align: middle;\n",
       "    }\n",
       "\n",
       "    .dataframe tbody tr th {\n",
       "        vertical-align: top;\n",
       "    }\n",
       "\n",
       "    .dataframe thead th {\n",
       "        text-align: right;\n",
       "    }\n",
       "</style>\n",
       "<table border=\"1\" class=\"dataframe\">\n",
       "  <thead>\n",
       "    <tr style=\"text-align: right;\">\n",
       "      <th></th>\n",
       "      <th>BeneID</th>\n",
       "      <th>ClaimID</th>\n",
       "      <th>ClaimStartDt</th>\n",
       "      <th>ClaimEndDt</th>\n",
       "      <th>Provider</th>\n",
       "      <th>InscClaimAmtReimbursed</th>\n",
       "      <th>AttendingPhysician</th>\n",
       "      <th>OperatingPhysician</th>\n",
       "      <th>OtherPhysician</th>\n",
       "      <th>ClmDiagnosisCode_1</th>\n",
       "      <th>...</th>\n",
       "      <th>ClmProcedureCode_2</th>\n",
       "      <th>ClmProcedureCode_3</th>\n",
       "      <th>ClmProcedureCode_4</th>\n",
       "      <th>ClmProcedureCode_5</th>\n",
       "      <th>ClmProcedureCode_6</th>\n",
       "      <th>DeductibleAmtPaid</th>\n",
       "      <th>ClmAdmitDiagnosisCode</th>\n",
       "      <th>PotentialFraud</th>\n",
       "      <th>NumClmDiagnosisCodes</th>\n",
       "      <th>MissingClmDiagnosisCodes</th>\n",
       "    </tr>\n",
       "  </thead>\n",
       "  <tbody>\n",
       "    <tr>\n",
       "      <th>0</th>\n",
       "      <td>BENE11002</td>\n",
       "      <td>CLM624349</td>\n",
       "      <td>2009-10-11</td>\n",
       "      <td>2009-10-11</td>\n",
       "      <td>PRV56011</td>\n",
       "      <td>30</td>\n",
       "      <td>PHY326117</td>\n",
       "      <td>NaN</td>\n",
       "      <td>NaN</td>\n",
       "      <td>78943</td>\n",
       "      <td>...</td>\n",
       "      <td>NaN</td>\n",
       "      <td>NaN</td>\n",
       "      <td>NaN</td>\n",
       "      <td>NaN</td>\n",
       "      <td>NaN</td>\n",
       "      <td>0</td>\n",
       "      <td>56409</td>\n",
       "      <td>Yes</td>\n",
       "      <td>3</td>\n",
       "      <td>False</td>\n",
       "    </tr>\n",
       "    <tr>\n",
       "      <th>1</th>\n",
       "      <td>BENE11004</td>\n",
       "      <td>CLM121801</td>\n",
       "      <td>2009-01-06</td>\n",
       "      <td>2009-01-06</td>\n",
       "      <td>PRV56011</td>\n",
       "      <td>40</td>\n",
       "      <td>PHY334319</td>\n",
       "      <td>NaN</td>\n",
       "      <td>NaN</td>\n",
       "      <td>71988</td>\n",
       "      <td>...</td>\n",
       "      <td>NaN</td>\n",
       "      <td>NaN</td>\n",
       "      <td>NaN</td>\n",
       "      <td>NaN</td>\n",
       "      <td>NaN</td>\n",
       "      <td>0</td>\n",
       "      <td>NaN</td>\n",
       "      <td>Yes</td>\n",
       "      <td>1</td>\n",
       "      <td>False</td>\n",
       "    </tr>\n",
       "    <tr>\n",
       "      <th>2</th>\n",
       "      <td>BENE11004</td>\n",
       "      <td>CLM150998</td>\n",
       "      <td>2009-01-22</td>\n",
       "      <td>2009-01-22</td>\n",
       "      <td>PRV56011</td>\n",
       "      <td>200</td>\n",
       "      <td>PHY403831</td>\n",
       "      <td>NaN</td>\n",
       "      <td>NaN</td>\n",
       "      <td>82382</td>\n",
       "      <td>...</td>\n",
       "      <td>NaN</td>\n",
       "      <td>NaN</td>\n",
       "      <td>NaN</td>\n",
       "      <td>NaN</td>\n",
       "      <td>NaN</td>\n",
       "      <td>0</td>\n",
       "      <td>71947</td>\n",
       "      <td>Yes</td>\n",
       "      <td>6</td>\n",
       "      <td>False</td>\n",
       "    </tr>\n",
       "    <tr>\n",
       "      <th>3</th>\n",
       "      <td>BENE11004</td>\n",
       "      <td>CLM173224</td>\n",
       "      <td>2009-02-03</td>\n",
       "      <td>2009-02-03</td>\n",
       "      <td>PRV56011</td>\n",
       "      <td>20</td>\n",
       "      <td>PHY339887</td>\n",
       "      <td>NaN</td>\n",
       "      <td>NaN</td>\n",
       "      <td>20381</td>\n",
       "      <td>...</td>\n",
       "      <td>NaN</td>\n",
       "      <td>NaN</td>\n",
       "      <td>NaN</td>\n",
       "      <td>NaN</td>\n",
       "      <td>NaN</td>\n",
       "      <td>0</td>\n",
       "      <td>NaN</td>\n",
       "      <td>Yes</td>\n",
       "      <td>1</td>\n",
       "      <td>False</td>\n",
       "    </tr>\n",
       "    <tr>\n",
       "      <th>4</th>\n",
       "      <td>BENE11004</td>\n",
       "      <td>CLM224741</td>\n",
       "      <td>2009-03-03</td>\n",
       "      <td>2009-03-03</td>\n",
       "      <td>PRV56011</td>\n",
       "      <td>40</td>\n",
       "      <td>PHY345721</td>\n",
       "      <td>NaN</td>\n",
       "      <td>NaN</td>\n",
       "      <td>V6546</td>\n",
       "      <td>...</td>\n",
       "      <td>NaN</td>\n",
       "      <td>NaN</td>\n",
       "      <td>NaN</td>\n",
       "      <td>NaN</td>\n",
       "      <td>NaN</td>\n",
       "      <td>0</td>\n",
       "      <td>NaN</td>\n",
       "      <td>Yes</td>\n",
       "      <td>4</td>\n",
       "      <td>False</td>\n",
       "    </tr>\n",
       "  </tbody>\n",
       "</table>\n",
       "<p>5 rows × 30 columns</p>\n",
       "</div>"
      ],
      "text/plain": [
       "      BeneID    ClaimID ClaimStartDt  ClaimEndDt  Provider  \\\n",
       "0  BENE11002  CLM624349   2009-10-11  2009-10-11  PRV56011   \n",
       "1  BENE11004  CLM121801   2009-01-06  2009-01-06  PRV56011   \n",
       "2  BENE11004  CLM150998   2009-01-22  2009-01-22  PRV56011   \n",
       "3  BENE11004  CLM173224   2009-02-03  2009-02-03  PRV56011   \n",
       "4  BENE11004  CLM224741   2009-03-03  2009-03-03  PRV56011   \n",
       "\n",
       "   InscClaimAmtReimbursed AttendingPhysician OperatingPhysician  \\\n",
       "0                      30          PHY326117                NaN   \n",
       "1                      40          PHY334319                NaN   \n",
       "2                     200          PHY403831                NaN   \n",
       "3                      20          PHY339887                NaN   \n",
       "4                      40          PHY345721                NaN   \n",
       "\n",
       "  OtherPhysician ClmDiagnosisCode_1  ... ClmProcedureCode_2  \\\n",
       "0            NaN              78943  ...                NaN   \n",
       "1            NaN              71988  ...                NaN   \n",
       "2            NaN              82382  ...                NaN   \n",
       "3            NaN              20381  ...                NaN   \n",
       "4            NaN              V6546  ...                NaN   \n",
       "\n",
       "  ClmProcedureCode_3 ClmProcedureCode_4 ClmProcedureCode_5 ClmProcedureCode_6  \\\n",
       "0                NaN                NaN                NaN                NaN   \n",
       "1                NaN                NaN                NaN                NaN   \n",
       "2                NaN                NaN                NaN                NaN   \n",
       "3                NaN                NaN                NaN                NaN   \n",
       "4                NaN                NaN                NaN                NaN   \n",
       "\n",
       "  DeductibleAmtPaid ClmAdmitDiagnosisCode PotentialFraud NumClmDiagnosisCodes  \\\n",
       "0                 0                 56409            Yes                    3   \n",
       "1                 0                   NaN            Yes                    1   \n",
       "2                 0                 71947            Yes                    6   \n",
       "3                 0                   NaN            Yes                    1   \n",
       "4                 0                   NaN            Yes                    4   \n",
       "\n",
       "   MissingClmDiagnosisCodes  \n",
       "0                     False  \n",
       "1                     False  \n",
       "2                     False  \n",
       "3                     False  \n",
       "4                     False  \n",
       "\n",
       "[5 rows x 30 columns]"
      ]
     },
     "execution_count": 54,
     "metadata": {},
     "output_type": "execute_result"
    }
   ],
   "source": [
    "df1_outp.head()"
   ]
  },
  {
   "cell_type": "code",
   "execution_count": 55,
   "id": "f7a4e512",
   "metadata": {},
   "outputs": [],
   "source": [
    "#Percentage of claims with missing ClmDiagnosisCodes submitted by Non-Frauduluent and Fraudulent Providers \n",
    "PercentClaims = df1_outp.groupby(['PotentialFraud']).MissingClmDiagnosisCodes.sum().divide(df1_outp.groupby(['PotentialFraud']).ClaimID.count())"
   ]
  },
  {
   "cell_type": "code",
   "execution_count": 56,
   "id": "e1c78dfb",
   "metadata": {},
   "outputs": [
    {
     "data": {
      "text/plain": [
       "<AxesSubplot:xlabel='PotentialFraud', ylabel='Percentage of Claims w/o ClmDiagnosisCodes'>"
      ]
     },
     "execution_count": 56,
     "metadata": {},
     "output_type": "execute_result"
    },
    {
     "data": {
      "image/png": "[encoded data removed]",
      "text/plain": [
       "<Figure size 432x288 with 1 Axes>"
      ]
     },
     "metadata": {
      "needs_background": "light"
     },
     "output_type": "display_data"
    }
   ],
   "source": [
    "PercentClaims.plot(kind= 'bar', ylabel = 'Percentage of Claims w/o ClmDiagnosisCodes', ylim = (0,1))"
   ]
  },
  {
   "cell_type": "markdown",
   "id": "dc338a92",
   "metadata": {},
   "source": [
    "#### 3.E ClmProcedureCodes"
   ]
  },
  {
   "cell_type": "code",
   "execution_count": 57,
   "id": "fe15f313",
   "metadata": {},
   "outputs": [],
   "source": [
    "df1_outp['NumClmProcedureCodes'] = df1_outp[['ClmProcedureCode_1','ClmProcedureCode_2','ClmProcedureCode_3','ClmProcedureCode_4','ClmProcedureCode_5','ClmProcedureCode_6']].notnull().sum(axis = 1)"
   ]
  },
  {
   "cell_type": "code",
   "execution_count": 58,
   "id": "a4ab4786",
   "metadata": {},
   "outputs": [],
   "source": [
    "df1_outp['MissingProcedureCodes'] = ~df1_outp['NumClmProcedureCodes'].astype(bool)"
   ]
  },
  {
   "cell_type": "code",
   "execution_count": 59,
   "id": "8d1db861",
   "metadata": {},
   "outputs": [
    {
     "data": {
      "text/html": [
       "<div>\n",
       "<style scoped>\n",
       "    .dataframe tbody tr th:only-of-type {\n",
       "        vertical-align: middle;\n",
       "    }\n",
       "\n",
       "    .dataframe tbody tr th {\n",
       "        vertical-align: top;\n",
       "    }\n",
       "\n",
       "    .dataframe thead th {\n",
       "        text-align: right;\n",
       "    }\n",
       "</style>\n",
       "<table border=\"1\" class=\"dataframe\">\n",
       "  <thead>\n",
       "    <tr style=\"text-align: right;\">\n",
       "      <th></th>\n",
       "      <th>BeneID</th>\n",
       "      <th>ClaimID</th>\n",
       "      <th>ClaimStartDt</th>\n",
       "      <th>ClaimEndDt</th>\n",
       "      <th>Provider</th>\n",
       "      <th>InscClaimAmtReimbursed</th>\n",
       "      <th>AttendingPhysician</th>\n",
       "      <th>OperatingPhysician</th>\n",
       "      <th>OtherPhysician</th>\n",
       "      <th>ClmDiagnosisCode_1</th>\n",
       "      <th>...</th>\n",
       "      <th>ClmProcedureCode_4</th>\n",
       "      <th>ClmProcedureCode_5</th>\n",
       "      <th>ClmProcedureCode_6</th>\n",
       "      <th>DeductibleAmtPaid</th>\n",
       "      <th>ClmAdmitDiagnosisCode</th>\n",
       "      <th>PotentialFraud</th>\n",
       "      <th>NumClmDiagnosisCodes</th>\n",
       "      <th>MissingClmDiagnosisCodes</th>\n",
       "      <th>NumClmProcedureCodes</th>\n",
       "      <th>MissingProcedureCodes</th>\n",
       "    </tr>\n",
       "  </thead>\n",
       "  <tbody>\n",
       "    <tr>\n",
       "      <th>0</th>\n",
       "      <td>BENE11002</td>\n",
       "      <td>CLM624349</td>\n",
       "      <td>2009-10-11</td>\n",
       "      <td>2009-10-11</td>\n",
       "      <td>PRV56011</td>\n",
       "      <td>30</td>\n",
       "      <td>PHY326117</td>\n",
       "      <td>NaN</td>\n",
       "      <td>NaN</td>\n",
       "      <td>78943</td>\n",
       "      <td>...</td>\n",
       "      <td>NaN</td>\n",
       "      <td>NaN</td>\n",
       "      <td>NaN</td>\n",
       "      <td>0</td>\n",
       "      <td>56409</td>\n",
       "      <td>Yes</td>\n",
       "      <td>3</td>\n",
       "      <td>False</td>\n",
       "      <td>0</td>\n",
       "      <td>True</td>\n",
       "    </tr>\n",
       "    <tr>\n",
       "      <th>1</th>\n",
       "      <td>BENE11004</td>\n",
       "      <td>CLM121801</td>\n",
       "      <td>2009-01-06</td>\n",
       "      <td>2009-01-06</td>\n",
       "      <td>PRV56011</td>\n",
       "      <td>40</td>\n",
       "      <td>PHY334319</td>\n",
       "      <td>NaN</td>\n",
       "      <td>NaN</td>\n",
       "      <td>71988</td>\n",
       "      <td>...</td>\n",
       "      <td>NaN</td>\n",
       "      <td>NaN</td>\n",
       "      <td>NaN</td>\n",
       "      <td>0</td>\n",
       "      <td>NaN</td>\n",
       "      <td>Yes</td>\n",
       "      <td>1</td>\n",
       "      <td>False</td>\n",
       "      <td>0</td>\n",
       "      <td>True</td>\n",
       "    </tr>\n",
       "    <tr>\n",
       "      <th>2</th>\n",
       "      <td>BENE11004</td>\n",
       "      <td>CLM150998</td>\n",
       "      <td>2009-01-22</td>\n",
       "      <td>2009-01-22</td>\n",
       "      <td>PRV56011</td>\n",
       "      <td>200</td>\n",
       "      <td>PHY403831</td>\n",
       "      <td>NaN</td>\n",
       "      <td>NaN</td>\n",
       "      <td>82382</td>\n",
       "      <td>...</td>\n",
       "      <td>NaN</td>\n",
       "      <td>NaN</td>\n",
       "      <td>NaN</td>\n",
       "      <td>0</td>\n",
       "      <td>71947</td>\n",
       "      <td>Yes</td>\n",
       "      <td>6</td>\n",
       "      <td>False</td>\n",
       "      <td>0</td>\n",
       "      <td>True</td>\n",
       "    </tr>\n",
       "    <tr>\n",
       "      <th>3</th>\n",
       "      <td>BENE11004</td>\n",
       "      <td>CLM173224</td>\n",
       "      <td>2009-02-03</td>\n",
       "      <td>2009-02-03</td>\n",
       "      <td>PRV56011</td>\n",
       "      <td>20</td>\n",
       "      <td>PHY339887</td>\n",
       "      <td>NaN</td>\n",
       "      <td>NaN</td>\n",
       "      <td>20381</td>\n",
       "      <td>...</td>\n",
       "      <td>NaN</td>\n",
       "      <td>NaN</td>\n",
       "      <td>NaN</td>\n",
       "      <td>0</td>\n",
       "      <td>NaN</td>\n",
       "      <td>Yes</td>\n",
       "      <td>1</td>\n",
       "      <td>False</td>\n",
       "      <td>0</td>\n",
       "      <td>True</td>\n",
       "    </tr>\n",
       "    <tr>\n",
       "      <th>4</th>\n",
       "      <td>BENE11004</td>\n",
       "      <td>CLM224741</td>\n",
       "      <td>2009-03-03</td>\n",
       "      <td>2009-03-03</td>\n",
       "      <td>PRV56011</td>\n",
       "      <td>40</td>\n",
       "      <td>PHY345721</td>\n",
       "      <td>NaN</td>\n",
       "      <td>NaN</td>\n",
       "      <td>V6546</td>\n",
       "      <td>...</td>\n",
       "      <td>NaN</td>\n",
       "      <td>NaN</td>\n",
       "      <td>NaN</td>\n",
       "      <td>0</td>\n",
       "      <td>NaN</td>\n",
       "      <td>Yes</td>\n",
       "      <td>4</td>\n",
       "      <td>False</td>\n",
       "      <td>0</td>\n",
       "      <td>True</td>\n",
       "    </tr>\n",
       "  </tbody>\n",
       "</table>\n",
       "<p>5 rows × 32 columns</p>\n",
       "</div>"
      ],
      "text/plain": [
       "      BeneID    ClaimID ClaimStartDt  ClaimEndDt  Provider  \\\n",
       "0  BENE11002  CLM624349   2009-10-11  2009-10-11  PRV56011   \n",
       "1  BENE11004  CLM121801   2009-01-06  2009-01-06  PRV56011   \n",
       "2  BENE11004  CLM150998   2009-01-22  2009-01-22  PRV56011   \n",
       "3  BENE11004  CLM173224   2009-02-03  2009-02-03  PRV56011   \n",
       "4  BENE11004  CLM224741   2009-03-03  2009-03-03  PRV56011   \n",
       "\n",
       "   InscClaimAmtReimbursed AttendingPhysician OperatingPhysician  \\\n",
       "0                      30          PHY326117                NaN   \n",
       "1                      40          PHY334319                NaN   \n",
       "2                     200          PHY403831                NaN   \n",
       "3                      20          PHY339887                NaN   \n",
       "4                      40          PHY345721                NaN   \n",
       "\n",
       "  OtherPhysician ClmDiagnosisCode_1  ... ClmProcedureCode_4  \\\n",
       "0            NaN              78943  ...                NaN   \n",
       "1            NaN              71988  ...                NaN   \n",
       "2            NaN              82382  ...                NaN   \n",
       "3            NaN              20381  ...                NaN   \n",
       "4            NaN              V6546  ...                NaN   \n",
       "\n",
       "  ClmProcedureCode_5 ClmProcedureCode_6 DeductibleAmtPaid  \\\n",
       "0                NaN                NaN                 0   \n",
       "1                NaN                NaN                 0   \n",
       "2                NaN                NaN                 0   \n",
       "3                NaN                NaN                 0   \n",
       "4                NaN                NaN                 0   \n",
       "\n",
       "  ClmAdmitDiagnosisCode PotentialFraud NumClmDiagnosisCodes  \\\n",
       "0                 56409            Yes                    3   \n",
       "1                   NaN            Yes                    1   \n",
       "2                 71947            Yes                    6   \n",
       "3                   NaN            Yes                    1   \n",
       "4                   NaN            Yes                    4   \n",
       "\n",
       "  MissingClmDiagnosisCodes NumClmProcedureCodes  MissingProcedureCodes  \n",
       "0                    False                    0                   True  \n",
       "1                    False                    0                   True  \n",
       "2                    False                    0                   True  \n",
       "3                    False                    0                   True  \n",
       "4                    False                    0                   True  \n",
       "\n",
       "[5 rows x 32 columns]"
      ]
     },
     "execution_count": 59,
     "metadata": {},
     "output_type": "execute_result"
    }
   ],
   "source": [
    "df1_outp.head()"
   ]
  },
  {
   "cell_type": "code",
   "execution_count": 60,
   "id": "960a915f",
   "metadata": {},
   "outputs": [],
   "source": [
    "#Percentage of claims with missing ClmProcedureCodes submitted by Non-Frauduluent and Fraudulent Providers \n",
    "PercentClaims = df1_outp.groupby(['PotentialFraud']).MissingProcedureCodes.sum().divide(df1_outp.groupby(['PotentialFraud']).ClaimID.count())"
   ]
  },
  {
   "cell_type": "code",
   "execution_count": 62,
   "id": "ecdb5b4e",
   "metadata": {},
   "outputs": [
    {
     "data": {
      "text/plain": [
       "<AxesSubplot:title={'center':'Percentage of Claims w/o ClmDiagnosisCodes'}, xlabel='PotentialFraud'>"
      ]
     },
     "execution_count": 62,
     "metadata": {},
     "output_type": "execute_result"
    },
    {
     "data": {
      "image/png": "[encoded data removed]",
      "text/plain": [
       "<Figure size 432x288 with 1 Axes>"
      ]
     },
     "metadata": {
      "needs_background": "light"
     },
     "output_type": "display_data"
    }
   ],
   "source": [
    "PercentClaims.plot(kind= 'bar', title= 'Percentage of Claims w/o ClmDiagnosisCodes', ylim = (0,1))"
   ]
  },
  {
   "cell_type": "markdown",
   "id": "6eae4373",
   "metadata": {},
   "source": [
    "#### 3.F ClmAdmitDiagnosisCode"
   ]
  },
  {
   "cell_type": "code",
   "execution_count": 63,
   "id": "785ed221",
   "metadata": {},
   "outputs": [],
   "source": [
    "#Percentage of claims filed by non-fraudent and frauduent providers without ClmAdmitDiagnosisCode info\n",
    "PercentClaims= 1 - df1_outp.groupby(['PotentialFraud']).ClmAdmitDiagnosisCode.count().divide(df1_outp.groupby(['PotentialFraud']).ClaimID.count())"
   ]
  },
  {
   "cell_type": "code",
   "execution_count": 64,
   "id": "78a937ec",
   "metadata": {},
   "outputs": [
    {
     "data": {
      "text/plain": [
       "<AxesSubplot:title={'center':'Percentage of Claims w/o ClmDiagnosisCodes'}, xlabel='PotentialFraud'>"
      ]
     },
     "execution_count": 64,
     "metadata": {},
     "output_type": "execute_result"
    },
    {
     "data": {
      "image/png": "[encoded data removed]",
      "text/plain": [
       "<Figure size 432x288 with 1 Axes>"
      ]
     },
     "metadata": {
      "needs_background": "light"
     },
     "output_type": "display_data"
    }
   ],
   "source": [
    "PercentClaims.plot(kind= 'bar', title = 'Percentage of Claims w/o ClmDiagnosisCodes', ylim = (0,1))"
   ]
  },
  {
   "cell_type": "markdown",
   "id": "1b944767",
   "metadata": {},
   "source": [
    "### 4. Missing data in Beneficiary"
   ]
  },
  {
   "cell_type": "code",
   "execution_count": 65,
   "id": "6cd63f6d",
   "metadata": {
    "scrolled": true
   },
   "outputs": [
    {
     "data": {
      "text/plain": [
       "BeneID                                  0\n",
       "DOB                                     0\n",
       "DOD                                137135\n",
       "Gender                                  0\n",
       "Race                                    0\n",
       "RenalDiseaseIndicator                   0\n",
       "State                                   0\n",
       "County                                  0\n",
       "NoOfMonths_PartACov                     0\n",
       "NoOfMonths_PartBCov                     0\n",
       "ChronicCond_Alzheimer                   0\n",
       "ChronicCond_Heartfailure                0\n",
       "ChronicCond_KidneyDisease               0\n",
       "ChronicCond_Cancer                      0\n",
       "ChronicCond_ObstrPulmonary              0\n",
       "ChronicCond_Depression                  0\n",
       "ChronicCond_Diabetes                    0\n",
       "ChronicCond_IschemicHeart               0\n",
       "ChronicCond_Osteoporasis                0\n",
       "ChronicCond_rheumatoidarthritis         0\n",
       "ChronicCond_stroke                      0\n",
       "IPAnnualReimbursementAmt                0\n",
       "IPAnnualDeductibleAmt                   0\n",
       "OPAnnualReimbursementAmt                0\n",
       "OPAnnualDeductibleAmt                   0\n",
       "dtype: int64"
      ]
     },
     "execution_count": 65,
     "metadata": {},
     "output_type": "execute_result"
    }
   ],
   "source": [
    "df_train_beneficiary.isnull().sum()"
   ]
  },
  {
   "cell_type": "code",
   "execution_count": 66,
   "id": "64424956",
   "metadata": {},
   "outputs": [
    {
     "data": {
      "text/plain": [
       "'99%'"
      ]
     },
     "execution_count": 66,
     "metadata": {},
     "output_type": "execute_result"
    }
   ],
   "source": [
    "# percentage of missing data under DOD (Date of Death)\n",
    "'{:.00%}'.format(df_train_beneficiary.DOD.isnull().sum()/len(df_train_beneficiary))"
   ]
  },
  {
   "cell_type": "markdown",
   "id": "58e2a10d",
   "metadata": {},
   "source": [
    "* Quick Summary"
   ]
  },
  {
   "cell_type": "markdown",
   "id": "f957f009",
   "metadata": {},
   "source": [
    "We only have missing data in the column of DOD, approximately 99%. It likely makes sense since it is a column indiciating the beneficiary is dead. "
   ]
  },
  {
   "cell_type": "markdown",
   "id": "176483fa",
   "metadata": {},
   "source": [
    "### Further check the number of claims filed by non-fraudulent and fraudulent providers for beneficiaries who have been dead"
   ]
  },
  {
   "cell_type": "code",
   "execution_count": 67,
   "id": "2715c197",
   "metadata": {},
   "outputs": [],
   "source": [
    "df1_benef_inpatientclaim = pd.merge(df_train_beneficiary,df1_inp[['BeneID','ClaimID','Provider','PotentialFraud']],on = 'BeneID',how = 'left')"
   ]
  },
  {
   "cell_type": "code",
   "execution_count": 68,
   "id": "0201e149",
   "metadata": {},
   "outputs": [
    {
     "data": {
      "text/html": [
       "<div>\n",
       "<style scoped>\n",
       "    .dataframe tbody tr th:only-of-type {\n",
       "        vertical-align: middle;\n",
       "    }\n",
       "\n",
       "    .dataframe tbody tr th {\n",
       "        vertical-align: top;\n",
       "    }\n",
       "\n",
       "    .dataframe thead th {\n",
       "        text-align: right;\n",
       "    }\n",
       "</style>\n",
       "<table border=\"1\" class=\"dataframe\">\n",
       "  <thead>\n",
       "    <tr style=\"text-align: right;\">\n",
       "      <th></th>\n",
       "      <th>BeneID</th>\n",
       "      <th>DOB</th>\n",
       "      <th>DOD</th>\n",
       "      <th>Gender</th>\n",
       "      <th>Race</th>\n",
       "      <th>RenalDiseaseIndicator</th>\n",
       "      <th>State</th>\n",
       "      <th>County</th>\n",
       "      <th>NoOfMonths_PartACov</th>\n",
       "      <th>NoOfMonths_PartBCov</th>\n",
       "      <th>...</th>\n",
       "      <th>ChronicCond_Osteoporasis</th>\n",
       "      <th>ChronicCond_rheumatoidarthritis</th>\n",
       "      <th>ChronicCond_stroke</th>\n",
       "      <th>IPAnnualReimbursementAmt</th>\n",
       "      <th>IPAnnualDeductibleAmt</th>\n",
       "      <th>OPAnnualReimbursementAmt</th>\n",
       "      <th>OPAnnualDeductibleAmt</th>\n",
       "      <th>ClaimID</th>\n",
       "      <th>Provider</th>\n",
       "      <th>PotentialFraud</th>\n",
       "    </tr>\n",
       "  </thead>\n",
       "  <tbody>\n",
       "    <tr>\n",
       "      <th>0</th>\n",
       "      <td>BENE11001</td>\n",
       "      <td>1943-01-01</td>\n",
       "      <td>NaN</td>\n",
       "      <td>1</td>\n",
       "      <td>1</td>\n",
       "      <td>0</td>\n",
       "      <td>39</td>\n",
       "      <td>230</td>\n",
       "      <td>12</td>\n",
       "      <td>12</td>\n",
       "      <td>...</td>\n",
       "      <td>2</td>\n",
       "      <td>1</td>\n",
       "      <td>1</td>\n",
       "      <td>36000</td>\n",
       "      <td>3204</td>\n",
       "      <td>60</td>\n",
       "      <td>70</td>\n",
       "      <td>CLM46614</td>\n",
       "      <td>PRV55912</td>\n",
       "      <td>Yes</td>\n",
       "    </tr>\n",
       "    <tr>\n",
       "      <th>1</th>\n",
       "      <td>BENE11001</td>\n",
       "      <td>1943-01-01</td>\n",
       "      <td>NaN</td>\n",
       "      <td>1</td>\n",
       "      <td>1</td>\n",
       "      <td>0</td>\n",
       "      <td>39</td>\n",
       "      <td>230</td>\n",
       "      <td>12</td>\n",
       "      <td>12</td>\n",
       "      <td>...</td>\n",
       "      <td>2</td>\n",
       "      <td>1</td>\n",
       "      <td>1</td>\n",
       "      <td>36000</td>\n",
       "      <td>3204</td>\n",
       "      <td>60</td>\n",
       "      <td>70</td>\n",
       "      <td>CLM66048</td>\n",
       "      <td>PRV55907</td>\n",
       "      <td>No</td>\n",
       "    </tr>\n",
       "    <tr>\n",
       "      <th>2</th>\n",
       "      <td>BENE11001</td>\n",
       "      <td>1943-01-01</td>\n",
       "      <td>NaN</td>\n",
       "      <td>1</td>\n",
       "      <td>1</td>\n",
       "      <td>0</td>\n",
       "      <td>39</td>\n",
       "      <td>230</td>\n",
       "      <td>12</td>\n",
       "      <td>12</td>\n",
       "      <td>...</td>\n",
       "      <td>2</td>\n",
       "      <td>1</td>\n",
       "      <td>1</td>\n",
       "      <td>36000</td>\n",
       "      <td>3204</td>\n",
       "      <td>60</td>\n",
       "      <td>70</td>\n",
       "      <td>CLM68358</td>\n",
       "      <td>PRV56046</td>\n",
       "      <td>No</td>\n",
       "    </tr>\n",
       "    <tr>\n",
       "      <th>3</th>\n",
       "      <td>BENE11002</td>\n",
       "      <td>1936-09-01</td>\n",
       "      <td>NaN</td>\n",
       "      <td>2</td>\n",
       "      <td>1</td>\n",
       "      <td>0</td>\n",
       "      <td>39</td>\n",
       "      <td>280</td>\n",
       "      <td>12</td>\n",
       "      <td>12</td>\n",
       "      <td>...</td>\n",
       "      <td>2</td>\n",
       "      <td>2</td>\n",
       "      <td>2</td>\n",
       "      <td>0</td>\n",
       "      <td>0</td>\n",
       "      <td>30</td>\n",
       "      <td>50</td>\n",
       "      <td>NaN</td>\n",
       "      <td>NaN</td>\n",
       "      <td>NaN</td>\n",
       "    </tr>\n",
       "    <tr>\n",
       "      <th>4</th>\n",
       "      <td>BENE11003</td>\n",
       "      <td>1936-08-01</td>\n",
       "      <td>NaN</td>\n",
       "      <td>1</td>\n",
       "      <td>1</td>\n",
       "      <td>0</td>\n",
       "      <td>52</td>\n",
       "      <td>590</td>\n",
       "      <td>12</td>\n",
       "      <td>12</td>\n",
       "      <td>...</td>\n",
       "      <td>2</td>\n",
       "      <td>2</td>\n",
       "      <td>2</td>\n",
       "      <td>0</td>\n",
       "      <td>0</td>\n",
       "      <td>90</td>\n",
       "      <td>40</td>\n",
       "      <td>NaN</td>\n",
       "      <td>NaN</td>\n",
       "      <td>NaN</td>\n",
       "    </tr>\n",
       "  </tbody>\n",
       "</table>\n",
       "<p>5 rows × 28 columns</p>\n",
       "</div>"
      ],
      "text/plain": [
       "      BeneID         DOB  DOD  Gender  Race RenalDiseaseIndicator  State  \\\n",
       "0  BENE11001  1943-01-01  NaN       1     1                     0     39   \n",
       "1  BENE11001  1943-01-01  NaN       1     1                     0     39   \n",
       "2  BENE11001  1943-01-01  NaN       1     1                     0     39   \n",
       "3  BENE11002  1936-09-01  NaN       2     1                     0     39   \n",
       "4  BENE11003  1936-08-01  NaN       1     1                     0     52   \n",
       "\n",
       "   County  NoOfMonths_PartACov  NoOfMonths_PartBCov  ...  \\\n",
       "0     230                   12                   12  ...   \n",
       "1     230                   12                   12  ...   \n",
       "2     230                   12                   12  ...   \n",
       "3     280                   12                   12  ...   \n",
       "4     590                   12                   12  ...   \n",
       "\n",
       "   ChronicCond_Osteoporasis  ChronicCond_rheumatoidarthritis  \\\n",
       "0                         2                                1   \n",
       "1                         2                                1   \n",
       "2                         2                                1   \n",
       "3                         2                                2   \n",
       "4                         2                                2   \n",
       "\n",
       "   ChronicCond_stroke  IPAnnualReimbursementAmt  IPAnnualDeductibleAmt  \\\n",
       "0                   1                     36000                   3204   \n",
       "1                   1                     36000                   3204   \n",
       "2                   1                     36000                   3204   \n",
       "3                   2                         0                      0   \n",
       "4                   2                         0                      0   \n",
       "\n",
       "   OPAnnualReimbursementAmt  OPAnnualDeductibleAmt   ClaimID  Provider  \\\n",
       "0                        60                     70  CLM46614  PRV55912   \n",
       "1                        60                     70  CLM66048  PRV55907   \n",
       "2                        60                     70  CLM68358  PRV56046   \n",
       "3                        30                     50       NaN       NaN   \n",
       "4                        90                     40       NaN       NaN   \n",
       "\n",
       "   PotentialFraud  \n",
       "0             Yes  \n",
       "1              No  \n",
       "2              No  \n",
       "3             NaN  \n",
       "4             NaN  \n",
       "\n",
       "[5 rows x 28 columns]"
      ]
     },
     "execution_count": 68,
     "metadata": {},
     "output_type": "execute_result"
    }
   ],
   "source": [
    "df1_benef_inpatientclaim.head()"
   ]
  },
  {
   "cell_type": "code",
   "execution_count": 69,
   "id": "fbc42b38",
   "metadata": {},
   "outputs": [
    {
     "data": {
      "text/plain": [
       "318"
      ]
     },
     "execution_count": 69,
     "metadata": {},
     "output_type": "execute_result"
    }
   ],
   "source": [
    "df1_benef_inpatientclaim[df1_benef_inpatientclaim.DOD.notnull()].ClaimID.notnull().sum()"
   ]
  },
  {
   "cell_type": "code",
   "execution_count": 70,
   "id": "d3c2b59f",
   "metadata": {},
   "outputs": [
    {
     "data": {
      "text/plain": [
       "318"
      ]
     },
     "execution_count": 70,
     "metadata": {},
     "output_type": "execute_result"
    }
   ],
   "source": [
    "df1_benef_inpatientclaim[df1_benef_inpatientclaim.DOD.notnull()].PotentialFraud.notnull().sum()"
   ]
  },
  {
   "cell_type": "code",
   "execution_count": 71,
   "id": "e4ff53be",
   "metadata": {},
   "outputs": [],
   "source": [
    "#Percentage of Claims filed by non-fraudulent and frauduelnt providers for beneficiaries who are dead\n",
    "PercentClaims = df1_benef_inpatientclaim[df1_benef_inpatientclaim.DOD.notnull()].groupby(['PotentialFraud']).ClaimID.count()/df1_benef_inpatientclaim[df1_benef_inpatientclaim.DOD.notnull()].ClaimID.notnull().sum()"
   ]
  },
  {
   "cell_type": "code",
   "execution_count": 72,
   "id": "a20c4158",
   "metadata": {},
   "outputs": [
    {
     "data": {
      "text/plain": [
       "<AxesSubplot:title={'center':'Percentage of Claims filed for Beneficiaries who are dead'}, xlabel='PotentialFraud'>"
      ]
     },
     "execution_count": 72,
     "metadata": {},
     "output_type": "execute_result"
    },
    {
     "data": {
      "image/png": "[encoded data removed]",
      "text/plain": [
       "<Figure size 432x288 with 1 Axes>"
      ]
     },
     "metadata": {
      "needs_background": "light"
     },
     "output_type": "display_data"
    }
   ],
   "source": [
    "PercentClaims.plot(kind= 'bar', title = 'Percentage of Claims filed for Beneficiaries who are dead', ylim = (0,1))"
   ]
  },
  {
   "cell_type": "code",
   "execution_count": null,
   "id": "78a4166b",
   "metadata": {},
   "outputs": [],
   "source": []
  },
  {
   "cell_type": "code",
   "execution_count": null,
   "id": "905dfd07",
   "metadata": {},
   "outputs": [],
   "source": []
  },
  {
   "cell_type": "code",
   "execution_count": null,
   "id": "a70e2d33",
   "metadata": {},
   "outputs": [],
   "source": []
  },
  {
   "cell_type": "code",
   "execution_count": null,
   "id": "5476efef",
   "metadata": {},
   "outputs": [],
   "source": []
  },
  {
   "cell_type": "code",
   "execution_count": null,
   "id": "2ae6d37c",
   "metadata": {},
   "outputs": [],
   "source": []
  },
  {
   "cell_type": "code",
   "execution_count": null,
   "id": "d8a672cd",
   "metadata": {},
   "outputs": [],
   "source": []
  },
  {
   "cell_type": "code",
   "execution_count": null,
   "id": "bd364266",
   "metadata": {},
   "outputs": [],
   "source": []
  },
  {
   "cell_type": "code",
   "execution_count": null,
   "id": "9723c992",
   "metadata": {},
   "outputs": [],
   "source": []
  },
  {
   "cell_type": "code",
   "execution_count": null,
   "id": "3850ec5d",
   "metadata": {},
   "outputs": [],
   "source": []
  },
  {
   "cell_type": "code",
   "execution_count": null,
   "id": "99c39378",
   "metadata": {},
   "outputs": [],
   "source": []
  },
  {
   "cell_type": "code",
   "execution_count": null,
   "id": "883aa591",
   "metadata": {},
   "outputs": [],
   "source": []
  },
  {
   "cell_type": "code",
   "execution_count": 30,
   "id": "e1bf4554",
   "metadata": {},
   "outputs": [
    {
     "data": {
      "text/plain": [
       "Provider          506\n",
       "PotentialFraud    506\n",
       "dtype: int64"
      ]
     },
     "execution_count": 30,
     "metadata": {},
     "output_type": "execute_result"
    }
   ],
   "source": [
    "df_train_target[df_train_target.PotentialFraud == 'Yes'].count()"
   ]
  },
  {
   "cell_type": "code",
   "execution_count": 31,
   "id": "409c3870",
   "metadata": {},
   "outputs": [
    {
     "data": {
      "text/plain": [
       "0"
      ]
     },
     "execution_count": 31,
     "metadata": {},
     "output_type": "execute_result"
    }
   ],
   "source": [
    "df_train_target.duplicated().sum()"
   ]
  },
  {
   "cell_type": "code",
   "execution_count": 32,
   "id": "00b62352",
   "metadata": {},
   "outputs": [
    {
     "data": {
      "text/plain": [
       "Provider          0.09353\n",
       "PotentialFraud    0.09353\n",
       "dtype: float64"
      ]
     },
     "execution_count": 32,
     "metadata": {},
     "output_type": "execute_result"
    }
   ],
   "source": [
    "df_train_target[df_train_target.PotentialFraud == 'Yes'].count()/len(df_train_target)"
   ]
  },
  {
   "cell_type": "code",
   "execution_count": 33,
   "id": "75587cd7",
   "metadata": {},
   "outputs": [],
   "source": []
  },
  {
   "cell_type": "code",
   "execution_count": 34,
   "id": "9f05c447",
   "metadata": {},
   "outputs": [
    {
     "data": {
      "text/html": [
       "<div>\n",
       "<style scoped>\n",
       "    .dataframe tbody tr th:only-of-type {\n",
       "        vertical-align: middle;\n",
       "    }\n",
       "\n",
       "    .dataframe tbody tr th {\n",
       "        vertical-align: top;\n",
       "    }\n",
       "\n",
       "    .dataframe thead th {\n",
       "        text-align: right;\n",
       "    }\n",
       "</style>\n",
       "<table border=\"1\" class=\"dataframe\">\n",
       "  <thead>\n",
       "    <tr style=\"text-align: right;\">\n",
       "      <th></th>\n",
       "      <th>BeneID</th>\n",
       "      <th>ClaimID</th>\n",
       "      <th>ClaimStartDt</th>\n",
       "      <th>ClaimEndDt</th>\n",
       "      <th>Provider</th>\n",
       "      <th>InscClaimAmtReimbursed</th>\n",
       "      <th>AttendingPhysician</th>\n",
       "      <th>OperatingPhysician</th>\n",
       "      <th>OtherPhysician</th>\n",
       "      <th>ClmDiagnosisCode_1</th>\n",
       "      <th>...</th>\n",
       "      <th>ClmDiagnosisCode_9</th>\n",
       "      <th>ClmDiagnosisCode_10</th>\n",
       "      <th>ClmProcedureCode_1</th>\n",
       "      <th>ClmProcedureCode_2</th>\n",
       "      <th>ClmProcedureCode_3</th>\n",
       "      <th>ClmProcedureCode_4</th>\n",
       "      <th>ClmProcedureCode_5</th>\n",
       "      <th>ClmProcedureCode_6</th>\n",
       "      <th>DeductibleAmtPaid</th>\n",
       "      <th>ClmAdmitDiagnosisCode</th>\n",
       "    </tr>\n",
       "  </thead>\n",
       "  <tbody>\n",
       "    <tr>\n",
       "      <th>0</th>\n",
       "      <td>BENE11002</td>\n",
       "      <td>CLM624349</td>\n",
       "      <td>2009-10-11</td>\n",
       "      <td>2009-10-11</td>\n",
       "      <td>PRV56011</td>\n",
       "      <td>30</td>\n",
       "      <td>PHY326117</td>\n",
       "      <td>NaN</td>\n",
       "      <td>NaN</td>\n",
       "      <td>78943</td>\n",
       "      <td>...</td>\n",
       "      <td>NaN</td>\n",
       "      <td>NaN</td>\n",
       "      <td>NaN</td>\n",
       "      <td>NaN</td>\n",
       "      <td>NaN</td>\n",
       "      <td>NaN</td>\n",
       "      <td>NaN</td>\n",
       "      <td>NaN</td>\n",
       "      <td>0</td>\n",
       "      <td>56409</td>\n",
       "    </tr>\n",
       "    <tr>\n",
       "      <th>1</th>\n",
       "      <td>BENE11003</td>\n",
       "      <td>CLM189947</td>\n",
       "      <td>2009-02-12</td>\n",
       "      <td>2009-02-12</td>\n",
       "      <td>PRV57610</td>\n",
       "      <td>80</td>\n",
       "      <td>PHY362868</td>\n",
       "      <td>NaN</td>\n",
       "      <td>NaN</td>\n",
       "      <td>6115</td>\n",
       "      <td>...</td>\n",
       "      <td>NaN</td>\n",
       "      <td>NaN</td>\n",
       "      <td>NaN</td>\n",
       "      <td>NaN</td>\n",
       "      <td>NaN</td>\n",
       "      <td>NaN</td>\n",
       "      <td>NaN</td>\n",
       "      <td>NaN</td>\n",
       "      <td>0</td>\n",
       "      <td>79380</td>\n",
       "    </tr>\n",
       "    <tr>\n",
       "      <th>2</th>\n",
       "      <td>BENE11003</td>\n",
       "      <td>CLM438021</td>\n",
       "      <td>2009-06-27</td>\n",
       "      <td>2009-06-27</td>\n",
       "      <td>PRV57595</td>\n",
       "      <td>10</td>\n",
       "      <td>PHY328821</td>\n",
       "      <td>NaN</td>\n",
       "      <td>NaN</td>\n",
       "      <td>2723</td>\n",
       "      <td>...</td>\n",
       "      <td>NaN</td>\n",
       "      <td>NaN</td>\n",
       "      <td>NaN</td>\n",
       "      <td>NaN</td>\n",
       "      <td>NaN</td>\n",
       "      <td>NaN</td>\n",
       "      <td>NaN</td>\n",
       "      <td>NaN</td>\n",
       "      <td>0</td>\n",
       "      <td>NaN</td>\n",
       "    </tr>\n",
       "    <tr>\n",
       "      <th>3</th>\n",
       "      <td>BENE11004</td>\n",
       "      <td>CLM121801</td>\n",
       "      <td>2009-01-06</td>\n",
       "      <td>2009-01-06</td>\n",
       "      <td>PRV56011</td>\n",
       "      <td>40</td>\n",
       "      <td>PHY334319</td>\n",
       "      <td>NaN</td>\n",
       "      <td>NaN</td>\n",
       "      <td>71988</td>\n",
       "      <td>...</td>\n",
       "      <td>NaN</td>\n",
       "      <td>NaN</td>\n",
       "      <td>NaN</td>\n",
       "      <td>NaN</td>\n",
       "      <td>NaN</td>\n",
       "      <td>NaN</td>\n",
       "      <td>NaN</td>\n",
       "      <td>NaN</td>\n",
       "      <td>0</td>\n",
       "      <td>NaN</td>\n",
       "    </tr>\n",
       "    <tr>\n",
       "      <th>4</th>\n",
       "      <td>BENE11004</td>\n",
       "      <td>CLM150998</td>\n",
       "      <td>2009-01-22</td>\n",
       "      <td>2009-01-22</td>\n",
       "      <td>PRV56011</td>\n",
       "      <td>200</td>\n",
       "      <td>PHY403831</td>\n",
       "      <td>NaN</td>\n",
       "      <td>NaN</td>\n",
       "      <td>82382</td>\n",
       "      <td>...</td>\n",
       "      <td>NaN</td>\n",
       "      <td>NaN</td>\n",
       "      <td>NaN</td>\n",
       "      <td>NaN</td>\n",
       "      <td>NaN</td>\n",
       "      <td>NaN</td>\n",
       "      <td>NaN</td>\n",
       "      <td>NaN</td>\n",
       "      <td>0</td>\n",
       "      <td>71947</td>\n",
       "    </tr>\n",
       "  </tbody>\n",
       "</table>\n",
       "<p>5 rows × 27 columns</p>\n",
       "</div>"
      ],
      "text/plain": [
       "      BeneID    ClaimID ClaimStartDt  ClaimEndDt  Provider  \\\n",
       "0  BENE11002  CLM624349   2009-10-11  2009-10-11  PRV56011   \n",
       "1  BENE11003  CLM189947   2009-02-12  2009-02-12  PRV57610   \n",
       "2  BENE11003  CLM438021   2009-06-27  2009-06-27  PRV57595   \n",
       "3  BENE11004  CLM121801   2009-01-06  2009-01-06  PRV56011   \n",
       "4  BENE11004  CLM150998   2009-01-22  2009-01-22  PRV56011   \n",
       "\n",
       "   InscClaimAmtReimbursed AttendingPhysician OperatingPhysician  \\\n",
       "0                      30          PHY326117                NaN   \n",
       "1                      80          PHY362868                NaN   \n",
       "2                      10          PHY328821                NaN   \n",
       "3                      40          PHY334319                NaN   \n",
       "4                     200          PHY403831                NaN   \n",
       "\n",
       "  OtherPhysician ClmDiagnosisCode_1  ... ClmDiagnosisCode_9  \\\n",
       "0            NaN              78943  ...                NaN   \n",
       "1            NaN               6115  ...                NaN   \n",
       "2            NaN               2723  ...                NaN   \n",
       "3            NaN              71988  ...                NaN   \n",
       "4            NaN              82382  ...                NaN   \n",
       "\n",
       "  ClmDiagnosisCode_10 ClmProcedureCode_1 ClmProcedureCode_2  \\\n",
       "0                 NaN                NaN                NaN   \n",
       "1                 NaN                NaN                NaN   \n",
       "2                 NaN                NaN                NaN   \n",
       "3                 NaN                NaN                NaN   \n",
       "4                 NaN                NaN                NaN   \n",
       "\n",
       "  ClmProcedureCode_3 ClmProcedureCode_4 ClmProcedureCode_5 ClmProcedureCode_6  \\\n",
       "0                NaN                NaN                NaN                NaN   \n",
       "1                NaN                NaN                NaN                NaN   \n",
       "2                NaN                NaN                NaN                NaN   \n",
       "3                NaN                NaN                NaN                NaN   \n",
       "4                NaN                NaN                NaN                NaN   \n",
       "\n",
       "  DeductibleAmtPaid  ClmAdmitDiagnosisCode  \n",
       "0                 0                  56409  \n",
       "1                 0                  79380  \n",
       "2                 0                    NaN  \n",
       "3                 0                    NaN  \n",
       "4                 0                  71947  \n",
       "\n",
       "[5 rows x 27 columns]"
      ]
     },
     "execution_count": 34,
     "metadata": {},
     "output_type": "execute_result"
    }
   ],
   "source": [
    "df_train_outpatient.head()"
   ]
  },
  {
   "cell_type": "code",
   "execution_count": 35,
   "id": "c53579bf",
   "metadata": {},
   "outputs": [
    {
     "data": {
      "text/html": [
       "<div>\n",
       "<style scoped>\n",
       "    .dataframe tbody tr th:only-of-type {\n",
       "        vertical-align: middle;\n",
       "    }\n",
       "\n",
       "    .dataframe tbody tr th {\n",
       "        vertical-align: top;\n",
       "    }\n",
       "\n",
       "    .dataframe thead th {\n",
       "        text-align: right;\n",
       "    }\n",
       "</style>\n",
       "<table border=\"1\" class=\"dataframe\">\n",
       "  <thead>\n",
       "    <tr style=\"text-align: right;\">\n",
       "      <th></th>\n",
       "      <th>BeneID</th>\n",
       "      <th>ClaimID</th>\n",
       "      <th>ClaimStartDt</th>\n",
       "      <th>ClaimEndDt</th>\n",
       "      <th>Provider</th>\n",
       "      <th>InscClaimAmtReimbursed</th>\n",
       "      <th>AttendingPhysician</th>\n",
       "      <th>OperatingPhysician</th>\n",
       "      <th>OtherPhysician</th>\n",
       "      <th>AdmissionDt</th>\n",
       "      <th>...</th>\n",
       "      <th>ClmDiagnosisCode_7</th>\n",
       "      <th>ClmDiagnosisCode_8</th>\n",
       "      <th>ClmDiagnosisCode_9</th>\n",
       "      <th>ClmDiagnosisCode_10</th>\n",
       "      <th>ClmProcedureCode_1</th>\n",
       "      <th>ClmProcedureCode_2</th>\n",
       "      <th>ClmProcedureCode_3</th>\n",
       "      <th>ClmProcedureCode_4</th>\n",
       "      <th>ClmProcedureCode_5</th>\n",
       "      <th>ClmProcedureCode_6</th>\n",
       "    </tr>\n",
       "  </thead>\n",
       "  <tbody>\n",
       "    <tr>\n",
       "      <th>0</th>\n",
       "      <td>BENE11001</td>\n",
       "      <td>CLM46614</td>\n",
       "      <td>2009-04-12</td>\n",
       "      <td>2009-04-18</td>\n",
       "      <td>PRV55912</td>\n",
       "      <td>26000</td>\n",
       "      <td>PHY390922</td>\n",
       "      <td>NaN</td>\n",
       "      <td>NaN</td>\n",
       "      <td>2009-04-12</td>\n",
       "      <td>...</td>\n",
       "      <td>2724</td>\n",
       "      <td>19889</td>\n",
       "      <td>5849</td>\n",
       "      <td>NaN</td>\n",
       "      <td>NaN</td>\n",
       "      <td>NaN</td>\n",
       "      <td>NaN</td>\n",
       "      <td>NaN</td>\n",
       "      <td>NaN</td>\n",
       "      <td>NaN</td>\n",
       "    </tr>\n",
       "    <tr>\n",
       "      <th>1</th>\n",
       "      <td>BENE11001</td>\n",
       "      <td>CLM66048</td>\n",
       "      <td>2009-08-31</td>\n",
       "      <td>2009-09-02</td>\n",
       "      <td>PRV55907</td>\n",
       "      <td>5000</td>\n",
       "      <td>PHY318495</td>\n",
       "      <td>PHY318495</td>\n",
       "      <td>NaN</td>\n",
       "      <td>2009-08-31</td>\n",
       "      <td>...</td>\n",
       "      <td>NaN</td>\n",
       "      <td>NaN</td>\n",
       "      <td>NaN</td>\n",
       "      <td>NaN</td>\n",
       "      <td>7092.0</td>\n",
       "      <td>NaN</td>\n",
       "      <td>NaN</td>\n",
       "      <td>NaN</td>\n",
       "      <td>NaN</td>\n",
       "      <td>NaN</td>\n",
       "    </tr>\n",
       "    <tr>\n",
       "      <th>2</th>\n",
       "      <td>BENE11001</td>\n",
       "      <td>CLM68358</td>\n",
       "      <td>2009-09-17</td>\n",
       "      <td>2009-09-20</td>\n",
       "      <td>PRV56046</td>\n",
       "      <td>5000</td>\n",
       "      <td>PHY372395</td>\n",
       "      <td>NaN</td>\n",
       "      <td>PHY324689</td>\n",
       "      <td>2009-09-17</td>\n",
       "      <td>...</td>\n",
       "      <td>NaN</td>\n",
       "      <td>NaN</td>\n",
       "      <td>NaN</td>\n",
       "      <td>NaN</td>\n",
       "      <td>NaN</td>\n",
       "      <td>NaN</td>\n",
       "      <td>NaN</td>\n",
       "      <td>NaN</td>\n",
       "      <td>NaN</td>\n",
       "      <td>NaN</td>\n",
       "    </tr>\n",
       "    <tr>\n",
       "      <th>3</th>\n",
       "      <td>BENE11011</td>\n",
       "      <td>CLM38412</td>\n",
       "      <td>2009-02-14</td>\n",
       "      <td>2009-02-22</td>\n",
       "      <td>PRV52405</td>\n",
       "      <td>5000</td>\n",
       "      <td>PHY369659</td>\n",
       "      <td>PHY392961</td>\n",
       "      <td>PHY349768</td>\n",
       "      <td>2009-02-14</td>\n",
       "      <td>...</td>\n",
       "      <td>25062</td>\n",
       "      <td>40390</td>\n",
       "      <td>4019</td>\n",
       "      <td>NaN</td>\n",
       "      <td>331.0</td>\n",
       "      <td>NaN</td>\n",
       "      <td>NaN</td>\n",
       "      <td>NaN</td>\n",
       "      <td>NaN</td>\n",
       "      <td>NaN</td>\n",
       "    </tr>\n",
       "    <tr>\n",
       "      <th>4</th>\n",
       "      <td>BENE11014</td>\n",
       "      <td>CLM63689</td>\n",
       "      <td>2009-08-13</td>\n",
       "      <td>2009-08-30</td>\n",
       "      <td>PRV56614</td>\n",
       "      <td>10000</td>\n",
       "      <td>PHY379376</td>\n",
       "      <td>PHY398258</td>\n",
       "      <td>NaN</td>\n",
       "      <td>2009-08-13</td>\n",
       "      <td>...</td>\n",
       "      <td>5119</td>\n",
       "      <td>29620</td>\n",
       "      <td>20300</td>\n",
       "      <td>NaN</td>\n",
       "      <td>3893.0</td>\n",
       "      <td>NaN</td>\n",
       "      <td>NaN</td>\n",
       "      <td>NaN</td>\n",
       "      <td>NaN</td>\n",
       "      <td>NaN</td>\n",
       "    </tr>\n",
       "  </tbody>\n",
       "</table>\n",
       "<p>5 rows × 30 columns</p>\n",
       "</div>"
      ],
      "text/plain": [
       "      BeneID   ClaimID ClaimStartDt  ClaimEndDt  Provider  \\\n",
       "0  BENE11001  CLM46614   2009-04-12  2009-04-18  PRV55912   \n",
       "1  BENE11001  CLM66048   2009-08-31  2009-09-02  PRV55907   \n",
       "2  BENE11001  CLM68358   2009-09-17  2009-09-20  PRV56046   \n",
       "3  BENE11011  CLM38412   2009-02-14  2009-02-22  PRV52405   \n",
       "4  BENE11014  CLM63689   2009-08-13  2009-08-30  PRV56614   \n",
       "\n",
       "   InscClaimAmtReimbursed AttendingPhysician OperatingPhysician  \\\n",
       "0                   26000          PHY390922                NaN   \n",
       "1                    5000          PHY318495          PHY318495   \n",
       "2                    5000          PHY372395                NaN   \n",
       "3                    5000          PHY369659          PHY392961   \n",
       "4                   10000          PHY379376          PHY398258   \n",
       "\n",
       "  OtherPhysician AdmissionDt  ... ClmDiagnosisCode_7  ClmDiagnosisCode_8  \\\n",
       "0            NaN  2009-04-12  ...               2724               19889   \n",
       "1            NaN  2009-08-31  ...                NaN                 NaN   \n",
       "2      PHY324689  2009-09-17  ...                NaN                 NaN   \n",
       "3      PHY349768  2009-02-14  ...              25062               40390   \n",
       "4            NaN  2009-08-13  ...               5119               29620   \n",
       "\n",
       "  ClmDiagnosisCode_9 ClmDiagnosisCode_10 ClmProcedureCode_1  \\\n",
       "0               5849                 NaN                NaN   \n",
       "1                NaN                 NaN             7092.0   \n",
       "2                NaN                 NaN                NaN   \n",
       "3               4019                 NaN              331.0   \n",
       "4              20300                 NaN             3893.0   \n",
       "\n",
       "  ClmProcedureCode_2 ClmProcedureCode_3 ClmProcedureCode_4 ClmProcedureCode_5  \\\n",
       "0                NaN                NaN                NaN                NaN   \n",
       "1                NaN                NaN                NaN                NaN   \n",
       "2                NaN                NaN                NaN                NaN   \n",
       "3                NaN                NaN                NaN                NaN   \n",
       "4                NaN                NaN                NaN                NaN   \n",
       "\n",
       "  ClmProcedureCode_6  \n",
       "0                NaN  \n",
       "1                NaN  \n",
       "2                NaN  \n",
       "3                NaN  \n",
       "4                NaN  \n",
       "\n",
       "[5 rows x 30 columns]"
      ]
     },
     "execution_count": 35,
     "metadata": {},
     "output_type": "execute_result"
    }
   ],
   "source": [
    "df_train_inpatient.head()"
   ]
  },
  {
   "cell_type": "code",
   "execution_count": 38,
   "id": "ff7e36ae",
   "metadata": {},
   "outputs": [
    {
     "data": {
      "text/html": [
       "<div>\n",
       "<style scoped>\n",
       "    .dataframe tbody tr th:only-of-type {\n",
       "        vertical-align: middle;\n",
       "    }\n",
       "\n",
       "    .dataframe tbody tr th {\n",
       "        vertical-align: top;\n",
       "    }\n",
       "\n",
       "    .dataframe thead th {\n",
       "        text-align: right;\n",
       "    }\n",
       "</style>\n",
       "<table border=\"1\" class=\"dataframe\">\n",
       "  <thead>\n",
       "    <tr style=\"text-align: right;\">\n",
       "      <th></th>\n",
       "      <th>BeneID</th>\n",
       "      <th>DOB</th>\n",
       "      <th>DOD</th>\n",
       "      <th>Gender</th>\n",
       "      <th>Race</th>\n",
       "      <th>RenalDiseaseIndicator</th>\n",
       "      <th>State</th>\n",
       "      <th>County</th>\n",
       "      <th>NoOfMonths_PartACov</th>\n",
       "      <th>NoOfMonths_PartBCov</th>\n",
       "      <th>...</th>\n",
       "      <th>ChronicCond_Depression</th>\n",
       "      <th>ChronicCond_Diabetes</th>\n",
       "      <th>ChronicCond_IschemicHeart</th>\n",
       "      <th>ChronicCond_Osteoporasis</th>\n",
       "      <th>ChronicCond_rheumatoidarthritis</th>\n",
       "      <th>ChronicCond_stroke</th>\n",
       "      <th>IPAnnualReimbursementAmt</th>\n",
       "      <th>IPAnnualDeductibleAmt</th>\n",
       "      <th>OPAnnualReimbursementAmt</th>\n",
       "      <th>OPAnnualDeductibleAmt</th>\n",
       "    </tr>\n",
       "  </thead>\n",
       "  <tbody>\n",
       "    <tr>\n",
       "      <th>0</th>\n",
       "      <td>BENE11001</td>\n",
       "      <td>1943-01-01</td>\n",
       "      <td>NaN</td>\n",
       "      <td>1</td>\n",
       "      <td>1</td>\n",
       "      <td>0</td>\n",
       "      <td>39</td>\n",
       "      <td>230</td>\n",
       "      <td>12</td>\n",
       "      <td>12</td>\n",
       "      <td>...</td>\n",
       "      <td>1</td>\n",
       "      <td>1</td>\n",
       "      <td>1</td>\n",
       "      <td>2</td>\n",
       "      <td>1</td>\n",
       "      <td>1</td>\n",
       "      <td>36000</td>\n",
       "      <td>3204</td>\n",
       "      <td>60</td>\n",
       "      <td>70</td>\n",
       "    </tr>\n",
       "    <tr>\n",
       "      <th>1</th>\n",
       "      <td>BENE11002</td>\n",
       "      <td>1936-09-01</td>\n",
       "      <td>NaN</td>\n",
       "      <td>2</td>\n",
       "      <td>1</td>\n",
       "      <td>0</td>\n",
       "      <td>39</td>\n",
       "      <td>280</td>\n",
       "      <td>12</td>\n",
       "      <td>12</td>\n",
       "      <td>...</td>\n",
       "      <td>2</td>\n",
       "      <td>2</td>\n",
       "      <td>2</td>\n",
       "      <td>2</td>\n",
       "      <td>2</td>\n",
       "      <td>2</td>\n",
       "      <td>0</td>\n",
       "      <td>0</td>\n",
       "      <td>30</td>\n",
       "      <td>50</td>\n",
       "    </tr>\n",
       "    <tr>\n",
       "      <th>2</th>\n",
       "      <td>BENE11003</td>\n",
       "      <td>1936-08-01</td>\n",
       "      <td>NaN</td>\n",
       "      <td>1</td>\n",
       "      <td>1</td>\n",
       "      <td>0</td>\n",
       "      <td>52</td>\n",
       "      <td>590</td>\n",
       "      <td>12</td>\n",
       "      <td>12</td>\n",
       "      <td>...</td>\n",
       "      <td>2</td>\n",
       "      <td>2</td>\n",
       "      <td>1</td>\n",
       "      <td>2</td>\n",
       "      <td>2</td>\n",
       "      <td>2</td>\n",
       "      <td>0</td>\n",
       "      <td>0</td>\n",
       "      <td>90</td>\n",
       "      <td>40</td>\n",
       "    </tr>\n",
       "    <tr>\n",
       "      <th>3</th>\n",
       "      <td>BENE11004</td>\n",
       "      <td>1922-07-01</td>\n",
       "      <td>NaN</td>\n",
       "      <td>1</td>\n",
       "      <td>1</td>\n",
       "      <td>0</td>\n",
       "      <td>39</td>\n",
       "      <td>270</td>\n",
       "      <td>12</td>\n",
       "      <td>12</td>\n",
       "      <td>...</td>\n",
       "      <td>2</td>\n",
       "      <td>1</td>\n",
       "      <td>1</td>\n",
       "      <td>1</td>\n",
       "      <td>1</td>\n",
       "      <td>2</td>\n",
       "      <td>0</td>\n",
       "      <td>0</td>\n",
       "      <td>1810</td>\n",
       "      <td>760</td>\n",
       "    </tr>\n",
       "    <tr>\n",
       "      <th>4</th>\n",
       "      <td>BENE11005</td>\n",
       "      <td>1935-09-01</td>\n",
       "      <td>NaN</td>\n",
       "      <td>1</td>\n",
       "      <td>1</td>\n",
       "      <td>0</td>\n",
       "      <td>24</td>\n",
       "      <td>680</td>\n",
       "      <td>12</td>\n",
       "      <td>12</td>\n",
       "      <td>...</td>\n",
       "      <td>2</td>\n",
       "      <td>1</td>\n",
       "      <td>2</td>\n",
       "      <td>2</td>\n",
       "      <td>2</td>\n",
       "      <td>2</td>\n",
       "      <td>0</td>\n",
       "      <td>0</td>\n",
       "      <td>1790</td>\n",
       "      <td>1200</td>\n",
       "    </tr>\n",
       "  </tbody>\n",
       "</table>\n",
       "<p>5 rows × 25 columns</p>\n",
       "</div>"
      ],
      "text/plain": [
       "      BeneID         DOB  DOD  Gender  Race RenalDiseaseIndicator  State  \\\n",
       "0  BENE11001  1943-01-01  NaN       1     1                     0     39   \n",
       "1  BENE11002  1936-09-01  NaN       2     1                     0     39   \n",
       "2  BENE11003  1936-08-01  NaN       1     1                     0     52   \n",
       "3  BENE11004  1922-07-01  NaN       1     1                     0     39   \n",
       "4  BENE11005  1935-09-01  NaN       1     1                     0     24   \n",
       "\n",
       "   County  NoOfMonths_PartACov  NoOfMonths_PartBCov  ...  \\\n",
       "0     230                   12                   12  ...   \n",
       "1     280                   12                   12  ...   \n",
       "2     590                   12                   12  ...   \n",
       "3     270                   12                   12  ...   \n",
       "4     680                   12                   12  ...   \n",
       "\n",
       "   ChronicCond_Depression  ChronicCond_Diabetes  ChronicCond_IschemicHeart  \\\n",
       "0                       1                     1                          1   \n",
       "1                       2                     2                          2   \n",
       "2                       2                     2                          1   \n",
       "3                       2                     1                          1   \n",
       "4                       2                     1                          2   \n",
       "\n",
       "   ChronicCond_Osteoporasis  ChronicCond_rheumatoidarthritis  \\\n",
       "0                         2                                1   \n",
       "1                         2                                2   \n",
       "2                         2                                2   \n",
       "3                         1                                1   \n",
       "4                         2                                2   \n",
       "\n",
       "   ChronicCond_stroke  IPAnnualReimbursementAmt  IPAnnualDeductibleAmt  \\\n",
       "0                   1                     36000                   3204   \n",
       "1                   2                         0                      0   \n",
       "2                   2                         0                      0   \n",
       "3                   2                         0                      0   \n",
       "4                   2                         0                      0   \n",
       "\n",
       "   OPAnnualReimbursementAmt  OPAnnualDeductibleAmt  \n",
       "0                        60                     70  \n",
       "1                        30                     50  \n",
       "2                        90                     40  \n",
       "3                      1810                    760  \n",
       "4                      1790                   1200  \n",
       "\n",
       "[5 rows x 25 columns]"
      ]
     },
     "execution_count": 38,
     "metadata": {},
     "output_type": "execute_result"
    }
   ],
   "source": [
    "df_train_beneficiary.head()"
   ]
  },
  {
   "cell_type": "code",
   "execution_count": 45,
   "id": "c3f9a172",
   "metadata": {
    "scrolled": true
   },
   "outputs": [],
   "source": [
    "df1_inp = pd.merge(df_train_inpatient,df_train_target, on = \"Provider\")"
   ]
  },
  {
   "cell_type": "code",
   "execution_count": 46,
   "id": "8cbd9fd1",
   "metadata": {},
   "outputs": [
    {
     "data": {
      "text/plain": [
       "PotentialFraud\n",
       "No     167008510\n",
       "Yes    241288510\n",
       "Name: InscClaimAmtReimbursed, dtype: int64"
      ]
     },
     "execution_count": 46,
     "metadata": {},
     "output_type": "execute_result"
    }
   ],
   "source": [
    "df1_inp.groupby(['PotentialFraud']).InscClaimAmtReimbursed.sum()"
   ]
  },
  {
   "cell_type": "code",
   "execution_count": 42,
   "id": "069f6596",
   "metadata": {},
   "outputs": [],
   "source": [
    "df1_outp = pd.merge(df_train_outpatient,df_train_target, on = \"Provider\")"
   ]
  },
  {
   "cell_type": "code",
   "execution_count": 43,
   "id": "ffbaef76",
   "metadata": {},
   "outputs": [
    {
     "data": {
      "text/html": [
       "<div>\n",
       "<style scoped>\n",
       "    .dataframe tbody tr th:only-of-type {\n",
       "        vertical-align: middle;\n",
       "    }\n",
       "\n",
       "    .dataframe tbody tr th {\n",
       "        vertical-align: top;\n",
       "    }\n",
       "\n",
       "    .dataframe thead th {\n",
       "        text-align: right;\n",
       "    }\n",
       "</style>\n",
       "<table border=\"1\" class=\"dataframe\">\n",
       "  <thead>\n",
       "    <tr style=\"text-align: right;\">\n",
       "      <th></th>\n",
       "      <th>BeneID</th>\n",
       "      <th>ClaimID</th>\n",
       "      <th>ClaimStartDt</th>\n",
       "      <th>ClaimEndDt</th>\n",
       "      <th>Provider</th>\n",
       "      <th>InscClaimAmtReimbursed</th>\n",
       "      <th>AttendingPhysician</th>\n",
       "      <th>OperatingPhysician</th>\n",
       "      <th>OtherPhysician</th>\n",
       "      <th>ClmDiagnosisCode_1</th>\n",
       "      <th>...</th>\n",
       "      <th>ClmDiagnosisCode_10</th>\n",
       "      <th>ClmProcedureCode_1</th>\n",
       "      <th>ClmProcedureCode_2</th>\n",
       "      <th>ClmProcedureCode_3</th>\n",
       "      <th>ClmProcedureCode_4</th>\n",
       "      <th>ClmProcedureCode_5</th>\n",
       "      <th>ClmProcedureCode_6</th>\n",
       "      <th>DeductibleAmtPaid</th>\n",
       "      <th>ClmAdmitDiagnosisCode</th>\n",
       "      <th>PotentialFraud</th>\n",
       "    </tr>\n",
       "  </thead>\n",
       "  <tbody>\n",
       "    <tr>\n",
       "      <th>0</th>\n",
       "      <td>BENE11002</td>\n",
       "      <td>CLM624349</td>\n",
       "      <td>2009-10-11</td>\n",
       "      <td>2009-10-11</td>\n",
       "      <td>PRV56011</td>\n",
       "      <td>30</td>\n",
       "      <td>PHY326117</td>\n",
       "      <td>NaN</td>\n",
       "      <td>NaN</td>\n",
       "      <td>78943</td>\n",
       "      <td>...</td>\n",
       "      <td>NaN</td>\n",
       "      <td>NaN</td>\n",
       "      <td>NaN</td>\n",
       "      <td>NaN</td>\n",
       "      <td>NaN</td>\n",
       "      <td>NaN</td>\n",
       "      <td>NaN</td>\n",
       "      <td>0</td>\n",
       "      <td>56409</td>\n",
       "      <td>Yes</td>\n",
       "    </tr>\n",
       "    <tr>\n",
       "      <th>1</th>\n",
       "      <td>BENE11004</td>\n",
       "      <td>CLM121801</td>\n",
       "      <td>2009-01-06</td>\n",
       "      <td>2009-01-06</td>\n",
       "      <td>PRV56011</td>\n",
       "      <td>40</td>\n",
       "      <td>PHY334319</td>\n",
       "      <td>NaN</td>\n",
       "      <td>NaN</td>\n",
       "      <td>71988</td>\n",
       "      <td>...</td>\n",
       "      <td>NaN</td>\n",
       "      <td>NaN</td>\n",
       "      <td>NaN</td>\n",
       "      <td>NaN</td>\n",
       "      <td>NaN</td>\n",
       "      <td>NaN</td>\n",
       "      <td>NaN</td>\n",
       "      <td>0</td>\n",
       "      <td>NaN</td>\n",
       "      <td>Yes</td>\n",
       "    </tr>\n",
       "    <tr>\n",
       "      <th>2</th>\n",
       "      <td>BENE11004</td>\n",
       "      <td>CLM150998</td>\n",
       "      <td>2009-01-22</td>\n",
       "      <td>2009-01-22</td>\n",
       "      <td>PRV56011</td>\n",
       "      <td>200</td>\n",
       "      <td>PHY403831</td>\n",
       "      <td>NaN</td>\n",
       "      <td>NaN</td>\n",
       "      <td>82382</td>\n",
       "      <td>...</td>\n",
       "      <td>NaN</td>\n",
       "      <td>NaN</td>\n",
       "      <td>NaN</td>\n",
       "      <td>NaN</td>\n",
       "      <td>NaN</td>\n",
       "      <td>NaN</td>\n",
       "      <td>NaN</td>\n",
       "      <td>0</td>\n",
       "      <td>71947</td>\n",
       "      <td>Yes</td>\n",
       "    </tr>\n",
       "    <tr>\n",
       "      <th>3</th>\n",
       "      <td>BENE11004</td>\n",
       "      <td>CLM173224</td>\n",
       "      <td>2009-02-03</td>\n",
       "      <td>2009-02-03</td>\n",
       "      <td>PRV56011</td>\n",
       "      <td>20</td>\n",
       "      <td>PHY339887</td>\n",
       "      <td>NaN</td>\n",
       "      <td>NaN</td>\n",
       "      <td>20381</td>\n",
       "      <td>...</td>\n",
       "      <td>NaN</td>\n",
       "      <td>NaN</td>\n",
       "      <td>NaN</td>\n",
       "      <td>NaN</td>\n",
       "      <td>NaN</td>\n",
       "      <td>NaN</td>\n",
       "      <td>NaN</td>\n",
       "      <td>0</td>\n",
       "      <td>NaN</td>\n",
       "      <td>Yes</td>\n",
       "    </tr>\n",
       "    <tr>\n",
       "      <th>4</th>\n",
       "      <td>BENE11004</td>\n",
       "      <td>CLM224741</td>\n",
       "      <td>2009-03-03</td>\n",
       "      <td>2009-03-03</td>\n",
       "      <td>PRV56011</td>\n",
       "      <td>40</td>\n",
       "      <td>PHY345721</td>\n",
       "      <td>NaN</td>\n",
       "      <td>NaN</td>\n",
       "      <td>V6546</td>\n",
       "      <td>...</td>\n",
       "      <td>NaN</td>\n",
       "      <td>NaN</td>\n",
       "      <td>NaN</td>\n",
       "      <td>NaN</td>\n",
       "      <td>NaN</td>\n",
       "      <td>NaN</td>\n",
       "      <td>NaN</td>\n",
       "      <td>0</td>\n",
       "      <td>NaN</td>\n",
       "      <td>Yes</td>\n",
       "    </tr>\n",
       "  </tbody>\n",
       "</table>\n",
       "<p>5 rows × 28 columns</p>\n",
       "</div>"
      ],
      "text/plain": [
       "      BeneID    ClaimID ClaimStartDt  ClaimEndDt  Provider  \\\n",
       "0  BENE11002  CLM624349   2009-10-11  2009-10-11  PRV56011   \n",
       "1  BENE11004  CLM121801   2009-01-06  2009-01-06  PRV56011   \n",
       "2  BENE11004  CLM150998   2009-01-22  2009-01-22  PRV56011   \n",
       "3  BENE11004  CLM173224   2009-02-03  2009-02-03  PRV56011   \n",
       "4  BENE11004  CLM224741   2009-03-03  2009-03-03  PRV56011   \n",
       "\n",
       "   InscClaimAmtReimbursed AttendingPhysician OperatingPhysician  \\\n",
       "0                      30          PHY326117                NaN   \n",
       "1                      40          PHY334319                NaN   \n",
       "2                     200          PHY403831                NaN   \n",
       "3                      20          PHY339887                NaN   \n",
       "4                      40          PHY345721                NaN   \n",
       "\n",
       "  OtherPhysician ClmDiagnosisCode_1  ... ClmDiagnosisCode_10  \\\n",
       "0            NaN              78943  ...                 NaN   \n",
       "1            NaN              71988  ...                 NaN   \n",
       "2            NaN              82382  ...                 NaN   \n",
       "3            NaN              20381  ...                 NaN   \n",
       "4            NaN              V6546  ...                 NaN   \n",
       "\n",
       "  ClmProcedureCode_1 ClmProcedureCode_2 ClmProcedureCode_3 ClmProcedureCode_4  \\\n",
       "0                NaN                NaN                NaN                NaN   \n",
       "1                NaN                NaN                NaN                NaN   \n",
       "2                NaN                NaN                NaN                NaN   \n",
       "3                NaN                NaN                NaN                NaN   \n",
       "4                NaN                NaN                NaN                NaN   \n",
       "\n",
       "  ClmProcedureCode_5 ClmProcedureCode_6 DeductibleAmtPaid  \\\n",
       "0                NaN                NaN                 0   \n",
       "1                NaN                NaN                 0   \n",
       "2                NaN                NaN                 0   \n",
       "3                NaN                NaN                 0   \n",
       "4                NaN                NaN                 0   \n",
       "\n",
       "  ClmAdmitDiagnosisCode  PotentialFraud  \n",
       "0                 56409             Yes  \n",
       "1                   NaN             Yes  \n",
       "2                 71947             Yes  \n",
       "3                   NaN             Yes  \n",
       "4                   NaN             Yes  \n",
       "\n",
       "[5 rows x 28 columns]"
      ]
     },
     "execution_count": 43,
     "metadata": {},
     "output_type": "execute_result"
    }
   ],
   "source": [
    "df1_outp.head()"
   ]
  },
  {
   "cell_type": "code",
   "execution_count": 47,
   "id": "1ae66cf0",
   "metadata": {},
   "outputs": [
    {
     "data": {
      "text/plain": [
       "PotentialFraud\n",
       "No     93853510\n",
       "Yes    54392610\n",
       "Name: InscClaimAmtReimbursed, dtype: int64"
      ]
     },
     "execution_count": 47,
     "metadata": {},
     "output_type": "execute_result"
    }
   ],
   "source": [
    "df1_outp.groupby(['PotentialFraud']).InscClaimAmtReimbursed.sum()"
   ]
  },
  {
   "cell_type": "code",
   "execution_count": 54,
   "id": "2d48a28f",
   "metadata": {},
   "outputs": [
    {
     "data": {
      "text/plain": [
       "'2.957e+08'"
      ]
     },
     "execution_count": 54,
     "metadata": {},
     "output_type": "execute_result"
    }
   ],
   "source": [
    "# claims under fraudulent providers\n",
    "'{:.3e}'.format(241288510+54392610)"
   ]
  },
  {
   "cell_type": "code",
   "execution_count": 55,
   "id": "1a80466a",
   "metadata": {},
   "outputs": [
    {
     "data": {
      "text/plain": [
       "'2.609e+08'"
      ]
     },
     "execution_count": 55,
     "metadata": {},
     "output_type": "execute_result"
    }
   ],
   "source": [
    "# claims under non-fraudulent providers\n",
    "'{:.3e}'.format(167008510+93853510)"
   ]
  },
  {
   "cell_type": "code",
   "execution_count": 56,
   "id": "f75ea4ee",
   "metadata": {},
   "outputs": [
    {
     "name": "stderr",
     "output_type": "stream",
     "text": [
      "/var/folders/y9/snh95y0146gf1c50b0dyvfm00000gn/T/ipykernel_1785/3603663220.py:1: FutureWarning: Dropping of nuisance columns in DataFrame reductions (with 'numeric_only=None') is deprecated; in a future version this will raise TypeError.  Select only valid columns before calling the reduction.\n",
      "  df_train_Beneficiarydata.sum()\n"
     ]
    },
    {
     "data": {
      "text/plain": [
       "BeneID                             BENE11001BENE11002BENE11003BENE11004BENE11005B...\n",
       "DOB                                1943-01-011936-09-011936-08-011922-07-011935-0...\n",
       "Gender                                                                        217662\n",
       "Race                                                                          173820\n",
       "RenalDiseaseIndicator              00000000Y0000Y000000000Y0000000000000000000000...\n",
       "State                                                                        3556280\n",
       "County                                                                      51878795\n",
       "NoOfMonths_PartACov                                                          1649887\n",
       "NoOfMonths_PartBCov                                                          1650222\n",
       "ChronicCond_Alzheimer                                                         231086\n",
       "ChronicCond_Heartfailure                                                      208710\n",
       "ChronicCond_KidneyDisease                                                     233833\n",
       "ChronicCond_Cancer                                                            260491\n",
       "ChronicCond_ObstrPulmonary                                                    244253\n",
       "ChronicCond_Depression                                                        227852\n",
       "ChronicCond_Diabetes                                                          193721\n",
       "ChronicCond_IschemicHeart                                                     183468\n",
       "ChronicCond_Osteoporasis                                                      239053\n",
       "ChronicCond_rheumatoidarthritis                                               241528\n",
       "ChronicCond_stroke                                                            266158\n",
       "IPAnnualReimbursementAmt                                                   507162970\n",
       "IPAnnualDeductibleAmt                                                       55401242\n",
       "OPAnnualReimbursementAmt                                                   179876080\n",
       "OPAnnualDeductibleAmt                                                       52335131\n",
       "dtype: object"
      ]
     },
     "execution_count": 56,
     "metadata": {},
     "output_type": "execute_result"
    }
   ],
   "source": [
    "df_train_Beneficiarydata.sum()"
   ]
  },
  {
   "cell_type": "code",
   "execution_count": 61,
   "id": "90e3d5a3",
   "metadata": {},
   "outputs": [
    {
     "data": {
      "text/plain": [
       "'6.870e+08'"
      ]
     },
     "execution_count": 61,
     "metadata": {},
     "output_type": "execute_result"
    }
   ],
   "source": [
    "'{:.3e}'.format(507162970+179876080)"
   ]
  },
  {
   "cell_type": "code",
   "execution_count": null,
   "id": "6eeb943a",
   "metadata": {},
   "outputs": [],
   "source": []
  }
 ],
 "metadata": {
  "kernelspec": {
   "display_name": "Python 3 (ipykernel)",
   "language": "python",
   "name": "python3"
  },
  "language_info": {
   "codemirror_mode": {
    "name": "ipython",
    "version": 3
   },
   "file_extension": ".py",
   "mimetype": "text/x-python",
   "name": "python",
   "nbconvert_exporter": "python",
   "pygments_lexer": "ipython3",
   "version": "3.9.7"
  }
 },
 "nbformat": 4,
 "nbformat_minor": 5
}
