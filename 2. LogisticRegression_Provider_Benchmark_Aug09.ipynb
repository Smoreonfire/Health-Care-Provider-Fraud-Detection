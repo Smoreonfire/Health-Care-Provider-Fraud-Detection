{
 "cells": [
  {
   "cell_type": "code",
   "execution_count": 2,
   "id": "d3f7abd5",
   "metadata": {},
   "outputs": [],
   "source": [
    "import pandas as pd \n",
    "import numpy as np\n",
    "import matplotlib.pyplot as plt\n",
    "%matplotlib inline"
   ]
  },
  {
   "cell_type": "markdown",
   "id": "9f377378",
   "metadata": {},
   "source": [
    "## 1. Import Data"
   ]
  },
  {
   "cell_type": "code",
   "execution_count": 3,
   "id": "e19252ac",
   "metadata": {},
   "outputs": [],
   "source": [
    "X_train = pd.read_csv('data/agg_train_test_split/X_train_aggregated.csv')"
   ]
  },
  {
   "cell_type": "code",
   "execution_count": 4,
   "id": "6df6ed4b",
   "metadata": {},
   "outputs": [],
   "source": [
    "X_test= pd.read_csv('data/agg_train_test_split/X_test_aggregated.csv')"
   ]
  },
  {
   "cell_type": "code",
   "execution_count": 5,
   "id": "c05df43c",
   "metadata": {},
   "outputs": [],
   "source": [
    "y_train = pd.read_csv('data/agg_train_test_split/y_train_agg.csv')"
   ]
  },
  {
   "cell_type": "code",
   "execution_count": 6,
   "id": "e7af24dd",
   "metadata": {},
   "outputs": [],
   "source": [
    "y_test = pd.read_csv('data/agg_train_test_split/y_test_agg.csv')"
   ]
  },
  {
   "cell_type": "code",
   "execution_count": 7,
   "id": "ab6b2951",
   "metadata": {},
   "outputs": [
    {
     "data": {
      "text/plain": [
       "(4328, 55)"
      ]
     },
     "metadata": {},
     "output_type": "display_data"
    },
    {
     "data": {
      "text/plain": [
       "(1082, 55)"
      ]
     },
     "metadata": {},
     "output_type": "display_data"
    },
    {
     "data": {
      "text/plain": [
       "(4328, 1)"
      ]
     },
     "metadata": {},
     "output_type": "display_data"
    },
    {
     "data": {
      "text/plain": [
       "(1082, 1)"
      ]
     },
     "metadata": {},
     "output_type": "display_data"
    }
   ],
   "source": [
    "display(X_train.shape,X_test.shape,y_train.shape,y_test.shape)"
   ]
  },
  {
   "cell_type": "code",
   "execution_count": 8,
   "id": "7b6d87c9",
   "metadata": {},
   "outputs": [
    {
     "data": {
      "text/html": [
       "<div>\n",
       "<style scoped>\n",
       "    .dataframe tbody tr th:only-of-type {\n",
       "        vertical-align: middle;\n",
       "    }\n",
       "\n",
       "    .dataframe tbody tr th {\n",
       "        vertical-align: top;\n",
       "    }\n",
       "\n",
       "    .dataframe thead th {\n",
       "        text-align: right;\n",
       "    }\n",
       "</style>\n",
       "<table border=\"1\" class=\"dataframe\">\n",
       "  <thead>\n",
       "    <tr style=\"text-align: right;\">\n",
       "      <th></th>\n",
       "      <th>Provider</th>\n",
       "      <th>DeductibleAmtPaid_mean</th>\n",
       "      <th>DeductibleAmtPaid_max</th>\n",
       "      <th>NoOfMonths_PartACov_mean</th>\n",
       "      <th>NoOfMonths_PartBCov_mean</th>\n",
       "      <th>OPAnnualReimbursementAmt_mean</th>\n",
       "      <th>OPAnnualReimbursementAmt_max</th>\n",
       "      <th>OPAnnualReimbursementAmt_sum</th>\n",
       "      <th>OPAnnualDeductibleAmt_mean</th>\n",
       "      <th>OPAnnualDeductibleAmt_max</th>\n",
       "      <th>...</th>\n",
       "      <th>Chronic_KidneyDisease_Frac</th>\n",
       "      <th>Chronic_Cancer_Frac</th>\n",
       "      <th>Chronic_ObstrPulmonary_Frac</th>\n",
       "      <th>Chronic_Depression_Frac</th>\n",
       "      <th>Chronic_Diabetes_Frac</th>\n",
       "      <th>Chronic_IschemicHeart_Frac</th>\n",
       "      <th>Chronic_Osteoporasis_Frac</th>\n",
       "      <th>Chronic_rheumatoidarthritis_Frac</th>\n",
       "      <th>Chronic_stroke_Frac</th>\n",
       "      <th>Deceased_Frac</th>\n",
       "    </tr>\n",
       "  </thead>\n",
       "  <tbody>\n",
       "    <tr>\n",
       "      <th>0</th>\n",
       "      <td>PRV53960</td>\n",
       "      <td>2.452381</td>\n",
       "      <td>200.0</td>\n",
       "      <td>12.000000</td>\n",
       "      <td>12.000000</td>\n",
       "      <td>3279.214286</td>\n",
       "      <td>43330</td>\n",
       "      <td>1377270</td>\n",
       "      <td>902.166667</td>\n",
       "      <td>9180</td>\n",
       "      <td>...</td>\n",
       "      <td>0.480952</td>\n",
       "      <td>0.085714</td>\n",
       "      <td>0.242857</td>\n",
       "      <td>0.426190</td>\n",
       "      <td>0.719048</td>\n",
       "      <td>0.773810</td>\n",
       "      <td>0.357143</td>\n",
       "      <td>0.316667</td>\n",
       "      <td>0.040476</td>\n",
       "      <td>0.016667</td>\n",
       "    </tr>\n",
       "    <tr>\n",
       "      <th>1</th>\n",
       "      <td>PRV52517</td>\n",
       "      <td>3.750000</td>\n",
       "      <td>70.0</td>\n",
       "      <td>11.625000</td>\n",
       "      <td>12.000000</td>\n",
       "      <td>2082.500000</td>\n",
       "      <td>6110</td>\n",
       "      <td>66640</td>\n",
       "      <td>537.500000</td>\n",
       "      <td>1530</td>\n",
       "      <td>...</td>\n",
       "      <td>0.375000</td>\n",
       "      <td>0.187500</td>\n",
       "      <td>0.281250</td>\n",
       "      <td>0.343750</td>\n",
       "      <td>0.593750</td>\n",
       "      <td>0.781250</td>\n",
       "      <td>0.218750</td>\n",
       "      <td>0.625000</td>\n",
       "      <td>0.062500</td>\n",
       "      <td>0.000000</td>\n",
       "    </tr>\n",
       "    <tr>\n",
       "      <th>2</th>\n",
       "      <td>PRV55652</td>\n",
       "      <td>1.785714</td>\n",
       "      <td>50.0</td>\n",
       "      <td>12.000000</td>\n",
       "      <td>12.000000</td>\n",
       "      <td>1757.500000</td>\n",
       "      <td>9840</td>\n",
       "      <td>49210</td>\n",
       "      <td>500.357143</td>\n",
       "      <td>3110</td>\n",
       "      <td>...</td>\n",
       "      <td>0.178571</td>\n",
       "      <td>0.107143</td>\n",
       "      <td>0.285714</td>\n",
       "      <td>0.535714</td>\n",
       "      <td>0.714286</td>\n",
       "      <td>0.785714</td>\n",
       "      <td>0.392857</td>\n",
       "      <td>0.321429</td>\n",
       "      <td>0.071429</td>\n",
       "      <td>0.000000</td>\n",
       "    </tr>\n",
       "    <tr>\n",
       "      <th>3</th>\n",
       "      <td>PRV57328</td>\n",
       "      <td>4.473684</td>\n",
       "      <td>70.0</td>\n",
       "      <td>12.000000</td>\n",
       "      <td>12.000000</td>\n",
       "      <td>1498.157895</td>\n",
       "      <td>7400</td>\n",
       "      <td>56930</td>\n",
       "      <td>465.789474</td>\n",
       "      <td>1550</td>\n",
       "      <td>...</td>\n",
       "      <td>0.342105</td>\n",
       "      <td>0.105263</td>\n",
       "      <td>0.236842</td>\n",
       "      <td>0.394737</td>\n",
       "      <td>0.500000</td>\n",
       "      <td>0.631579</td>\n",
       "      <td>0.342105</td>\n",
       "      <td>0.263158</td>\n",
       "      <td>0.078947</td>\n",
       "      <td>0.052632</td>\n",
       "    </tr>\n",
       "    <tr>\n",
       "      <th>4</th>\n",
       "      <td>PRV56721</td>\n",
       "      <td>4.059406</td>\n",
       "      <td>100.0</td>\n",
       "      <td>11.915842</td>\n",
       "      <td>11.881188</td>\n",
       "      <td>2032.673267</td>\n",
       "      <td>24260</td>\n",
       "      <td>410600</td>\n",
       "      <td>599.900990</td>\n",
       "      <td>6300</td>\n",
       "      <td>...</td>\n",
       "      <td>0.430693</td>\n",
       "      <td>0.158416</td>\n",
       "      <td>0.356436</td>\n",
       "      <td>0.485149</td>\n",
       "      <td>0.643564</td>\n",
       "      <td>0.722772</td>\n",
       "      <td>0.321782</td>\n",
       "      <td>0.232673</td>\n",
       "      <td>0.084158</td>\n",
       "      <td>0.000000</td>\n",
       "    </tr>\n",
       "  </tbody>\n",
       "</table>\n",
       "<p>5 rows × 55 columns</p>\n",
       "</div>"
      ],
      "text/plain": [
       "   Provider  DeductibleAmtPaid_mean  DeductibleAmtPaid_max  \\\n",
       "0  PRV53960                2.452381                  200.0   \n",
       "1  PRV52517                3.750000                   70.0   \n",
       "2  PRV55652                1.785714                   50.0   \n",
       "3  PRV57328                4.473684                   70.0   \n",
       "4  PRV56721                4.059406                  100.0   \n",
       "\n",
       "   NoOfMonths_PartACov_mean  NoOfMonths_PartBCov_mean  \\\n",
       "0                 12.000000                 12.000000   \n",
       "1                 11.625000                 12.000000   \n",
       "2                 12.000000                 12.000000   \n",
       "3                 12.000000                 12.000000   \n",
       "4                 11.915842                 11.881188   \n",
       "\n",
       "   OPAnnualReimbursementAmt_mean  OPAnnualReimbursementAmt_max  \\\n",
       "0                    3279.214286                         43330   \n",
       "1                    2082.500000                          6110   \n",
       "2                    1757.500000                          9840   \n",
       "3                    1498.157895                          7400   \n",
       "4                    2032.673267                         24260   \n",
       "\n",
       "   OPAnnualReimbursementAmt_sum  OPAnnualDeductibleAmt_mean  \\\n",
       "0                       1377270                  902.166667   \n",
       "1                         66640                  537.500000   \n",
       "2                         49210                  500.357143   \n",
       "3                         56930                  465.789474   \n",
       "4                        410600                  599.900990   \n",
       "\n",
       "   OPAnnualDeductibleAmt_max  ...  Chronic_KidneyDisease_Frac  \\\n",
       "0                       9180  ...                    0.480952   \n",
       "1                       1530  ...                    0.375000   \n",
       "2                       3110  ...                    0.178571   \n",
       "3                       1550  ...                    0.342105   \n",
       "4                       6300  ...                    0.430693   \n",
       "\n",
       "   Chronic_Cancer_Frac  Chronic_ObstrPulmonary_Frac  Chronic_Depression_Frac  \\\n",
       "0             0.085714                     0.242857                 0.426190   \n",
       "1             0.187500                     0.281250                 0.343750   \n",
       "2             0.107143                     0.285714                 0.535714   \n",
       "3             0.105263                     0.236842                 0.394737   \n",
       "4             0.158416                     0.356436                 0.485149   \n",
       "\n",
       "   Chronic_Diabetes_Frac  Chronic_IschemicHeart_Frac  \\\n",
       "0               0.719048                    0.773810   \n",
       "1               0.593750                    0.781250   \n",
       "2               0.714286                    0.785714   \n",
       "3               0.500000                    0.631579   \n",
       "4               0.643564                    0.722772   \n",
       "\n",
       "   Chronic_Osteoporasis_Frac  Chronic_rheumatoidarthritis_Frac  \\\n",
       "0                   0.357143                          0.316667   \n",
       "1                   0.218750                          0.625000   \n",
       "2                   0.392857                          0.321429   \n",
       "3                   0.342105                          0.263158   \n",
       "4                   0.321782                          0.232673   \n",
       "\n",
       "   Chronic_stroke_Frac  Deceased_Frac  \n",
       "0             0.040476       0.016667  \n",
       "1             0.062500       0.000000  \n",
       "2             0.071429       0.000000  \n",
       "3             0.078947       0.052632  \n",
       "4             0.084158       0.000000  \n",
       "\n",
       "[5 rows x 55 columns]"
      ]
     },
     "execution_count": 8,
     "metadata": {},
     "output_type": "execute_result"
    }
   ],
   "source": [
    "X_train.head()"
   ]
  },
  {
   "cell_type": "code",
   "execution_count": 9,
   "id": "cab1f536",
   "metadata": {},
   "outputs": [],
   "source": [
    "X_train.set_index('Provider',inplace = True)"
   ]
  },
  {
   "cell_type": "code",
   "execution_count": 10,
   "id": "479e32bd",
   "metadata": {
    "scrolled": true
   },
   "outputs": [
    {
     "data": {
      "text/html": [
       "<div>\n",
       "<style scoped>\n",
       "    .dataframe tbody tr th:only-of-type {\n",
       "        vertical-align: middle;\n",
       "    }\n",
       "\n",
       "    .dataframe tbody tr th {\n",
       "        vertical-align: top;\n",
       "    }\n",
       "\n",
       "    .dataframe thead th {\n",
       "        text-align: right;\n",
       "    }\n",
       "</style>\n",
       "<table border=\"1\" class=\"dataframe\">\n",
       "  <thead>\n",
       "    <tr style=\"text-align: right;\">\n",
       "      <th></th>\n",
       "      <th>DeductibleAmtPaid_mean</th>\n",
       "      <th>DeductibleAmtPaid_max</th>\n",
       "      <th>NoOfMonths_PartACov_mean</th>\n",
       "      <th>NoOfMonths_PartBCov_mean</th>\n",
       "      <th>OPAnnualReimbursementAmt_mean</th>\n",
       "      <th>OPAnnualReimbursementAmt_max</th>\n",
       "      <th>OPAnnualReimbursementAmt_sum</th>\n",
       "      <th>OPAnnualDeductibleAmt_mean</th>\n",
       "      <th>OPAnnualDeductibleAmt_max</th>\n",
       "      <th>OPAnnualDeductibleAmt_sum</th>\n",
       "      <th>...</th>\n",
       "      <th>Chronic_KidneyDisease_Frac</th>\n",
       "      <th>Chronic_Cancer_Frac</th>\n",
       "      <th>Chronic_ObstrPulmonary_Frac</th>\n",
       "      <th>Chronic_Depression_Frac</th>\n",
       "      <th>Chronic_Diabetes_Frac</th>\n",
       "      <th>Chronic_IschemicHeart_Frac</th>\n",
       "      <th>Chronic_Osteoporasis_Frac</th>\n",
       "      <th>Chronic_rheumatoidarthritis_Frac</th>\n",
       "      <th>Chronic_stroke_Frac</th>\n",
       "      <th>Deceased_Frac</th>\n",
       "    </tr>\n",
       "    <tr>\n",
       "      <th>Provider</th>\n",
       "      <th></th>\n",
       "      <th></th>\n",
       "      <th></th>\n",
       "      <th></th>\n",
       "      <th></th>\n",
       "      <th></th>\n",
       "      <th></th>\n",
       "      <th></th>\n",
       "      <th></th>\n",
       "      <th></th>\n",
       "      <th></th>\n",
       "      <th></th>\n",
       "      <th></th>\n",
       "      <th></th>\n",
       "      <th></th>\n",
       "      <th></th>\n",
       "      <th></th>\n",
       "      <th></th>\n",
       "      <th></th>\n",
       "      <th></th>\n",
       "      <th></th>\n",
       "    </tr>\n",
       "  </thead>\n",
       "  <tbody>\n",
       "    <tr>\n",
       "      <th>PRV53960</th>\n",
       "      <td>2.452381</td>\n",
       "      <td>200.0</td>\n",
       "      <td>12.000000</td>\n",
       "      <td>12.000000</td>\n",
       "      <td>3279.214286</td>\n",
       "      <td>43330</td>\n",
       "      <td>1377270</td>\n",
       "      <td>902.166667</td>\n",
       "      <td>9180</td>\n",
       "      <td>378910</td>\n",
       "      <td>...</td>\n",
       "      <td>0.480952</td>\n",
       "      <td>0.085714</td>\n",
       "      <td>0.242857</td>\n",
       "      <td>0.426190</td>\n",
       "      <td>0.719048</td>\n",
       "      <td>0.773810</td>\n",
       "      <td>0.357143</td>\n",
       "      <td>0.316667</td>\n",
       "      <td>0.040476</td>\n",
       "      <td>0.016667</td>\n",
       "    </tr>\n",
       "    <tr>\n",
       "      <th>PRV52517</th>\n",
       "      <td>3.750000</td>\n",
       "      <td>70.0</td>\n",
       "      <td>11.625000</td>\n",
       "      <td>12.000000</td>\n",
       "      <td>2082.500000</td>\n",
       "      <td>6110</td>\n",
       "      <td>66640</td>\n",
       "      <td>537.500000</td>\n",
       "      <td>1530</td>\n",
       "      <td>17200</td>\n",
       "      <td>...</td>\n",
       "      <td>0.375000</td>\n",
       "      <td>0.187500</td>\n",
       "      <td>0.281250</td>\n",
       "      <td>0.343750</td>\n",
       "      <td>0.593750</td>\n",
       "      <td>0.781250</td>\n",
       "      <td>0.218750</td>\n",
       "      <td>0.625000</td>\n",
       "      <td>0.062500</td>\n",
       "      <td>0.000000</td>\n",
       "    </tr>\n",
       "    <tr>\n",
       "      <th>PRV55652</th>\n",
       "      <td>1.785714</td>\n",
       "      <td>50.0</td>\n",
       "      <td>12.000000</td>\n",
       "      <td>12.000000</td>\n",
       "      <td>1757.500000</td>\n",
       "      <td>9840</td>\n",
       "      <td>49210</td>\n",
       "      <td>500.357143</td>\n",
       "      <td>3110</td>\n",
       "      <td>14010</td>\n",
       "      <td>...</td>\n",
       "      <td>0.178571</td>\n",
       "      <td>0.107143</td>\n",
       "      <td>0.285714</td>\n",
       "      <td>0.535714</td>\n",
       "      <td>0.714286</td>\n",
       "      <td>0.785714</td>\n",
       "      <td>0.392857</td>\n",
       "      <td>0.321429</td>\n",
       "      <td>0.071429</td>\n",
       "      <td>0.000000</td>\n",
       "    </tr>\n",
       "    <tr>\n",
       "      <th>PRV57328</th>\n",
       "      <td>4.473684</td>\n",
       "      <td>70.0</td>\n",
       "      <td>12.000000</td>\n",
       "      <td>12.000000</td>\n",
       "      <td>1498.157895</td>\n",
       "      <td>7400</td>\n",
       "      <td>56930</td>\n",
       "      <td>465.789474</td>\n",
       "      <td>1550</td>\n",
       "      <td>17700</td>\n",
       "      <td>...</td>\n",
       "      <td>0.342105</td>\n",
       "      <td>0.105263</td>\n",
       "      <td>0.236842</td>\n",
       "      <td>0.394737</td>\n",
       "      <td>0.500000</td>\n",
       "      <td>0.631579</td>\n",
       "      <td>0.342105</td>\n",
       "      <td>0.263158</td>\n",
       "      <td>0.078947</td>\n",
       "      <td>0.052632</td>\n",
       "    </tr>\n",
       "    <tr>\n",
       "      <th>PRV56721</th>\n",
       "      <td>4.059406</td>\n",
       "      <td>100.0</td>\n",
       "      <td>11.915842</td>\n",
       "      <td>11.881188</td>\n",
       "      <td>2032.673267</td>\n",
       "      <td>24260</td>\n",
       "      <td>410600</td>\n",
       "      <td>599.900990</td>\n",
       "      <td>6300</td>\n",
       "      <td>121180</td>\n",
       "      <td>...</td>\n",
       "      <td>0.430693</td>\n",
       "      <td>0.158416</td>\n",
       "      <td>0.356436</td>\n",
       "      <td>0.485149</td>\n",
       "      <td>0.643564</td>\n",
       "      <td>0.722772</td>\n",
       "      <td>0.321782</td>\n",
       "      <td>0.232673</td>\n",
       "      <td>0.084158</td>\n",
       "      <td>0.000000</td>\n",
       "    </tr>\n",
       "  </tbody>\n",
       "</table>\n",
       "<p>5 rows × 54 columns</p>\n",
       "</div>"
      ],
      "text/plain": [
       "          DeductibleAmtPaid_mean  DeductibleAmtPaid_max  \\\n",
       "Provider                                                  \n",
       "PRV53960                2.452381                  200.0   \n",
       "PRV52517                3.750000                   70.0   \n",
       "PRV55652                1.785714                   50.0   \n",
       "PRV57328                4.473684                   70.0   \n",
       "PRV56721                4.059406                  100.0   \n",
       "\n",
       "          NoOfMonths_PartACov_mean  NoOfMonths_PartBCov_mean  \\\n",
       "Provider                                                       \n",
       "PRV53960                 12.000000                 12.000000   \n",
       "PRV52517                 11.625000                 12.000000   \n",
       "PRV55652                 12.000000                 12.000000   \n",
       "PRV57328                 12.000000                 12.000000   \n",
       "PRV56721                 11.915842                 11.881188   \n",
       "\n",
       "          OPAnnualReimbursementAmt_mean  OPAnnualReimbursementAmt_max  \\\n",
       "Provider                                                                \n",
       "PRV53960                    3279.214286                         43330   \n",
       "PRV52517                    2082.500000                          6110   \n",
       "PRV55652                    1757.500000                          9840   \n",
       "PRV57328                    1498.157895                          7400   \n",
       "PRV56721                    2032.673267                         24260   \n",
       "\n",
       "          OPAnnualReimbursementAmt_sum  OPAnnualDeductibleAmt_mean  \\\n",
       "Provider                                                             \n",
       "PRV53960                       1377270                  902.166667   \n",
       "PRV52517                         66640                  537.500000   \n",
       "PRV55652                         49210                  500.357143   \n",
       "PRV57328                         56930                  465.789474   \n",
       "PRV56721                        410600                  599.900990   \n",
       "\n",
       "          OPAnnualDeductibleAmt_max  OPAnnualDeductibleAmt_sum  ...  \\\n",
       "Provider                                                        ...   \n",
       "PRV53960                       9180                     378910  ...   \n",
       "PRV52517                       1530                      17200  ...   \n",
       "PRV55652                       3110                      14010  ...   \n",
       "PRV57328                       1550                      17700  ...   \n",
       "PRV56721                       6300                     121180  ...   \n",
       "\n",
       "          Chronic_KidneyDisease_Frac  Chronic_Cancer_Frac  \\\n",
       "Provider                                                    \n",
       "PRV53960                    0.480952             0.085714   \n",
       "PRV52517                    0.375000             0.187500   \n",
       "PRV55652                    0.178571             0.107143   \n",
       "PRV57328                    0.342105             0.105263   \n",
       "PRV56721                    0.430693             0.158416   \n",
       "\n",
       "          Chronic_ObstrPulmonary_Frac  Chronic_Depression_Frac  \\\n",
       "Provider                                                         \n",
       "PRV53960                     0.242857                 0.426190   \n",
       "PRV52517                     0.281250                 0.343750   \n",
       "PRV55652                     0.285714                 0.535714   \n",
       "PRV57328                     0.236842                 0.394737   \n",
       "PRV56721                     0.356436                 0.485149   \n",
       "\n",
       "          Chronic_Diabetes_Frac  Chronic_IschemicHeart_Frac  \\\n",
       "Provider                                                      \n",
       "PRV53960               0.719048                    0.773810   \n",
       "PRV52517               0.593750                    0.781250   \n",
       "PRV55652               0.714286                    0.785714   \n",
       "PRV57328               0.500000                    0.631579   \n",
       "PRV56721               0.643564                    0.722772   \n",
       "\n",
       "          Chronic_Osteoporasis_Frac  Chronic_rheumatoidarthritis_Frac  \\\n",
       "Provider                                                                \n",
       "PRV53960                   0.357143                          0.316667   \n",
       "PRV52517                   0.218750                          0.625000   \n",
       "PRV55652                   0.392857                          0.321429   \n",
       "PRV57328                   0.342105                          0.263158   \n",
       "PRV56721                   0.321782                          0.232673   \n",
       "\n",
       "          Chronic_stroke_Frac  Deceased_Frac  \n",
       "Provider                                      \n",
       "PRV53960             0.040476       0.016667  \n",
       "PRV52517             0.062500       0.000000  \n",
       "PRV55652             0.071429       0.000000  \n",
       "PRV57328             0.078947       0.052632  \n",
       "PRV56721             0.084158       0.000000  \n",
       "\n",
       "[5 rows x 54 columns]"
      ]
     },
     "execution_count": 10,
     "metadata": {},
     "output_type": "execute_result"
    }
   ],
   "source": [
    "X_train.head()"
   ]
  },
  {
   "cell_type": "code",
   "execution_count": 11,
   "id": "989dbf07",
   "metadata": {},
   "outputs": [],
   "source": [
    "X_test.set_index('Provider',inplace = True)"
   ]
  },
  {
   "cell_type": "code",
   "execution_count": 12,
   "id": "6153c18d",
   "metadata": {
    "scrolled": false
   },
   "outputs": [
    {
     "data": {
      "text/html": [
       "<div>\n",
       "<style scoped>\n",
       "    .dataframe tbody tr th:only-of-type {\n",
       "        vertical-align: middle;\n",
       "    }\n",
       "\n",
       "    .dataframe tbody tr th {\n",
       "        vertical-align: top;\n",
       "    }\n",
       "\n",
       "    .dataframe thead th {\n",
       "        text-align: right;\n",
       "    }\n",
       "</style>\n",
       "<table border=\"1\" class=\"dataframe\">\n",
       "  <thead>\n",
       "    <tr style=\"text-align: right;\">\n",
       "      <th></th>\n",
       "      <th>DeductibleAmtPaid_mean</th>\n",
       "      <th>DeductibleAmtPaid_max</th>\n",
       "      <th>NoOfMonths_PartACov_mean</th>\n",
       "      <th>NoOfMonths_PartBCov_mean</th>\n",
       "      <th>OPAnnualReimbursementAmt_mean</th>\n",
       "      <th>OPAnnualReimbursementAmt_max</th>\n",
       "      <th>OPAnnualReimbursementAmt_sum</th>\n",
       "      <th>OPAnnualDeductibleAmt_mean</th>\n",
       "      <th>OPAnnualDeductibleAmt_max</th>\n",
       "      <th>OPAnnualDeductibleAmt_sum</th>\n",
       "      <th>...</th>\n",
       "      <th>Chronic_KidneyDisease_Frac</th>\n",
       "      <th>Chronic_Cancer_Frac</th>\n",
       "      <th>Chronic_ObstrPulmonary_Frac</th>\n",
       "      <th>Chronic_Depression_Frac</th>\n",
       "      <th>Chronic_Diabetes_Frac</th>\n",
       "      <th>Chronic_IschemicHeart_Frac</th>\n",
       "      <th>Chronic_Osteoporasis_Frac</th>\n",
       "      <th>Chronic_rheumatoidarthritis_Frac</th>\n",
       "      <th>Chronic_stroke_Frac</th>\n",
       "      <th>Deceased_Frac</th>\n",
       "    </tr>\n",
       "    <tr>\n",
       "      <th>Provider</th>\n",
       "      <th></th>\n",
       "      <th></th>\n",
       "      <th></th>\n",
       "      <th></th>\n",
       "      <th></th>\n",
       "      <th></th>\n",
       "      <th></th>\n",
       "      <th></th>\n",
       "      <th></th>\n",
       "      <th></th>\n",
       "      <th></th>\n",
       "      <th></th>\n",
       "      <th></th>\n",
       "      <th></th>\n",
       "      <th></th>\n",
       "      <th></th>\n",
       "      <th></th>\n",
       "      <th></th>\n",
       "      <th></th>\n",
       "      <th></th>\n",
       "      <th></th>\n",
       "    </tr>\n",
       "  </thead>\n",
       "  <tbody>\n",
       "    <tr>\n",
       "      <th>PRV53763</th>\n",
       "      <td>1068.000000</td>\n",
       "      <td>1068.0</td>\n",
       "      <td>11.793103</td>\n",
       "      <td>12.000000</td>\n",
       "      <td>2823.275862</td>\n",
       "      <td>15970</td>\n",
       "      <td>163750</td>\n",
       "      <td>608.448276</td>\n",
       "      <td>5020</td>\n",
       "      <td>35290</td>\n",
       "      <td>...</td>\n",
       "      <td>0.568966</td>\n",
       "      <td>0.155172</td>\n",
       "      <td>0.482759</td>\n",
       "      <td>0.500000</td>\n",
       "      <td>0.879310</td>\n",
       "      <td>0.913793</td>\n",
       "      <td>0.258621</td>\n",
       "      <td>0.465517</td>\n",
       "      <td>0.172414</td>\n",
       "      <td>0.017241</td>\n",
       "    </tr>\n",
       "    <tr>\n",
       "      <th>PRV54670</th>\n",
       "      <td>1.509434</td>\n",
       "      <td>100.0</td>\n",
       "      <td>12.000000</td>\n",
       "      <td>12.000000</td>\n",
       "      <td>2088.301887</td>\n",
       "      <td>21660</td>\n",
       "      <td>332040</td>\n",
       "      <td>647.735849</td>\n",
       "      <td>6480</td>\n",
       "      <td>102990</td>\n",
       "      <td>...</td>\n",
       "      <td>0.377358</td>\n",
       "      <td>0.194969</td>\n",
       "      <td>0.421384</td>\n",
       "      <td>0.459119</td>\n",
       "      <td>0.723270</td>\n",
       "      <td>0.754717</td>\n",
       "      <td>0.314465</td>\n",
       "      <td>0.238994</td>\n",
       "      <td>0.113208</td>\n",
       "      <td>0.006289</td>\n",
       "    </tr>\n",
       "    <tr>\n",
       "      <th>PRV54542</th>\n",
       "      <td>271.000000</td>\n",
       "      <td>1068.0</td>\n",
       "      <td>11.400000</td>\n",
       "      <td>12.000000</td>\n",
       "      <td>1823.000000</td>\n",
       "      <td>5170</td>\n",
       "      <td>36460</td>\n",
       "      <td>325.000000</td>\n",
       "      <td>1000</td>\n",
       "      <td>6500</td>\n",
       "      <td>...</td>\n",
       "      <td>0.700000</td>\n",
       "      <td>0.200000</td>\n",
       "      <td>0.250000</td>\n",
       "      <td>0.450000</td>\n",
       "      <td>0.750000</td>\n",
       "      <td>0.900000</td>\n",
       "      <td>0.200000</td>\n",
       "      <td>0.600000</td>\n",
       "      <td>0.200000</td>\n",
       "      <td>0.000000</td>\n",
       "    </tr>\n",
       "    <tr>\n",
       "      <th>PRV52515</th>\n",
       "      <td>2.352941</td>\n",
       "      <td>40.0</td>\n",
       "      <td>12.000000</td>\n",
       "      <td>12.000000</td>\n",
       "      <td>1745.882353</td>\n",
       "      <td>6870</td>\n",
       "      <td>29680</td>\n",
       "      <td>312.941176</td>\n",
       "      <td>1240</td>\n",
       "      <td>5320</td>\n",
       "      <td>...</td>\n",
       "      <td>0.352941</td>\n",
       "      <td>0.176471</td>\n",
       "      <td>0.529412</td>\n",
       "      <td>0.235294</td>\n",
       "      <td>0.647059</td>\n",
       "      <td>0.647059</td>\n",
       "      <td>0.235294</td>\n",
       "      <td>0.470588</td>\n",
       "      <td>0.000000</td>\n",
       "      <td>0.058824</td>\n",
       "    </tr>\n",
       "    <tr>\n",
       "      <th>PRV54724</th>\n",
       "      <td>718.085714</td>\n",
       "      <td>1068.0</td>\n",
       "      <td>11.830986</td>\n",
       "      <td>11.915493</td>\n",
       "      <td>1553.239437</td>\n",
       "      <td>31760</td>\n",
       "      <td>110280</td>\n",
       "      <td>420.281690</td>\n",
       "      <td>6840</td>\n",
       "      <td>29840</td>\n",
       "      <td>...</td>\n",
       "      <td>0.549296</td>\n",
       "      <td>0.112676</td>\n",
       "      <td>0.436620</td>\n",
       "      <td>0.338028</td>\n",
       "      <td>0.732394</td>\n",
       "      <td>0.830986</td>\n",
       "      <td>0.338028</td>\n",
       "      <td>0.394366</td>\n",
       "      <td>0.112676</td>\n",
       "      <td>0.000000</td>\n",
       "    </tr>\n",
       "  </tbody>\n",
       "</table>\n",
       "<p>5 rows × 54 columns</p>\n",
       "</div>"
      ],
      "text/plain": [
       "          DeductibleAmtPaid_mean  DeductibleAmtPaid_max  \\\n",
       "Provider                                                  \n",
       "PRV53763             1068.000000                 1068.0   \n",
       "PRV54670                1.509434                  100.0   \n",
       "PRV54542              271.000000                 1068.0   \n",
       "PRV52515                2.352941                   40.0   \n",
       "PRV54724              718.085714                 1068.0   \n",
       "\n",
       "          NoOfMonths_PartACov_mean  NoOfMonths_PartBCov_mean  \\\n",
       "Provider                                                       \n",
       "PRV53763                 11.793103                 12.000000   \n",
       "PRV54670                 12.000000                 12.000000   \n",
       "PRV54542                 11.400000                 12.000000   \n",
       "PRV52515                 12.000000                 12.000000   \n",
       "PRV54724                 11.830986                 11.915493   \n",
       "\n",
       "          OPAnnualReimbursementAmt_mean  OPAnnualReimbursementAmt_max  \\\n",
       "Provider                                                                \n",
       "PRV53763                    2823.275862                         15970   \n",
       "PRV54670                    2088.301887                         21660   \n",
       "PRV54542                    1823.000000                          5170   \n",
       "PRV52515                    1745.882353                          6870   \n",
       "PRV54724                    1553.239437                         31760   \n",
       "\n",
       "          OPAnnualReimbursementAmt_sum  OPAnnualDeductibleAmt_mean  \\\n",
       "Provider                                                             \n",
       "PRV53763                        163750                  608.448276   \n",
       "PRV54670                        332040                  647.735849   \n",
       "PRV54542                         36460                  325.000000   \n",
       "PRV52515                         29680                  312.941176   \n",
       "PRV54724                        110280                  420.281690   \n",
       "\n",
       "          OPAnnualDeductibleAmt_max  OPAnnualDeductibleAmt_sum  ...  \\\n",
       "Provider                                                        ...   \n",
       "PRV53763                       5020                      35290  ...   \n",
       "PRV54670                       6480                     102990  ...   \n",
       "PRV54542                       1000                       6500  ...   \n",
       "PRV52515                       1240                       5320  ...   \n",
       "PRV54724                       6840                      29840  ...   \n",
       "\n",
       "          Chronic_KidneyDisease_Frac  Chronic_Cancer_Frac  \\\n",
       "Provider                                                    \n",
       "PRV53763                    0.568966             0.155172   \n",
       "PRV54670                    0.377358             0.194969   \n",
       "PRV54542                    0.700000             0.200000   \n",
       "PRV52515                    0.352941             0.176471   \n",
       "PRV54724                    0.549296             0.112676   \n",
       "\n",
       "          Chronic_ObstrPulmonary_Frac  Chronic_Depression_Frac  \\\n",
       "Provider                                                         \n",
       "PRV53763                     0.482759                 0.500000   \n",
       "PRV54670                     0.421384                 0.459119   \n",
       "PRV54542                     0.250000                 0.450000   \n",
       "PRV52515                     0.529412                 0.235294   \n",
       "PRV54724                     0.436620                 0.338028   \n",
       "\n",
       "          Chronic_Diabetes_Frac  Chronic_IschemicHeart_Frac  \\\n",
       "Provider                                                      \n",
       "PRV53763               0.879310                    0.913793   \n",
       "PRV54670               0.723270                    0.754717   \n",
       "PRV54542               0.750000                    0.900000   \n",
       "PRV52515               0.647059                    0.647059   \n",
       "PRV54724               0.732394                    0.830986   \n",
       "\n",
       "          Chronic_Osteoporasis_Frac  Chronic_rheumatoidarthritis_Frac  \\\n",
       "Provider                                                                \n",
       "PRV53763                   0.258621                          0.465517   \n",
       "PRV54670                   0.314465                          0.238994   \n",
       "PRV54542                   0.200000                          0.600000   \n",
       "PRV52515                   0.235294                          0.470588   \n",
       "PRV54724                   0.338028                          0.394366   \n",
       "\n",
       "          Chronic_stroke_Frac  Deceased_Frac  \n",
       "Provider                                      \n",
       "PRV53763             0.172414       0.017241  \n",
       "PRV54670             0.113208       0.006289  \n",
       "PRV54542             0.200000       0.000000  \n",
       "PRV52515             0.000000       0.058824  \n",
       "PRV54724             0.112676       0.000000  \n",
       "\n",
       "[5 rows x 54 columns]"
      ]
     },
     "execution_count": 12,
     "metadata": {},
     "output_type": "execute_result"
    }
   ],
   "source": [
    "X_test.head()"
   ]
  },
  {
   "cell_type": "code",
   "execution_count": 13,
   "id": "d1276ab2",
   "metadata": {},
   "outputs": [],
   "source": [
    "y_train = y_train.iloc[:,0].ravel()   #original y_train is a dataframe. Needs to convert to 1d array for modeling"
   ]
  },
  {
   "cell_type": "code",
   "execution_count": 14,
   "id": "b5eab435",
   "metadata": {},
   "outputs": [],
   "source": [
    "y_test = y_test.iloc[:,0].ravel()"
   ]
  },
  {
   "cell_type": "markdown",
   "id": "93f05504",
   "metadata": {},
   "source": [
    "## 2. Model Building with Default Settings"
   ]
  },
  {
   "cell_type": "code",
   "execution_count": 15,
   "id": "e1eea1c5",
   "metadata": {},
   "outputs": [
    {
     "data": {
      "text/plain": [
       "Pipeline(steps=[('rescale', StandardScaler()),\n",
       "                ('logreg',\n",
       "                 LogisticRegression(max_iter=10000, random_state=42))])"
      ]
     },
     "execution_count": 15,
     "metadata": {},
     "output_type": "execute_result"
    }
   ],
   "source": [
    "from sklearn.linear_model import LogisticRegression\n",
    "from sklearn.preprocessing import StandardScaler\n",
    "from sklearn.pipeline import Pipeline\n",
    "steps = [('rescale', StandardScaler()), \n",
    "         ('logreg', LogisticRegression(random_state=42,max_iter=10000))]\n",
    "model = Pipeline(steps)\n",
    "model.fit(X_train, y_train)"
   ]
  },
  {
   "cell_type": "markdown",
   "id": "45ace536",
   "metadata": {},
   "source": [
    "#### 2.1 Predicting"
   ]
  },
  {
   "cell_type": "code",
   "execution_count": 16,
   "id": "a082fb7a",
   "metadata": {
    "scrolled": true
   },
   "outputs": [
    {
     "data": {
      "text/plain": [
       "array([0, 0, 0, ..., 0, 0, 0])"
      ]
     },
     "execution_count": 16,
     "metadata": {},
     "output_type": "execute_result"
    }
   ],
   "source": [
    "y_train_pred = model.predict(X_train)\n",
    "y_train_pred"
   ]
  },
  {
   "cell_type": "code",
   "execution_count": 17,
   "id": "5428ab2e",
   "metadata": {
    "scrolled": false
   },
   "outputs": [
    {
     "data": {
      "text/plain": [
       "array([[0.7397775 , 0.2602225 ],\n",
       "       [0.99470708, 0.00529292],\n",
       "       [0.99643429, 0.00356571],\n",
       "       ...,\n",
       "       [0.99427042, 0.00572958],\n",
       "       [0.93381565, 0.06618435],\n",
       "       [0.97883421, 0.02116579]])"
      ]
     },
     "execution_count": 17,
     "metadata": {},
     "output_type": "execute_result"
    }
   ],
   "source": [
    "y_train_proba = model.predict_proba(X_train)\n",
    "y_train_proba"
   ]
  },
  {
   "cell_type": "code",
   "execution_count": 18,
   "id": "162283aa",
   "metadata": {},
   "outputs": [],
   "source": [
    "# There are two null values under DeductibleAmtPaid_mean and DeductibleAmtPaid_max for PRV54673\n",
    "# Fillna with -99\n",
    "X_test.DeductibleAmtPaid_mean.fillna(-99, inplace = True)\n",
    "X_test.DeductibleAmtPaid_max.fillna(-99, inplace = True)"
   ]
  },
  {
   "cell_type": "code",
   "execution_count": 19,
   "id": "5f73f7df",
   "metadata": {},
   "outputs": [],
   "source": [
    "y_test_pred = model.predict(X_test)"
   ]
  },
  {
   "cell_type": "code",
   "execution_count": 20,
   "id": "e6ae944e",
   "metadata": {},
   "outputs": [
    {
     "data": {
      "text/plain": [
       "array([1, 0, 0, ..., 0, 0, 0])"
      ]
     },
     "execution_count": 20,
     "metadata": {},
     "output_type": "execute_result"
    }
   ],
   "source": [
    "y_test_pred"
   ]
  },
  {
   "cell_type": "code",
   "execution_count": 21,
   "id": "912736f3",
   "metadata": {},
   "outputs": [],
   "source": [
    "y_test_proba = model.predict_proba(X_test)"
   ]
  },
  {
   "cell_type": "code",
   "execution_count": 22,
   "id": "629d8279",
   "metadata": {
    "scrolled": true
   },
   "outputs": [
    {
     "data": {
      "text/plain": [
       "array([[0.2398903 , 0.7601097 ],\n",
       "       [0.99273205, 0.00726795],\n",
       "       [0.96333936, 0.03666064],\n",
       "       ...,\n",
       "       [0.96513605, 0.03486395],\n",
       "       [0.99323276, 0.00676724],\n",
       "       [0.99829891, 0.00170109]])"
      ]
     },
     "execution_count": 22,
     "metadata": {},
     "output_type": "execute_result"
    }
   ],
   "source": [
    "y_test_proba"
   ]
  },
  {
   "cell_type": "code",
   "execution_count": 23,
   "id": "6a89691f",
   "metadata": {},
   "outputs": [
    {
     "name": "stdout",
     "output_type": "stream",
     "text": [
      "              precision    recall  f1-score   support\n",
      "\n",
      "           0       0.96      0.98      0.97       979\n",
      "           1       0.75      0.57      0.65       103\n",
      "\n",
      "    accuracy                           0.94      1082\n",
      "   macro avg       0.85      0.78      0.81      1082\n",
      "weighted avg       0.94      0.94      0.94      1082\n",
      "\n"
     ]
    }
   ],
   "source": [
    "from sklearn.metrics import classification_report\n",
    "print(classification_report(y_test, y_test_pred))"
   ]
  },
  {
   "cell_type": "markdown",
   "id": "a02f09ce",
   "metadata": {},
   "source": [
    "#### 2.2 Calculation metrics"
   ]
  },
  {
   "cell_type": "code",
   "execution_count": 24,
   "id": "48109c34",
   "metadata": {},
   "outputs": [
    {
     "name": "stdout",
     "output_type": "stream",
     "text": [
      "roc_auc_score for the train dataset: 0.96\n",
      "roc_auc_score for the test dataset: 0.94\n"
     ]
    }
   ],
   "source": [
    "from sklearn.metrics import roc_auc_score\n",
    "roc_auc_score_train = roc_auc_score(y_train, model.predict_proba(X_train)[:, 1])  \n",
    "roc_auc_score_test = roc_auc_score(y_test, model.predict_proba(X_test)[:, 1])\n",
    "print('roc_auc_score for the train dataset: {:.2f}'.format(roc_auc_score_train))\n",
    "print('roc_auc_score for the test dataset: {:.2f}'.format(roc_auc_score_test))"
   ]
  },
  {
   "cell_type": "code",
   "execution_count": 61,
   "id": "735ecd8e",
   "metadata": {},
   "outputs": [
    {
     "name": "stderr",
     "output_type": "stream",
     "text": [
      "/Users/redstockings/opt/anaconda3/lib/python3.9/site-packages/sklearn/utils/deprecation.py:87: FutureWarning: Function plot_roc_curve is deprecated; Function :func:`plot_roc_curve` is deprecated in 1.0 and will be removed in 1.2. Use one of the class methods: :meth:`sklearn.metric.RocCurveDisplay.from_predictions` or :meth:`sklearn.metric.RocCurveDisplay.from_estimator`.\n",
      "  warnings.warn(msg, category=FutureWarning)\n"
     ]
    },
    {
     "data": {
      "text/plain": [
       "Text(0.5, 1.0, 'ROC Curve')"
      ]
     },
     "execution_count": 61,
     "metadata": {},
     "output_type": "execute_result"
    },
    {
     "data": {
      "image/png": "[encoded data removed]",
      "text/plain": [
       "<Figure size 432x288 with 1 Axes>"
      ]
     },
     "metadata": {
      "needs_background": "light"
     },
     "output_type": "display_data"
    }
   ],
   "source": [
    "# from sklearn.metrics import plot_roc_curve  \n",
    "plot_roc_curve(model, X_test, y_test)\n",
    "plt.title('ROC Curve')"
   ]
  },
  {
   "cell_type": "code",
   "execution_count": 26,
   "id": "21d31b35",
   "metadata": {},
   "outputs": [
    {
     "name": "stdout",
     "output_type": "stream",
     "text": [
      "PR-AUC is 0.70\n"
     ]
    },
    {
     "data": {
      "image/png": "[encoded data removed]",
      "text/plain": [
       "<Figure size 432x288 with 1 Axes>"
      ]
     },
     "metadata": {
      "needs_background": "light"
     },
     "output_type": "display_data"
    }
   ],
   "source": [
    "from sklearn.metrics import precision_recall_curve\n",
    "# https://scikit-learn.org/stable/modules/generated/sklearn.metrics.precision_recall_curve.html\n",
    "\n",
    "from sklearn.metrics import auc,plot_precision_recall_curve\n",
    "# https://scikit-learn.org/stable/modules/generated/sklearn.metrics.auc.html\n",
    "\n",
    "# Data to plot precision - recall curve\n",
    "precision, recall, thresholds = precision_recall_curve(y_test, y_score)\n",
    "# Use AUC function to calculate the area under the curve of precision recall curve\n",
    "auc_precision_recall = auc(recall, precision)\n",
    "print('PR-AUC is {:.2f}'.format(auc_precision_recall))\n",
    "\n",
    "# plot PR curve\n",
    "plt.plot(recall, precision)\n",
    "plt.xlabel('Recall(Positive label:1)')\n",
    "plt.ylabel('Precision(Positive label:1)')\n",
    "plt.title('Precision-Recall Curve')\n",
    "plt.show()\n",
    "\n",
    "#disp = plot_precision_recall_curve(model, X_test, y_test)"
   ]
  },
  {
   "cell_type": "markdown",
   "id": "a91a7b15",
   "metadata": {},
   "source": [
    "#### 2.3 Feature Importance"
   ]
  },
  {
   "cell_type": "code",
   "execution_count": 27,
   "id": "f79ff4d8",
   "metadata": {},
   "outputs": [
    {
     "name": "stdout",
     "output_type": "stream",
     "text": [
      "Feature: 0, Score: 0.463\n",
      "Feature: 1, Score: -0.190\n",
      "Feature: 2, Score: 0.107\n",
      "Feature: 3, Score: -0.087\n",
      "Feature: 4, Score: 0.062\n",
      "Feature: 5, Score: -0.059\n",
      "Feature: 6, Score: 0.541\n",
      "Feature: 7, Score: -0.209\n",
      "Feature: 8, Score: 0.043\n",
      "Feature: 9, Score: 0.498\n",
      "Feature: 10, Score: 0.972\n",
      "Feature: 11, Score: 0.020\n",
      "Feature: 12, Score: 0.036\n",
      "Feature: 13, Score: 0.130\n",
      "Feature: 14, Score: -0.374\n",
      "Feature: 15, Score: 0.153\n",
      "Feature: 16, Score: -0.070\n",
      "Feature: 17, Score: -0.699\n",
      "Feature: 18, Score: 0.418\n",
      "Feature: 19, Score: 0.649\n",
      "Feature: 20, Score: 0.202\n",
      "Feature: 21, Score: 0.308\n",
      "Feature: 22, Score: -0.219\n",
      "Feature: 23, Score: -0.269\n",
      "Feature: 24, Score: -0.179\n",
      "Feature: 25, Score: 0.444\n",
      "Feature: 26, Score: 0.295\n",
      "Feature: 27, Score: -0.098\n",
      "Feature: 28, Score: 0.195\n",
      "Feature: 29, Score: -0.002\n",
      "Feature: 30, Score: 0.259\n",
      "Feature: 31, Score: 0.156\n",
      "Feature: 32, Score: -0.060\n",
      "Feature: 33, Score: -0.141\n",
      "Feature: 34, Score: -0.084\n",
      "Feature: 35, Score: 0.086\n",
      "Feature: 36, Score: -0.373\n",
      "Feature: 37, Score: 0.054\n",
      "Feature: 38, Score: -0.057\n",
      "Feature: 39, Score: 1.127\n",
      "Feature: 40, Score: -0.831\n",
      "Feature: 41, Score: -0.041\n",
      "Feature: 42, Score: -0.067\n",
      "Feature: 43, Score: 0.315\n",
      "Feature: 44, Score: 0.185\n",
      "Feature: 45, Score: -0.097\n",
      "Feature: 46, Score: 0.080\n",
      "Feature: 47, Score: 0.095\n",
      "Feature: 48, Score: -0.032\n",
      "Feature: 49, Score: -0.044\n",
      "Feature: 50, Score: 0.021\n",
      "Feature: 51, Score: 0.051\n",
      "Feature: 52, Score: -0.032\n",
      "Feature: 53, Score: 0.095\n"
     ]
    },
    {
     "data": {
      "image/png": "[encoded data removed]",
      "text/plain": [
       "<Figure size 1080x288 with 1 Axes>"
      ]
     },
     "metadata": {
      "needs_background": "light"
     },
     "output_type": "display_data"
    }
   ],
   "source": [
    "# get importance\n",
    "importances = model.named_steps['logreg'].coef_[0]\n",
    "# summarize feature importance\n",
    "for i,v in enumerate(importances):\n",
    "    print('Feature: {:0d}, Score: {:.3f}'.format(i,v))\n",
    "# plot feature importance\n",
    "plt.figure(figsize=(15,4))\n",
    "plt.bar([x for x in range(len(importances))], importances)\n",
    "plt.title('Feature Importance')\n",
    "\n",
    "plt.show()"
   ]
  },
  {
   "cell_type": "markdown",
   "id": "78ef7f1b",
   "metadata": {},
   "source": [
    "### 3. Modeling with balanced class weights: \n",
    "Set class_weight in Logistic Regression and retrain the model."
   ]
  },
  {
   "cell_type": "code",
   "execution_count": 28,
   "id": "d31ce36b",
   "metadata": {},
   "outputs": [
    {
     "data": {
      "text/plain": [
       "Pipeline(steps=[('rescale', StandardScaler()),\n",
       "                ('logreg',\n",
       "                 LogisticRegression(class_weight='balanced', max_iter=10000,\n",
       "                                    random_state=42))])"
      ]
     },
     "execution_count": 28,
     "metadata": {},
     "output_type": "execute_result"
    }
   ],
   "source": [
    "steps2 = [('rescale', StandardScaler()), \n",
    "          ('logreg', LogisticRegression(class_weight = 'balanced',random_state=42,max_iter=10000))]\n",
    "model2 = Pipeline(steps2)\n",
    "model2.fit(X_train, y_train)"
   ]
  },
  {
   "cell_type": "code",
   "execution_count": 29,
   "id": "f169ab3f",
   "metadata": {},
   "outputs": [],
   "source": [
    "y_train_pred2 = model2.predict(X_train)"
   ]
  },
  {
   "cell_type": "code",
   "execution_count": 30,
   "id": "997dffa1",
   "metadata": {},
   "outputs": [],
   "source": [
    "y_train_proba2 = model2.predict_proba(X_train)"
   ]
  },
  {
   "cell_type": "code",
   "execution_count": 31,
   "id": "3e3add4e",
   "metadata": {},
   "outputs": [],
   "source": [
    "y_test_pred2 = model2.predict(X_test)"
   ]
  },
  {
   "cell_type": "code",
   "execution_count": 32,
   "id": "b6fb615f",
   "metadata": {},
   "outputs": [],
   "source": [
    "y_test_proba2 = model2.predict_proba(X_test)"
   ]
  },
  {
   "cell_type": "code",
   "execution_count": 33,
   "id": "5e693c86",
   "metadata": {},
   "outputs": [
    {
     "name": "stdout",
     "output_type": "stream",
     "text": [
      "roc_auc_score for the train dataset: 0.96\n",
      "roc_auc_score for the test dataset: 0.93\n"
     ]
    }
   ],
   "source": [
    "roc_auc_score_train2 = roc_auc_score(y_train, model2.predict_proba(X_train)[:, 1])  \n",
    "roc_auc_score_test2 = roc_auc_score(y_test, model2.predict_proba(X_test)[:, 1])\n",
    "print('roc_auc_score for the train dataset: {:.2f}'.format(roc_auc_score_train2))\n",
    "print('roc_auc_score for the test dataset: {:.2f}'.format(roc_auc_score_test2))"
   ]
  },
  {
   "cell_type": "code",
   "execution_count": 34,
   "id": "b2a89371",
   "metadata": {},
   "outputs": [
    {
     "name": "stdout",
     "output_type": "stream",
     "text": [
      "PR-AUC is 0.69\n"
     ]
    }
   ],
   "source": [
    "y_score2 = y_test_proba2[:, 1]\n",
    "precision2, recall2, thresholds2 = precision_recall_curve(y_test, y_score2)\n",
    "auc_precision_recall2 = auc(recall2, precision2)\n",
    "print('PR-AUC is {:.2f}'.format(auc_precision_recall2))"
   ]
  },
  {
   "cell_type": "code",
   "execution_count": 35,
   "id": "42dfb160",
   "metadata": {
    "scrolled": true
   },
   "outputs": [
    {
     "name": "stdout",
     "output_type": "stream",
     "text": [
      "Feature: 0, Score: 0.638\n",
      "Feature: 1, Score: -0.190\n",
      "Feature: 2, Score: 0.211\n",
      "Feature: 3, Score: -0.067\n",
      "Feature: 4, Score: 0.032\n",
      "Feature: 5, Score: -0.161\n",
      "Feature: 6, Score: 0.474\n",
      "Feature: 7, Score: -0.168\n",
      "Feature: 8, Score: 0.092\n",
      "Feature: 9, Score: 0.996\n",
      "Feature: 10, Score: 1.302\n",
      "Feature: 11, Score: 0.051\n",
      "Feature: 12, Score: -0.087\n",
      "Feature: 13, Score: 0.052\n",
      "Feature: 14, Score: -0.613\n",
      "Feature: 15, Score: 0.108\n",
      "Feature: 16, Score: 0.075\n",
      "Feature: 17, Score: -1.109\n",
      "Feature: 18, Score: 0.567\n",
      "Feature: 19, Score: 0.830\n",
      "Feature: 20, Score: 0.077\n",
      "Feature: 21, Score: 0.223\n",
      "Feature: 22, Score: -0.481\n",
      "Feature: 23, Score: -0.029\n",
      "Feature: 24, Score: -0.115\n",
      "Feature: 25, Score: 0.127\n",
      "Feature: 26, Score: 0.442\n",
      "Feature: 27, Score: -0.085\n",
      "Feature: 28, Score: 0.005\n",
      "Feature: 29, Score: 0.141\n",
      "Feature: 30, Score: 0.303\n",
      "Feature: 31, Score: 0.227\n",
      "Feature: 32, Score: -0.107\n",
      "Feature: 33, Score: -0.250\n",
      "Feature: 34, Score: 0.032\n",
      "Feature: 35, Score: 0.148\n",
      "Feature: 36, Score: -0.573\n",
      "Feature: 37, Score: 0.060\n",
      "Feature: 38, Score: -0.093\n",
      "Feature: 39, Score: 1.389\n",
      "Feature: 40, Score: -0.930\n",
      "Feature: 41, Score: 0.131\n",
      "Feature: 42, Score: -0.024\n",
      "Feature: 43, Score: 0.365\n",
      "Feature: 44, Score: 0.292\n",
      "Feature: 45, Score: -0.115\n",
      "Feature: 46, Score: 0.074\n",
      "Feature: 47, Score: 0.083\n",
      "Feature: 48, Score: -0.038\n",
      "Feature: 49, Score: -0.045\n",
      "Feature: 50, Score: 0.024\n",
      "Feature: 51, Score: 0.039\n",
      "Feature: 52, Score: -0.142\n",
      "Feature: 53, Score: 0.099\n"
     ]
    },
    {
     "data": {
      "text/plain": [
       "Text(0.5, 1.0, 'Feature Importance')"
      ]
     },
     "execution_count": 35,
     "metadata": {},
     "output_type": "execute_result"
    },
    {
     "data": {
      "image/png": "[encoded data removed]",
      "text/plain": [
       "<Figure size 1080x288 with 1 Axes>"
      ]
     },
     "metadata": {
      "needs_background": "light"
     },
     "output_type": "display_data"
    }
   ],
   "source": [
    "# get importance\n",
    "importances2 = model2.named_steps['logreg'].coef_[0]\n",
    "# summarize feature importance\n",
    "for i,v in enumerate(importances2):\n",
    "    print('Feature: {:0d}, Score: {:.3f}'.format(i,v))\n",
    "# plot feature importance\n",
    "plt.figure(figsize=(15,4))\n",
    "plt.bar([x for x in range(len(importances2))], importances2)\n",
    "plt.title('Feature Importance')"
   ]
  },
  {
   "cell_type": "markdown",
   "id": "1690949b",
   "metadata": {},
   "source": [
    "### 4. Downsampling to 70:30"
   ]
  },
  {
   "cell_type": "code",
   "execution_count": 36,
   "id": "614b2509",
   "metadata": {},
   "outputs": [],
   "source": [
    "from sklearn.utils import resample #Resample arrays or sparse matrices in a consistent way"
   ]
  },
  {
   "cell_type": "code",
   "execution_count": 37,
   "id": "2d26c18a",
   "metadata": {},
   "outputs": [
    {
     "data": {
      "text/plain": [
       "numpy.ndarray"
      ]
     },
     "execution_count": 37,
     "metadata": {},
     "output_type": "execute_result"
    }
   ],
   "source": [
    "type(y_train)"
   ]
  },
  {
   "cell_type": "code",
   "execution_count": 38,
   "id": "5fae78e7",
   "metadata": {
    "scrolled": true
   },
   "outputs": [
    {
     "data": {
      "text/plain": [
       "Provider\n",
       "PRV53960    0\n",
       "PRV52517    0\n",
       "PRV55652    0\n",
       "PRV57328    0\n",
       "PRV56721    0\n",
       "           ..\n",
       "PRV52471    0\n",
       "PRV55316    0\n",
       "PRV52671    0\n",
       "PRV56782    0\n",
       "PRV52602    0\n",
       "Name: PotentialFraud, Length: 4328, dtype: int64"
      ]
     },
     "execution_count": 38,
     "metadata": {},
     "output_type": "execute_result"
    }
   ],
   "source": [
    "# Concat X_train with y_train on axis = 1 first\n",
    "# only Series and DataFrame objs are valid. So need to convert y_train to Series. \n",
    "target_train = pd.Series(y_train)\n",
    "target_train.name = \"PotentialFraud\"\n",
    "target_train.index = X_train.index\n",
    "target_train"
   ]
  },
  {
   "cell_type": "code",
   "execution_count": 39,
   "id": "fe28ff0a",
   "metadata": {},
   "outputs": [],
   "source": [
    "df_train = pd.concat([X_train,target_train],axis = 1)"
   ]
  },
  {
   "cell_type": "code",
   "execution_count": 40,
   "id": "544911ca",
   "metadata": {},
   "outputs": [],
   "source": [
    "df_train_nonfraud = df_train[df_train.PotentialFraud == 0]\n",
    "df_train_fraud = df_train[df_train.PotentialFraud == 1]"
   ]
  },
  {
   "cell_type": "code",
   "execution_count": 41,
   "id": "63bee3ce",
   "metadata": {
    "scrolled": true
   },
   "outputs": [
    {
     "data": {
      "text/plain": [
       "940"
      ]
     },
     "execution_count": 41,
     "metadata": {},
     "output_type": "execute_result"
    }
   ],
   "source": [
    "# The number of nonfraud samples needed if to downsample majority class t0 70/30\n",
    "round(len(df_train_fraud)*70/30)"
   ]
  },
  {
   "cell_type": "code",
   "execution_count": 42,
   "id": "15bfb46a",
   "metadata": {},
   "outputs": [],
   "source": [
    "df_train_nf_downsampled = resample(df_train_nonfraud, \n",
    "                                  replace=False,    # sample without replacement\n",
    "                                  n_samples=940,     # to match the ratio of 70/30\n",
    "                                  random_state=42)"
   ]
  },
  {
   "cell_type": "code",
   "execution_count": 43,
   "id": "1df8fa33",
   "metadata": {},
   "outputs": [],
   "source": [
    "# Combine minority class with downsampled majority class\n",
    "df_train_downsampled = pd.concat([df_train_nf_downsampled, df_train_fraud])"
   ]
  },
  {
   "cell_type": "code",
   "execution_count": 44,
   "id": "b45030de",
   "metadata": {},
   "outputs": [
    {
     "data": {
      "text/plain": [
       "0    940\n",
       "1    403\n",
       "Name: PotentialFraud, dtype: int64"
      ]
     },
     "execution_count": 44,
     "metadata": {},
     "output_type": "execute_result"
    }
   ],
   "source": [
    "# Display new class counts\n",
    "df_train_downsampled.PotentialFraud.value_counts()"
   ]
  },
  {
   "cell_type": "code",
   "execution_count": 45,
   "id": "7f8ad70b",
   "metadata": {},
   "outputs": [
    {
     "data": {
      "text/html": [
       "<div>\n",
       "<style scoped>\n",
       "    .dataframe tbody tr th:only-of-type {\n",
       "        vertical-align: middle;\n",
       "    }\n",
       "\n",
       "    .dataframe tbody tr th {\n",
       "        vertical-align: top;\n",
       "    }\n",
       "\n",
       "    .dataframe thead th {\n",
       "        text-align: right;\n",
       "    }\n",
       "</style>\n",
       "<table border=\"1\" class=\"dataframe\">\n",
       "  <thead>\n",
       "    <tr style=\"text-align: right;\">\n",
       "      <th></th>\n",
       "      <th>DeductibleAmtPaid_mean</th>\n",
       "      <th>DeductibleAmtPaid_max</th>\n",
       "      <th>NoOfMonths_PartACov_mean</th>\n",
       "      <th>NoOfMonths_PartBCov_mean</th>\n",
       "      <th>OPAnnualReimbursementAmt_mean</th>\n",
       "      <th>OPAnnualReimbursementAmt_max</th>\n",
       "      <th>OPAnnualReimbursementAmt_sum</th>\n",
       "      <th>OPAnnualDeductibleAmt_mean</th>\n",
       "      <th>OPAnnualDeductibleAmt_max</th>\n",
       "      <th>OPAnnualDeductibleAmt_sum</th>\n",
       "      <th>...</th>\n",
       "      <th>Chronic_KidneyDisease_Frac</th>\n",
       "      <th>Chronic_Cancer_Frac</th>\n",
       "      <th>Chronic_ObstrPulmonary_Frac</th>\n",
       "      <th>Chronic_Depression_Frac</th>\n",
       "      <th>Chronic_Diabetes_Frac</th>\n",
       "      <th>Chronic_IschemicHeart_Frac</th>\n",
       "      <th>Chronic_Osteoporasis_Frac</th>\n",
       "      <th>Chronic_rheumatoidarthritis_Frac</th>\n",
       "      <th>Chronic_stroke_Frac</th>\n",
       "      <th>Deceased_Frac</th>\n",
       "    </tr>\n",
       "    <tr>\n",
       "      <th>Provider</th>\n",
       "      <th></th>\n",
       "      <th></th>\n",
       "      <th></th>\n",
       "      <th></th>\n",
       "      <th></th>\n",
       "      <th></th>\n",
       "      <th></th>\n",
       "      <th></th>\n",
       "      <th></th>\n",
       "      <th></th>\n",
       "      <th></th>\n",
       "      <th></th>\n",
       "      <th></th>\n",
       "      <th></th>\n",
       "      <th></th>\n",
       "      <th></th>\n",
       "      <th></th>\n",
       "      <th></th>\n",
       "      <th></th>\n",
       "      <th></th>\n",
       "      <th></th>\n",
       "    </tr>\n",
       "  </thead>\n",
       "  <tbody>\n",
       "    <tr>\n",
       "      <th>PRV57552</th>\n",
       "      <td>0.000000</td>\n",
       "      <td>0.0</td>\n",
       "      <td>12.0</td>\n",
       "      <td>10.909091</td>\n",
       "      <td>1303.636364</td>\n",
       "      <td>4090</td>\n",
       "      <td>14340</td>\n",
       "      <td>453.636364</td>\n",
       "      <td>1110</td>\n",
       "      <td>4990</td>\n",
       "      <td>...</td>\n",
       "      <td>0.545455</td>\n",
       "      <td>0.181818</td>\n",
       "      <td>0.363636</td>\n",
       "      <td>0.727273</td>\n",
       "      <td>0.636364</td>\n",
       "      <td>0.727273</td>\n",
       "      <td>0.181818</td>\n",
       "      <td>0.181818</td>\n",
       "      <td>0.181818</td>\n",
       "      <td>0.000000</td>\n",
       "    </tr>\n",
       "    <tr>\n",
       "      <th>PRV52848</th>\n",
       "      <td>4.400000</td>\n",
       "      <td>70.0</td>\n",
       "      <td>12.0</td>\n",
       "      <td>11.760000</td>\n",
       "      <td>1275.600000</td>\n",
       "      <td>5210</td>\n",
       "      <td>31890</td>\n",
       "      <td>472.800000</td>\n",
       "      <td>1970</td>\n",
       "      <td>11820</td>\n",
       "      <td>...</td>\n",
       "      <td>0.200000</td>\n",
       "      <td>0.200000</td>\n",
       "      <td>0.360000</td>\n",
       "      <td>0.400000</td>\n",
       "      <td>0.600000</td>\n",
       "      <td>0.840000</td>\n",
       "      <td>0.320000</td>\n",
       "      <td>0.160000</td>\n",
       "      <td>0.040000</td>\n",
       "      <td>0.000000</td>\n",
       "    </tr>\n",
       "    <tr>\n",
       "      <th>PRV51297</th>\n",
       "      <td>77.285714</td>\n",
       "      <td>1068.0</td>\n",
       "      <td>12.0</td>\n",
       "      <td>12.000000</td>\n",
       "      <td>3440.000000</td>\n",
       "      <td>22820</td>\n",
       "      <td>240800</td>\n",
       "      <td>869.714286</td>\n",
       "      <td>5220</td>\n",
       "      <td>60880</td>\n",
       "      <td>...</td>\n",
       "      <td>0.557143</td>\n",
       "      <td>0.142857</td>\n",
       "      <td>0.300000</td>\n",
       "      <td>0.471429</td>\n",
       "      <td>0.642857</td>\n",
       "      <td>0.871429</td>\n",
       "      <td>0.385714</td>\n",
       "      <td>0.171429</td>\n",
       "      <td>0.100000</td>\n",
       "      <td>0.014286</td>\n",
       "    </tr>\n",
       "    <tr>\n",
       "      <th>PRV55880</th>\n",
       "      <td>2.666667</td>\n",
       "      <td>40.0</td>\n",
       "      <td>12.0</td>\n",
       "      <td>12.000000</td>\n",
       "      <td>2586.666667</td>\n",
       "      <td>19660</td>\n",
       "      <td>38800</td>\n",
       "      <td>712.666667</td>\n",
       "      <td>3980</td>\n",
       "      <td>10690</td>\n",
       "      <td>...</td>\n",
       "      <td>0.533333</td>\n",
       "      <td>0.200000</td>\n",
       "      <td>0.200000</td>\n",
       "      <td>0.466667</td>\n",
       "      <td>0.800000</td>\n",
       "      <td>0.733333</td>\n",
       "      <td>0.466667</td>\n",
       "      <td>0.400000</td>\n",
       "      <td>0.066667</td>\n",
       "      <td>0.000000</td>\n",
       "    </tr>\n",
       "    <tr>\n",
       "      <th>PRV55887</th>\n",
       "      <td>1068.000000</td>\n",
       "      <td>1068.0</td>\n",
       "      <td>12.0</td>\n",
       "      <td>12.000000</td>\n",
       "      <td>4031.666667</td>\n",
       "      <td>19660</td>\n",
       "      <td>24190</td>\n",
       "      <td>935.000000</td>\n",
       "      <td>3980</td>\n",
       "      <td>5610</td>\n",
       "      <td>...</td>\n",
       "      <td>0.666667</td>\n",
       "      <td>0.500000</td>\n",
       "      <td>0.666667</td>\n",
       "      <td>0.833333</td>\n",
       "      <td>0.833333</td>\n",
       "      <td>0.833333</td>\n",
       "      <td>0.166667</td>\n",
       "      <td>0.666667</td>\n",
       "      <td>0.166667</td>\n",
       "      <td>0.000000</td>\n",
       "    </tr>\n",
       "  </tbody>\n",
       "</table>\n",
       "<p>5 rows × 54 columns</p>\n",
       "</div>"
      ],
      "text/plain": [
       "          DeductibleAmtPaid_mean  DeductibleAmtPaid_max  \\\n",
       "Provider                                                  \n",
       "PRV57552                0.000000                    0.0   \n",
       "PRV52848                4.400000                   70.0   \n",
       "PRV51297               77.285714                 1068.0   \n",
       "PRV55880                2.666667                   40.0   \n",
       "PRV55887             1068.000000                 1068.0   \n",
       "\n",
       "          NoOfMonths_PartACov_mean  NoOfMonths_PartBCov_mean  \\\n",
       "Provider                                                       \n",
       "PRV57552                      12.0                 10.909091   \n",
       "PRV52848                      12.0                 11.760000   \n",
       "PRV51297                      12.0                 12.000000   \n",
       "PRV55880                      12.0                 12.000000   \n",
       "PRV55887                      12.0                 12.000000   \n",
       "\n",
       "          OPAnnualReimbursementAmt_mean  OPAnnualReimbursementAmt_max  \\\n",
       "Provider                                                                \n",
       "PRV57552                    1303.636364                          4090   \n",
       "PRV52848                    1275.600000                          5210   \n",
       "PRV51297                    3440.000000                         22820   \n",
       "PRV55880                    2586.666667                         19660   \n",
       "PRV55887                    4031.666667                         19660   \n",
       "\n",
       "          OPAnnualReimbursementAmt_sum  OPAnnualDeductibleAmt_mean  \\\n",
       "Provider                                                             \n",
       "PRV57552                         14340                  453.636364   \n",
       "PRV52848                         31890                  472.800000   \n",
       "PRV51297                        240800                  869.714286   \n",
       "PRV55880                         38800                  712.666667   \n",
       "PRV55887                         24190                  935.000000   \n",
       "\n",
       "          OPAnnualDeductibleAmt_max  OPAnnualDeductibleAmt_sum  ...  \\\n",
       "Provider                                                        ...   \n",
       "PRV57552                       1110                       4990  ...   \n",
       "PRV52848                       1970                      11820  ...   \n",
       "PRV51297                       5220                      60880  ...   \n",
       "PRV55880                       3980                      10690  ...   \n",
       "PRV55887                       3980                       5610  ...   \n",
       "\n",
       "          Chronic_KidneyDisease_Frac  Chronic_Cancer_Frac  \\\n",
       "Provider                                                    \n",
       "PRV57552                    0.545455             0.181818   \n",
       "PRV52848                    0.200000             0.200000   \n",
       "PRV51297                    0.557143             0.142857   \n",
       "PRV55880                    0.533333             0.200000   \n",
       "PRV55887                    0.666667             0.500000   \n",
       "\n",
       "          Chronic_ObstrPulmonary_Frac  Chronic_Depression_Frac  \\\n",
       "Provider                                                         \n",
       "PRV57552                     0.363636                 0.727273   \n",
       "PRV52848                     0.360000                 0.400000   \n",
       "PRV51297                     0.300000                 0.471429   \n",
       "PRV55880                     0.200000                 0.466667   \n",
       "PRV55887                     0.666667                 0.833333   \n",
       "\n",
       "          Chronic_Diabetes_Frac  Chronic_IschemicHeart_Frac  \\\n",
       "Provider                                                      \n",
       "PRV57552               0.636364                    0.727273   \n",
       "PRV52848               0.600000                    0.840000   \n",
       "PRV51297               0.642857                    0.871429   \n",
       "PRV55880               0.800000                    0.733333   \n",
       "PRV55887               0.833333                    0.833333   \n",
       "\n",
       "          Chronic_Osteoporasis_Frac  Chronic_rheumatoidarthritis_Frac  \\\n",
       "Provider                                                                \n",
       "PRV57552                   0.181818                          0.181818   \n",
       "PRV52848                   0.320000                          0.160000   \n",
       "PRV51297                   0.385714                          0.171429   \n",
       "PRV55880                   0.466667                          0.400000   \n",
       "PRV55887                   0.166667                          0.666667   \n",
       "\n",
       "          Chronic_stroke_Frac  Deceased_Frac  \n",
       "Provider                                      \n",
       "PRV57552             0.181818       0.000000  \n",
       "PRV52848             0.040000       0.000000  \n",
       "PRV51297             0.100000       0.014286  \n",
       "PRV55880             0.066667       0.000000  \n",
       "PRV55887             0.166667       0.000000  \n",
       "\n",
       "[5 rows x 54 columns]"
      ]
     },
     "execution_count": 45,
     "metadata": {},
     "output_type": "execute_result"
    }
   ],
   "source": [
    "#Split X_train and y_train\n",
    "X_train_downsampled = df_train_downsampled.iloc[:,:-1]\n",
    "X_train_downsampled.head()"
   ]
  },
  {
   "cell_type": "code",
   "execution_count": 46,
   "id": "e195216d",
   "metadata": {},
   "outputs": [],
   "source": [
    "y_train_downsampled = df_train_downsampled.iloc[:,-1]"
   ]
  },
  {
   "cell_type": "markdown",
   "id": "2d980d47",
   "metadata": {},
   "source": [
    "### Re-run logistic regression model"
   ]
  },
  {
   "cell_type": "code",
   "execution_count": 47,
   "id": "3c156850",
   "metadata": {},
   "outputs": [
    {
     "data": {
      "text/plain": [
       "Pipeline(steps=[('rescale', StandardScaler()),\n",
       "                ('logreg',\n",
       "                 LogisticRegression(max_iter=10000, random_state=42))])"
      ]
     },
     "execution_count": 47,
     "metadata": {},
     "output_type": "execute_result"
    }
   ],
   "source": [
    "steps = [('rescale', StandardScaler()), \n",
    "         ('logreg', LogisticRegression(random_state=42,max_iter=10000))]\n",
    "model = Pipeline(steps)\n",
    "model.fit(X_train_downsampled, y_train_downsampled)"
   ]
  },
  {
   "cell_type": "code",
   "execution_count": 48,
   "id": "f9d6951c",
   "metadata": {},
   "outputs": [],
   "source": [
    "y_test_pred = model.predict(X_test)"
   ]
  },
  {
   "cell_type": "code",
   "execution_count": 49,
   "id": "0b68248b",
   "metadata": {},
   "outputs": [],
   "source": [
    "y_test_proba = model.predict_proba(X_test)"
   ]
  },
  {
   "cell_type": "code",
   "execution_count": 50,
   "id": "eed5b2b4",
   "metadata": {},
   "outputs": [
    {
     "name": "stdout",
     "output_type": "stream",
     "text": [
      "roc_auc_score for the train dataset: 0.96\n",
      "roc_auc_score for the test dataset: 0.94\n"
     ]
    }
   ],
   "source": [
    "roc_auc_score_train = roc_auc_score(y_train_downsampled, model.predict_proba(X_train_downsampled)[:, 1])  \n",
    "roc_auc_score_test = roc_auc_score(y_test, model.predict_proba(X_test)[:, 1])\n",
    "print('roc_auc_score for the train dataset: {:.2f}'.format(roc_auc_score_train))\n",
    "print('roc_auc_score for the test dataset: {:.2f}'.format(roc_auc_score_test))"
   ]
  },
  {
   "cell_type": "code",
   "execution_count": 51,
   "id": "68fa73cf",
   "metadata": {},
   "outputs": [
    {
     "name": "stdout",
     "output_type": "stream",
     "text": [
      "PR-AUC is 0.70\n"
     ]
    }
   ],
   "source": [
    "y_score = y_test_proba[:, 1]\n",
    "precision, recall, thresholds = precision_recall_curve(y_test, y_score)\n",
    "auc_precision_recall = auc(recall, precision)\n",
    "print('PR-AUC is {:.2f}'.format(auc_precision_recall))"
   ]
  },
  {
   "cell_type": "code",
   "execution_count": null,
   "id": "81fe583e",
   "metadata": {},
   "outputs": [],
   "source": []
  }
 ],
 "metadata": {
  "kernelspec": {
   "display_name": "Python 3 (ipykernel)",
   "language": "python",
   "name": "python3"
  },
  "language_info": {
   "codemirror_mode": {
    "name": "ipython",
    "version": 3
   },
   "file_extension": ".py",
   "mimetype": "text/x-python",
   "name": "python",
   "nbconvert_exporter": "python",
   "pygments_lexer": "ipython3",
   "version": "3.9.7"
  }
 },
 "nbformat": 4,
 "nbformat_minor": 5
}
