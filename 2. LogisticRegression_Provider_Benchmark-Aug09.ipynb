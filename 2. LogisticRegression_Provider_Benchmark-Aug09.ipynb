{
 "cells": [
  {
   "cell_type": "code",
   "execution_count": 2,
   "id": "d3f7abd5",
   "metadata": {},
   "outputs": [],
   "source": [
    "import pandas as pd \n",
    "import numpy as np\n",
    "import matplotlib.pyplot as plt\n",
    "%matplotlib inline"
   ]
  },
  {
   "cell_type": "markdown",
   "id": "9f377378",
   "metadata": {},
   "source": [
    "## 1. Import Data"
   ]
  },
  {
   "cell_type": "code",
   "execution_count": 3,
   "id": "e19252ac",
   "metadata": {},
   "outputs": [],
   "source": [
    "X_train = pd.read_csv('data/agg_train_test_split/X_train_aggregated.csv')"
   ]
  },
  {
   "cell_type": "code",
   "execution_count": 4,
   "id": "6df6ed4b",
   "metadata": {},
   "outputs": [],
   "source": [
    "X_test= pd.read_csv('data/agg_train_test_split/X_test_aggregated.csv')"
   ]
  },
  {
   "cell_type": "code",
   "execution_count": 5,
   "id": "c05df43c",
   "metadata": {},
   "outputs": [],
   "source": [
    "y_train = pd.read_csv('data/agg_train_test_split/y_train_agg.csv')"
   ]
  },
  {
   "cell_type": "code",
   "execution_count": 6,
   "id": "e7af24dd",
   "metadata": {},
   "outputs": [],
   "source": [
    "y_test = pd.read_csv('data/agg_train_test_split/y_test_agg.csv')"
   ]
  },
  {
   "cell_type": "code",
   "execution_count": 7,
   "id": "ab6b2951",
   "metadata": {},
   "outputs": [
    {
     "data": {
      "text/plain": [
       "(4328, 55)"
      ]
     },
     "metadata": {},
     "output_type": "display_data"
    },
    {
     "data": {
      "text/plain": [
       "(1082, 55)"
      ]
     },
     "metadata": {},
     "output_type": "display_data"
    },
    {
     "data": {
      "text/plain": [
       "(4328, 1)"
      ]
     },
     "metadata": {},
     "output_type": "display_data"
    },
    {
     "data": {
      "text/plain": [
       "(1082, 1)"
      ]
     },
     "metadata": {},
     "output_type": "display_data"
    }
   ],
   "source": [
    "display(X_train.shape,X_test.shape,y_train.shape,y_test.shape)"
   ]
  },
  {
   "cell_type": "code",
   "execution_count": 8,
   "id": "7b6d87c9",
   "metadata": {},
   "outputs": [
    {
     "data": {
      "text/html": [
       "<div>\n",
       "<style scoped>\n",
       "    .dataframe tbody tr th:only-of-type {\n",
       "        vertical-align: middle;\n",
       "    }\n",
       "\n",
       "    .dataframe tbody tr th {\n",
       "        vertical-align: top;\n",
       "    }\n",
       "\n",
       "    .dataframe thead th {\n",
       "        text-align: right;\n",
       "    }\n",
       "</style>\n",
       "<table border=\"1\" class=\"dataframe\">\n",
       "  <thead>\n",
       "    <tr style=\"text-align: right;\">\n",
       "      <th></th>\n",
       "      <th>Provider</th>\n",
       "      <th>DeductibleAmtPaid_mean</th>\n",
       "      <th>DeductibleAmtPaid_max</th>\n",
       "      <th>NoOfMonths_PartACov_mean</th>\n",
       "      <th>NoOfMonths_PartBCov_mean</th>\n",
       "      <th>OPAnnualReimbursementAmt_mean</th>\n",
       "      <th>OPAnnualReimbursementAmt_max</th>\n",
       "      <th>OPAnnualReimbursementAmt_sum</th>\n",
       "      <th>OPAnnualDeductibleAmt_mean</th>\n",
       "      <th>OPAnnualDeductibleAmt_max</th>\n",
       "      <th>...</th>\n",
       "      <th>Chronic_KidneyDisease_Frac</th>\n",
       "      <th>Chronic_Cancer_Frac</th>\n",
       "      <th>Chronic_ObstrPulmonary_Frac</th>\n",
       "      <th>Chronic_Depression_Frac</th>\n",
       "      <th>Chronic_Diabetes_Frac</th>\n",
       "      <th>Chronic_IschemicHeart_Frac</th>\n",
       "      <th>Chronic_Osteoporasis_Frac</th>\n",
       "      <th>Chronic_rheumatoidarthritis_Frac</th>\n",
       "      <th>Chronic_stroke_Frac</th>\n",
       "      <th>Deceased_Frac</th>\n",
       "    </tr>\n",
       "  </thead>\n",
       "  <tbody>\n",
       "    <tr>\n",
       "      <th>0</th>\n",
       "      <td>PRV53960</td>\n",
       "      <td>2.452381</td>\n",
       "      <td>200.0</td>\n",
       "      <td>12.000000</td>\n",
       "      <td>12.000000</td>\n",
       "      <td>3279.214286</td>\n",
       "      <td>43330</td>\n",
       "      <td>1377270</td>\n",
       "      <td>902.166667</td>\n",
       "      <td>9180</td>\n",
       "      <td>...</td>\n",
       "      <td>0.480952</td>\n",
       "      <td>0.085714</td>\n",
       "      <td>0.242857</td>\n",
       "      <td>0.426190</td>\n",
       "      <td>0.719048</td>\n",
       "      <td>0.773810</td>\n",
       "      <td>0.357143</td>\n",
       "      <td>0.316667</td>\n",
       "      <td>0.040476</td>\n",
       "      <td>0.016667</td>\n",
       "    </tr>\n",
       "    <tr>\n",
       "      <th>1</th>\n",
       "      <td>PRV52517</td>\n",
       "      <td>3.750000</td>\n",
       "      <td>70.0</td>\n",
       "      <td>11.625000</td>\n",
       "      <td>12.000000</td>\n",
       "      <td>2082.500000</td>\n",
       "      <td>6110</td>\n",
       "      <td>66640</td>\n",
       "      <td>537.500000</td>\n",
       "      <td>1530</td>\n",
       "      <td>...</td>\n",
       "      <td>0.375000</td>\n",
       "      <td>0.187500</td>\n",
       "      <td>0.281250</td>\n",
       "      <td>0.343750</td>\n",
       "      <td>0.593750</td>\n",
       "      <td>0.781250</td>\n",
       "      <td>0.218750</td>\n",
       "      <td>0.625000</td>\n",
       "      <td>0.062500</td>\n",
       "      <td>0.000000</td>\n",
       "    </tr>\n",
       "    <tr>\n",
       "      <th>2</th>\n",
       "      <td>PRV55652</td>\n",
       "      <td>1.785714</td>\n",
       "      <td>50.0</td>\n",
       "      <td>12.000000</td>\n",
       "      <td>12.000000</td>\n",
       "      <td>1757.500000</td>\n",
       "      <td>9840</td>\n",
       "      <td>49210</td>\n",
       "      <td>500.357143</td>\n",
       "      <td>3110</td>\n",
       "      <td>...</td>\n",
       "      <td>0.178571</td>\n",
       "      <td>0.107143</td>\n",
       "      <td>0.285714</td>\n",
       "      <td>0.535714</td>\n",
       "      <td>0.714286</td>\n",
       "      <td>0.785714</td>\n",
       "      <td>0.392857</td>\n",
       "      <td>0.321429</td>\n",
       "      <td>0.071429</td>\n",
       "      <td>0.000000</td>\n",
       "    </tr>\n",
       "    <tr>\n",
       "      <th>3</th>\n",
       "      <td>PRV57328</td>\n",
       "      <td>4.473684</td>\n",
       "      <td>70.0</td>\n",
       "      <td>12.000000</td>\n",
       "      <td>12.000000</td>\n",
       "      <td>1498.157895</td>\n",
       "      <td>7400</td>\n",
       "      <td>56930</td>\n",
       "      <td>465.789474</td>\n",
       "      <td>1550</td>\n",
       "      <td>...</td>\n",
       "      <td>0.342105</td>\n",
       "      <td>0.105263</td>\n",
       "      <td>0.236842</td>\n",
       "      <td>0.394737</td>\n",
       "      <td>0.500000</td>\n",
       "      <td>0.631579</td>\n",
       "      <td>0.342105</td>\n",
       "      <td>0.263158</td>\n",
       "      <td>0.078947</td>\n",
       "      <td>0.052632</td>\n",
       "    </tr>\n",
       "    <tr>\n",
       "      <th>4</th>\n",
       "      <td>PRV56721</td>\n",
       "      <td>4.059406</td>\n",
       "      <td>100.0</td>\n",
       "      <td>11.915842</td>\n",
       "      <td>11.881188</td>\n",
       "      <td>2032.673267</td>\n",
       "      <td>24260</td>\n",
       "      <td>410600</td>\n",
       "      <td>599.900990</td>\n",
       "      <td>6300</td>\n",
       "      <td>...</td>\n",
       "      <td>0.430693</td>\n",
       "      <td>0.158416</td>\n",
       "      <td>0.356436</td>\n",
       "      <td>0.485149</td>\n",
       "      <td>0.643564</td>\n",
       "      <td>0.722772</td>\n",
       "      <td>0.321782</td>\n",
       "      <td>0.232673</td>\n",
       "      <td>0.084158</td>\n",
       "      <td>0.000000</td>\n",
       "    </tr>\n",
       "  </tbody>\n",
       "</table>\n",
       "<p>5 rows × 55 columns</p>\n",
       "</div>"
      ],
      "text/plain": [
       "   Provider  DeductibleAmtPaid_mean  DeductibleAmtPaid_max  \\\n",
       "0  PRV53960                2.452381                  200.0   \n",
       "1  PRV52517                3.750000                   70.0   \n",
       "2  PRV55652                1.785714                   50.0   \n",
       "3  PRV57328                4.473684                   70.0   \n",
       "4  PRV56721                4.059406                  100.0   \n",
       "\n",
       "   NoOfMonths_PartACov_mean  NoOfMonths_PartBCov_mean  \\\n",
       "0                 12.000000                 12.000000   \n",
       "1                 11.625000                 12.000000   \n",
       "2                 12.000000                 12.000000   \n",
       "3                 12.000000                 12.000000   \n",
       "4                 11.915842                 11.881188   \n",
       "\n",
       "   OPAnnualReimbursementAmt_mean  OPAnnualReimbursementAmt_max  \\\n",
       "0                    3279.214286                         43330   \n",
       "1                    2082.500000                          6110   \n",
       "2                    1757.500000                          9840   \n",
       "3                    1498.157895                          7400   \n",
       "4                    2032.673267                         24260   \n",
       "\n",
       "   OPAnnualReimbursementAmt_sum  OPAnnualDeductibleAmt_mean  \\\n",
       "0                       1377270                  902.166667   \n",
       "1                         66640                  537.500000   \n",
       "2                         49210                  500.357143   \n",
       "3                         56930                  465.789474   \n",
       "4                        410600                  599.900990   \n",
       "\n",
       "   OPAnnualDeductibleAmt_max  ...  Chronic_KidneyDisease_Frac  \\\n",
       "0                       9180  ...                    0.480952   \n",
       "1                       1530  ...                    0.375000   \n",
       "2                       3110  ...                    0.178571   \n",
       "3                       1550  ...                    0.342105   \n",
       "4                       6300  ...                    0.430693   \n",
       "\n",
       "   Chronic_Cancer_Frac  Chronic_ObstrPulmonary_Frac  Chronic_Depression_Frac  \\\n",
       "0             0.085714                     0.242857                 0.426190   \n",
       "1             0.187500                     0.281250                 0.343750   \n",
       "2             0.107143                     0.285714                 0.535714   \n",
       "3             0.105263                     0.236842                 0.394737   \n",
       "4             0.158416                     0.356436                 0.485149   \n",
       "\n",
       "   Chronic_Diabetes_Frac  Chronic_IschemicHeart_Frac  \\\n",
       "0               0.719048                    0.773810   \n",
       "1               0.593750                    0.781250   \n",
       "2               0.714286                    0.785714   \n",
       "3               0.500000                    0.631579   \n",
       "4               0.643564                    0.722772   \n",
       "\n",
       "   Chronic_Osteoporasis_Frac  Chronic_rheumatoidarthritis_Frac  \\\n",
       "0                   0.357143                          0.316667   \n",
       "1                   0.218750                          0.625000   \n",
       "2                   0.392857                          0.321429   \n",
       "3                   0.342105                          0.263158   \n",
       "4                   0.321782                          0.232673   \n",
       "\n",
       "   Chronic_stroke_Frac  Deceased_Frac  \n",
       "0             0.040476       0.016667  \n",
       "1             0.062500       0.000000  \n",
       "2             0.071429       0.000000  \n",
       "3             0.078947       0.052632  \n",
       "4             0.084158       0.000000  \n",
       "\n",
       "[5 rows x 55 columns]"
      ]
     },
     "execution_count": 8,
     "metadata": {},
     "output_type": "execute_result"
    }
   ],
   "source": [
    "X_train.head()"
   ]
  },
  {
   "cell_type": "code",
   "execution_count": 9,
   "id": "cab1f536",
   "metadata": {},
   "outputs": [],
   "source": [
    "X_train.set_index('Provider',inplace = True)"
   ]
  },
  {
   "cell_type": "code",
   "execution_count": 10,
   "id": "479e32bd",
   "metadata": {
    "scrolled": true
   },
   "outputs": [
    {
     "data": {
      "text/html": [
       "<div>\n",
       "<style scoped>\n",
       "    .dataframe tbody tr th:only-of-type {\n",
       "        vertical-align: middle;\n",
       "    }\n",
       "\n",
       "    .dataframe tbody tr th {\n",
       "        vertical-align: top;\n",
       "    }\n",
       "\n",
       "    .dataframe thead th {\n",
       "        text-align: right;\n",
       "    }\n",
       "</style>\n",
       "<table border=\"1\" class=\"dataframe\">\n",
       "  <thead>\n",
       "    <tr style=\"text-align: right;\">\n",
       "      <th></th>\n",
       "      <th>DeductibleAmtPaid_mean</th>\n",
       "      <th>DeductibleAmtPaid_max</th>\n",
       "      <th>NoOfMonths_PartACov_mean</th>\n",
       "      <th>NoOfMonths_PartBCov_mean</th>\n",
       "      <th>OPAnnualReimbursementAmt_mean</th>\n",
       "      <th>OPAnnualReimbursementAmt_max</th>\n",
       "      <th>OPAnnualReimbursementAmt_sum</th>\n",
       "      <th>OPAnnualDeductibleAmt_mean</th>\n",
       "      <th>OPAnnualDeductibleAmt_max</th>\n",
       "      <th>OPAnnualDeductibleAmt_sum</th>\n",
       "      <th>...</th>\n",
       "      <th>Chronic_KidneyDisease_Frac</th>\n",
       "      <th>Chronic_Cancer_Frac</th>\n",
       "      <th>Chronic_ObstrPulmonary_Frac</th>\n",
       "      <th>Chronic_Depression_Frac</th>\n",
       "      <th>Chronic_Diabetes_Frac</th>\n",
       "      <th>Chronic_IschemicHeart_Frac</th>\n",
       "      <th>Chronic_Osteoporasis_Frac</th>\n",
       "      <th>Chronic_rheumatoidarthritis_Frac</th>\n",
       "      <th>Chronic_stroke_Frac</th>\n",
       "      <th>Deceased_Frac</th>\n",
       "    </tr>\n",
       "    <tr>\n",
       "      <th>Provider</th>\n",
       "      <th></th>\n",
       "      <th></th>\n",
       "      <th></th>\n",
       "      <th></th>\n",
       "      <th></th>\n",
       "      <th></th>\n",
       "      <th></th>\n",
       "      <th></th>\n",
       "      <th></th>\n",
       "      <th></th>\n",
       "      <th></th>\n",
       "      <th></th>\n",
       "      <th></th>\n",
       "      <th></th>\n",
       "      <th></th>\n",
       "      <th></th>\n",
       "      <th></th>\n",
       "      <th></th>\n",
       "      <th></th>\n",
       "      <th></th>\n",
       "      <th></th>\n",
       "    </tr>\n",
       "  </thead>\n",
       "  <tbody>\n",
       "    <tr>\n",
       "      <th>PRV53960</th>\n",
       "      <td>2.452381</td>\n",
       "      <td>200.0</td>\n",
       "      <td>12.000000</td>\n",
       "      <td>12.000000</td>\n",
       "      <td>3279.214286</td>\n",
       "      <td>43330</td>\n",
       "      <td>1377270</td>\n",
       "      <td>902.166667</td>\n",
       "      <td>9180</td>\n",
       "      <td>378910</td>\n",
       "      <td>...</td>\n",
       "      <td>0.480952</td>\n",
       "      <td>0.085714</td>\n",
       "      <td>0.242857</td>\n",
       "      <td>0.426190</td>\n",
       "      <td>0.719048</td>\n",
       "      <td>0.773810</td>\n",
       "      <td>0.357143</td>\n",
       "      <td>0.316667</td>\n",
       "      <td>0.040476</td>\n",
       "      <td>0.016667</td>\n",
       "    </tr>\n",
       "    <tr>\n",
       "      <th>PRV52517</th>\n",
       "      <td>3.750000</td>\n",
       "      <td>70.0</td>\n",
       "      <td>11.625000</td>\n",
       "      <td>12.000000</td>\n",
       "      <td>2082.500000</td>\n",
       "      <td>6110</td>\n",
       "      <td>66640</td>\n",
       "      <td>537.500000</td>\n",
       "      <td>1530</td>\n",
       "      <td>17200</td>\n",
       "      <td>...</td>\n",
       "      <td>0.375000</td>\n",
       "      <td>0.187500</td>\n",
       "      <td>0.281250</td>\n",
       "      <td>0.343750</td>\n",
       "      <td>0.593750</td>\n",
       "      <td>0.781250</td>\n",
       "      <td>0.218750</td>\n",
       "      <td>0.625000</td>\n",
       "      <td>0.062500</td>\n",
       "      <td>0.000000</td>\n",
       "    </tr>\n",
       "    <tr>\n",
       "      <th>PRV55652</th>\n",
       "      <td>1.785714</td>\n",
       "      <td>50.0</td>\n",
       "      <td>12.000000</td>\n",
       "      <td>12.000000</td>\n",
       "      <td>1757.500000</td>\n",
       "      <td>9840</td>\n",
       "      <td>49210</td>\n",
       "      <td>500.357143</td>\n",
       "      <td>3110</td>\n",
       "      <td>14010</td>\n",
       "      <td>...</td>\n",
       "      <td>0.178571</td>\n",
       "      <td>0.107143</td>\n",
       "      <td>0.285714</td>\n",
       "      <td>0.535714</td>\n",
       "      <td>0.714286</td>\n",
       "      <td>0.785714</td>\n",
       "      <td>0.392857</td>\n",
       "      <td>0.321429</td>\n",
       "      <td>0.071429</td>\n",
       "      <td>0.000000</td>\n",
       "    </tr>\n",
       "    <tr>\n",
       "      <th>PRV57328</th>\n",
       "      <td>4.473684</td>\n",
       "      <td>70.0</td>\n",
       "      <td>12.000000</td>\n",
       "      <td>12.000000</td>\n",
       "      <td>1498.157895</td>\n",
       "      <td>7400</td>\n",
       "      <td>56930</td>\n",
       "      <td>465.789474</td>\n",
       "      <td>1550</td>\n",
       "      <td>17700</td>\n",
       "      <td>...</td>\n",
       "      <td>0.342105</td>\n",
       "      <td>0.105263</td>\n",
       "      <td>0.236842</td>\n",
       "      <td>0.394737</td>\n",
       "      <td>0.500000</td>\n",
       "      <td>0.631579</td>\n",
       "      <td>0.342105</td>\n",
       "      <td>0.263158</td>\n",
       "      <td>0.078947</td>\n",
       "      <td>0.052632</td>\n",
       "    </tr>\n",
       "    <tr>\n",
       "      <th>PRV56721</th>\n",
       "      <td>4.059406</td>\n",
       "      <td>100.0</td>\n",
       "      <td>11.915842</td>\n",
       "      <td>11.881188</td>\n",
       "      <td>2032.673267</td>\n",
       "      <td>24260</td>\n",
       "      <td>410600</td>\n",
       "      <td>599.900990</td>\n",
       "      <td>6300</td>\n",
       "      <td>121180</td>\n",
       "      <td>...</td>\n",
       "      <td>0.430693</td>\n",
       "      <td>0.158416</td>\n",
       "      <td>0.356436</td>\n",
       "      <td>0.485149</td>\n",
       "      <td>0.643564</td>\n",
       "      <td>0.722772</td>\n",
       "      <td>0.321782</td>\n",
       "      <td>0.232673</td>\n",
       "      <td>0.084158</td>\n",
       "      <td>0.000000</td>\n",
       "    </tr>\n",
       "  </tbody>\n",
       "</table>\n",
       "<p>5 rows × 54 columns</p>\n",
       "</div>"
      ],
      "text/plain": [
       "          DeductibleAmtPaid_mean  DeductibleAmtPaid_max  \\\n",
       "Provider                                                  \n",
       "PRV53960                2.452381                  200.0   \n",
       "PRV52517                3.750000                   70.0   \n",
       "PRV55652                1.785714                   50.0   \n",
       "PRV57328                4.473684                   70.0   \n",
       "PRV56721                4.059406                  100.0   \n",
       "\n",
       "          NoOfMonths_PartACov_mean  NoOfMonths_PartBCov_mean  \\\n",
       "Provider                                                       \n",
       "PRV53960                 12.000000                 12.000000   \n",
       "PRV52517                 11.625000                 12.000000   \n",
       "PRV55652                 12.000000                 12.000000   \n",
       "PRV57328                 12.000000                 12.000000   \n",
       "PRV56721                 11.915842                 11.881188   \n",
       "\n",
       "          OPAnnualReimbursementAmt_mean  OPAnnualReimbursementAmt_max  \\\n",
       "Provider                                                                \n",
       "PRV53960                    3279.214286                         43330   \n",
       "PRV52517                    2082.500000                          6110   \n",
       "PRV55652                    1757.500000                          9840   \n",
       "PRV57328                    1498.157895                          7400   \n",
       "PRV56721                    2032.673267                         24260   \n",
       "\n",
       "          OPAnnualReimbursementAmt_sum  OPAnnualDeductibleAmt_mean  \\\n",
       "Provider                                                             \n",
       "PRV53960                       1377270                  902.166667   \n",
       "PRV52517                         66640                  537.500000   \n",
       "PRV55652                         49210                  500.357143   \n",
       "PRV57328                         56930                  465.789474   \n",
       "PRV56721                        410600                  599.900990   \n",
       "\n",
       "          OPAnnualDeductibleAmt_max  OPAnnualDeductibleAmt_sum  ...  \\\n",
       "Provider                                                        ...   \n",
       "PRV53960                       9180                     378910  ...   \n",
       "PRV52517                       1530                      17200  ...   \n",
       "PRV55652                       3110                      14010  ...   \n",
       "PRV57328                       1550                      17700  ...   \n",
       "PRV56721                       6300                     121180  ...   \n",
       "\n",
       "          Chronic_KidneyDisease_Frac  Chronic_Cancer_Frac  \\\n",
       "Provider                                                    \n",
       "PRV53960                    0.480952             0.085714   \n",
       "PRV52517                    0.375000             0.187500   \n",
       "PRV55652                    0.178571             0.107143   \n",
       "PRV57328                    0.342105             0.105263   \n",
       "PRV56721                    0.430693             0.158416   \n",
       "\n",
       "          Chronic_ObstrPulmonary_Frac  Chronic_Depression_Frac  \\\n",
       "Provider                                                         \n",
       "PRV53960                     0.242857                 0.426190   \n",
       "PRV52517                     0.281250                 0.343750   \n",
       "PRV55652                     0.285714                 0.535714   \n",
       "PRV57328                     0.236842                 0.394737   \n",
       "PRV56721                     0.356436                 0.485149   \n",
       "\n",
       "          Chronic_Diabetes_Frac  Chronic_IschemicHeart_Frac  \\\n",
       "Provider                                                      \n",
       "PRV53960               0.719048                    0.773810   \n",
       "PRV52517               0.593750                    0.781250   \n",
       "PRV55652               0.714286                    0.785714   \n",
       "PRV57328               0.500000                    0.631579   \n",
       "PRV56721               0.643564                    0.722772   \n",
       "\n",
       "          Chronic_Osteoporasis_Frac  Chronic_rheumatoidarthritis_Frac  \\\n",
       "Provider                                                                \n",
       "PRV53960                   0.357143                          0.316667   \n",
       "PRV52517                   0.218750                          0.625000   \n",
       "PRV55652                   0.392857                          0.321429   \n",
       "PRV57328                   0.342105                          0.263158   \n",
       "PRV56721                   0.321782                          0.232673   \n",
       "\n",
       "          Chronic_stroke_Frac  Deceased_Frac  \n",
       "Provider                                      \n",
       "PRV53960             0.040476       0.016667  \n",
       "PRV52517             0.062500       0.000000  \n",
       "PRV55652             0.071429       0.000000  \n",
       "PRV57328             0.078947       0.052632  \n",
       "PRV56721             0.084158       0.000000  \n",
       "\n",
       "[5 rows x 54 columns]"
      ]
     },
     "execution_count": 10,
     "metadata": {},
     "output_type": "execute_result"
    }
   ],
   "source": [
    "X_train.head()"
   ]
  },
  {
   "cell_type": "code",
   "execution_count": 11,
   "id": "989dbf07",
   "metadata": {},
   "outputs": [],
   "source": [
    "X_test.set_index('Provider',inplace = True)"
   ]
  },
  {
   "cell_type": "code",
   "execution_count": 12,
   "id": "6153c18d",
   "metadata": {
    "scrolled": false
   },
   "outputs": [
    {
     "data": {
      "text/html": [
       "<div>\n",
       "<style scoped>\n",
       "    .dataframe tbody tr th:only-of-type {\n",
       "        vertical-align: middle;\n",
       "    }\n",
       "\n",
       "    .dataframe tbody tr th {\n",
       "        vertical-align: top;\n",
       "    }\n",
       "\n",
       "    .dataframe thead th {\n",
       "        text-align: right;\n",
       "    }\n",
       "</style>\n",
       "<table border=\"1\" class=\"dataframe\">\n",
       "  <thead>\n",
       "    <tr style=\"text-align: right;\">\n",
       "      <th></th>\n",
       "      <th>DeductibleAmtPaid_mean</th>\n",
       "      <th>DeductibleAmtPaid_max</th>\n",
       "      <th>NoOfMonths_PartACov_mean</th>\n",
       "      <th>NoOfMonths_PartBCov_mean</th>\n",
       "      <th>OPAnnualReimbursementAmt_mean</th>\n",
       "      <th>OPAnnualReimbursementAmt_max</th>\n",
       "      <th>OPAnnualReimbursementAmt_sum</th>\n",
       "      <th>OPAnnualDeductibleAmt_mean</th>\n",
       "      <th>OPAnnualDeductibleAmt_max</th>\n",
       "      <th>OPAnnualDeductibleAmt_sum</th>\n",
       "      <th>...</th>\n",
       "      <th>Chronic_KidneyDisease_Frac</th>\n",
       "      <th>Chronic_Cancer_Frac</th>\n",
       "      <th>Chronic_ObstrPulmonary_Frac</th>\n",
       "      <th>Chronic_Depression_Frac</th>\n",
       "      <th>Chronic_Diabetes_Frac</th>\n",
       "      <th>Chronic_IschemicHeart_Frac</th>\n",
       "      <th>Chronic_Osteoporasis_Frac</th>\n",
       "      <th>Chronic_rheumatoidarthritis_Frac</th>\n",
       "      <th>Chronic_stroke_Frac</th>\n",
       "      <th>Deceased_Frac</th>\n",
       "    </tr>\n",
       "    <tr>\n",
       "      <th>Provider</th>\n",
       "      <th></th>\n",
       "      <th></th>\n",
       "      <th></th>\n",
       "      <th></th>\n",
       "      <th></th>\n",
       "      <th></th>\n",
       "      <th></th>\n",
       "      <th></th>\n",
       "      <th></th>\n",
       "      <th></th>\n",
       "      <th></th>\n",
       "      <th></th>\n",
       "      <th></th>\n",
       "      <th></th>\n",
       "      <th></th>\n",
       "      <th></th>\n",
       "      <th></th>\n",
       "      <th></th>\n",
       "      <th></th>\n",
       "      <th></th>\n",
       "      <th></th>\n",
       "    </tr>\n",
       "  </thead>\n",
       "  <tbody>\n",
       "    <tr>\n",
       "      <th>PRV53763</th>\n",
       "      <td>1068.000000</td>\n",
       "      <td>1068.0</td>\n",
       "      <td>11.793103</td>\n",
       "      <td>12.000000</td>\n",
       "      <td>2823.275862</td>\n",
       "      <td>15970</td>\n",
       "      <td>163750</td>\n",
       "      <td>608.448276</td>\n",
       "      <td>5020</td>\n",
       "      <td>35290</td>\n",
       "      <td>...</td>\n",
       "      <td>0.568966</td>\n",
       "      <td>0.155172</td>\n",
       "      <td>0.482759</td>\n",
       "      <td>0.500000</td>\n",
       "      <td>0.879310</td>\n",
       "      <td>0.913793</td>\n",
       "      <td>0.258621</td>\n",
       "      <td>0.465517</td>\n",
       "      <td>0.172414</td>\n",
       "      <td>0.017241</td>\n",
       "    </tr>\n",
       "    <tr>\n",
       "      <th>PRV54670</th>\n",
       "      <td>1.509434</td>\n",
       "      <td>100.0</td>\n",
       "      <td>12.000000</td>\n",
       "      <td>12.000000</td>\n",
       "      <td>2088.301887</td>\n",
       "      <td>21660</td>\n",
       "      <td>332040</td>\n",
       "      <td>647.735849</td>\n",
       "      <td>6480</td>\n",
       "      <td>102990</td>\n",
       "      <td>...</td>\n",
       "      <td>0.377358</td>\n",
       "      <td>0.194969</td>\n",
       "      <td>0.421384</td>\n",
       "      <td>0.459119</td>\n",
       "      <td>0.723270</td>\n",
       "      <td>0.754717</td>\n",
       "      <td>0.314465</td>\n",
       "      <td>0.238994</td>\n",
       "      <td>0.113208</td>\n",
       "      <td>0.006289</td>\n",
       "    </tr>\n",
       "    <tr>\n",
       "      <th>PRV54542</th>\n",
       "      <td>271.000000</td>\n",
       "      <td>1068.0</td>\n",
       "      <td>11.400000</td>\n",
       "      <td>12.000000</td>\n",
       "      <td>1823.000000</td>\n",
       "      <td>5170</td>\n",
       "      <td>36460</td>\n",
       "      <td>325.000000</td>\n",
       "      <td>1000</td>\n",
       "      <td>6500</td>\n",
       "      <td>...</td>\n",
       "      <td>0.700000</td>\n",
       "      <td>0.200000</td>\n",
       "      <td>0.250000</td>\n",
       "      <td>0.450000</td>\n",
       "      <td>0.750000</td>\n",
       "      <td>0.900000</td>\n",
       "      <td>0.200000</td>\n",
       "      <td>0.600000</td>\n",
       "      <td>0.200000</td>\n",
       "      <td>0.000000</td>\n",
       "    </tr>\n",
       "    <tr>\n",
       "      <th>PRV52515</th>\n",
       "      <td>2.352941</td>\n",
       "      <td>40.0</td>\n",
       "      <td>12.000000</td>\n",
       "      <td>12.000000</td>\n",
       "      <td>1745.882353</td>\n",
       "      <td>6870</td>\n",
       "      <td>29680</td>\n",
       "      <td>312.941176</td>\n",
       "      <td>1240</td>\n",
       "      <td>5320</td>\n",
       "      <td>...</td>\n",
       "      <td>0.352941</td>\n",
       "      <td>0.176471</td>\n",
       "      <td>0.529412</td>\n",
       "      <td>0.235294</td>\n",
       "      <td>0.647059</td>\n",
       "      <td>0.647059</td>\n",
       "      <td>0.235294</td>\n",
       "      <td>0.470588</td>\n",
       "      <td>0.000000</td>\n",
       "      <td>0.058824</td>\n",
       "    </tr>\n",
       "    <tr>\n",
       "      <th>PRV54724</th>\n",
       "      <td>718.085714</td>\n",
       "      <td>1068.0</td>\n",
       "      <td>11.830986</td>\n",
       "      <td>11.915493</td>\n",
       "      <td>1553.239437</td>\n",
       "      <td>31760</td>\n",
       "      <td>110280</td>\n",
       "      <td>420.281690</td>\n",
       "      <td>6840</td>\n",
       "      <td>29840</td>\n",
       "      <td>...</td>\n",
       "      <td>0.549296</td>\n",
       "      <td>0.112676</td>\n",
       "      <td>0.436620</td>\n",
       "      <td>0.338028</td>\n",
       "      <td>0.732394</td>\n",
       "      <td>0.830986</td>\n",
       "      <td>0.338028</td>\n",
       "      <td>0.394366</td>\n",
       "      <td>0.112676</td>\n",
       "      <td>0.000000</td>\n",
       "    </tr>\n",
       "  </tbody>\n",
       "</table>\n",
       "<p>5 rows × 54 columns</p>\n",
       "</div>"
      ],
      "text/plain": [
       "          DeductibleAmtPaid_mean  DeductibleAmtPaid_max  \\\n",
       "Provider                                                  \n",
       "PRV53763             1068.000000                 1068.0   \n",
       "PRV54670                1.509434                  100.0   \n",
       "PRV54542              271.000000                 1068.0   \n",
       "PRV52515                2.352941                   40.0   \n",
       "PRV54724              718.085714                 1068.0   \n",
       "\n",
       "          NoOfMonths_PartACov_mean  NoOfMonths_PartBCov_mean  \\\n",
       "Provider                                                       \n",
       "PRV53763                 11.793103                 12.000000   \n",
       "PRV54670                 12.000000                 12.000000   \n",
       "PRV54542                 11.400000                 12.000000   \n",
       "PRV52515                 12.000000                 12.000000   \n",
       "PRV54724                 11.830986                 11.915493   \n",
       "\n",
       "          OPAnnualReimbursementAmt_mean  OPAnnualReimbursementAmt_max  \\\n",
       "Provider                                                                \n",
       "PRV53763                    2823.275862                         15970   \n",
       "PRV54670                    2088.301887                         21660   \n",
       "PRV54542                    1823.000000                          5170   \n",
       "PRV52515                    1745.882353                          6870   \n",
       "PRV54724                    1553.239437                         31760   \n",
       "\n",
       "          OPAnnualReimbursementAmt_sum  OPAnnualDeductibleAmt_mean  \\\n",
       "Provider                                                             \n",
       "PRV53763                        163750                  608.448276   \n",
       "PRV54670                        332040                  647.735849   \n",
       "PRV54542                         36460                  325.000000   \n",
       "PRV52515                         29680                  312.941176   \n",
       "PRV54724                        110280                  420.281690   \n",
       "\n",
       "          OPAnnualDeductibleAmt_max  OPAnnualDeductibleAmt_sum  ...  \\\n",
       "Provider                                                        ...   \n",
       "PRV53763                       5020                      35290  ...   \n",
       "PRV54670                       6480                     102990  ...   \n",
       "PRV54542                       1000                       6500  ...   \n",
       "PRV52515                       1240                       5320  ...   \n",
       "PRV54724                       6840                      29840  ...   \n",
       "\n",
       "          Chronic_KidneyDisease_Frac  Chronic_Cancer_Frac  \\\n",
       "Provider                                                    \n",
       "PRV53763                    0.568966             0.155172   \n",
       "PRV54670                    0.377358             0.194969   \n",
       "PRV54542                    0.700000             0.200000   \n",
       "PRV52515                    0.352941             0.176471   \n",
       "PRV54724                    0.549296             0.112676   \n",
       "\n",
       "          Chronic_ObstrPulmonary_Frac  Chronic_Depression_Frac  \\\n",
       "Provider                                                         \n",
       "PRV53763                     0.482759                 0.500000   \n",
       "PRV54670                     0.421384                 0.459119   \n",
       "PRV54542                     0.250000                 0.450000   \n",
       "PRV52515                     0.529412                 0.235294   \n",
       "PRV54724                     0.436620                 0.338028   \n",
       "\n",
       "          Chronic_Diabetes_Frac  Chronic_IschemicHeart_Frac  \\\n",
       "Provider                                                      \n",
       "PRV53763               0.879310                    0.913793   \n",
       "PRV54670               0.723270                    0.754717   \n",
       "PRV54542               0.750000                    0.900000   \n",
       "PRV52515               0.647059                    0.647059   \n",
       "PRV54724               0.732394                    0.830986   \n",
       "\n",
       "          Chronic_Osteoporasis_Frac  Chronic_rheumatoidarthritis_Frac  \\\n",
       "Provider                                                                \n",
       "PRV53763                   0.258621                          0.465517   \n",
       "PRV54670                   0.314465                          0.238994   \n",
       "PRV54542                   0.200000                          0.600000   \n",
       "PRV52515                   0.235294                          0.470588   \n",
       "PRV54724                   0.338028                          0.394366   \n",
       "\n",
       "          Chronic_stroke_Frac  Deceased_Frac  \n",
       "Provider                                      \n",
       "PRV53763             0.172414       0.017241  \n",
       "PRV54670             0.113208       0.006289  \n",
       "PRV54542             0.200000       0.000000  \n",
       "PRV52515             0.000000       0.058824  \n",
       "PRV54724             0.112676       0.000000  \n",
       "\n",
       "[5 rows x 54 columns]"
      ]
     },
     "execution_count": 12,
     "metadata": {},
     "output_type": "execute_result"
    }
   ],
   "source": [
    "X_test.head()"
   ]
  },
  {
   "cell_type": "code",
   "execution_count": 13,
   "id": "d1276ab2",
   "metadata": {},
   "outputs": [],
   "source": [
    "y_train = y_train.iloc[:,0].ravel()   #original y_train is a dataframe. Needs to convert to 1d array for modeling"
   ]
  },
  {
   "cell_type": "code",
   "execution_count": 14,
   "id": "b5eab435",
   "metadata": {},
   "outputs": [],
   "source": [
    "y_test = y_test.iloc[:,0].ravel()"
   ]
  },
  {
   "cell_type": "markdown",
   "id": "93f05504",
   "metadata": {},
   "source": [
    "## 2. Model Building with Default Settings"
   ]
  },
  {
   "cell_type": "code",
   "execution_count": 15,
   "id": "e1eea1c5",
   "metadata": {},
   "outputs": [
    {
     "data": {
      "text/plain": [
       "Pipeline(steps=[('rescale', MinMaxScaler()),\n",
       "                ('logreg',\n",
       "                 LogisticRegression(max_iter=10000, random_state=42))])"
      ]
     },
     "execution_count": 15,
     "metadata": {},
     "output_type": "execute_result"
    }
   ],
   "source": [
    "from sklearn.linear_model import LogisticRegression\n",
    "from sklearn.preprocessing import StandardScaler\n",
    "from sklearn.preprocessing import MinMaxScaler\n",
    "from sklearn.pipeline import Pipeline\n",
    "steps = [#('rescale', StandardScaler()), \n",
    "         ('rescale', MinMaxScaler()),\n",
    "         ('logreg', LogisticRegression(random_state=42,max_iter=10000))]\n",
    "model = Pipeline(steps)\n",
    "model.fit(X_train, y_train)"
   ]
  },
  {
   "cell_type": "markdown",
   "id": "45ace536",
   "metadata": {},
   "source": [
    "#### 2.1 Predicting"
   ]
  },
  {
   "cell_type": "code",
   "execution_count": 16,
   "id": "a082fb7a",
   "metadata": {
    "scrolled": true
   },
   "outputs": [
    {
     "data": {
      "text/plain": [
       "array([0, 0, 0, ..., 0, 0, 0])"
      ]
     },
     "execution_count": 16,
     "metadata": {},
     "output_type": "execute_result"
    }
   ],
   "source": [
    "y_train_pred = model.predict(X_train)\n",
    "y_train_pred"
   ]
  },
  {
   "cell_type": "code",
   "execution_count": 17,
   "id": "5428ab2e",
   "metadata": {
    "scrolled": false
   },
   "outputs": [
    {
     "data": {
      "text/plain": [
       "array([[0.9299888 , 0.0700112 ],\n",
       "       [0.99161123, 0.00838877],\n",
       "       [0.9921202 , 0.0078798 ],\n",
       "       ...,\n",
       "       [0.99149754, 0.00850246],\n",
       "       [0.95975773, 0.04024227],\n",
       "       [0.92222853, 0.07777147]])"
      ]
     },
     "execution_count": 17,
     "metadata": {},
     "output_type": "execute_result"
    }
   ],
   "source": [
    "y_train_proba = model.predict_proba(X_train)\n",
    "y_train_proba"
   ]
  },
  {
   "cell_type": "code",
   "execution_count": 18,
   "id": "162283aa",
   "metadata": {},
   "outputs": [],
   "source": [
    "# There are two null values under DeductibleAmtPaid_mean and DeductibleAmtPaid_max for PRV54673\n",
    "# Fillna with -99\n",
    "X_test.DeductibleAmtPaid_mean.fillna(0, inplace = True)\n",
    "X_test.DeductibleAmtPaid_max.fillna(0, inplace = True)"
   ]
  },
  {
   "cell_type": "code",
   "execution_count": 19,
   "id": "5f73f7df",
   "metadata": {},
   "outputs": [],
   "source": [
    "y_test_pred = model.predict(X_test)"
   ]
  },
  {
   "cell_type": "code",
   "execution_count": 20,
   "id": "e6ae944e",
   "metadata": {},
   "outputs": [
    {
     "data": {
      "text/plain": [
       "array([1, 0, 0, ..., 0, 0, 0])"
      ]
     },
     "execution_count": 20,
     "metadata": {},
     "output_type": "execute_result"
    }
   ],
   "source": [
    "y_test_pred"
   ]
  },
  {
   "cell_type": "code",
   "execution_count": 21,
   "id": "912736f3",
   "metadata": {},
   "outputs": [],
   "source": [
    "y_test_proba = model.predict_proba(X_test)"
   ]
  },
  {
   "cell_type": "code",
   "execution_count": 22,
   "id": "629d8279",
   "metadata": {
    "scrolled": true
   },
   "outputs": [
    {
     "data": {
      "text/plain": [
       "array([[0.39505716, 0.60494284],\n",
       "       [0.98357516, 0.01642484],\n",
       "       [0.9720964 , 0.0279036 ],\n",
       "       ...,\n",
       "       [0.97664201, 0.02335799],\n",
       "       [0.98827109, 0.01172891],\n",
       "       [0.99573235, 0.00426765]])"
      ]
     },
     "execution_count": 22,
     "metadata": {},
     "output_type": "execute_result"
    }
   ],
   "source": [
    "y_test_proba"
   ]
  },
  {
   "cell_type": "code",
   "execution_count": 23,
   "id": "0a0f30c4",
   "metadata": {},
   "outputs": [
    {
     "name": "stdout",
     "output_type": "stream",
     "text": [
      "              precision    recall  f1-score   support\n",
      "\n",
      "           0       0.95      0.98      0.97       979\n",
      "           1       0.75      0.52      0.62       103\n",
      "\n",
      "    accuracy                           0.94      1082\n",
      "   macro avg       0.85      0.75      0.79      1082\n",
      "weighted avg       0.93      0.94      0.93      1082\n",
      "\n"
     ]
    }
   ],
   "source": [
    "from sklearn.metrics import classification_report\n",
    "print(classification_report(y_test, y_test_pred))"
   ]
  },
  {
   "cell_type": "markdown",
   "id": "a02f09ce",
   "metadata": {},
   "source": [
    "#### 2.2 Calculation metrics"
   ]
  },
  {
   "cell_type": "code",
   "execution_count": 24,
   "id": "48109c34",
   "metadata": {},
   "outputs": [
    {
     "name": "stdout",
     "output_type": "stream",
     "text": [
      "roc_auc_score for the train dataset: 0.95\n",
      "roc_auc_score for the test dataset: 0.95\n"
     ]
    }
   ],
   "source": [
    "from sklearn.metrics import roc_auc_score\n",
    "roc_auc_score_train = roc_auc_score(y_train, model.predict_proba(X_train)[:, 1])  \n",
    "roc_auc_score_test = roc_auc_score(y_test, model.predict_proba(X_test)[:, 1])\n",
    "print('roc_auc_score for the train dataset: {:.2f}'.format(roc_auc_score_train))\n",
    "print('roc_auc_score for the test dataset: {:.2f}'.format(roc_auc_score_test))"
   ]
  },
  {
   "cell_type": "code",
   "execution_count": 25,
   "id": "735ecd8e",
   "metadata": {},
   "outputs": [
    {
     "name": "stderr",
     "output_type": "stream",
     "text": [
      "/Users/redstockings/opt/anaconda3/lib/python3.9/site-packages/sklearn/utils/deprecation.py:87: FutureWarning: Function plot_roc_curve is deprecated; Function :func:`plot_roc_curve` is deprecated in 1.0 and will be removed in 1.2. Use one of the class methods: :meth:`sklearn.metric.RocCurveDisplay.from_predictions` or :meth:`sklearn.metric.RocCurveDisplay.from_estimator`.\n",
      "  warnings.warn(msg, category=FutureWarning)\n"
     ]
    },
    {
     "data": {
      "text/plain": [
       "Text(0.5, 1.0, 'ROC Curve')"
      ]
     },
     "execution_count": 25,
     "metadata": {},
     "output_type": "execute_result"
    },
    {
     "data": {
      "image/png": "[encoded data removed]",
      "text/plain": [
       "<Figure size 432x288 with 1 Axes>"
      ]
     },
     "metadata": {
      "needs_background": "light"
     },
     "output_type": "display_data"
    }
   ],
   "source": [
    "from sklearn.metrics import plot_roc_curve  \n",
    "\n",
    "plot_roc_curve(model, X_test, y_test)\n",
    "plt.title('ROC Curve')"
   ]
  },
  {
   "cell_type": "code",
   "execution_count": 26,
   "id": "21d31b35",
   "metadata": {},
   "outputs": [
    {
     "name": "stdout",
     "output_type": "stream",
     "text": [
      "PR-AUC is 0.71\n"
     ]
    },
    {
     "data": {
      "image/png": "[encoded data removed]",
      "text/plain": [
       "<Figure size 432x288 with 1 Axes>"
      ]
     },
     "metadata": {
      "needs_background": "light"
     },
     "output_type": "display_data"
    }
   ],
   "source": [
    "from sklearn.metrics import precision_recall_curve\n",
    "# https://scikit-learn.org/stable/modules/generated/sklearn.metrics.precision_recall_curve.html\n",
    "\n",
    "from sklearn.metrics import auc,plot_precision_recall_curve\n",
    "# https://scikit-learn.org/stable/modules/generated/sklearn.metrics.auc.html\n",
    "\n",
    "y_score = y_test_proba[:, 1]\n",
    "# Data to plot precision - recall curve\n",
    "precision, recall, thresholds = precision_recall_curve(y_test, y_score)\n",
    "# Use AUC function to calculate the area under the curve of precision recall curve\n",
    "auc_precision_recall = auc(recall, precision)\n",
    "print('PR-AUC is {:.2f}'.format(auc_precision_recall))\n",
    "\n",
    "# plot PR curve\n",
    "plt.plot(recall, precision)\n",
    "plt.xlabel('Recall(Positive label:1)')\n",
    "plt.ylabel('Precision(Positive label:1)')\n",
    "plt.title('Precision-Recall Curve')\n",
    "plt.show()\n",
    "\n",
    "#disp = plot_precision_recall_curve(model, X_test, y_test)"
   ]
  },
  {
   "cell_type": "markdown",
   "id": "a91a7b15",
   "metadata": {},
   "source": [
    "#### 2.3 Feature Importance"
   ]
  },
  {
   "cell_type": "code",
   "execution_count": 27,
   "id": "355f05ce",
   "metadata": {},
   "outputs": [
    {
     "data": {
      "text/plain": [
       "array(['DeductibleAmtPaid_mean', 'DeductibleAmtPaid_max',\n",
       "       'NoOfMonths_PartACov_mean', 'NoOfMonths_PartBCov_mean',\n",
       "       'OPAnnualReimbursementAmt_mean', 'OPAnnualReimbursementAmt_max',\n",
       "       'OPAnnualReimbursementAmt_sum', 'OPAnnualDeductibleAmt_mean',\n",
       "       'OPAnnualDeductibleAmt_max', 'OPAnnualDeductibleAmt_sum',\n",
       "       'ClaimCounts', 'Gender', 'ClaimPeriod', 'RaceOneFrac', 'MajorRace',\n",
       "       'RenalDiseaseIndicator', 'Age', 'uniqBeneCount', 'ClmsperBene',\n",
       "       'TotalInscClaimAmtReimbursed', 'MeanInscClaimAmtReimbursed',\n",
       "       'MaxInscClaimAmtReimbursed', 'uniqATPhysnCount', 'ClmsperATPhysn',\n",
       "       'uniqOPPhysnCount', 'ClmsperOPPhysn', 'uniqOTPhysnCount',\n",
       "       'ClmsperOTPhysn', 'InClmsPct', 'StateCount_Uniq', 'MajorState',\n",
       "       'CountyCount_Uniq', 'MajorCounty', 'TotalIPAnnualReimbursementAmt',\n",
       "       'MeanIPAnnualReimbursementAmt', 'MaxIPAnnualReimbursementAmt',\n",
       "       'TotalIPAnnualDeductibleAmtdf', 'MeanIPAnnualDeductibleAmt',\n",
       "       'MaxIPAnnualDeductibleAmt', 'MaxHospitalDays',\n",
       "       'MedianHospitalDays', 'MeanHospitalDays', 'Chronic_Alzheimer_Frac',\n",
       "       'Chronic_Heartfailure_Frac', 'Chronic_KidneyDisease_Frac',\n",
       "       'Chronic_Cancer_Frac', 'Chronic_ObstrPulmonary_Frac',\n",
       "       'Chronic_Depression_Frac', 'Chronic_Diabetes_Frac',\n",
       "       'Chronic_IschemicHeart_Frac', 'Chronic_Osteoporasis_Frac',\n",
       "       'Chronic_rheumatoidarthritis_Frac', 'Chronic_stroke_Frac',\n",
       "       'Deceased_Frac'], dtype=object)"
      ]
     },
     "execution_count": 27,
     "metadata": {},
     "output_type": "execute_result"
    }
   ],
   "source": [
    "# get importance\n",
    "importances = model.named_steps['logreg'].coef_[0]\n",
    "features = model.feature_names_in_\n",
    "features"
   ]
  },
  {
   "cell_type": "code",
   "execution_count": 28,
   "id": "e235a2c5",
   "metadata": {
    "scrolled": true
   },
   "outputs": [
    {
     "data": {
      "text/plain": [
       "ClmsperBene                         3.868697\n",
       "MaxHospitalDays                     3.435215\n",
       "TotalInscClaimAmtReimbursed         2.300077\n",
       "MaxInscClaimAmtReimbursed           2.284157\n",
       "TotalIPAnnualReimbursementAmt       2.103909\n",
       "OPAnnualReimbursementAmt_sum        2.032693\n",
       "OPAnnualDeductibleAmt_sum           2.007213\n",
       "ClaimCounts                         1.937259\n",
       "TotalIPAnnualDeductibleAmtdf        1.931848\n",
       "uniqBeneCount                       1.762703\n",
       "ClmsperOPPhysn                      1.356068\n",
       "CountyCount_Uniq                    1.169805\n",
       "ClmsperOTPhysn                      1.159417\n",
       "ClmsperATPhysn                      1.092578\n",
       "MaxIPAnnualReimbursementAmt         0.791547\n",
       "RaceOneFrac                         0.766916\n",
       "Chronic_Heartfailure_Frac           0.724660\n",
       "MajorState                          0.641463\n",
       "OPAnnualDeductibleAmt_max           0.640367\n",
       "RenalDiseaseIndicator               0.620243\n",
       "Chronic_KidneyDisease_Frac          0.575343\n",
       "DeductibleAmtPaid_mean              0.523829\n",
       "InClmsPct                           0.452891\n",
       "Chronic_Depression_Frac             0.361912\n",
       "Chronic_ObstrPulmonary_Frac         0.282044\n",
       "Deceased_Frac                       0.266521\n",
       "NoOfMonths_PartACov_mean            0.261505\n",
       "OPAnnualReimbursementAmt_max        0.171820\n",
       "Chronic_Osteoporasis_Frac           0.115216\n",
       "Chronic_IschemicHeart_Frac          0.106590\n",
       "Chronic_rheumatoidarthritis_Frac    0.102588\n",
       "MajorCounty                         0.073823\n",
       "uniqOPPhysnCount                    0.013257\n",
       "MeanInscClaimAmtReimbursed         -0.024011\n",
       "Gender                             -0.038622\n",
       "OPAnnualReimbursementAmt_mean      -0.083433\n",
       "MaxIPAnnualDeductibleAmt           -0.091885\n",
       "Chronic_stroke_Frac                -0.131032\n",
       "Age                                -0.138404\n",
       "NoOfMonths_PartBCov_mean           -0.179828\n",
       "Chronic_Diabetes_Frac              -0.185037\n",
       "MajorRace                          -0.230874\n",
       "StateCount_Uniq                    -0.243895\n",
       "DeductibleAmtPaid_max              -0.258385\n",
       "MeanIPAnnualDeductibleAmt          -0.258644\n",
       "Chronic_Cancer_Frac                -0.328389\n",
       "OPAnnualDeductibleAmt_mean         -0.346006\n",
       "uniqOTPhysnCount                   -0.359395\n",
       "Chronic_Alzheimer_Frac             -0.381995\n",
       "MeanIPAnnualReimbursementAmt       -0.404145\n",
       "ClaimPeriod                        -0.545700\n",
       "uniqATPhysnCount                   -0.601438\n",
       "MeanHospitalDays                   -0.675540\n",
       "MedianHospitalDays                 -1.376105\n",
       "dtype: float64"
      ]
     },
     "execution_count": 28,
     "metadata": {},
     "output_type": "execute_result"
    }
   ],
   "source": [
    "logreg_importances = pd.Series(importances, index = features)\n",
    "logreg_importances.sort_values(ascending = False)"
   ]
  },
  {
   "cell_type": "code",
   "execution_count": 29,
   "id": "e1fd4ee6",
   "metadata": {},
   "outputs": [
    {
     "data": {
      "text/plain": [
       "<AxesSubplot:title={'center':'Feature Importance'}>"
      ]
     },
     "execution_count": 29,
     "metadata": {},
     "output_type": "execute_result"
    },
    {
     "data": {
      "image/png": "[encoded data removed]",
      "text/plain": [
       "<Figure size 1080x432 with 1 Axes>"
      ]
     },
     "metadata": {
      "needs_background": "light"
     },
     "output_type": "display_data"
    }
   ],
   "source": [
    "fig = plt.figure(figsize = (15,6))\n",
    "logreg_importances.plot.bar(title = 'Feature Importance')"
   ]
  },
  {
   "cell_type": "code",
   "execution_count": 30,
   "id": "f79ff4d8",
   "metadata": {},
   "outputs": [],
   "source": [
    "# summarize feature importance\n",
    "# for i,v in enumerate(importances):\n",
    "#     print('Feature: {:0d}, Score: {:.3f}'.format(i,v))\n",
    "# # plot feature importance\n",
    "# plt.figure(figsize=(15,4))\n",
    "# plt.bar([x for x in range(len(importances))], importances)\n",
    "# plt.title('Feature Importance')\n",
    "\n",
    "# plt.show()"
   ]
  },
  {
   "cell_type": "markdown",
   "id": "78ef7f1b",
   "metadata": {},
   "source": [
    "### 3. Modeling with balanced class weights: \n",
    "Set class_weight in Logistic Regression and retrain the model."
   ]
  },
  {
   "cell_type": "code",
   "execution_count": 31,
   "id": "d31ce36b",
   "metadata": {},
   "outputs": [
    {
     "data": {
      "text/plain": [
       "Pipeline(steps=[('rescale', StandardScaler()),\n",
       "                ('logreg',\n",
       "                 LogisticRegression(class_weight='balanced', max_iter=10000,\n",
       "                                    random_state=42))])"
      ]
     },
     "execution_count": 31,
     "metadata": {},
     "output_type": "execute_result"
    }
   ],
   "source": [
    "steps2 = [('rescale', StandardScaler()), \n",
    "          ('logreg', LogisticRegression(class_weight = 'balanced',random_state=42,max_iter=10000))]\n",
    "model2 = Pipeline(steps2)\n",
    "model2.fit(X_train, y_train)"
   ]
  },
  {
   "cell_type": "code",
   "execution_count": 32,
   "id": "f169ab3f",
   "metadata": {},
   "outputs": [],
   "source": [
    "y_train_pred2 = model2.predict(X_train)"
   ]
  },
  {
   "cell_type": "code",
   "execution_count": 33,
   "id": "997dffa1",
   "metadata": {},
   "outputs": [],
   "source": [
    "y_train_proba2 = model2.predict_proba(X_train)"
   ]
  },
  {
   "cell_type": "code",
   "execution_count": 34,
   "id": "3e3add4e",
   "metadata": {},
   "outputs": [],
   "source": [
    "y_test_pred2 = model2.predict(X_test)"
   ]
  },
  {
   "cell_type": "code",
   "execution_count": 35,
   "id": "b6fb615f",
   "metadata": {},
   "outputs": [],
   "source": [
    "y_test_proba2 = model2.predict_proba(X_test)"
   ]
  },
  {
   "cell_type": "code",
   "execution_count": 36,
   "id": "5e693c86",
   "metadata": {},
   "outputs": [
    {
     "name": "stdout",
     "output_type": "stream",
     "text": [
      "roc_auc_score for the train dataset: 0.96\n",
      "roc_auc_score for the test dataset: 0.93\n"
     ]
    }
   ],
   "source": [
    "roc_auc_score_train2 = roc_auc_score(y_train, model2.predict_proba(X_train)[:, 1])  \n",
    "roc_auc_score_test2 = roc_auc_score(y_test, model2.predict_proba(X_test)[:, 1])\n",
    "print('roc_auc_score for the train dataset: {:.2f}'.format(roc_auc_score_train2))\n",
    "print('roc_auc_score for the test dataset: {:.2f}'.format(roc_auc_score_test2))"
   ]
  },
  {
   "cell_type": "code",
   "execution_count": 37,
   "id": "b2a89371",
   "metadata": {},
   "outputs": [
    {
     "name": "stdout",
     "output_type": "stream",
     "text": [
      "PR-AUC is 0.69\n"
     ]
    }
   ],
   "source": [
    "y_score2 = y_test_proba2[:, 1]\n",
    "precision2, recall2, thresholds2 = precision_recall_curve(y_test, y_score2)\n",
    "auc_precision_recall2 = auc(recall2, precision2)\n",
    "print('PR-AUC is {:.2f}'.format(auc_precision_recall2))"
   ]
  },
  {
   "cell_type": "code",
   "execution_count": 38,
   "id": "b24545cf",
   "metadata": {
    "scrolled": true
   },
   "outputs": [
    {
     "data": {
      "text/plain": [
       "MaxHospitalDays                     1.389157\n",
       "ClaimCounts                         1.301869\n",
       "OPAnnualDeductibleAmt_sum           0.995621\n",
       "TotalInscClaimAmtReimbursed         0.830321\n",
       "DeductibleAmtPaid_mean              0.637651\n",
       "ClmsperBene                         0.567027\n",
       "OPAnnualReimbursementAmt_sum        0.474029\n",
       "uniqOTPhysnCount                    0.441979\n",
       "Chronic_Heartfailure_Frac           0.364820\n",
       "MajorState                          0.303432\n",
       "Chronic_KidneyDisease_Frac          0.291562\n",
       "CountyCount_Uniq                    0.226757\n",
       "MaxInscClaimAmtReimbursed           0.223078\n",
       "NoOfMonths_PartACov_mean            0.211356\n",
       "MaxIPAnnualReimbursementAmt         0.148301\n",
       "StateCount_Uniq                     0.140874\n",
       "MeanHospitalDays                    0.130862\n",
       "ClmsperOPPhysn                      0.127262\n",
       "RenalDiseaseIndicator               0.107686\n",
       "Deceased_Frac                       0.099104\n",
       "OPAnnualDeductibleAmt_max           0.091962\n",
       "Chronic_Depression_Frac             0.082897\n",
       "MeanInscClaimAmtReimbursed          0.077314\n",
       "Age                                 0.075074\n",
       "Chronic_ObstrPulmonary_Frac         0.073905\n",
       "MeanIPAnnualDeductibleAmt           0.059683\n",
       "RaceOneFrac                         0.051523\n",
       "Gender                              0.050910\n",
       "Chronic_rheumatoidarthritis_Frac    0.038589\n",
       "OPAnnualReimbursementAmt_mean       0.031750\n",
       "MeanIPAnnualReimbursementAmt        0.031738\n",
       "Chronic_Osteoporasis_Frac           0.023841\n",
       "InClmsPct                           0.005180\n",
       "Chronic_Alzheimer_Frac             -0.024227\n",
       "ClmsperATPhysn                     -0.028765\n",
       "Chronic_Diabetes_Frac              -0.037825\n",
       "Chronic_IschemicHeart_Frac         -0.045376\n",
       "NoOfMonths_PartBCov_mean           -0.067412\n",
       "ClmsperOTPhysn                     -0.085125\n",
       "ClaimPeriod                        -0.087108\n",
       "MaxIPAnnualDeductibleAmt           -0.092901\n",
       "MajorCounty                        -0.106672\n",
       "Chronic_Cancer_Frac                -0.115199\n",
       "uniqOPPhysnCount                   -0.115301\n",
       "Chronic_stroke_Frac                -0.142406\n",
       "OPAnnualReimbursementAmt_max       -0.161023\n",
       "OPAnnualDeductibleAmt_mean         -0.168136\n",
       "DeductibleAmtPaid_max              -0.190061\n",
       "TotalIPAnnualReimbursementAmt      -0.249612\n",
       "uniqATPhysnCount                   -0.481402\n",
       "TotalIPAnnualDeductibleAmtdf       -0.572843\n",
       "MajorRace                          -0.613467\n",
       "MedianHospitalDays                 -0.930342\n",
       "uniqBeneCount                      -1.109116\n",
       "dtype: float64"
      ]
     },
     "execution_count": 38,
     "metadata": {},
     "output_type": "execute_result"
    }
   ],
   "source": [
    "importances2 = model2.named_steps['logreg'].coef_[0]\n",
    "features = model2.feature_names_in_\n",
    "logreg_importances2 = pd.Series(importances2, index = features)\n",
    "logreg_importances2.sort_values(ascending = False)"
   ]
  },
  {
   "cell_type": "code",
   "execution_count": 39,
   "id": "da869cef",
   "metadata": {},
   "outputs": [
    {
     "data": {
      "text/plain": [
       "<AxesSubplot:title={'center':'Feature Importance with balanced class weight'}>"
      ]
     },
     "execution_count": 39,
     "metadata": {},
     "output_type": "execute_result"
    },
    {
     "data": {
      "image/png": "[encoded data removed]",
      "text/plain": [
       "<Figure size 1080x432 with 1 Axes>"
      ]
     },
     "metadata": {
      "needs_background": "light"
     },
     "output_type": "display_data"
    }
   ],
   "source": [
    "fig = plt.figure(figsize = (15,6))\n",
    "logreg_importances2.plot.bar(title = 'Feature Importance with balanced class weight')"
   ]
  },
  {
   "cell_type": "code",
   "execution_count": 40,
   "id": "42dfb160",
   "metadata": {
    "scrolled": true
   },
   "outputs": [],
   "source": [
    "# # get importance\n",
    "# importances2 = model2.named_steps['logreg'].coef_[0]\n",
    "# # summarize feature importance\n",
    "# for i,v in enumerate(importances2):\n",
    "#     print('Feature: {:0d}, Score: {:.3f}'.format(i,v))\n",
    "# # plot feature importance\n",
    "# plt.figure(figsize=(15,4))\n",
    "# plt.bar([x for x in range(len(importances2))], importances2)\n",
    "# plt.title('Feature Importance')"
   ]
  },
  {
   "cell_type": "markdown",
   "id": "1690949b",
   "metadata": {},
   "source": [
    "### 4. Downsampling to 70:30"
   ]
  },
  {
   "cell_type": "code",
   "execution_count": 41,
   "id": "614b2509",
   "metadata": {},
   "outputs": [],
   "source": [
    "from sklearn.utils import resample #Resample arrays or sparse matrices in a consistent way"
   ]
  },
  {
   "cell_type": "code",
   "execution_count": 42,
   "id": "3bb8e658",
   "metadata": {},
   "outputs": [
    {
     "data": {
      "text/plain": [
       "numpy.ndarray"
      ]
     },
     "execution_count": 42,
     "metadata": {},
     "output_type": "execute_result"
    }
   ],
   "source": [
    "type(y_train)"
   ]
  },
  {
   "cell_type": "code",
   "execution_count": 43,
   "id": "5ea6d277",
   "metadata": {
    "scrolled": true
   },
   "outputs": [
    {
     "data": {
      "text/plain": [
       "Provider\n",
       "PRV53960    0\n",
       "PRV52517    0\n",
       "PRV55652    0\n",
       "PRV57328    0\n",
       "PRV56721    0\n",
       "           ..\n",
       "PRV52471    0\n",
       "PRV55316    0\n",
       "PRV52671    0\n",
       "PRV56782    0\n",
       "PRV52602    0\n",
       "Name: PotentialFraud, Length: 4328, dtype: int64"
      ]
     },
     "execution_count": 43,
     "metadata": {},
     "output_type": "execute_result"
    }
   ],
   "source": [
    "# Concat X_train with y_train on axis = 1 first\n",
    "# only Series and DataFrame objs are valid. So need to convert y_train to Series. \n",
    "target_train = pd.Series(y_train)\n",
    "target_train.name = \"PotentialFraud\"\n",
    "target_train.index = X_train.index\n",
    "target_train"
   ]
  },
  {
   "cell_type": "code",
   "execution_count": 44,
   "id": "61a686a3",
   "metadata": {},
   "outputs": [],
   "source": [
    "df_train = pd.concat([X_train,target_train],axis = 1)"
   ]
  },
  {
   "cell_type": "code",
   "execution_count": 45,
   "id": "8f1941d0",
   "metadata": {
    "scrolled": true
   },
   "outputs": [],
   "source": [
    "df_train_nonfraud = df_train[df_train.PotentialFraud == 0]\n",
    "df_train_fraud = df_train[df_train.PotentialFraud == 1]"
   ]
  },
  {
   "cell_type": "code",
   "execution_count": 46,
   "id": "917fa7ef",
   "metadata": {},
   "outputs": [],
   "source": [
    "df_train_nf_downsampled = resample(df_train_nonfraud, \n",
    "                                  replace=False,    # sample without replacement\n",
    "                                  n_samples=940,     # to match the ratio of 70/30\n",
    "                                  random_state=42)"
   ]
  },
  {
   "cell_type": "code",
   "execution_count": 47,
   "id": "5ec0e8f8",
   "metadata": {},
   "outputs": [],
   "source": [
    "# Combine minority class with downsampled majority class\n",
    "df_train_downsampled = pd.concat([df_train_nf_downsampled, df_train_fraud])"
   ]
  },
  {
   "cell_type": "code",
   "execution_count": 48,
   "id": "ae9eb911",
   "metadata": {
    "scrolled": false
   },
   "outputs": [
    {
     "data": {
      "text/plain": [
       "0    940\n",
       "1    403\n",
       "Name: PotentialFraud, dtype: int64"
      ]
     },
     "execution_count": 48,
     "metadata": {},
     "output_type": "execute_result"
    }
   ],
   "source": [
    "# Display new class counts\n",
    "df_train_downsampled.PotentialFraud.value_counts()"
   ]
  },
  {
   "cell_type": "code",
   "execution_count": 49,
   "id": "f3f03078",
   "metadata": {},
   "outputs": [],
   "source": [
    "#df_train_downsampled.to_csv('data/df_train_downsampled7030.csv')"
   ]
  },
  {
   "cell_type": "code",
   "execution_count": 50,
   "id": "3e691d74",
   "metadata": {},
   "outputs": [
    {
     "data": {
      "text/html": [
       "<div>\n",
       "<style scoped>\n",
       "    .dataframe tbody tr th:only-of-type {\n",
       "        vertical-align: middle;\n",
       "    }\n",
       "\n",
       "    .dataframe tbody tr th {\n",
       "        vertical-align: top;\n",
       "    }\n",
       "\n",
       "    .dataframe thead th {\n",
       "        text-align: right;\n",
       "    }\n",
       "</style>\n",
       "<table border=\"1\" class=\"dataframe\">\n",
       "  <thead>\n",
       "    <tr style=\"text-align: right;\">\n",
       "      <th></th>\n",
       "      <th>DeductibleAmtPaid_mean</th>\n",
       "      <th>DeductibleAmtPaid_max</th>\n",
       "      <th>NoOfMonths_PartACov_mean</th>\n",
       "      <th>NoOfMonths_PartBCov_mean</th>\n",
       "      <th>OPAnnualReimbursementAmt_mean</th>\n",
       "      <th>OPAnnualReimbursementAmt_max</th>\n",
       "      <th>OPAnnualReimbursementAmt_sum</th>\n",
       "      <th>OPAnnualDeductibleAmt_mean</th>\n",
       "      <th>OPAnnualDeductibleAmt_max</th>\n",
       "      <th>OPAnnualDeductibleAmt_sum</th>\n",
       "      <th>...</th>\n",
       "      <th>Chronic_KidneyDisease_Frac</th>\n",
       "      <th>Chronic_Cancer_Frac</th>\n",
       "      <th>Chronic_ObstrPulmonary_Frac</th>\n",
       "      <th>Chronic_Depression_Frac</th>\n",
       "      <th>Chronic_Diabetes_Frac</th>\n",
       "      <th>Chronic_IschemicHeart_Frac</th>\n",
       "      <th>Chronic_Osteoporasis_Frac</th>\n",
       "      <th>Chronic_rheumatoidarthritis_Frac</th>\n",
       "      <th>Chronic_stroke_Frac</th>\n",
       "      <th>Deceased_Frac</th>\n",
       "    </tr>\n",
       "    <tr>\n",
       "      <th>Provider</th>\n",
       "      <th></th>\n",
       "      <th></th>\n",
       "      <th></th>\n",
       "      <th></th>\n",
       "      <th></th>\n",
       "      <th></th>\n",
       "      <th></th>\n",
       "      <th></th>\n",
       "      <th></th>\n",
       "      <th></th>\n",
       "      <th></th>\n",
       "      <th></th>\n",
       "      <th></th>\n",
       "      <th></th>\n",
       "      <th></th>\n",
       "      <th></th>\n",
       "      <th></th>\n",
       "      <th></th>\n",
       "      <th></th>\n",
       "      <th></th>\n",
       "      <th></th>\n",
       "    </tr>\n",
       "  </thead>\n",
       "  <tbody>\n",
       "    <tr>\n",
       "      <th>PRV57552</th>\n",
       "      <td>0.000000</td>\n",
       "      <td>0.0</td>\n",
       "      <td>12.0</td>\n",
       "      <td>10.909091</td>\n",
       "      <td>1303.636364</td>\n",
       "      <td>4090</td>\n",
       "      <td>14340</td>\n",
       "      <td>453.636364</td>\n",
       "      <td>1110</td>\n",
       "      <td>4990</td>\n",
       "      <td>...</td>\n",
       "      <td>0.545455</td>\n",
       "      <td>0.181818</td>\n",
       "      <td>0.363636</td>\n",
       "      <td>0.727273</td>\n",
       "      <td>0.636364</td>\n",
       "      <td>0.727273</td>\n",
       "      <td>0.181818</td>\n",
       "      <td>0.181818</td>\n",
       "      <td>0.181818</td>\n",
       "      <td>0.000000</td>\n",
       "    </tr>\n",
       "    <tr>\n",
       "      <th>PRV52848</th>\n",
       "      <td>4.400000</td>\n",
       "      <td>70.0</td>\n",
       "      <td>12.0</td>\n",
       "      <td>11.760000</td>\n",
       "      <td>1275.600000</td>\n",
       "      <td>5210</td>\n",
       "      <td>31890</td>\n",
       "      <td>472.800000</td>\n",
       "      <td>1970</td>\n",
       "      <td>11820</td>\n",
       "      <td>...</td>\n",
       "      <td>0.200000</td>\n",
       "      <td>0.200000</td>\n",
       "      <td>0.360000</td>\n",
       "      <td>0.400000</td>\n",
       "      <td>0.600000</td>\n",
       "      <td>0.840000</td>\n",
       "      <td>0.320000</td>\n",
       "      <td>0.160000</td>\n",
       "      <td>0.040000</td>\n",
       "      <td>0.000000</td>\n",
       "    </tr>\n",
       "    <tr>\n",
       "      <th>PRV51297</th>\n",
       "      <td>77.285714</td>\n",
       "      <td>1068.0</td>\n",
       "      <td>12.0</td>\n",
       "      <td>12.000000</td>\n",
       "      <td>3440.000000</td>\n",
       "      <td>22820</td>\n",
       "      <td>240800</td>\n",
       "      <td>869.714286</td>\n",
       "      <td>5220</td>\n",
       "      <td>60880</td>\n",
       "      <td>...</td>\n",
       "      <td>0.557143</td>\n",
       "      <td>0.142857</td>\n",
       "      <td>0.300000</td>\n",
       "      <td>0.471429</td>\n",
       "      <td>0.642857</td>\n",
       "      <td>0.871429</td>\n",
       "      <td>0.385714</td>\n",
       "      <td>0.171429</td>\n",
       "      <td>0.100000</td>\n",
       "      <td>0.014286</td>\n",
       "    </tr>\n",
       "    <tr>\n",
       "      <th>PRV55880</th>\n",
       "      <td>2.666667</td>\n",
       "      <td>40.0</td>\n",
       "      <td>12.0</td>\n",
       "      <td>12.000000</td>\n",
       "      <td>2586.666667</td>\n",
       "      <td>19660</td>\n",
       "      <td>38800</td>\n",
       "      <td>712.666667</td>\n",
       "      <td>3980</td>\n",
       "      <td>10690</td>\n",
       "      <td>...</td>\n",
       "      <td>0.533333</td>\n",
       "      <td>0.200000</td>\n",
       "      <td>0.200000</td>\n",
       "      <td>0.466667</td>\n",
       "      <td>0.800000</td>\n",
       "      <td>0.733333</td>\n",
       "      <td>0.466667</td>\n",
       "      <td>0.400000</td>\n",
       "      <td>0.066667</td>\n",
       "      <td>0.000000</td>\n",
       "    </tr>\n",
       "    <tr>\n",
       "      <th>PRV55887</th>\n",
       "      <td>1068.000000</td>\n",
       "      <td>1068.0</td>\n",
       "      <td>12.0</td>\n",
       "      <td>12.000000</td>\n",
       "      <td>4031.666667</td>\n",
       "      <td>19660</td>\n",
       "      <td>24190</td>\n",
       "      <td>935.000000</td>\n",
       "      <td>3980</td>\n",
       "      <td>5610</td>\n",
       "      <td>...</td>\n",
       "      <td>0.666667</td>\n",
       "      <td>0.500000</td>\n",
       "      <td>0.666667</td>\n",
       "      <td>0.833333</td>\n",
       "      <td>0.833333</td>\n",
       "      <td>0.833333</td>\n",
       "      <td>0.166667</td>\n",
       "      <td>0.666667</td>\n",
       "      <td>0.166667</td>\n",
       "      <td>0.000000</td>\n",
       "    </tr>\n",
       "  </tbody>\n",
       "</table>\n",
       "<p>5 rows × 54 columns</p>\n",
       "</div>"
      ],
      "text/plain": [
       "          DeductibleAmtPaid_mean  DeductibleAmtPaid_max  \\\n",
       "Provider                                                  \n",
       "PRV57552                0.000000                    0.0   \n",
       "PRV52848                4.400000                   70.0   \n",
       "PRV51297               77.285714                 1068.0   \n",
       "PRV55880                2.666667                   40.0   \n",
       "PRV55887             1068.000000                 1068.0   \n",
       "\n",
       "          NoOfMonths_PartACov_mean  NoOfMonths_PartBCov_mean  \\\n",
       "Provider                                                       \n",
       "PRV57552                      12.0                 10.909091   \n",
       "PRV52848                      12.0                 11.760000   \n",
       "PRV51297                      12.0                 12.000000   \n",
       "PRV55880                      12.0                 12.000000   \n",
       "PRV55887                      12.0                 12.000000   \n",
       "\n",
       "          OPAnnualReimbursementAmt_mean  OPAnnualReimbursementAmt_max  \\\n",
       "Provider                                                                \n",
       "PRV57552                    1303.636364                          4090   \n",
       "PRV52848                    1275.600000                          5210   \n",
       "PRV51297                    3440.000000                         22820   \n",
       "PRV55880                    2586.666667                         19660   \n",
       "PRV55887                    4031.666667                         19660   \n",
       "\n",
       "          OPAnnualReimbursementAmt_sum  OPAnnualDeductibleAmt_mean  \\\n",
       "Provider                                                             \n",
       "PRV57552                         14340                  453.636364   \n",
       "PRV52848                         31890                  472.800000   \n",
       "PRV51297                        240800                  869.714286   \n",
       "PRV55880                         38800                  712.666667   \n",
       "PRV55887                         24190                  935.000000   \n",
       "\n",
       "          OPAnnualDeductibleAmt_max  OPAnnualDeductibleAmt_sum  ...  \\\n",
       "Provider                                                        ...   \n",
       "PRV57552                       1110                       4990  ...   \n",
       "PRV52848                       1970                      11820  ...   \n",
       "PRV51297                       5220                      60880  ...   \n",
       "PRV55880                       3980                      10690  ...   \n",
       "PRV55887                       3980                       5610  ...   \n",
       "\n",
       "          Chronic_KidneyDisease_Frac  Chronic_Cancer_Frac  \\\n",
       "Provider                                                    \n",
       "PRV57552                    0.545455             0.181818   \n",
       "PRV52848                    0.200000             0.200000   \n",
       "PRV51297                    0.557143             0.142857   \n",
       "PRV55880                    0.533333             0.200000   \n",
       "PRV55887                    0.666667             0.500000   \n",
       "\n",
       "          Chronic_ObstrPulmonary_Frac  Chronic_Depression_Frac  \\\n",
       "Provider                                                         \n",
       "PRV57552                     0.363636                 0.727273   \n",
       "PRV52848                     0.360000                 0.400000   \n",
       "PRV51297                     0.300000                 0.471429   \n",
       "PRV55880                     0.200000                 0.466667   \n",
       "PRV55887                     0.666667                 0.833333   \n",
       "\n",
       "          Chronic_Diabetes_Frac  Chronic_IschemicHeart_Frac  \\\n",
       "Provider                                                      \n",
       "PRV57552               0.636364                    0.727273   \n",
       "PRV52848               0.600000                    0.840000   \n",
       "PRV51297               0.642857                    0.871429   \n",
       "PRV55880               0.800000                    0.733333   \n",
       "PRV55887               0.833333                    0.833333   \n",
       "\n",
       "          Chronic_Osteoporasis_Frac  Chronic_rheumatoidarthritis_Frac  \\\n",
       "Provider                                                                \n",
       "PRV57552                   0.181818                          0.181818   \n",
       "PRV52848                   0.320000                          0.160000   \n",
       "PRV51297                   0.385714                          0.171429   \n",
       "PRV55880                   0.466667                          0.400000   \n",
       "PRV55887                   0.166667                          0.666667   \n",
       "\n",
       "          Chronic_stroke_Frac  Deceased_Frac  \n",
       "Provider                                      \n",
       "PRV57552             0.181818       0.000000  \n",
       "PRV52848             0.040000       0.000000  \n",
       "PRV51297             0.100000       0.014286  \n",
       "PRV55880             0.066667       0.000000  \n",
       "PRV55887             0.166667       0.000000  \n",
       "\n",
       "[5 rows x 54 columns]"
      ]
     },
     "execution_count": 50,
     "metadata": {},
     "output_type": "execute_result"
    }
   ],
   "source": [
    "#Split X_train and y_train\n",
    "X_train_downsampled = df_train_downsampled.iloc[:,:-1]\n",
    "X_train_downsampled.head()"
   ]
  },
  {
   "cell_type": "code",
   "execution_count": 51,
   "id": "608a6380",
   "metadata": {},
   "outputs": [],
   "source": [
    "y_train_downsampled = df_train_downsampled.iloc[:,-1]"
   ]
  },
  {
   "cell_type": "markdown",
   "id": "db953ec5",
   "metadata": {},
   "source": [
    "### Re-run logistic regression model"
   ]
  },
  {
   "cell_type": "code",
   "execution_count": 52,
   "id": "f580ae91",
   "metadata": {},
   "outputs": [
    {
     "data": {
      "text/plain": [
       "array([0.55133758, 5.36972705])"
      ]
     },
     "execution_count": 52,
     "metadata": {},
     "output_type": "execute_result"
    }
   ],
   "source": [
    "from sklearn.utils.class_weight import compute_class_weight\n",
    "compute_class_weight(class_weight = 'balanced', classes = np.unique(df_train.PotentialFraud),y = df_train.PotentialFraud)"
   ]
  },
  {
   "cell_type": "code",
   "execution_count": 54,
   "id": "a33a0f27",
   "metadata": {},
   "outputs": [
    {
     "data": {
      "text/plain": [
       "2.302127694574468"
      ]
     },
     "execution_count": 54,
     "metadata": {},
     "output_type": "execute_result"
    }
   ],
   "source": [
    "# to upweight the downsampled class \n",
    "# example weight = original weight * downsampling factor \n",
    "# class 1 (minority) no change \n",
    "# class 0 (majority)\n",
    "0.551337588*(3925/940)"
   ]
  },
  {
   "cell_type": "code",
   "execution_count": 55,
   "id": "dab4bcb5",
   "metadata": {},
   "outputs": [
    {
     "data": {
      "text/plain": [
       "Pipeline(steps=[('rescale', StandardScaler()),\n",
       "                ('logreg',\n",
       "                 LogisticRegression(class_weight=[2.302127694574468,\n",
       "                                                  5.36972705],\n",
       "                                    max_iter=10000, random_state=42))])"
      ]
     },
     "execution_count": 55,
     "metadata": {},
     "output_type": "execute_result"
    }
   ],
   "source": [
    "steps = [('rescale', StandardScaler()), \n",
    "         ('logreg', LogisticRegression(class_weight = [2.302127694574468,5.36972705],random_state=42,max_iter=10000))]\n",
    "model3 = Pipeline(steps)\n",
    "model3.fit(X_train_downsampled, y_train_downsampled)"
   ]
  },
  {
   "cell_type": "code",
   "execution_count": 56,
   "id": "248b85e3",
   "metadata": {},
   "outputs": [],
   "source": [
    "y_test_pred = model3.predict(X_test)"
   ]
  },
  {
   "cell_type": "code",
   "execution_count": 57,
   "id": "e7b30c03",
   "metadata": {},
   "outputs": [],
   "source": [
    "y_test_proba = model3.predict_proba(X_test)"
   ]
  },
  {
   "cell_type": "code",
   "execution_count": 58,
   "id": "4f40bcc4",
   "metadata": {},
   "outputs": [
    {
     "name": "stdout",
     "output_type": "stream",
     "text": [
      "roc_auc_score for the train dataset: 0.95\n",
      "roc_auc_score for the test dataset: 0.95\n"
     ]
    }
   ],
   "source": [
    "roc_auc_score_train = roc_auc_score(y_train_downsampled, model.predict_proba(X_train_downsampled)[:, 1])  \n",
    "roc_auc_score_test = roc_auc_score(y_test, model.predict_proba(X_test)[:, 1])\n",
    "print('roc_auc_score for the train dataset: {:.2f}'.format(roc_auc_score_train))\n",
    "print('roc_auc_score for the test dataset: {:.2f}'.format(roc_auc_score_test))"
   ]
  },
  {
   "cell_type": "code",
   "execution_count": 59,
   "id": "1ac63151",
   "metadata": {},
   "outputs": [
    {
     "name": "stdout",
     "output_type": "stream",
     "text": [
      "PR-AUC is 0.70\n"
     ]
    }
   ],
   "source": [
    "y_score = y_test_proba[:, 1]\n",
    "precision, recall, thresholds = precision_recall_curve(y_test, y_score)\n",
    "auc_precision_recall = auc(recall, precision)\n",
    "print('PR-AUC is {:.2f}'.format(auc_precision_recall))"
   ]
  },
  {
   "cell_type": "code",
   "execution_count": 60,
   "id": "03b00516",
   "metadata": {
    "scrolled": true
   },
   "outputs": [
    {
     "data": {
      "text/plain": [
       "MaxHospitalDays                     1.673370\n",
       "OPAnnualDeductibleAmt_sum           1.433685\n",
       "TotalInscClaimAmtReimbursed         1.246891\n",
       "ClaimCounts                         0.972916\n",
       "OPAnnualReimbursementAmt_sum        0.845267\n",
       "uniqOTPhysnCount                    0.721441\n",
       "DeductibleAmtPaid_mean              0.581284\n",
       "ClmsperBene                         0.580565\n",
       "InClmsPct                           0.476513\n",
       "MajorState                          0.359773\n",
       "MeanInscClaimAmtReimbursed          0.323839\n",
       "MaxIPAnnualReimbursementAmt         0.294176\n",
       "Chronic_Depression_Frac             0.271517\n",
       "CountyCount_Uniq                    0.220308\n",
       "uniqOPPhysnCount                    0.219683\n",
       "Chronic_Heartfailure_Frac           0.187472\n",
       "OPAnnualDeductibleAmt_max           0.182058\n",
       "Deceased_Frac                       0.165831\n",
       "Chronic_KidneyDisease_Frac          0.159309\n",
       "RenalDiseaseIndicator               0.154634\n",
       "ClmsperOPPhysn                      0.142402\n",
       "NoOfMonths_PartACov_mean            0.137054\n",
       "MaxInscClaimAmtReimbursed           0.085904\n",
       "Chronic_rheumatoidarthritis_Frac    0.071158\n",
       "Age                                 0.067998\n",
       "Chronic_ObstrPulmonary_Frac         0.061508\n",
       "Gender                              0.046192\n",
       "Chronic_Osteoporasis_Frac           0.017807\n",
       "MaxIPAnnualDeductibleAmt            0.009115\n",
       "OPAnnualReimbursementAmt_mean       0.005046\n",
       "Chronic_Alzheimer_Frac              0.002567\n",
       "TotalIPAnnualReimbursementAmt      -0.004416\n",
       "MeanIPAnnualReimbursementAmt       -0.005278\n",
       "Chronic_Diabetes_Frac              -0.013845\n",
       "Chronic_IschemicHeart_Frac         -0.017900\n",
       "NoOfMonths_PartBCov_mean           -0.034060\n",
       "DeductibleAmtPaid_max              -0.038632\n",
       "StateCount_Uniq                    -0.053098\n",
       "RaceOneFrac                        -0.058810\n",
       "ClmsperATPhysn                     -0.069501\n",
       "Chronic_Cancer_Frac                -0.091456\n",
       "ClaimPeriod                        -0.097282\n",
       "OPAnnualDeductibleAmt_mean         -0.102286\n",
       "MeanHospitalDays                   -0.128891\n",
       "Chronic_stroke_Frac                -0.151005\n",
       "ClmsperOTPhysn                     -0.191204\n",
       "MeanIPAnnualDeductibleAmt          -0.193780\n",
       "MajorCounty                        -0.241950\n",
       "OPAnnualReimbursementAmt_max       -0.247467\n",
       "MajorRace                          -0.379984\n",
       "TotalIPAnnualDeductibleAmtdf       -0.596914\n",
       "MedianHospitalDays                 -0.919701\n",
       "uniqATPhysnCount                   -1.077567\n",
       "uniqBeneCount                      -1.233924\n",
       "dtype: float64"
      ]
     },
     "execution_count": 60,
     "metadata": {},
     "output_type": "execute_result"
    }
   ],
   "source": [
    "importances3 = model3.named_steps['logreg'].coef_[0]\n",
    "features = model3.feature_names_in_\n",
    "logreg_importances3 = pd.Series(importances3, index = features)\n",
    "logreg_importances3.sort_values(ascending = False)"
   ]
  },
  {
   "cell_type": "code",
   "execution_count": 61,
   "id": "4574b527",
   "metadata": {
    "scrolled": true
   },
   "outputs": [
    {
     "data": {
      "text/plain": [
       "<AxesSubplot:title={'center':'Feature Importance with Downsampling 70/30'}>"
      ]
     },
     "execution_count": 61,
     "metadata": {},
     "output_type": "execute_result"
    },
    {
     "data": {
      "image/png": "[encoded data removed]",
      "text/plain": [
       "<Figure size 1080x432 with 1 Axes>"
      ]
     },
     "metadata": {
      "needs_background": "light"
     },
     "output_type": "display_data"
    }
   ],
   "source": [
    "fig = plt.figure(figsize = (15,6))\n",
    "logreg_importances3.plot.bar(title = 'Feature Importance with Downsampling 70/30')"
   ]
  },
  {
   "cell_type": "markdown",
   "id": "d2ae608e",
   "metadata": {},
   "source": [
    "### 5. Downsampling to 50:50"
   ]
  },
  {
   "cell_type": "code",
   "execution_count": 62,
   "id": "96c5ea94",
   "metadata": {},
   "outputs": [],
   "source": [
    "# The number of nonfraud samples needed if to downsample majority class to 50/50\n",
    "df_train_nf_downsampled2 = resample(df_train_nonfraud, \n",
    "                                  replace=False,    # sample without replacement\n",
    "                                  n_samples=403,     # to match the ratio of 50/50\n",
    "                                  random_state=42)"
   ]
  },
  {
   "cell_type": "code",
   "execution_count": 63,
   "id": "33de0bf1",
   "metadata": {},
   "outputs": [],
   "source": [
    "df_train_downsampled5050 = pd.concat([df_train_nf_downsampled2, df_train_fraud])"
   ]
  },
  {
   "cell_type": "code",
   "execution_count": 64,
   "id": "05afa028",
   "metadata": {},
   "outputs": [
    {
     "data": {
      "text/plain": [
       "0    403\n",
       "1    403\n",
       "Name: PotentialFraud, dtype: int64"
      ]
     },
     "execution_count": 64,
     "metadata": {},
     "output_type": "execute_result"
    }
   ],
   "source": [
    "df_train_downsampled5050.PotentialFraud.value_counts()"
   ]
  },
  {
   "cell_type": "code",
   "execution_count": 65,
   "id": "6e643f9c",
   "metadata": {},
   "outputs": [],
   "source": [
    "#df_train_downsampled5050.to_csv('data/df_train_downsampled5050.csv')"
   ]
  },
  {
   "cell_type": "code",
   "execution_count": 66,
   "id": "8ed198eb",
   "metadata": {},
   "outputs": [
    {
     "data": {
      "text/html": [
       "<div>\n",
       "<style scoped>\n",
       "    .dataframe tbody tr th:only-of-type {\n",
       "        vertical-align: middle;\n",
       "    }\n",
       "\n",
       "    .dataframe tbody tr th {\n",
       "        vertical-align: top;\n",
       "    }\n",
       "\n",
       "    .dataframe thead th {\n",
       "        text-align: right;\n",
       "    }\n",
       "</style>\n",
       "<table border=\"1\" class=\"dataframe\">\n",
       "  <thead>\n",
       "    <tr style=\"text-align: right;\">\n",
       "      <th></th>\n",
       "      <th>DeductibleAmtPaid_mean</th>\n",
       "      <th>DeductibleAmtPaid_max</th>\n",
       "      <th>NoOfMonths_PartACov_mean</th>\n",
       "      <th>NoOfMonths_PartBCov_mean</th>\n",
       "      <th>OPAnnualReimbursementAmt_mean</th>\n",
       "      <th>OPAnnualReimbursementAmt_max</th>\n",
       "      <th>OPAnnualReimbursementAmt_sum</th>\n",
       "      <th>OPAnnualDeductibleAmt_mean</th>\n",
       "      <th>OPAnnualDeductibleAmt_max</th>\n",
       "      <th>OPAnnualDeductibleAmt_sum</th>\n",
       "      <th>...</th>\n",
       "      <th>Chronic_KidneyDisease_Frac</th>\n",
       "      <th>Chronic_Cancer_Frac</th>\n",
       "      <th>Chronic_ObstrPulmonary_Frac</th>\n",
       "      <th>Chronic_Depression_Frac</th>\n",
       "      <th>Chronic_Diabetes_Frac</th>\n",
       "      <th>Chronic_IschemicHeart_Frac</th>\n",
       "      <th>Chronic_Osteoporasis_Frac</th>\n",
       "      <th>Chronic_rheumatoidarthritis_Frac</th>\n",
       "      <th>Chronic_stroke_Frac</th>\n",
       "      <th>Deceased_Frac</th>\n",
       "    </tr>\n",
       "    <tr>\n",
       "      <th>Provider</th>\n",
       "      <th></th>\n",
       "      <th></th>\n",
       "      <th></th>\n",
       "      <th></th>\n",
       "      <th></th>\n",
       "      <th></th>\n",
       "      <th></th>\n",
       "      <th></th>\n",
       "      <th></th>\n",
       "      <th></th>\n",
       "      <th></th>\n",
       "      <th></th>\n",
       "      <th></th>\n",
       "      <th></th>\n",
       "      <th></th>\n",
       "      <th></th>\n",
       "      <th></th>\n",
       "      <th></th>\n",
       "      <th></th>\n",
       "      <th></th>\n",
       "      <th></th>\n",
       "    </tr>\n",
       "  </thead>\n",
       "  <tbody>\n",
       "    <tr>\n",
       "      <th>PRV57552</th>\n",
       "      <td>0.000000</td>\n",
       "      <td>0.0</td>\n",
       "      <td>12.0</td>\n",
       "      <td>10.909091</td>\n",
       "      <td>1303.636364</td>\n",
       "      <td>4090</td>\n",
       "      <td>14340</td>\n",
       "      <td>453.636364</td>\n",
       "      <td>1110</td>\n",
       "      <td>4990</td>\n",
       "      <td>...</td>\n",
       "      <td>0.545455</td>\n",
       "      <td>0.181818</td>\n",
       "      <td>0.363636</td>\n",
       "      <td>0.727273</td>\n",
       "      <td>0.636364</td>\n",
       "      <td>0.727273</td>\n",
       "      <td>0.181818</td>\n",
       "      <td>0.181818</td>\n",
       "      <td>0.181818</td>\n",
       "      <td>0.000000</td>\n",
       "    </tr>\n",
       "    <tr>\n",
       "      <th>PRV52848</th>\n",
       "      <td>4.400000</td>\n",
       "      <td>70.0</td>\n",
       "      <td>12.0</td>\n",
       "      <td>11.760000</td>\n",
       "      <td>1275.600000</td>\n",
       "      <td>5210</td>\n",
       "      <td>31890</td>\n",
       "      <td>472.800000</td>\n",
       "      <td>1970</td>\n",
       "      <td>11820</td>\n",
       "      <td>...</td>\n",
       "      <td>0.200000</td>\n",
       "      <td>0.200000</td>\n",
       "      <td>0.360000</td>\n",
       "      <td>0.400000</td>\n",
       "      <td>0.600000</td>\n",
       "      <td>0.840000</td>\n",
       "      <td>0.320000</td>\n",
       "      <td>0.160000</td>\n",
       "      <td>0.040000</td>\n",
       "      <td>0.000000</td>\n",
       "    </tr>\n",
       "    <tr>\n",
       "      <th>PRV51297</th>\n",
       "      <td>77.285714</td>\n",
       "      <td>1068.0</td>\n",
       "      <td>12.0</td>\n",
       "      <td>12.000000</td>\n",
       "      <td>3440.000000</td>\n",
       "      <td>22820</td>\n",
       "      <td>240800</td>\n",
       "      <td>869.714286</td>\n",
       "      <td>5220</td>\n",
       "      <td>60880</td>\n",
       "      <td>...</td>\n",
       "      <td>0.557143</td>\n",
       "      <td>0.142857</td>\n",
       "      <td>0.300000</td>\n",
       "      <td>0.471429</td>\n",
       "      <td>0.642857</td>\n",
       "      <td>0.871429</td>\n",
       "      <td>0.385714</td>\n",
       "      <td>0.171429</td>\n",
       "      <td>0.100000</td>\n",
       "      <td>0.014286</td>\n",
       "    </tr>\n",
       "    <tr>\n",
       "      <th>PRV55880</th>\n",
       "      <td>2.666667</td>\n",
       "      <td>40.0</td>\n",
       "      <td>12.0</td>\n",
       "      <td>12.000000</td>\n",
       "      <td>2586.666667</td>\n",
       "      <td>19660</td>\n",
       "      <td>38800</td>\n",
       "      <td>712.666667</td>\n",
       "      <td>3980</td>\n",
       "      <td>10690</td>\n",
       "      <td>...</td>\n",
       "      <td>0.533333</td>\n",
       "      <td>0.200000</td>\n",
       "      <td>0.200000</td>\n",
       "      <td>0.466667</td>\n",
       "      <td>0.800000</td>\n",
       "      <td>0.733333</td>\n",
       "      <td>0.466667</td>\n",
       "      <td>0.400000</td>\n",
       "      <td>0.066667</td>\n",
       "      <td>0.000000</td>\n",
       "    </tr>\n",
       "    <tr>\n",
       "      <th>PRV55887</th>\n",
       "      <td>1068.000000</td>\n",
       "      <td>1068.0</td>\n",
       "      <td>12.0</td>\n",
       "      <td>12.000000</td>\n",
       "      <td>4031.666667</td>\n",
       "      <td>19660</td>\n",
       "      <td>24190</td>\n",
       "      <td>935.000000</td>\n",
       "      <td>3980</td>\n",
       "      <td>5610</td>\n",
       "      <td>...</td>\n",
       "      <td>0.666667</td>\n",
       "      <td>0.500000</td>\n",
       "      <td>0.666667</td>\n",
       "      <td>0.833333</td>\n",
       "      <td>0.833333</td>\n",
       "      <td>0.833333</td>\n",
       "      <td>0.166667</td>\n",
       "      <td>0.666667</td>\n",
       "      <td>0.166667</td>\n",
       "      <td>0.000000</td>\n",
       "    </tr>\n",
       "  </tbody>\n",
       "</table>\n",
       "<p>5 rows × 54 columns</p>\n",
       "</div>"
      ],
      "text/plain": [
       "          DeductibleAmtPaid_mean  DeductibleAmtPaid_max  \\\n",
       "Provider                                                  \n",
       "PRV57552                0.000000                    0.0   \n",
       "PRV52848                4.400000                   70.0   \n",
       "PRV51297               77.285714                 1068.0   \n",
       "PRV55880                2.666667                   40.0   \n",
       "PRV55887             1068.000000                 1068.0   \n",
       "\n",
       "          NoOfMonths_PartACov_mean  NoOfMonths_PartBCov_mean  \\\n",
       "Provider                                                       \n",
       "PRV57552                      12.0                 10.909091   \n",
       "PRV52848                      12.0                 11.760000   \n",
       "PRV51297                      12.0                 12.000000   \n",
       "PRV55880                      12.0                 12.000000   \n",
       "PRV55887                      12.0                 12.000000   \n",
       "\n",
       "          OPAnnualReimbursementAmt_mean  OPAnnualReimbursementAmt_max  \\\n",
       "Provider                                                                \n",
       "PRV57552                    1303.636364                          4090   \n",
       "PRV52848                    1275.600000                          5210   \n",
       "PRV51297                    3440.000000                         22820   \n",
       "PRV55880                    2586.666667                         19660   \n",
       "PRV55887                    4031.666667                         19660   \n",
       "\n",
       "          OPAnnualReimbursementAmt_sum  OPAnnualDeductibleAmt_mean  \\\n",
       "Provider                                                             \n",
       "PRV57552                         14340                  453.636364   \n",
       "PRV52848                         31890                  472.800000   \n",
       "PRV51297                        240800                  869.714286   \n",
       "PRV55880                         38800                  712.666667   \n",
       "PRV55887                         24190                  935.000000   \n",
       "\n",
       "          OPAnnualDeductibleAmt_max  OPAnnualDeductibleAmt_sum  ...  \\\n",
       "Provider                                                        ...   \n",
       "PRV57552                       1110                       4990  ...   \n",
       "PRV52848                       1970                      11820  ...   \n",
       "PRV51297                       5220                      60880  ...   \n",
       "PRV55880                       3980                      10690  ...   \n",
       "PRV55887                       3980                       5610  ...   \n",
       "\n",
       "          Chronic_KidneyDisease_Frac  Chronic_Cancer_Frac  \\\n",
       "Provider                                                    \n",
       "PRV57552                    0.545455             0.181818   \n",
       "PRV52848                    0.200000             0.200000   \n",
       "PRV51297                    0.557143             0.142857   \n",
       "PRV55880                    0.533333             0.200000   \n",
       "PRV55887                    0.666667             0.500000   \n",
       "\n",
       "          Chronic_ObstrPulmonary_Frac  Chronic_Depression_Frac  \\\n",
       "Provider                                                         \n",
       "PRV57552                     0.363636                 0.727273   \n",
       "PRV52848                     0.360000                 0.400000   \n",
       "PRV51297                     0.300000                 0.471429   \n",
       "PRV55880                     0.200000                 0.466667   \n",
       "PRV55887                     0.666667                 0.833333   \n",
       "\n",
       "          Chronic_Diabetes_Frac  Chronic_IschemicHeart_Frac  \\\n",
       "Provider                                                      \n",
       "PRV57552               0.636364                    0.727273   \n",
       "PRV52848               0.600000                    0.840000   \n",
       "PRV51297               0.642857                    0.871429   \n",
       "PRV55880               0.800000                    0.733333   \n",
       "PRV55887               0.833333                    0.833333   \n",
       "\n",
       "          Chronic_Osteoporasis_Frac  Chronic_rheumatoidarthritis_Frac  \\\n",
       "Provider                                                                \n",
       "PRV57552                   0.181818                          0.181818   \n",
       "PRV52848                   0.320000                          0.160000   \n",
       "PRV51297                   0.385714                          0.171429   \n",
       "PRV55880                   0.466667                          0.400000   \n",
       "PRV55887                   0.166667                          0.666667   \n",
       "\n",
       "          Chronic_stroke_Frac  Deceased_Frac  \n",
       "Provider                                      \n",
       "PRV57552             0.181818       0.000000  \n",
       "PRV52848             0.040000       0.000000  \n",
       "PRV51297             0.100000       0.014286  \n",
       "PRV55880             0.066667       0.000000  \n",
       "PRV55887             0.166667       0.000000  \n",
       "\n",
       "[5 rows x 54 columns]"
      ]
     },
     "execution_count": 66,
     "metadata": {},
     "output_type": "execute_result"
    }
   ],
   "source": [
    "X_train_downsampled2 = df_train_downsampled5050.iloc[:,:-1]\n",
    "X_train_downsampled2.head()"
   ]
  },
  {
   "cell_type": "code",
   "execution_count": 67,
   "id": "569acd5c",
   "metadata": {},
   "outputs": [],
   "source": [
    "y_train_downsampled2 = df_train_downsampled5050.iloc[:,-1]"
   ]
  },
  {
   "cell_type": "markdown",
   "id": "30f7e6b0",
   "metadata": {},
   "source": [
    "### Re-run logistic regression model"
   ]
  },
  {
   "cell_type": "code",
   "execution_count": 71,
   "id": "bac39288",
   "metadata": {},
   "outputs": [
    {
     "data": {
      "text/plain": [
       "5.369727050868486"
      ]
     },
     "execution_count": 71,
     "metadata": {},
     "output_type": "execute_result"
    }
   ],
   "source": [
    "# the class weight for class 0 after downsampling \n",
    "0.55133758*(3925/403)"
   ]
  },
  {
   "cell_type": "code",
   "execution_count": 72,
   "id": "585a3c15",
   "metadata": {},
   "outputs": [
    {
     "data": {
      "text/plain": [
       "Pipeline(steps=[('rescale', StandardScaler()),\n",
       "                ('logreg',\n",
       "                 LogisticRegression(class_weight=[5.369727050868486,\n",
       "                                                  5.36972705],\n",
       "                                    max_iter=10000, random_state=42))])"
      ]
     },
     "execution_count": 72,
     "metadata": {},
     "output_type": "execute_result"
    }
   ],
   "source": [
    "steps = [('rescale', StandardScaler()), \n",
    "         ('logreg', LogisticRegression(class_weight = [5.369727050868486,5.36972705],random_state=42,max_iter=10000))]\n",
    "model4 = Pipeline(steps)\n",
    "model4.fit(X_train_downsampled2, y_train_downsampled2)"
   ]
  },
  {
   "cell_type": "code",
   "execution_count": 73,
   "id": "a811a7c3",
   "metadata": {},
   "outputs": [],
   "source": [
    "y_test_pred = model4.predict(X_test)"
   ]
  },
  {
   "cell_type": "code",
   "execution_count": 74,
   "id": "bdc1782c",
   "metadata": {},
   "outputs": [],
   "source": [
    "y_test_proba = model4.predict_proba(X_test)"
   ]
  },
  {
   "cell_type": "code",
   "execution_count": 75,
   "id": "416d7487",
   "metadata": {},
   "outputs": [
    {
     "name": "stdout",
     "output_type": "stream",
     "text": [
      "roc_auc_score for the train dataset: 0.96\n",
      "roc_auc_score for the test dataset: 0.93\n"
     ]
    }
   ],
   "source": [
    "roc_auc_score_train = roc_auc_score(y_train_downsampled2, model4.predict_proba(X_train_downsampled2)[:, 1])  \n",
    "roc_auc_score_test = roc_auc_score(y_test, model4.predict_proba(X_test)[:, 1])\n",
    "print('roc_auc_score for the train dataset: {:.2f}'.format(roc_auc_score_train))\n",
    "print('roc_auc_score for the test dataset: {:.2f}'.format(roc_auc_score_test))"
   ]
  },
  {
   "cell_type": "code",
   "execution_count": 76,
   "id": "f3c42e6e",
   "metadata": {},
   "outputs": [
    {
     "name": "stdout",
     "output_type": "stream",
     "text": [
      "PR-AUC is 0.67\n"
     ]
    }
   ],
   "source": [
    "y_score = y_test_proba[:, 1]\n",
    "precision, recall, thresholds = precision_recall_curve(y_test, y_score)\n",
    "auc_precision_recall = auc(recall, precision)\n",
    "print('PR-AUC is {:.2f}'.format(auc_precision_recall))"
   ]
  },
  {
   "cell_type": "code",
   "execution_count": 77,
   "id": "0ce77b36",
   "metadata": {},
   "outputs": [
    {
     "data": {
      "text/plain": [
       "MaxHospitalDays                     1.694938\n",
       "OPAnnualDeductibleAmt_sum           1.400343\n",
       "MeanInscClaimAmtReimbursed          1.122225\n",
       "ClmsperBene                         0.842444\n",
       "OPAnnualReimbursementAmt_sum        0.738052\n",
       "TotalInscClaimAmtReimbursed         0.700154\n",
       "ClaimCounts                         0.692183\n",
       "uniqOTPhysnCount                    0.570402\n",
       "MeanIPAnnualDeductibleAmt           0.431475\n",
       "DeductibleAmtPaid_mean              0.430752\n",
       "MaxInscClaimAmtReimbursed           0.396106\n",
       "MajorState                          0.390363\n",
       "RenalDiseaseIndicator               0.351987\n",
       "Chronic_KidneyDisease_Frac          0.305792\n",
       "InClmsPct                           0.303353\n",
       "Chronic_Heartfailure_Frac           0.280201\n",
       "OPAnnualDeductibleAmt_max           0.279583\n",
       "MaxIPAnnualReimbursementAmt         0.260239\n",
       "ClmsperOPPhysn                      0.239976\n",
       "Age                                 0.194299\n",
       "TotalIPAnnualReimbursementAmt       0.193465\n",
       "Gender                              0.167460\n",
       "CountyCount_Uniq                    0.134383\n",
       "Chronic_Alzheimer_Frac              0.118418\n",
       "Chronic_rheumatoidarthritis_Frac    0.110968\n",
       "RaceOneFrac                         0.097689\n",
       "Chronic_Depression_Frac             0.086675\n",
       "uniqOPPhysnCount                    0.070007\n",
       "OPAnnualDeductibleAmt_mean          0.050618\n",
       "Deceased_Frac                       0.044895\n",
       "Chronic_IschemicHeart_Frac          0.043335\n",
       "Chronic_Osteoporasis_Frac           0.032019\n",
       "NoOfMonths_PartACov_mean           -0.018519\n",
       "Chronic_Diabetes_Frac              -0.047504\n",
       "NoOfMonths_PartBCov_mean           -0.051319\n",
       "StateCount_Uniq                    -0.071649\n",
       "Chronic_Cancer_Frac                -0.074053\n",
       "DeductibleAmtPaid_max              -0.086428\n",
       "Chronic_ObstrPulmonary_Frac        -0.105080\n",
       "ClmsperATPhysn                     -0.115844\n",
       "MaxIPAnnualDeductibleAmt           -0.136322\n",
       "ClmsperOTPhysn                     -0.156127\n",
       "Chronic_stroke_Frac                -0.203618\n",
       "TotalIPAnnualDeductibleAmtdf       -0.239973\n",
       "MajorRace                          -0.245472\n",
       "MajorCounty                        -0.248794\n",
       "ClaimPeriod                        -0.261516\n",
       "OPAnnualReimbursementAmt_max       -0.273459\n",
       "OPAnnualReimbursementAmt_mean      -0.297261\n",
       "MeanHospitalDays                   -0.390156\n",
       "MeanIPAnnualReimbursementAmt       -0.532136\n",
       "uniqATPhysnCount                   -0.546146\n",
       "MedianHospitalDays                 -0.875680\n",
       "uniqBeneCount                      -0.965123\n",
       "dtype: float64"
      ]
     },
     "execution_count": 77,
     "metadata": {},
     "output_type": "execute_result"
    }
   ],
   "source": [
    "importances4 = model4.named_steps['logreg'].coef_[0]\n",
    "features = model4.feature_names_in_\n",
    "logreg_importances4 = pd.Series(importances4, index = features)\n",
    "logreg_importances4.sort_values(ascending = False)"
   ]
  },
  {
   "cell_type": "code",
   "execution_count": 78,
   "id": "86f4fbcc",
   "metadata": {},
   "outputs": [
    {
     "data": {
      "text/plain": [
       "<AxesSubplot:title={'center':'Feature Importance with Downsampling 50/50'}>"
      ]
     },
     "execution_count": 78,
     "metadata": {},
     "output_type": "execute_result"
    },
    {
     "data": {
      "image/png": "[encoded data removed]",
      "text/plain": [
       "<Figure size 1080x432 with 1 Axes>"
      ]
     },
     "metadata": {
      "needs_background": "light"
     },
     "output_type": "display_data"
    }
   ],
   "source": [
    "fig = plt.figure(figsize = (15,6))\n",
    "logreg_importances3.plot.bar(title = 'Feature Importance with Downsampling 50/50')"
   ]
  },
  {
   "cell_type": "code",
   "execution_count": null,
   "id": "f1b3abcc",
   "metadata": {},
   "outputs": [],
   "source": []
  }
 ],
 "metadata": {
  "kernelspec": {
   "display_name": "Python 3 (ipykernel)",
   "language": "python",
   "name": "python3"
  },
  "language_info": {
   "codemirror_mode": {
    "name": "ipython",
    "version": 3
   },
   "file_extension": ".py",
   "mimetype": "text/x-python",
   "name": "python",
   "nbconvert_exporter": "python",
   "pygments_lexer": "ipython3",
   "version": "3.9.7"
  }
 },
 "nbformat": 4,
 "nbformat_minor": 5
}
